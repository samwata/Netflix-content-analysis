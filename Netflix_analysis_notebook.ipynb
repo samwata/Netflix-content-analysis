{
 "cells": [
  {
   "cell_type": "markdown",
   "metadata": {},
   "source": [
    "## TV Shows and Movies listed on Netflix\n",
    "This dataset consists of tv shows and movies available on Netflix as of 2019. \n",
    "The dataset is collected from Flixable which is a third-party Netflix search engine.\n"
   ]
  },
  {
   "cell_type": "markdown",
   "metadata": {},
   "source": [
    "### Inspiration\n",
    "Some of the interesting questions (tasks) which can be performed on this dataset -\n",
    "\n",
    "1. Understanding what content is available in different countries\n",
    "2. Identifying similar content by matching text-based features\n",
    "3. Network analysis of Actors / Directors and find interesting insights\n",
    "4. Is Netflix has increasingly focusing on TV rather than movies in recent years."
   ]
  },
  {
   "cell_type": "markdown",
   "metadata": {},
   "source": [
    "### What each column stand for\n",
    "- show_id - Unique ID for every Movie / Tv Show\n",
    "- type - Identifier - A Movie or TV Show\n",
    "- title - Title of the Movie / Tv Show\n",
    "- director - Director of the Movie\n",
    "- cast - Actors involved in the movie / show\n",
    "- country - Country where the movie / show was produced\n",
    "- date_added - Date it was added on Netflix\n",
    "- release_year - Actual Release year of the move / show\n",
    "- rating - TV Rating of the movie / show\n",
    "- duration - Total Duration - in minutes or number of seasons\n",
    "- listed_in - Genere\n",
    "- description - The summary description"
   ]
  },
  {
   "cell_type": "code",
   "execution_count": 1,
   "metadata": {},
   "outputs": [
    {
     "data": {
      "text/html": [
       "        <script type=\"text/javascript\">\n",
       "        window.PlotlyConfig = {MathJaxConfig: 'local'};\n",
       "        if (window.MathJax) {MathJax.Hub.Config({SVG: {font: \"STIX-Web\"}});}\n",
       "        if (typeof require !== 'undefined') {\n",
       "        require.undef(\"plotly\");\n",
       "        requirejs.config({\n",
       "            paths: {\n",
       "                'plotly': ['https://cdn.plot.ly/plotly-latest.min']\n",
       "            }\n",
       "        });\n",
       "        require(['plotly'], function(Plotly) {\n",
       "            window._Plotly = Plotly;\n",
       "        });\n",
       "        }\n",
       "        </script>\n",
       "        "
      ]
     },
     "metadata": {},
     "output_type": "display_data"
    }
   ],
   "source": [
    "#importing necessary libraries\n",
    "import pandas as pd\n",
    "import numpy as np\n",
    "import matplotlib.pyplot as plt\n",
    "import seaborn as sns\n",
    "import plotly.express as px\n",
    "import plotly.graph_objects as go\n",
    "import plotly\n",
    "plotly.offline.init_notebook_mode(connected = True)\n",
    "from collections import Counter\n",
    "\n",
    "\n"
   ]
  },
  {
   "cell_type": "code",
   "execution_count": 2,
   "metadata": {},
   "outputs": [
    {
     "data": {
      "text/html": [
       "<div>\n",
       "<style scoped>\n",
       "    .dataframe tbody tr th:only-of-type {\n",
       "        vertical-align: middle;\n",
       "    }\n",
       "\n",
       "    .dataframe tbody tr th {\n",
       "        vertical-align: top;\n",
       "    }\n",
       "\n",
       "    .dataframe thead th {\n",
       "        text-align: right;\n",
       "    }\n",
       "</style>\n",
       "<table border=\"1\" class=\"dataframe\">\n",
       "  <thead>\n",
       "    <tr style=\"text-align: right;\">\n",
       "      <th></th>\n",
       "      <th>show_id</th>\n",
       "      <th>type</th>\n",
       "      <th>title</th>\n",
       "      <th>director</th>\n",
       "      <th>cast</th>\n",
       "      <th>country</th>\n",
       "      <th>date_added</th>\n",
       "      <th>release_year</th>\n",
       "      <th>rating</th>\n",
       "      <th>duration</th>\n",
       "      <th>listed_in</th>\n",
       "      <th>description</th>\n",
       "    </tr>\n",
       "  </thead>\n",
       "  <tbody>\n",
       "    <tr>\n",
       "      <th>0</th>\n",
       "      <td>s1</td>\n",
       "      <td>TV Show</td>\n",
       "      <td>3%</td>\n",
       "      <td>NaN</td>\n",
       "      <td>João Miguel, Bianca Comparato, Michel Gomes, R...</td>\n",
       "      <td>Brazil</td>\n",
       "      <td>August 14, 2020</td>\n",
       "      <td>2020</td>\n",
       "      <td>TV-MA</td>\n",
       "      <td>4 Seasons</td>\n",
       "      <td>International TV Shows, TV Dramas, TV Sci-Fi &amp;...</td>\n",
       "      <td>In a future where the elite inhabit an island ...</td>\n",
       "    </tr>\n",
       "    <tr>\n",
       "      <th>1</th>\n",
       "      <td>s2</td>\n",
       "      <td>Movie</td>\n",
       "      <td>7:19</td>\n",
       "      <td>Jorge Michel Grau</td>\n",
       "      <td>Demián Bichir, Héctor Bonilla, Oscar Serrano, ...</td>\n",
       "      <td>Mexico</td>\n",
       "      <td>December 23, 2016</td>\n",
       "      <td>2016</td>\n",
       "      <td>TV-MA</td>\n",
       "      <td>93 min</td>\n",
       "      <td>Dramas, International Movies</td>\n",
       "      <td>After a devastating earthquake hits Mexico Cit...</td>\n",
       "    </tr>\n",
       "    <tr>\n",
       "      <th>2</th>\n",
       "      <td>s3</td>\n",
       "      <td>Movie</td>\n",
       "      <td>23:59</td>\n",
       "      <td>Gilbert Chan</td>\n",
       "      <td>Tedd Chan, Stella Chung, Henley Hii, Lawrence ...</td>\n",
       "      <td>Singapore</td>\n",
       "      <td>December 20, 2018</td>\n",
       "      <td>2011</td>\n",
       "      <td>R</td>\n",
       "      <td>78 min</td>\n",
       "      <td>Horror Movies, International Movies</td>\n",
       "      <td>When an army recruit is found dead, his fellow...</td>\n",
       "    </tr>\n",
       "  </tbody>\n",
       "</table>\n",
       "</div>"
      ],
      "text/plain": [
       "  show_id     type  title           director  \\\n",
       "0      s1  TV Show     3%                NaN   \n",
       "1      s2    Movie   7:19  Jorge Michel Grau   \n",
       "2      s3    Movie  23:59       Gilbert Chan   \n",
       "\n",
       "                                                cast    country  \\\n",
       "0  João Miguel, Bianca Comparato, Michel Gomes, R...     Brazil   \n",
       "1  Demián Bichir, Héctor Bonilla, Oscar Serrano, ...     Mexico   \n",
       "2  Tedd Chan, Stella Chung, Henley Hii, Lawrence ...  Singapore   \n",
       "\n",
       "          date_added  release_year rating   duration  \\\n",
       "0    August 14, 2020          2020  TV-MA  4 Seasons   \n",
       "1  December 23, 2016          2016  TV-MA     93 min   \n",
       "2  December 20, 2018          2011      R     78 min   \n",
       "\n",
       "                                           listed_in  \\\n",
       "0  International TV Shows, TV Dramas, TV Sci-Fi &...   \n",
       "1                       Dramas, International Movies   \n",
       "2                Horror Movies, International Movies   \n",
       "\n",
       "                                         description  \n",
       "0  In a future where the elite inhabit an island ...  \n",
       "1  After a devastating earthquake hits Mexico Cit...  \n",
       "2  When an army recruit is found dead, his fellow...  "
      ]
     },
     "execution_count": 2,
     "metadata": {},
     "output_type": "execute_result"
    }
   ],
   "source": [
    "#Reading dataset\n",
    "data = pd.read_csv(\"netflix_titles.csv\")\n",
    "data.head(3)"
   ]
  },
  {
   "cell_type": "code",
   "execution_count": 3,
   "metadata": {},
   "outputs": [
    {
     "name": "stdout",
     "output_type": "stream",
     "text": [
      "<class 'pandas.core.frame.DataFrame'>\n",
      "RangeIndex: 7787 entries, 0 to 7786\n",
      "Data columns (total 12 columns):\n",
      " #   Column        Non-Null Count  Dtype \n",
      "---  ------        --------------  ----- \n",
      " 0   show_id       7787 non-null   object\n",
      " 1   type          7787 non-null   object\n",
      " 2   title         7787 non-null   object\n",
      " 3   director      5398 non-null   object\n",
      " 4   cast          7069 non-null   object\n",
      " 5   country       7280 non-null   object\n",
      " 6   date_added    7777 non-null   object\n",
      " 7   release_year  7787 non-null   int64 \n",
      " 8   rating        7780 non-null   object\n",
      " 9   duration      7787 non-null   object\n",
      " 10  listed_in     7787 non-null   object\n",
      " 11  description   7787 non-null   object\n",
      "dtypes: int64(1), object(11)\n",
      "memory usage: 730.2+ KB\n"
     ]
    }
   ],
   "source": [
    "data.info()"
   ]
  },
  {
   "cell_type": "code",
   "execution_count": 4,
   "metadata": {},
   "outputs": [
    {
     "data": {
      "text/plain": [
       "show_id          0.000000\n",
       "type             0.000000\n",
       "title            0.000000\n",
       "director        30.679337\n",
       "cast             9.220496\n",
       "country          6.510851\n",
       "date_added       0.128419\n",
       "release_year     0.000000\n",
       "rating           0.089893\n",
       "duration         0.000000\n",
       "listed_in        0.000000\n",
       "description      0.000000\n",
       "dtype: float64"
      ]
     },
     "execution_count": 4,
     "metadata": {},
     "output_type": "execute_result"
    }
   ],
   "source": [
    "#Checking the percentage of null values\n",
    "data.isnull().sum()/len(data)*100.0"
   ]
  },
  {
   "cell_type": "markdown",
   "metadata": {},
   "source": [
    "**Director** column has the highest percentage of null values which is **30%** and we can't drop it since it has signficant data we need. \n",
    "But for the other columns we can drop them since the percentage is very small\n"
   ]
  },
  {
   "cell_type": "markdown",
   "metadata": {},
   "source": [
    "# What type program do you want? - Movie or Tv Show ?"
   ]
  },
  {
   "cell_type": "code",
   "execution_count": 5,
   "metadata": {},
   "outputs": [
    {
     "data": {
      "application/vnd.plotly.v1+json": {
       "config": {
        "plotlyServerURL": "https://plot.ly"
       },
       "data": [
        {
         "domain": {
          "x": [
           0,
           1
          ],
          "y": [
           0,
           1
          ]
         },
         "hole": 0.5,
         "hovertemplate": "type=%{label}<br>value=%{value}<extra></extra>",
         "labels": [
          "Movie",
          "TV Show"
         ],
         "legendgroup": "",
         "name": "",
         "showlegend": true,
         "textinfo": "percent+label",
         "textposition": "inside",
         "type": "pie",
         "values": [
          5377,
          2410
         ]
        }
       ],
       "layout": {
        "legend": {
         "tracegroupgap": 0
        },
        "template": {
         "data": {
          "bar": [
           {
            "error_x": {
             "color": "#2a3f5f"
            },
            "error_y": {
             "color": "#2a3f5f"
            },
            "marker": {
             "line": {
              "color": "#E5ECF6",
              "width": 0.5
             }
            },
            "type": "bar"
           }
          ],
          "barpolar": [
           {
            "marker": {
             "line": {
              "color": "#E5ECF6",
              "width": 0.5
             }
            },
            "type": "barpolar"
           }
          ],
          "carpet": [
           {
            "aaxis": {
             "endlinecolor": "#2a3f5f",
             "gridcolor": "white",
             "linecolor": "white",
             "minorgridcolor": "white",
             "startlinecolor": "#2a3f5f"
            },
            "baxis": {
             "endlinecolor": "#2a3f5f",
             "gridcolor": "white",
             "linecolor": "white",
             "minorgridcolor": "white",
             "startlinecolor": "#2a3f5f"
            },
            "type": "carpet"
           }
          ],
          "choropleth": [
           {
            "colorbar": {
             "outlinewidth": 0,
             "ticks": ""
            },
            "type": "choropleth"
           }
          ],
          "contour": [
           {
            "colorbar": {
             "outlinewidth": 0,
             "ticks": ""
            },
            "colorscale": [
             [
              0,
              "#0d0887"
             ],
             [
              0.1111111111111111,
              "#46039f"
             ],
             [
              0.2222222222222222,
              "#7201a8"
             ],
             [
              0.3333333333333333,
              "#9c179e"
             ],
             [
              0.4444444444444444,
              "#bd3786"
             ],
             [
              0.5555555555555556,
              "#d8576b"
             ],
             [
              0.6666666666666666,
              "#ed7953"
             ],
             [
              0.7777777777777778,
              "#fb9f3a"
             ],
             [
              0.8888888888888888,
              "#fdca26"
             ],
             [
              1,
              "#f0f921"
             ]
            ],
            "type": "contour"
           }
          ],
          "contourcarpet": [
           {
            "colorbar": {
             "outlinewidth": 0,
             "ticks": ""
            },
            "type": "contourcarpet"
           }
          ],
          "heatmap": [
           {
            "colorbar": {
             "outlinewidth": 0,
             "ticks": ""
            },
            "colorscale": [
             [
              0,
              "#0d0887"
             ],
             [
              0.1111111111111111,
              "#46039f"
             ],
             [
              0.2222222222222222,
              "#7201a8"
             ],
             [
              0.3333333333333333,
              "#9c179e"
             ],
             [
              0.4444444444444444,
              "#bd3786"
             ],
             [
              0.5555555555555556,
              "#d8576b"
             ],
             [
              0.6666666666666666,
              "#ed7953"
             ],
             [
              0.7777777777777778,
              "#fb9f3a"
             ],
             [
              0.8888888888888888,
              "#fdca26"
             ],
             [
              1,
              "#f0f921"
             ]
            ],
            "type": "heatmap"
           }
          ],
          "heatmapgl": [
           {
            "colorbar": {
             "outlinewidth": 0,
             "ticks": ""
            },
            "colorscale": [
             [
              0,
              "#0d0887"
             ],
             [
              0.1111111111111111,
              "#46039f"
             ],
             [
              0.2222222222222222,
              "#7201a8"
             ],
             [
              0.3333333333333333,
              "#9c179e"
             ],
             [
              0.4444444444444444,
              "#bd3786"
             ],
             [
              0.5555555555555556,
              "#d8576b"
             ],
             [
              0.6666666666666666,
              "#ed7953"
             ],
             [
              0.7777777777777778,
              "#fb9f3a"
             ],
             [
              0.8888888888888888,
              "#fdca26"
             ],
             [
              1,
              "#f0f921"
             ]
            ],
            "type": "heatmapgl"
           }
          ],
          "histogram": [
           {
            "marker": {
             "colorbar": {
              "outlinewidth": 0,
              "ticks": ""
             }
            },
            "type": "histogram"
           }
          ],
          "histogram2d": [
           {
            "colorbar": {
             "outlinewidth": 0,
             "ticks": ""
            },
            "colorscale": [
             [
              0,
              "#0d0887"
             ],
             [
              0.1111111111111111,
              "#46039f"
             ],
             [
              0.2222222222222222,
              "#7201a8"
             ],
             [
              0.3333333333333333,
              "#9c179e"
             ],
             [
              0.4444444444444444,
              "#bd3786"
             ],
             [
              0.5555555555555556,
              "#d8576b"
             ],
             [
              0.6666666666666666,
              "#ed7953"
             ],
             [
              0.7777777777777778,
              "#fb9f3a"
             ],
             [
              0.8888888888888888,
              "#fdca26"
             ],
             [
              1,
              "#f0f921"
             ]
            ],
            "type": "histogram2d"
           }
          ],
          "histogram2dcontour": [
           {
            "colorbar": {
             "outlinewidth": 0,
             "ticks": ""
            },
            "colorscale": [
             [
              0,
              "#0d0887"
             ],
             [
              0.1111111111111111,
              "#46039f"
             ],
             [
              0.2222222222222222,
              "#7201a8"
             ],
             [
              0.3333333333333333,
              "#9c179e"
             ],
             [
              0.4444444444444444,
              "#bd3786"
             ],
             [
              0.5555555555555556,
              "#d8576b"
             ],
             [
              0.6666666666666666,
              "#ed7953"
             ],
             [
              0.7777777777777778,
              "#fb9f3a"
             ],
             [
              0.8888888888888888,
              "#fdca26"
             ],
             [
              1,
              "#f0f921"
             ]
            ],
            "type": "histogram2dcontour"
           }
          ],
          "mesh3d": [
           {
            "colorbar": {
             "outlinewidth": 0,
             "ticks": ""
            },
            "type": "mesh3d"
           }
          ],
          "parcoords": [
           {
            "line": {
             "colorbar": {
              "outlinewidth": 0,
              "ticks": ""
             }
            },
            "type": "parcoords"
           }
          ],
          "pie": [
           {
            "automargin": true,
            "type": "pie"
           }
          ],
          "scatter": [
           {
            "marker": {
             "colorbar": {
              "outlinewidth": 0,
              "ticks": ""
             }
            },
            "type": "scatter"
           }
          ],
          "scatter3d": [
           {
            "line": {
             "colorbar": {
              "outlinewidth": 0,
              "ticks": ""
             }
            },
            "marker": {
             "colorbar": {
              "outlinewidth": 0,
              "ticks": ""
             }
            },
            "type": "scatter3d"
           }
          ],
          "scattercarpet": [
           {
            "marker": {
             "colorbar": {
              "outlinewidth": 0,
              "ticks": ""
             }
            },
            "type": "scattercarpet"
           }
          ],
          "scattergeo": [
           {
            "marker": {
             "colorbar": {
              "outlinewidth": 0,
              "ticks": ""
             }
            },
            "type": "scattergeo"
           }
          ],
          "scattergl": [
           {
            "marker": {
             "colorbar": {
              "outlinewidth": 0,
              "ticks": ""
             }
            },
            "type": "scattergl"
           }
          ],
          "scattermapbox": [
           {
            "marker": {
             "colorbar": {
              "outlinewidth": 0,
              "ticks": ""
             }
            },
            "type": "scattermapbox"
           }
          ],
          "scatterpolar": [
           {
            "marker": {
             "colorbar": {
              "outlinewidth": 0,
              "ticks": ""
             }
            },
            "type": "scatterpolar"
           }
          ],
          "scatterpolargl": [
           {
            "marker": {
             "colorbar": {
              "outlinewidth": 0,
              "ticks": ""
             }
            },
            "type": "scatterpolargl"
           }
          ],
          "scatterternary": [
           {
            "marker": {
             "colorbar": {
              "outlinewidth": 0,
              "ticks": ""
             }
            },
            "type": "scatterternary"
           }
          ],
          "surface": [
           {
            "colorbar": {
             "outlinewidth": 0,
             "ticks": ""
            },
            "colorscale": [
             [
              0,
              "#0d0887"
             ],
             [
              0.1111111111111111,
              "#46039f"
             ],
             [
              0.2222222222222222,
              "#7201a8"
             ],
             [
              0.3333333333333333,
              "#9c179e"
             ],
             [
              0.4444444444444444,
              "#bd3786"
             ],
             [
              0.5555555555555556,
              "#d8576b"
             ],
             [
              0.6666666666666666,
              "#ed7953"
             ],
             [
              0.7777777777777778,
              "#fb9f3a"
             ],
             [
              0.8888888888888888,
              "#fdca26"
             ],
             [
              1,
              "#f0f921"
             ]
            ],
            "type": "surface"
           }
          ],
          "table": [
           {
            "cells": {
             "fill": {
              "color": "#EBF0F8"
             },
             "line": {
              "color": "white"
             }
            },
            "header": {
             "fill": {
              "color": "#C8D4E3"
             },
             "line": {
              "color": "white"
             }
            },
            "type": "table"
           }
          ]
         },
         "layout": {
          "annotationdefaults": {
           "arrowcolor": "#2a3f5f",
           "arrowhead": 0,
           "arrowwidth": 1
          },
          "coloraxis": {
           "colorbar": {
            "outlinewidth": 0,
            "ticks": ""
           }
          },
          "colorscale": {
           "diverging": [
            [
             0,
             "#8e0152"
            ],
            [
             0.1,
             "#c51b7d"
            ],
            [
             0.2,
             "#de77ae"
            ],
            [
             0.3,
             "#f1b6da"
            ],
            [
             0.4,
             "#fde0ef"
            ],
            [
             0.5,
             "#f7f7f7"
            ],
            [
             0.6,
             "#e6f5d0"
            ],
            [
             0.7,
             "#b8e186"
            ],
            [
             0.8,
             "#7fbc41"
            ],
            [
             0.9,
             "#4d9221"
            ],
            [
             1,
             "#276419"
            ]
           ],
           "sequential": [
            [
             0,
             "#0d0887"
            ],
            [
             0.1111111111111111,
             "#46039f"
            ],
            [
             0.2222222222222222,
             "#7201a8"
            ],
            [
             0.3333333333333333,
             "#9c179e"
            ],
            [
             0.4444444444444444,
             "#bd3786"
            ],
            [
             0.5555555555555556,
             "#d8576b"
            ],
            [
             0.6666666666666666,
             "#ed7953"
            ],
            [
             0.7777777777777778,
             "#fb9f3a"
            ],
            [
             0.8888888888888888,
             "#fdca26"
            ],
            [
             1,
             "#f0f921"
            ]
           ],
           "sequentialminus": [
            [
             0,
             "#0d0887"
            ],
            [
             0.1111111111111111,
             "#46039f"
            ],
            [
             0.2222222222222222,
             "#7201a8"
            ],
            [
             0.3333333333333333,
             "#9c179e"
            ],
            [
             0.4444444444444444,
             "#bd3786"
            ],
            [
             0.5555555555555556,
             "#d8576b"
            ],
            [
             0.6666666666666666,
             "#ed7953"
            ],
            [
             0.7777777777777778,
             "#fb9f3a"
            ],
            [
             0.8888888888888888,
             "#fdca26"
            ],
            [
             1,
             "#f0f921"
            ]
           ]
          },
          "colorway": [
           "#636efa",
           "#EF553B",
           "#00cc96",
           "#ab63fa",
           "#FFA15A",
           "#19d3f3",
           "#FF6692",
           "#B6E880",
           "#FF97FF",
           "#FECB52"
          ],
          "font": {
           "color": "#2a3f5f"
          },
          "geo": {
           "bgcolor": "white",
           "lakecolor": "white",
           "landcolor": "#E5ECF6",
           "showlakes": true,
           "showland": true,
           "subunitcolor": "white"
          },
          "hoverlabel": {
           "align": "left"
          },
          "hovermode": "closest",
          "mapbox": {
           "style": "light"
          },
          "paper_bgcolor": "white",
          "plot_bgcolor": "#E5ECF6",
          "polar": {
           "angularaxis": {
            "gridcolor": "white",
            "linecolor": "white",
            "ticks": ""
           },
           "bgcolor": "#E5ECF6",
           "radialaxis": {
            "gridcolor": "white",
            "linecolor": "white",
            "ticks": ""
           }
          },
          "scene": {
           "xaxis": {
            "backgroundcolor": "#E5ECF6",
            "gridcolor": "white",
            "gridwidth": 2,
            "linecolor": "white",
            "showbackground": true,
            "ticks": "",
            "zerolinecolor": "white"
           },
           "yaxis": {
            "backgroundcolor": "#E5ECF6",
            "gridcolor": "white",
            "gridwidth": 2,
            "linecolor": "white",
            "showbackground": true,
            "ticks": "",
            "zerolinecolor": "white"
           },
           "zaxis": {
            "backgroundcolor": "#E5ECF6",
            "gridcolor": "white",
            "gridwidth": 2,
            "linecolor": "white",
            "showbackground": true,
            "ticks": "",
            "zerolinecolor": "white"
           }
          },
          "shapedefaults": {
           "line": {
            "color": "#2a3f5f"
           }
          },
          "ternary": {
           "aaxis": {
            "gridcolor": "white",
            "linecolor": "white",
            "ticks": ""
           },
           "baxis": {
            "gridcolor": "white",
            "linecolor": "white",
            "ticks": ""
           },
           "bgcolor": "#E5ECF6",
           "caxis": {
            "gridcolor": "white",
            "linecolor": "white",
            "ticks": ""
           }
          },
          "title": {
           "x": 0.05
          },
          "xaxis": {
           "automargin": true,
           "gridcolor": "white",
           "linecolor": "white",
           "ticks": "",
           "title": {
            "standoff": 15
           },
           "zerolinecolor": "white",
           "zerolinewidth": 2
          },
          "yaxis": {
           "automargin": true,
           "gridcolor": "white",
           "linecolor": "white",
           "ticks": "",
           "title": {
            "standoff": 15
           },
           "zerolinecolor": "white",
           "zerolinewidth": 2
          }
         }
        },
        "title": {
         "text": "Total ratio of program type"
        }
       }
      },
      "text/html": [
       "<div>\n",
       "        \n",
       "        \n",
       "            <div id=\"b5476609-7eb3-47aa-9eaa-58ac3a5d63b1\" class=\"plotly-graph-div\" style=\"height:525px; width:100%;\"></div>\n",
       "            <script type=\"text/javascript\">\n",
       "                require([\"plotly\"], function(Plotly) {\n",
       "                    window.PLOTLYENV=window.PLOTLYENV || {};\n",
       "                    \n",
       "                if (document.getElementById(\"b5476609-7eb3-47aa-9eaa-58ac3a5d63b1\")) {\n",
       "                    Plotly.newPlot(\n",
       "                        'b5476609-7eb3-47aa-9eaa-58ac3a5d63b1',\n",
       "                        [{\"domain\": {\"x\": [0.0, 1.0], \"y\": [0.0, 1.0]}, \"hole\": 0.5, \"hovertemplate\": \"type=%{label}<br>value=%{value}<extra></extra>\", \"labels\": [\"Movie\", \"TV Show\"], \"legendgroup\": \"\", \"name\": \"\", \"showlegend\": true, \"textinfo\": \"percent+label\", \"textposition\": \"inside\", \"type\": \"pie\", \"values\": [5377, 2410]}],\n",
       "                        {\"legend\": {\"tracegroupgap\": 0}, \"template\": {\"data\": {\"bar\": [{\"error_x\": {\"color\": \"#2a3f5f\"}, \"error_y\": {\"color\": \"#2a3f5f\"}, \"marker\": {\"line\": {\"color\": \"#E5ECF6\", \"width\": 0.5}}, \"type\": \"bar\"}], \"barpolar\": [{\"marker\": {\"line\": {\"color\": \"#E5ECF6\", \"width\": 0.5}}, \"type\": \"barpolar\"}], \"carpet\": [{\"aaxis\": {\"endlinecolor\": \"#2a3f5f\", \"gridcolor\": \"white\", \"linecolor\": \"white\", \"minorgridcolor\": \"white\", \"startlinecolor\": \"#2a3f5f\"}, \"baxis\": {\"endlinecolor\": \"#2a3f5f\", \"gridcolor\": \"white\", \"linecolor\": \"white\", \"minorgridcolor\": \"white\", \"startlinecolor\": \"#2a3f5f\"}, \"type\": \"carpet\"}], \"choropleth\": [{\"colorbar\": {\"outlinewidth\": 0, \"ticks\": \"\"}, \"type\": \"choropleth\"}], \"contour\": [{\"colorbar\": {\"outlinewidth\": 0, \"ticks\": \"\"}, \"colorscale\": [[0.0, \"#0d0887\"], [0.1111111111111111, \"#46039f\"], [0.2222222222222222, \"#7201a8\"], [0.3333333333333333, \"#9c179e\"], [0.4444444444444444, \"#bd3786\"], [0.5555555555555556, \"#d8576b\"], [0.6666666666666666, \"#ed7953\"], [0.7777777777777778, \"#fb9f3a\"], [0.8888888888888888, \"#fdca26\"], [1.0, \"#f0f921\"]], \"type\": \"contour\"}], \"contourcarpet\": [{\"colorbar\": {\"outlinewidth\": 0, \"ticks\": \"\"}, \"type\": \"contourcarpet\"}], \"heatmap\": [{\"colorbar\": {\"outlinewidth\": 0, \"ticks\": \"\"}, \"colorscale\": [[0.0, \"#0d0887\"], [0.1111111111111111, \"#46039f\"], [0.2222222222222222, \"#7201a8\"], [0.3333333333333333, \"#9c179e\"], [0.4444444444444444, \"#bd3786\"], [0.5555555555555556, \"#d8576b\"], [0.6666666666666666, \"#ed7953\"], [0.7777777777777778, \"#fb9f3a\"], [0.8888888888888888, \"#fdca26\"], [1.0, \"#f0f921\"]], \"type\": \"heatmap\"}], \"heatmapgl\": [{\"colorbar\": {\"outlinewidth\": 0, \"ticks\": \"\"}, \"colorscale\": [[0.0, \"#0d0887\"], [0.1111111111111111, \"#46039f\"], [0.2222222222222222, \"#7201a8\"], [0.3333333333333333, \"#9c179e\"], [0.4444444444444444, \"#bd3786\"], [0.5555555555555556, \"#d8576b\"], [0.6666666666666666, \"#ed7953\"], [0.7777777777777778, \"#fb9f3a\"], [0.8888888888888888, \"#fdca26\"], [1.0, \"#f0f921\"]], \"type\": \"heatmapgl\"}], \"histogram\": [{\"marker\": {\"colorbar\": {\"outlinewidth\": 0, \"ticks\": \"\"}}, \"type\": \"histogram\"}], \"histogram2d\": [{\"colorbar\": {\"outlinewidth\": 0, \"ticks\": \"\"}, \"colorscale\": [[0.0, \"#0d0887\"], [0.1111111111111111, \"#46039f\"], [0.2222222222222222, \"#7201a8\"], [0.3333333333333333, \"#9c179e\"], [0.4444444444444444, \"#bd3786\"], [0.5555555555555556, \"#d8576b\"], [0.6666666666666666, \"#ed7953\"], [0.7777777777777778, \"#fb9f3a\"], [0.8888888888888888, \"#fdca26\"], [1.0, \"#f0f921\"]], \"type\": \"histogram2d\"}], \"histogram2dcontour\": [{\"colorbar\": {\"outlinewidth\": 0, \"ticks\": \"\"}, \"colorscale\": [[0.0, \"#0d0887\"], [0.1111111111111111, \"#46039f\"], [0.2222222222222222, \"#7201a8\"], [0.3333333333333333, \"#9c179e\"], [0.4444444444444444, \"#bd3786\"], [0.5555555555555556, \"#d8576b\"], [0.6666666666666666, \"#ed7953\"], [0.7777777777777778, \"#fb9f3a\"], [0.8888888888888888, \"#fdca26\"], [1.0, \"#f0f921\"]], \"type\": \"histogram2dcontour\"}], \"mesh3d\": [{\"colorbar\": {\"outlinewidth\": 0, \"ticks\": \"\"}, \"type\": \"mesh3d\"}], \"parcoords\": [{\"line\": {\"colorbar\": {\"outlinewidth\": 0, \"ticks\": \"\"}}, \"type\": \"parcoords\"}], \"pie\": [{\"automargin\": true, \"type\": \"pie\"}], \"scatter\": [{\"marker\": {\"colorbar\": {\"outlinewidth\": 0, \"ticks\": \"\"}}, \"type\": \"scatter\"}], \"scatter3d\": [{\"line\": {\"colorbar\": {\"outlinewidth\": 0, \"ticks\": \"\"}}, \"marker\": {\"colorbar\": {\"outlinewidth\": 0, \"ticks\": \"\"}}, \"type\": \"scatter3d\"}], \"scattercarpet\": [{\"marker\": {\"colorbar\": {\"outlinewidth\": 0, \"ticks\": \"\"}}, \"type\": \"scattercarpet\"}], \"scattergeo\": [{\"marker\": {\"colorbar\": {\"outlinewidth\": 0, \"ticks\": \"\"}}, \"type\": \"scattergeo\"}], \"scattergl\": [{\"marker\": {\"colorbar\": {\"outlinewidth\": 0, \"ticks\": \"\"}}, \"type\": \"scattergl\"}], \"scattermapbox\": [{\"marker\": {\"colorbar\": {\"outlinewidth\": 0, \"ticks\": \"\"}}, \"type\": \"scattermapbox\"}], \"scatterpolar\": [{\"marker\": {\"colorbar\": {\"outlinewidth\": 0, \"ticks\": \"\"}}, \"type\": \"scatterpolar\"}], \"scatterpolargl\": [{\"marker\": {\"colorbar\": {\"outlinewidth\": 0, \"ticks\": \"\"}}, \"type\": \"scatterpolargl\"}], \"scatterternary\": [{\"marker\": {\"colorbar\": {\"outlinewidth\": 0, \"ticks\": \"\"}}, \"type\": \"scatterternary\"}], \"surface\": [{\"colorbar\": {\"outlinewidth\": 0, \"ticks\": \"\"}, \"colorscale\": [[0.0, \"#0d0887\"], [0.1111111111111111, \"#46039f\"], [0.2222222222222222, \"#7201a8\"], [0.3333333333333333, \"#9c179e\"], [0.4444444444444444, \"#bd3786\"], [0.5555555555555556, \"#d8576b\"], [0.6666666666666666, \"#ed7953\"], [0.7777777777777778, \"#fb9f3a\"], [0.8888888888888888, \"#fdca26\"], [1.0, \"#f0f921\"]], \"type\": \"surface\"}], \"table\": [{\"cells\": {\"fill\": {\"color\": \"#EBF0F8\"}, \"line\": {\"color\": \"white\"}}, \"header\": {\"fill\": {\"color\": \"#C8D4E3\"}, \"line\": {\"color\": \"white\"}}, \"type\": \"table\"}]}, \"layout\": {\"annotationdefaults\": {\"arrowcolor\": \"#2a3f5f\", \"arrowhead\": 0, \"arrowwidth\": 1}, \"coloraxis\": {\"colorbar\": {\"outlinewidth\": 0, \"ticks\": \"\"}}, \"colorscale\": {\"diverging\": [[0, \"#8e0152\"], [0.1, \"#c51b7d\"], [0.2, \"#de77ae\"], [0.3, \"#f1b6da\"], [0.4, \"#fde0ef\"], [0.5, \"#f7f7f7\"], [0.6, \"#e6f5d0\"], [0.7, \"#b8e186\"], [0.8, \"#7fbc41\"], [0.9, \"#4d9221\"], [1, \"#276419\"]], \"sequential\": [[0.0, \"#0d0887\"], [0.1111111111111111, \"#46039f\"], [0.2222222222222222, \"#7201a8\"], [0.3333333333333333, \"#9c179e\"], [0.4444444444444444, \"#bd3786\"], [0.5555555555555556, \"#d8576b\"], [0.6666666666666666, \"#ed7953\"], [0.7777777777777778, \"#fb9f3a\"], [0.8888888888888888, \"#fdca26\"], [1.0, \"#f0f921\"]], \"sequentialminus\": [[0.0, \"#0d0887\"], [0.1111111111111111, \"#46039f\"], [0.2222222222222222, \"#7201a8\"], [0.3333333333333333, \"#9c179e\"], [0.4444444444444444, \"#bd3786\"], [0.5555555555555556, \"#d8576b\"], [0.6666666666666666, \"#ed7953\"], [0.7777777777777778, \"#fb9f3a\"], [0.8888888888888888, \"#fdca26\"], [1.0, \"#f0f921\"]]}, \"colorway\": [\"#636efa\", \"#EF553B\", \"#00cc96\", \"#ab63fa\", \"#FFA15A\", \"#19d3f3\", \"#FF6692\", \"#B6E880\", \"#FF97FF\", \"#FECB52\"], \"font\": {\"color\": \"#2a3f5f\"}, \"geo\": {\"bgcolor\": \"white\", \"lakecolor\": \"white\", \"landcolor\": \"#E5ECF6\", \"showlakes\": true, \"showland\": true, \"subunitcolor\": \"white\"}, \"hoverlabel\": {\"align\": \"left\"}, \"hovermode\": \"closest\", \"mapbox\": {\"style\": \"light\"}, \"paper_bgcolor\": \"white\", \"plot_bgcolor\": \"#E5ECF6\", \"polar\": {\"angularaxis\": {\"gridcolor\": \"white\", \"linecolor\": \"white\", \"ticks\": \"\"}, \"bgcolor\": \"#E5ECF6\", \"radialaxis\": {\"gridcolor\": \"white\", \"linecolor\": \"white\", \"ticks\": \"\"}}, \"scene\": {\"xaxis\": {\"backgroundcolor\": \"#E5ECF6\", \"gridcolor\": \"white\", \"gridwidth\": 2, \"linecolor\": \"white\", \"showbackground\": true, \"ticks\": \"\", \"zerolinecolor\": \"white\"}, \"yaxis\": {\"backgroundcolor\": \"#E5ECF6\", \"gridcolor\": \"white\", \"gridwidth\": 2, \"linecolor\": \"white\", \"showbackground\": true, \"ticks\": \"\", \"zerolinecolor\": \"white\"}, \"zaxis\": {\"backgroundcolor\": \"#E5ECF6\", \"gridcolor\": \"white\", \"gridwidth\": 2, \"linecolor\": \"white\", \"showbackground\": true, \"ticks\": \"\", \"zerolinecolor\": \"white\"}}, \"shapedefaults\": {\"line\": {\"color\": \"#2a3f5f\"}}, \"ternary\": {\"aaxis\": {\"gridcolor\": \"white\", \"linecolor\": \"white\", \"ticks\": \"\"}, \"baxis\": {\"gridcolor\": \"white\", \"linecolor\": \"white\", \"ticks\": \"\"}, \"bgcolor\": \"#E5ECF6\", \"caxis\": {\"gridcolor\": \"white\", \"linecolor\": \"white\", \"ticks\": \"\"}}, \"title\": {\"x\": 0.05}, \"xaxis\": {\"automargin\": true, \"gridcolor\": \"white\", \"linecolor\": \"white\", \"ticks\": \"\", \"title\": {\"standoff\": 15}, \"zerolinecolor\": \"white\", \"zerolinewidth\": 2}, \"yaxis\": {\"automargin\": true, \"gridcolor\": \"white\", \"linecolor\": \"white\", \"ticks\": \"\", \"title\": {\"standoff\": 15}, \"zerolinecolor\": \"white\", \"zerolinewidth\": 2}}}, \"title\": {\"text\": \"Total ratio of program type\"}},\n",
       "                        {\"responsive\": true}\n",
       "                    ).then(function(){\n",
       "                            \n",
       "var gd = document.getElementById('b5476609-7eb3-47aa-9eaa-58ac3a5d63b1');\n",
       "var x = new MutationObserver(function (mutations, observer) {{\n",
       "        var display = window.getComputedStyle(gd).display;\n",
       "        if (!display || display === 'none') {{\n",
       "            console.log([gd, 'removed!']);\n",
       "            Plotly.purge(gd);\n",
       "            observer.disconnect();\n",
       "        }}\n",
       "}});\n",
       "\n",
       "// Listen for the removal of the full notebook cells\n",
       "var notebookContainer = gd.closest('#notebook-container');\n",
       "if (notebookContainer) {{\n",
       "    x.observe(notebookContainer, {childList: true});\n",
       "}}\n",
       "\n",
       "// Listen for the clearing of the current output cell\n",
       "var outputEl = gd.closest('.output');\n",
       "if (outputEl) {{\n",
       "    x.observe(outputEl, {childList: true});\n",
       "}}\n",
       "\n",
       "                        })\n",
       "                };\n",
       "                });\n",
       "            </script>\n",
       "        </div>"
      ]
     },
     "metadata": {},
     "output_type": "display_data"
    }
   ],
   "source": [
    "netflix_data = pd.DataFrame(data.groupby('type')[\"title\"].count())\n",
    "netflix_data.reset_index(inplace=True)\n",
    "netflix_data.columns=[\"type\",\"value\"]\n",
    "fig = px.pie(netflix_data,values=\"value\",names=\"type\",title=\"Total ratio of program type\", hole=.5)\n",
    "fig.update_traces(textposition='inside', textinfo='percent+label')\n",
    "fig.show()"
   ]
  },
  {
   "cell_type": "markdown",
   "metadata": {},
   "source": [
    "From the results above it clearly shows that netflix has more movies than TV shows "
   ]
  },
  {
   "cell_type": "code",
   "execution_count": 6,
   "metadata": {
    "scrolled": true
   },
   "outputs": [
    {
     "data": {
      "application/vnd.plotly.v1+json": {
       "config": {
        "plotlyServerURL": "https://plot.ly"
       },
       "data": [
        {
         "alignmentgroup": "True",
         "hovertemplate": "type=Movie<br>release_year=%{x}<br>content_produced=%{text}<extra></extra>",
         "legendgroup": "Movie",
         "marker": {
          "color": "#636efa"
         },
         "name": "Movie",
         "offsetgroup": "Movie",
         "orientation": "v",
         "showlegend": true,
         "text": [
          32,
          39,
          40,
          50,
          61,
          72,
          72,
          102,
          103,
          136,
          127,
          158,
          202,
          244,
          382,
          642,
          744,
          734,
          582,
          411,
          12
         ],
         "textposition": "outside",
         "type": "bar",
         "x": [
          2001,
          2002,
          2003,
          2004,
          2005,
          2006,
          2007,
          2008,
          2009,
          2010,
          2011,
          2012,
          2013,
          2014,
          2015,
          2016,
          2017,
          2018,
          2019,
          2020,
          2021
         ],
         "xaxis": "x",
         "y": [
          32,
          39,
          40,
          50,
          61,
          72,
          72,
          102,
          103,
          136,
          127,
          158,
          202,
          244,
          382,
          642,
          744,
          734,
          582,
          411,
          12
         ],
         "yaxis": "y"
        },
        {
         "alignmentgroup": "True",
         "hovertemplate": "type=TV Show<br>release_year=%{x}<br>content_produced=%{text}<extra></extra>",
         "legendgroup": "TV Show",
         "marker": {
          "color": "#EF553B"
         },
         "name": "TV Show",
         "offsetgroup": "TV Show",
         "orientation": "v",
         "showlegend": true,
         "text": [
          4,
          6,
          9,
          9,
          12,
          13,
          13,
          23,
          34,
          37,
          39,
          61,
          65,
          90,
          159,
          240,
          268,
          387,
          414,
          457,
          19
         ],
         "textposition": "outside",
         "type": "bar",
         "x": [
          2001,
          2002,
          2003,
          2004,
          2005,
          2006,
          2007,
          2008,
          2009,
          2010,
          2011,
          2012,
          2013,
          2014,
          2015,
          2016,
          2017,
          2018,
          2019,
          2020,
          2021
         ],
         "xaxis": "x",
         "y": [
          4,
          6,
          9,
          9,
          12,
          13,
          13,
          23,
          34,
          37,
          39,
          61,
          65,
          90,
          159,
          240,
          268,
          387,
          414,
          457,
          19
         ],
         "yaxis": "y"
        }
       ],
       "layout": {
        "barmode": "group",
        "legend": {
         "title": {
          "text": "type"
         },
         "tracegroupgap": 0
        },
        "margin": {
         "t": 60
        },
        "template": {
         "data": {
          "bar": [
           {
            "error_x": {
             "color": "#2a3f5f"
            },
            "error_y": {
             "color": "#2a3f5f"
            },
            "marker": {
             "line": {
              "color": "#E5ECF6",
              "width": 0.5
             }
            },
            "type": "bar"
           }
          ],
          "barpolar": [
           {
            "marker": {
             "line": {
              "color": "#E5ECF6",
              "width": 0.5
             }
            },
            "type": "barpolar"
           }
          ],
          "carpet": [
           {
            "aaxis": {
             "endlinecolor": "#2a3f5f",
             "gridcolor": "white",
             "linecolor": "white",
             "minorgridcolor": "white",
             "startlinecolor": "#2a3f5f"
            },
            "baxis": {
             "endlinecolor": "#2a3f5f",
             "gridcolor": "white",
             "linecolor": "white",
             "minorgridcolor": "white",
             "startlinecolor": "#2a3f5f"
            },
            "type": "carpet"
           }
          ],
          "choropleth": [
           {
            "colorbar": {
             "outlinewidth": 0,
             "ticks": ""
            },
            "type": "choropleth"
           }
          ],
          "contour": [
           {
            "colorbar": {
             "outlinewidth": 0,
             "ticks": ""
            },
            "colorscale": [
             [
              0,
              "#0d0887"
             ],
             [
              0.1111111111111111,
              "#46039f"
             ],
             [
              0.2222222222222222,
              "#7201a8"
             ],
             [
              0.3333333333333333,
              "#9c179e"
             ],
             [
              0.4444444444444444,
              "#bd3786"
             ],
             [
              0.5555555555555556,
              "#d8576b"
             ],
             [
              0.6666666666666666,
              "#ed7953"
             ],
             [
              0.7777777777777778,
              "#fb9f3a"
             ],
             [
              0.8888888888888888,
              "#fdca26"
             ],
             [
              1,
              "#f0f921"
             ]
            ],
            "type": "contour"
           }
          ],
          "contourcarpet": [
           {
            "colorbar": {
             "outlinewidth": 0,
             "ticks": ""
            },
            "type": "contourcarpet"
           }
          ],
          "heatmap": [
           {
            "colorbar": {
             "outlinewidth": 0,
             "ticks": ""
            },
            "colorscale": [
             [
              0,
              "#0d0887"
             ],
             [
              0.1111111111111111,
              "#46039f"
             ],
             [
              0.2222222222222222,
              "#7201a8"
             ],
             [
              0.3333333333333333,
              "#9c179e"
             ],
             [
              0.4444444444444444,
              "#bd3786"
             ],
             [
              0.5555555555555556,
              "#d8576b"
             ],
             [
              0.6666666666666666,
              "#ed7953"
             ],
             [
              0.7777777777777778,
              "#fb9f3a"
             ],
             [
              0.8888888888888888,
              "#fdca26"
             ],
             [
              1,
              "#f0f921"
             ]
            ],
            "type": "heatmap"
           }
          ],
          "heatmapgl": [
           {
            "colorbar": {
             "outlinewidth": 0,
             "ticks": ""
            },
            "colorscale": [
             [
              0,
              "#0d0887"
             ],
             [
              0.1111111111111111,
              "#46039f"
             ],
             [
              0.2222222222222222,
              "#7201a8"
             ],
             [
              0.3333333333333333,
              "#9c179e"
             ],
             [
              0.4444444444444444,
              "#bd3786"
             ],
             [
              0.5555555555555556,
              "#d8576b"
             ],
             [
              0.6666666666666666,
              "#ed7953"
             ],
             [
              0.7777777777777778,
              "#fb9f3a"
             ],
             [
              0.8888888888888888,
              "#fdca26"
             ],
             [
              1,
              "#f0f921"
             ]
            ],
            "type": "heatmapgl"
           }
          ],
          "histogram": [
           {
            "marker": {
             "colorbar": {
              "outlinewidth": 0,
              "ticks": ""
             }
            },
            "type": "histogram"
           }
          ],
          "histogram2d": [
           {
            "colorbar": {
             "outlinewidth": 0,
             "ticks": ""
            },
            "colorscale": [
             [
              0,
              "#0d0887"
             ],
             [
              0.1111111111111111,
              "#46039f"
             ],
             [
              0.2222222222222222,
              "#7201a8"
             ],
             [
              0.3333333333333333,
              "#9c179e"
             ],
             [
              0.4444444444444444,
              "#bd3786"
             ],
             [
              0.5555555555555556,
              "#d8576b"
             ],
             [
              0.6666666666666666,
              "#ed7953"
             ],
             [
              0.7777777777777778,
              "#fb9f3a"
             ],
             [
              0.8888888888888888,
              "#fdca26"
             ],
             [
              1,
              "#f0f921"
             ]
            ],
            "type": "histogram2d"
           }
          ],
          "histogram2dcontour": [
           {
            "colorbar": {
             "outlinewidth": 0,
             "ticks": ""
            },
            "colorscale": [
             [
              0,
              "#0d0887"
             ],
             [
              0.1111111111111111,
              "#46039f"
             ],
             [
              0.2222222222222222,
              "#7201a8"
             ],
             [
              0.3333333333333333,
              "#9c179e"
             ],
             [
              0.4444444444444444,
              "#bd3786"
             ],
             [
              0.5555555555555556,
              "#d8576b"
             ],
             [
              0.6666666666666666,
              "#ed7953"
             ],
             [
              0.7777777777777778,
              "#fb9f3a"
             ],
             [
              0.8888888888888888,
              "#fdca26"
             ],
             [
              1,
              "#f0f921"
             ]
            ],
            "type": "histogram2dcontour"
           }
          ],
          "mesh3d": [
           {
            "colorbar": {
             "outlinewidth": 0,
             "ticks": ""
            },
            "type": "mesh3d"
           }
          ],
          "parcoords": [
           {
            "line": {
             "colorbar": {
              "outlinewidth": 0,
              "ticks": ""
             }
            },
            "type": "parcoords"
           }
          ],
          "pie": [
           {
            "automargin": true,
            "type": "pie"
           }
          ],
          "scatter": [
           {
            "marker": {
             "colorbar": {
              "outlinewidth": 0,
              "ticks": ""
             }
            },
            "type": "scatter"
           }
          ],
          "scatter3d": [
           {
            "line": {
             "colorbar": {
              "outlinewidth": 0,
              "ticks": ""
             }
            },
            "marker": {
             "colorbar": {
              "outlinewidth": 0,
              "ticks": ""
             }
            },
            "type": "scatter3d"
           }
          ],
          "scattercarpet": [
           {
            "marker": {
             "colorbar": {
              "outlinewidth": 0,
              "ticks": ""
             }
            },
            "type": "scattercarpet"
           }
          ],
          "scattergeo": [
           {
            "marker": {
             "colorbar": {
              "outlinewidth": 0,
              "ticks": ""
             }
            },
            "type": "scattergeo"
           }
          ],
          "scattergl": [
           {
            "marker": {
             "colorbar": {
              "outlinewidth": 0,
              "ticks": ""
             }
            },
            "type": "scattergl"
           }
          ],
          "scattermapbox": [
           {
            "marker": {
             "colorbar": {
              "outlinewidth": 0,
              "ticks": ""
             }
            },
            "type": "scattermapbox"
           }
          ],
          "scatterpolar": [
           {
            "marker": {
             "colorbar": {
              "outlinewidth": 0,
              "ticks": ""
             }
            },
            "type": "scatterpolar"
           }
          ],
          "scatterpolargl": [
           {
            "marker": {
             "colorbar": {
              "outlinewidth": 0,
              "ticks": ""
             }
            },
            "type": "scatterpolargl"
           }
          ],
          "scatterternary": [
           {
            "marker": {
             "colorbar": {
              "outlinewidth": 0,
              "ticks": ""
             }
            },
            "type": "scatterternary"
           }
          ],
          "surface": [
           {
            "colorbar": {
             "outlinewidth": 0,
             "ticks": ""
            },
            "colorscale": [
             [
              0,
              "#0d0887"
             ],
             [
              0.1111111111111111,
              "#46039f"
             ],
             [
              0.2222222222222222,
              "#7201a8"
             ],
             [
              0.3333333333333333,
              "#9c179e"
             ],
             [
              0.4444444444444444,
              "#bd3786"
             ],
             [
              0.5555555555555556,
              "#d8576b"
             ],
             [
              0.6666666666666666,
              "#ed7953"
             ],
             [
              0.7777777777777778,
              "#fb9f3a"
             ],
             [
              0.8888888888888888,
              "#fdca26"
             ],
             [
              1,
              "#f0f921"
             ]
            ],
            "type": "surface"
           }
          ],
          "table": [
           {
            "cells": {
             "fill": {
              "color": "#EBF0F8"
             },
             "line": {
              "color": "white"
             }
            },
            "header": {
             "fill": {
              "color": "#C8D4E3"
             },
             "line": {
              "color": "white"
             }
            },
            "type": "table"
           }
          ]
         },
         "layout": {
          "annotationdefaults": {
           "arrowcolor": "#2a3f5f",
           "arrowhead": 0,
           "arrowwidth": 1
          },
          "coloraxis": {
           "colorbar": {
            "outlinewidth": 0,
            "ticks": ""
           }
          },
          "colorscale": {
           "diverging": [
            [
             0,
             "#8e0152"
            ],
            [
             0.1,
             "#c51b7d"
            ],
            [
             0.2,
             "#de77ae"
            ],
            [
             0.3,
             "#f1b6da"
            ],
            [
             0.4,
             "#fde0ef"
            ],
            [
             0.5,
             "#f7f7f7"
            ],
            [
             0.6,
             "#e6f5d0"
            ],
            [
             0.7,
             "#b8e186"
            ],
            [
             0.8,
             "#7fbc41"
            ],
            [
             0.9,
             "#4d9221"
            ],
            [
             1,
             "#276419"
            ]
           ],
           "sequential": [
            [
             0,
             "#0d0887"
            ],
            [
             0.1111111111111111,
             "#46039f"
            ],
            [
             0.2222222222222222,
             "#7201a8"
            ],
            [
             0.3333333333333333,
             "#9c179e"
            ],
            [
             0.4444444444444444,
             "#bd3786"
            ],
            [
             0.5555555555555556,
             "#d8576b"
            ],
            [
             0.6666666666666666,
             "#ed7953"
            ],
            [
             0.7777777777777778,
             "#fb9f3a"
            ],
            [
             0.8888888888888888,
             "#fdca26"
            ],
            [
             1,
             "#f0f921"
            ]
           ],
           "sequentialminus": [
            [
             0,
             "#0d0887"
            ],
            [
             0.1111111111111111,
             "#46039f"
            ],
            [
             0.2222222222222222,
             "#7201a8"
            ],
            [
             0.3333333333333333,
             "#9c179e"
            ],
            [
             0.4444444444444444,
             "#bd3786"
            ],
            [
             0.5555555555555556,
             "#d8576b"
            ],
            [
             0.6666666666666666,
             "#ed7953"
            ],
            [
             0.7777777777777778,
             "#fb9f3a"
            ],
            [
             0.8888888888888888,
             "#fdca26"
            ],
            [
             1,
             "#f0f921"
            ]
           ]
          },
          "colorway": [
           "#636efa",
           "#EF553B",
           "#00cc96",
           "#ab63fa",
           "#FFA15A",
           "#19d3f3",
           "#FF6692",
           "#B6E880",
           "#FF97FF",
           "#FECB52"
          ],
          "font": {
           "color": "#2a3f5f"
          },
          "geo": {
           "bgcolor": "white",
           "lakecolor": "white",
           "landcolor": "#E5ECF6",
           "showlakes": true,
           "showland": true,
           "subunitcolor": "white"
          },
          "hoverlabel": {
           "align": "left"
          },
          "hovermode": "closest",
          "mapbox": {
           "style": "light"
          },
          "paper_bgcolor": "white",
          "plot_bgcolor": "#E5ECF6",
          "polar": {
           "angularaxis": {
            "gridcolor": "white",
            "linecolor": "white",
            "ticks": ""
           },
           "bgcolor": "#E5ECF6",
           "radialaxis": {
            "gridcolor": "white",
            "linecolor": "white",
            "ticks": ""
           }
          },
          "scene": {
           "xaxis": {
            "backgroundcolor": "#E5ECF6",
            "gridcolor": "white",
            "gridwidth": 2,
            "linecolor": "white",
            "showbackground": true,
            "ticks": "",
            "zerolinecolor": "white"
           },
           "yaxis": {
            "backgroundcolor": "#E5ECF6",
            "gridcolor": "white",
            "gridwidth": 2,
            "linecolor": "white",
            "showbackground": true,
            "ticks": "",
            "zerolinecolor": "white"
           },
           "zaxis": {
            "backgroundcolor": "#E5ECF6",
            "gridcolor": "white",
            "gridwidth": 2,
            "linecolor": "white",
            "showbackground": true,
            "ticks": "",
            "zerolinecolor": "white"
           }
          },
          "shapedefaults": {
           "line": {
            "color": "#2a3f5f"
           }
          },
          "ternary": {
           "aaxis": {
            "gridcolor": "white",
            "linecolor": "white",
            "ticks": ""
           },
           "baxis": {
            "gridcolor": "white",
            "linecolor": "white",
            "ticks": ""
           },
           "bgcolor": "#E5ECF6",
           "caxis": {
            "gridcolor": "white",
            "linecolor": "white",
            "ticks": ""
           }
          },
          "title": {
           "x": 0.05
          },
          "xaxis": {
           "automargin": true,
           "gridcolor": "white",
           "linecolor": "white",
           "ticks": "",
           "title": {
            "standoff": 15
           },
           "zerolinecolor": "white",
           "zerolinewidth": 2
          },
          "yaxis": {
           "automargin": true,
           "gridcolor": "white",
           "linecolor": "white",
           "ticks": "",
           "title": {
            "standoff": 15
           },
           "zerolinecolor": "white",
           "zerolinewidth": 2
          }
         }
        },
        "xaxis": {
         "anchor": "y",
         "domain": [
          0,
          1
         ],
         "title": {
          "text": "release_year"
         }
        },
        "yaxis": {
         "anchor": "x",
         "domain": [
          0,
          1
         ],
         "title": {
          "text": "content_produced"
         }
        }
       }
      },
      "text/html": [
       "<div>\n",
       "        \n",
       "        \n",
       "            <div id=\"54d8d2ca-ab57-41b7-8e26-7a7b8986bc7d\" class=\"plotly-graph-div\" style=\"height:525px; width:100%;\"></div>\n",
       "            <script type=\"text/javascript\">\n",
       "                require([\"plotly\"], function(Plotly) {\n",
       "                    window.PLOTLYENV=window.PLOTLYENV || {};\n",
       "                    \n",
       "                if (document.getElementById(\"54d8d2ca-ab57-41b7-8e26-7a7b8986bc7d\")) {\n",
       "                    Plotly.newPlot(\n",
       "                        '54d8d2ca-ab57-41b7-8e26-7a7b8986bc7d',\n",
       "                        [{\"alignmentgroup\": \"True\", \"hovertemplate\": \"type=Movie<br>release_year=%{x}<br>content_produced=%{text}<extra></extra>\", \"legendgroup\": \"Movie\", \"marker\": {\"color\": \"#636efa\"}, \"name\": \"Movie\", \"offsetgroup\": \"Movie\", \"orientation\": \"v\", \"showlegend\": true, \"text\": [32.0, 39.0, 40.0, 50.0, 61.0, 72.0, 72.0, 102.0, 103.0, 136.0, 127.0, 158.0, 202.0, 244.0, 382.0, 642.0, 744.0, 734.0, 582.0, 411.0, 12.0], \"textposition\": \"outside\", \"type\": \"bar\", \"x\": [2001, 2002, 2003, 2004, 2005, 2006, 2007, 2008, 2009, 2010, 2011, 2012, 2013, 2014, 2015, 2016, 2017, 2018, 2019, 2020, 2021], \"xaxis\": \"x\", \"y\": [32, 39, 40, 50, 61, 72, 72, 102, 103, 136, 127, 158, 202, 244, 382, 642, 744, 734, 582, 411, 12], \"yaxis\": \"y\"}, {\"alignmentgroup\": \"True\", \"hovertemplate\": \"type=TV Show<br>release_year=%{x}<br>content_produced=%{text}<extra></extra>\", \"legendgroup\": \"TV Show\", \"marker\": {\"color\": \"#EF553B\"}, \"name\": \"TV Show\", \"offsetgroup\": \"TV Show\", \"orientation\": \"v\", \"showlegend\": true, \"text\": [4.0, 6.0, 9.0, 9.0, 12.0, 13.0, 13.0, 23.0, 34.0, 37.0, 39.0, 61.0, 65.0, 90.0, 159.0, 240.0, 268.0, 387.0, 414.0, 457.0, 19.0], \"textposition\": \"outside\", \"type\": \"bar\", \"x\": [2001, 2002, 2003, 2004, 2005, 2006, 2007, 2008, 2009, 2010, 2011, 2012, 2013, 2014, 2015, 2016, 2017, 2018, 2019, 2020, 2021], \"xaxis\": \"x\", \"y\": [4, 6, 9, 9, 12, 13, 13, 23, 34, 37, 39, 61, 65, 90, 159, 240, 268, 387, 414, 457, 19], \"yaxis\": \"y\"}],\n",
       "                        {\"barmode\": \"group\", \"legend\": {\"title\": {\"text\": \"type\"}, \"tracegroupgap\": 0}, \"margin\": {\"t\": 60}, \"template\": {\"data\": {\"bar\": [{\"error_x\": {\"color\": \"#2a3f5f\"}, \"error_y\": {\"color\": \"#2a3f5f\"}, \"marker\": {\"line\": {\"color\": \"#E5ECF6\", \"width\": 0.5}}, \"type\": \"bar\"}], \"barpolar\": [{\"marker\": {\"line\": {\"color\": \"#E5ECF6\", \"width\": 0.5}}, \"type\": \"barpolar\"}], \"carpet\": [{\"aaxis\": {\"endlinecolor\": \"#2a3f5f\", \"gridcolor\": \"white\", \"linecolor\": \"white\", \"minorgridcolor\": \"white\", \"startlinecolor\": \"#2a3f5f\"}, \"baxis\": {\"endlinecolor\": \"#2a3f5f\", \"gridcolor\": \"white\", \"linecolor\": \"white\", \"minorgridcolor\": \"white\", \"startlinecolor\": \"#2a3f5f\"}, \"type\": \"carpet\"}], \"choropleth\": [{\"colorbar\": {\"outlinewidth\": 0, \"ticks\": \"\"}, \"type\": \"choropleth\"}], \"contour\": [{\"colorbar\": {\"outlinewidth\": 0, \"ticks\": \"\"}, \"colorscale\": [[0.0, \"#0d0887\"], [0.1111111111111111, \"#46039f\"], [0.2222222222222222, \"#7201a8\"], [0.3333333333333333, \"#9c179e\"], [0.4444444444444444, \"#bd3786\"], [0.5555555555555556, \"#d8576b\"], [0.6666666666666666, \"#ed7953\"], [0.7777777777777778, \"#fb9f3a\"], [0.8888888888888888, \"#fdca26\"], [1.0, \"#f0f921\"]], \"type\": \"contour\"}], \"contourcarpet\": [{\"colorbar\": {\"outlinewidth\": 0, \"ticks\": \"\"}, \"type\": \"contourcarpet\"}], \"heatmap\": [{\"colorbar\": {\"outlinewidth\": 0, \"ticks\": \"\"}, \"colorscale\": [[0.0, \"#0d0887\"], [0.1111111111111111, \"#46039f\"], [0.2222222222222222, \"#7201a8\"], [0.3333333333333333, \"#9c179e\"], [0.4444444444444444, \"#bd3786\"], [0.5555555555555556, \"#d8576b\"], [0.6666666666666666, \"#ed7953\"], [0.7777777777777778, \"#fb9f3a\"], [0.8888888888888888, \"#fdca26\"], [1.0, \"#f0f921\"]], \"type\": \"heatmap\"}], \"heatmapgl\": [{\"colorbar\": {\"outlinewidth\": 0, \"ticks\": \"\"}, \"colorscale\": [[0.0, \"#0d0887\"], [0.1111111111111111, \"#46039f\"], [0.2222222222222222, \"#7201a8\"], [0.3333333333333333, \"#9c179e\"], [0.4444444444444444, \"#bd3786\"], [0.5555555555555556, \"#d8576b\"], [0.6666666666666666, \"#ed7953\"], [0.7777777777777778, \"#fb9f3a\"], [0.8888888888888888, \"#fdca26\"], [1.0, \"#f0f921\"]], \"type\": \"heatmapgl\"}], \"histogram\": [{\"marker\": {\"colorbar\": {\"outlinewidth\": 0, \"ticks\": \"\"}}, \"type\": \"histogram\"}], \"histogram2d\": [{\"colorbar\": {\"outlinewidth\": 0, \"ticks\": \"\"}, \"colorscale\": [[0.0, \"#0d0887\"], [0.1111111111111111, \"#46039f\"], [0.2222222222222222, \"#7201a8\"], [0.3333333333333333, \"#9c179e\"], [0.4444444444444444, \"#bd3786\"], [0.5555555555555556, \"#d8576b\"], [0.6666666666666666, \"#ed7953\"], [0.7777777777777778, \"#fb9f3a\"], [0.8888888888888888, \"#fdca26\"], [1.0, \"#f0f921\"]], \"type\": \"histogram2d\"}], \"histogram2dcontour\": [{\"colorbar\": {\"outlinewidth\": 0, \"ticks\": \"\"}, \"colorscale\": [[0.0, \"#0d0887\"], [0.1111111111111111, \"#46039f\"], [0.2222222222222222, \"#7201a8\"], [0.3333333333333333, \"#9c179e\"], [0.4444444444444444, \"#bd3786\"], [0.5555555555555556, \"#d8576b\"], [0.6666666666666666, \"#ed7953\"], [0.7777777777777778, \"#fb9f3a\"], [0.8888888888888888, \"#fdca26\"], [1.0, \"#f0f921\"]], \"type\": \"histogram2dcontour\"}], \"mesh3d\": [{\"colorbar\": {\"outlinewidth\": 0, \"ticks\": \"\"}, \"type\": \"mesh3d\"}], \"parcoords\": [{\"line\": {\"colorbar\": {\"outlinewidth\": 0, \"ticks\": \"\"}}, \"type\": \"parcoords\"}], \"pie\": [{\"automargin\": true, \"type\": \"pie\"}], \"scatter\": [{\"marker\": {\"colorbar\": {\"outlinewidth\": 0, \"ticks\": \"\"}}, \"type\": \"scatter\"}], \"scatter3d\": [{\"line\": {\"colorbar\": {\"outlinewidth\": 0, \"ticks\": \"\"}}, \"marker\": {\"colorbar\": {\"outlinewidth\": 0, \"ticks\": \"\"}}, \"type\": \"scatter3d\"}], \"scattercarpet\": [{\"marker\": {\"colorbar\": {\"outlinewidth\": 0, \"ticks\": \"\"}}, \"type\": \"scattercarpet\"}], \"scattergeo\": [{\"marker\": {\"colorbar\": {\"outlinewidth\": 0, \"ticks\": \"\"}}, \"type\": \"scattergeo\"}], \"scattergl\": [{\"marker\": {\"colorbar\": {\"outlinewidth\": 0, \"ticks\": \"\"}}, \"type\": \"scattergl\"}], \"scattermapbox\": [{\"marker\": {\"colorbar\": {\"outlinewidth\": 0, \"ticks\": \"\"}}, \"type\": \"scattermapbox\"}], \"scatterpolar\": [{\"marker\": {\"colorbar\": {\"outlinewidth\": 0, \"ticks\": \"\"}}, \"type\": \"scatterpolar\"}], \"scatterpolargl\": [{\"marker\": {\"colorbar\": {\"outlinewidth\": 0, \"ticks\": \"\"}}, \"type\": \"scatterpolargl\"}], \"scatterternary\": [{\"marker\": {\"colorbar\": {\"outlinewidth\": 0, \"ticks\": \"\"}}, \"type\": \"scatterternary\"}], \"surface\": [{\"colorbar\": {\"outlinewidth\": 0, \"ticks\": \"\"}, \"colorscale\": [[0.0, \"#0d0887\"], [0.1111111111111111, \"#46039f\"], [0.2222222222222222, \"#7201a8\"], [0.3333333333333333, \"#9c179e\"], [0.4444444444444444, \"#bd3786\"], [0.5555555555555556, \"#d8576b\"], [0.6666666666666666, \"#ed7953\"], [0.7777777777777778, \"#fb9f3a\"], [0.8888888888888888, \"#fdca26\"], [1.0, \"#f0f921\"]], \"type\": \"surface\"}], \"table\": [{\"cells\": {\"fill\": {\"color\": \"#EBF0F8\"}, \"line\": {\"color\": \"white\"}}, \"header\": {\"fill\": {\"color\": \"#C8D4E3\"}, \"line\": {\"color\": \"white\"}}, \"type\": \"table\"}]}, \"layout\": {\"annotationdefaults\": {\"arrowcolor\": \"#2a3f5f\", \"arrowhead\": 0, \"arrowwidth\": 1}, \"coloraxis\": {\"colorbar\": {\"outlinewidth\": 0, \"ticks\": \"\"}}, \"colorscale\": {\"diverging\": [[0, \"#8e0152\"], [0.1, \"#c51b7d\"], [0.2, \"#de77ae\"], [0.3, \"#f1b6da\"], [0.4, \"#fde0ef\"], [0.5, \"#f7f7f7\"], [0.6, \"#e6f5d0\"], [0.7, \"#b8e186\"], [0.8, \"#7fbc41\"], [0.9, \"#4d9221\"], [1, \"#276419\"]], \"sequential\": [[0.0, \"#0d0887\"], [0.1111111111111111, \"#46039f\"], [0.2222222222222222, \"#7201a8\"], [0.3333333333333333, \"#9c179e\"], [0.4444444444444444, \"#bd3786\"], [0.5555555555555556, \"#d8576b\"], [0.6666666666666666, \"#ed7953\"], [0.7777777777777778, \"#fb9f3a\"], [0.8888888888888888, \"#fdca26\"], [1.0, \"#f0f921\"]], \"sequentialminus\": [[0.0, \"#0d0887\"], [0.1111111111111111, \"#46039f\"], [0.2222222222222222, \"#7201a8\"], [0.3333333333333333, \"#9c179e\"], [0.4444444444444444, \"#bd3786\"], [0.5555555555555556, \"#d8576b\"], [0.6666666666666666, \"#ed7953\"], [0.7777777777777778, \"#fb9f3a\"], [0.8888888888888888, \"#fdca26\"], [1.0, \"#f0f921\"]]}, \"colorway\": [\"#636efa\", \"#EF553B\", \"#00cc96\", \"#ab63fa\", \"#FFA15A\", \"#19d3f3\", \"#FF6692\", \"#B6E880\", \"#FF97FF\", \"#FECB52\"], \"font\": {\"color\": \"#2a3f5f\"}, \"geo\": {\"bgcolor\": \"white\", \"lakecolor\": \"white\", \"landcolor\": \"#E5ECF6\", \"showlakes\": true, \"showland\": true, \"subunitcolor\": \"white\"}, \"hoverlabel\": {\"align\": \"left\"}, \"hovermode\": \"closest\", \"mapbox\": {\"style\": \"light\"}, \"paper_bgcolor\": \"white\", \"plot_bgcolor\": \"#E5ECF6\", \"polar\": {\"angularaxis\": {\"gridcolor\": \"white\", \"linecolor\": \"white\", \"ticks\": \"\"}, \"bgcolor\": \"#E5ECF6\", \"radialaxis\": {\"gridcolor\": \"white\", \"linecolor\": \"white\", \"ticks\": \"\"}}, \"scene\": {\"xaxis\": {\"backgroundcolor\": \"#E5ECF6\", \"gridcolor\": \"white\", \"gridwidth\": 2, \"linecolor\": \"white\", \"showbackground\": true, \"ticks\": \"\", \"zerolinecolor\": \"white\"}, \"yaxis\": {\"backgroundcolor\": \"#E5ECF6\", \"gridcolor\": \"white\", \"gridwidth\": 2, \"linecolor\": \"white\", \"showbackground\": true, \"ticks\": \"\", \"zerolinecolor\": \"white\"}, \"zaxis\": {\"backgroundcolor\": \"#E5ECF6\", \"gridcolor\": \"white\", \"gridwidth\": 2, \"linecolor\": \"white\", \"showbackground\": true, \"ticks\": \"\", \"zerolinecolor\": \"white\"}}, \"shapedefaults\": {\"line\": {\"color\": \"#2a3f5f\"}}, \"ternary\": {\"aaxis\": {\"gridcolor\": \"white\", \"linecolor\": \"white\", \"ticks\": \"\"}, \"baxis\": {\"gridcolor\": \"white\", \"linecolor\": \"white\", \"ticks\": \"\"}, \"bgcolor\": \"#E5ECF6\", \"caxis\": {\"gridcolor\": \"white\", \"linecolor\": \"white\", \"ticks\": \"\"}}, \"title\": {\"x\": 0.05}, \"xaxis\": {\"automargin\": true, \"gridcolor\": \"white\", \"linecolor\": \"white\", \"ticks\": \"\", \"title\": {\"standoff\": 15}, \"zerolinecolor\": \"white\", \"zerolinewidth\": 2}, \"yaxis\": {\"automargin\": true, \"gridcolor\": \"white\", \"linecolor\": \"white\", \"ticks\": \"\", \"title\": {\"standoff\": 15}, \"zerolinecolor\": \"white\", \"zerolinewidth\": 2}}}, \"xaxis\": {\"anchor\": \"y\", \"domain\": [0.0, 1.0], \"title\": {\"text\": \"release_year\"}}, \"yaxis\": {\"anchor\": \"x\", \"domain\": [0.0, 1.0], \"title\": {\"text\": \"content_produced\"}}},\n",
       "                        {\"responsive\": true}\n",
       "                    ).then(function(){\n",
       "                            \n",
       "var gd = document.getElementById('54d8d2ca-ab57-41b7-8e26-7a7b8986bc7d');\n",
       "var x = new MutationObserver(function (mutations, observer) {{\n",
       "        var display = window.getComputedStyle(gd).display;\n",
       "        if (!display || display === 'none') {{\n",
       "            console.log([gd, 'removed!']);\n",
       "            Plotly.purge(gd);\n",
       "            observer.disconnect();\n",
       "        }}\n",
       "}});\n",
       "\n",
       "// Listen for the removal of the full notebook cells\n",
       "var notebookContainer = gd.closest('#notebook-container');\n",
       "if (notebookContainer) {{\n",
       "    x.observe(notebookContainer, {childList: true});\n",
       "}}\n",
       "\n",
       "// Listen for the clearing of the current output cell\n",
       "var outputEl = gd.closest('.output');\n",
       "if (outputEl) {{\n",
       "    x.observe(outputEl, {childList: true});\n",
       "}}\n",
       "\n",
       "                        })\n",
       "                };\n",
       "                });\n",
       "            </script>\n",
       "        </div>"
      ]
     },
     "metadata": {},
     "output_type": "display_data"
    }
   ],
   "source": [
    "#Comparing different content on Netflix from the year 2000\n",
    "\n",
    "data['content_produced']=1\n",
    "\n",
    "dataset = data.pivot_table(index=[\"type\",\"release_year\"],values=\"content_produced\",aggfunc=\"sum\",fill_value=0)\n",
    "\n",
    "dataset = dataset.reset_index()\n",
    "\n",
    "fig = px.bar(dataset[dataset['release_year']>2000],x=\"release_year\",y=\"content_produced\",color=\"type\",text=\"content_produced\")\n",
    "fig.update_layout(barmode='group')\n",
    "fig.update_traces(textposition='outside')\n",
    "fig.show()"
   ]
  },
  {
   "cell_type": "markdown",
   "metadata": {},
   "source": [
    "## Netflix Growth rate over time"
   ]
  },
  {
   "cell_type": "code",
   "execution_count": 7,
   "metadata": {},
   "outputs": [
    {
     "data": {
      "application/vnd.plotly.v1+json": {
       "config": {
        "plotlyServerURL": "https://plot.ly"
       },
       "data": [
        {
         "hovertemplate": "type=Movie<br>release_year=%{x}<br>content_produced=%{y}<extra></extra>",
         "legendgroup": "Movie",
         "line": {
          "color": "#636efa",
          "dash": "solid"
         },
         "mode": "lines",
         "name": "Movie",
         "orientation": "v",
         "showlegend": true,
         "type": "scatter",
         "x": [
          1991,
          1992,
          1993,
          1994,
          1995,
          1996,
          1997,
          1998,
          1999,
          2000,
          2001,
          2002,
          2003,
          2004,
          2005,
          2006,
          2007,
          2008,
          2009,
          2010,
          2011,
          2012,
          2013,
          2014,
          2015,
          2016,
          2017,
          2018,
          2019,
          2020,
          2021
         ],
         "xaxis": "x",
         "y": [
          16,
          16,
          18,
          15,
          17,
          16,
          26,
          27,
          26,
          30,
          32,
          39,
          40,
          50,
          61,
          72,
          72,
          102,
          103,
          136,
          127,
          158,
          202,
          244,
          382,
          642,
          744,
          734,
          582,
          411,
          12
         ],
         "yaxis": "y"
        },
        {
         "hovertemplate": "type=TV Show<br>release_year=%{x}<br>content_produced=%{y}<extra></extra>",
         "legendgroup": "TV Show",
         "line": {
          "color": "#EF553B",
          "dash": "solid"
         },
         "mode": "lines",
         "name": "TV Show",
         "orientation": "v",
         "showlegend": true,
         "type": "scatter",
         "x": [
          1991,
          1992,
          1993,
          1994,
          1995,
          1996,
          1997,
          1998,
          1999,
          2000,
          2001,
          2002,
          2003,
          2004,
          2005,
          2006,
          2007,
          2008,
          2009,
          2010,
          2011,
          2012,
          2013,
          2014,
          2015,
          2016,
          2017,
          2018,
          2019,
          2020,
          2021
         ],
         "xaxis": "x",
         "y": [
          1,
          2,
          4,
          1,
          2,
          3,
          4,
          4,
          7,
          4,
          4,
          6,
          9,
          9,
          12,
          13,
          13,
          23,
          34,
          37,
          39,
          61,
          65,
          90,
          159,
          240,
          268,
          387,
          414,
          457,
          19
         ],
         "yaxis": "y"
        }
       ],
       "layout": {
        "barmode": "group",
        "legend": {
         "title": {
          "text": "type"
         },
         "tracegroupgap": 0
        },
        "margin": {
         "t": 60
        },
        "template": {
         "data": {
          "bar": [
           {
            "error_x": {
             "color": "#2a3f5f"
            },
            "error_y": {
             "color": "#2a3f5f"
            },
            "marker": {
             "line": {
              "color": "#E5ECF6",
              "width": 0.5
             }
            },
            "type": "bar"
           }
          ],
          "barpolar": [
           {
            "marker": {
             "line": {
              "color": "#E5ECF6",
              "width": 0.5
             }
            },
            "type": "barpolar"
           }
          ],
          "carpet": [
           {
            "aaxis": {
             "endlinecolor": "#2a3f5f",
             "gridcolor": "white",
             "linecolor": "white",
             "minorgridcolor": "white",
             "startlinecolor": "#2a3f5f"
            },
            "baxis": {
             "endlinecolor": "#2a3f5f",
             "gridcolor": "white",
             "linecolor": "white",
             "minorgridcolor": "white",
             "startlinecolor": "#2a3f5f"
            },
            "type": "carpet"
           }
          ],
          "choropleth": [
           {
            "colorbar": {
             "outlinewidth": 0,
             "ticks": ""
            },
            "type": "choropleth"
           }
          ],
          "contour": [
           {
            "colorbar": {
             "outlinewidth": 0,
             "ticks": ""
            },
            "colorscale": [
             [
              0,
              "#0d0887"
             ],
             [
              0.1111111111111111,
              "#46039f"
             ],
             [
              0.2222222222222222,
              "#7201a8"
             ],
             [
              0.3333333333333333,
              "#9c179e"
             ],
             [
              0.4444444444444444,
              "#bd3786"
             ],
             [
              0.5555555555555556,
              "#d8576b"
             ],
             [
              0.6666666666666666,
              "#ed7953"
             ],
             [
              0.7777777777777778,
              "#fb9f3a"
             ],
             [
              0.8888888888888888,
              "#fdca26"
             ],
             [
              1,
              "#f0f921"
             ]
            ],
            "type": "contour"
           }
          ],
          "contourcarpet": [
           {
            "colorbar": {
             "outlinewidth": 0,
             "ticks": ""
            },
            "type": "contourcarpet"
           }
          ],
          "heatmap": [
           {
            "colorbar": {
             "outlinewidth": 0,
             "ticks": ""
            },
            "colorscale": [
             [
              0,
              "#0d0887"
             ],
             [
              0.1111111111111111,
              "#46039f"
             ],
             [
              0.2222222222222222,
              "#7201a8"
             ],
             [
              0.3333333333333333,
              "#9c179e"
             ],
             [
              0.4444444444444444,
              "#bd3786"
             ],
             [
              0.5555555555555556,
              "#d8576b"
             ],
             [
              0.6666666666666666,
              "#ed7953"
             ],
             [
              0.7777777777777778,
              "#fb9f3a"
             ],
             [
              0.8888888888888888,
              "#fdca26"
             ],
             [
              1,
              "#f0f921"
             ]
            ],
            "type": "heatmap"
           }
          ],
          "heatmapgl": [
           {
            "colorbar": {
             "outlinewidth": 0,
             "ticks": ""
            },
            "colorscale": [
             [
              0,
              "#0d0887"
             ],
             [
              0.1111111111111111,
              "#46039f"
             ],
             [
              0.2222222222222222,
              "#7201a8"
             ],
             [
              0.3333333333333333,
              "#9c179e"
             ],
             [
              0.4444444444444444,
              "#bd3786"
             ],
             [
              0.5555555555555556,
              "#d8576b"
             ],
             [
              0.6666666666666666,
              "#ed7953"
             ],
             [
              0.7777777777777778,
              "#fb9f3a"
             ],
             [
              0.8888888888888888,
              "#fdca26"
             ],
             [
              1,
              "#f0f921"
             ]
            ],
            "type": "heatmapgl"
           }
          ],
          "histogram": [
           {
            "marker": {
             "colorbar": {
              "outlinewidth": 0,
              "ticks": ""
             }
            },
            "type": "histogram"
           }
          ],
          "histogram2d": [
           {
            "colorbar": {
             "outlinewidth": 0,
             "ticks": ""
            },
            "colorscale": [
             [
              0,
              "#0d0887"
             ],
             [
              0.1111111111111111,
              "#46039f"
             ],
             [
              0.2222222222222222,
              "#7201a8"
             ],
             [
              0.3333333333333333,
              "#9c179e"
             ],
             [
              0.4444444444444444,
              "#bd3786"
             ],
             [
              0.5555555555555556,
              "#d8576b"
             ],
             [
              0.6666666666666666,
              "#ed7953"
             ],
             [
              0.7777777777777778,
              "#fb9f3a"
             ],
             [
              0.8888888888888888,
              "#fdca26"
             ],
             [
              1,
              "#f0f921"
             ]
            ],
            "type": "histogram2d"
           }
          ],
          "histogram2dcontour": [
           {
            "colorbar": {
             "outlinewidth": 0,
             "ticks": ""
            },
            "colorscale": [
             [
              0,
              "#0d0887"
             ],
             [
              0.1111111111111111,
              "#46039f"
             ],
             [
              0.2222222222222222,
              "#7201a8"
             ],
             [
              0.3333333333333333,
              "#9c179e"
             ],
             [
              0.4444444444444444,
              "#bd3786"
             ],
             [
              0.5555555555555556,
              "#d8576b"
             ],
             [
              0.6666666666666666,
              "#ed7953"
             ],
             [
              0.7777777777777778,
              "#fb9f3a"
             ],
             [
              0.8888888888888888,
              "#fdca26"
             ],
             [
              1,
              "#f0f921"
             ]
            ],
            "type": "histogram2dcontour"
           }
          ],
          "mesh3d": [
           {
            "colorbar": {
             "outlinewidth": 0,
             "ticks": ""
            },
            "type": "mesh3d"
           }
          ],
          "parcoords": [
           {
            "line": {
             "colorbar": {
              "outlinewidth": 0,
              "ticks": ""
             }
            },
            "type": "parcoords"
           }
          ],
          "pie": [
           {
            "automargin": true,
            "type": "pie"
           }
          ],
          "scatter": [
           {
            "marker": {
             "colorbar": {
              "outlinewidth": 0,
              "ticks": ""
             }
            },
            "type": "scatter"
           }
          ],
          "scatter3d": [
           {
            "line": {
             "colorbar": {
              "outlinewidth": 0,
              "ticks": ""
             }
            },
            "marker": {
             "colorbar": {
              "outlinewidth": 0,
              "ticks": ""
             }
            },
            "type": "scatter3d"
           }
          ],
          "scattercarpet": [
           {
            "marker": {
             "colorbar": {
              "outlinewidth": 0,
              "ticks": ""
             }
            },
            "type": "scattercarpet"
           }
          ],
          "scattergeo": [
           {
            "marker": {
             "colorbar": {
              "outlinewidth": 0,
              "ticks": ""
             }
            },
            "type": "scattergeo"
           }
          ],
          "scattergl": [
           {
            "marker": {
             "colorbar": {
              "outlinewidth": 0,
              "ticks": ""
             }
            },
            "type": "scattergl"
           }
          ],
          "scattermapbox": [
           {
            "marker": {
             "colorbar": {
              "outlinewidth": 0,
              "ticks": ""
             }
            },
            "type": "scattermapbox"
           }
          ],
          "scatterpolar": [
           {
            "marker": {
             "colorbar": {
              "outlinewidth": 0,
              "ticks": ""
             }
            },
            "type": "scatterpolar"
           }
          ],
          "scatterpolargl": [
           {
            "marker": {
             "colorbar": {
              "outlinewidth": 0,
              "ticks": ""
             }
            },
            "type": "scatterpolargl"
           }
          ],
          "scatterternary": [
           {
            "marker": {
             "colorbar": {
              "outlinewidth": 0,
              "ticks": ""
             }
            },
            "type": "scatterternary"
           }
          ],
          "surface": [
           {
            "colorbar": {
             "outlinewidth": 0,
             "ticks": ""
            },
            "colorscale": [
             [
              0,
              "#0d0887"
             ],
             [
              0.1111111111111111,
              "#46039f"
             ],
             [
              0.2222222222222222,
              "#7201a8"
             ],
             [
              0.3333333333333333,
              "#9c179e"
             ],
             [
              0.4444444444444444,
              "#bd3786"
             ],
             [
              0.5555555555555556,
              "#d8576b"
             ],
             [
              0.6666666666666666,
              "#ed7953"
             ],
             [
              0.7777777777777778,
              "#fb9f3a"
             ],
             [
              0.8888888888888888,
              "#fdca26"
             ],
             [
              1,
              "#f0f921"
             ]
            ],
            "type": "surface"
           }
          ],
          "table": [
           {
            "cells": {
             "fill": {
              "color": "#EBF0F8"
             },
             "line": {
              "color": "white"
             }
            },
            "header": {
             "fill": {
              "color": "#C8D4E3"
             },
             "line": {
              "color": "white"
             }
            },
            "type": "table"
           }
          ]
         },
         "layout": {
          "annotationdefaults": {
           "arrowcolor": "#2a3f5f",
           "arrowhead": 0,
           "arrowwidth": 1
          },
          "coloraxis": {
           "colorbar": {
            "outlinewidth": 0,
            "ticks": ""
           }
          },
          "colorscale": {
           "diverging": [
            [
             0,
             "#8e0152"
            ],
            [
             0.1,
             "#c51b7d"
            ],
            [
             0.2,
             "#de77ae"
            ],
            [
             0.3,
             "#f1b6da"
            ],
            [
             0.4,
             "#fde0ef"
            ],
            [
             0.5,
             "#f7f7f7"
            ],
            [
             0.6,
             "#e6f5d0"
            ],
            [
             0.7,
             "#b8e186"
            ],
            [
             0.8,
             "#7fbc41"
            ],
            [
             0.9,
             "#4d9221"
            ],
            [
             1,
             "#276419"
            ]
           ],
           "sequential": [
            [
             0,
             "#0d0887"
            ],
            [
             0.1111111111111111,
             "#46039f"
            ],
            [
             0.2222222222222222,
             "#7201a8"
            ],
            [
             0.3333333333333333,
             "#9c179e"
            ],
            [
             0.4444444444444444,
             "#bd3786"
            ],
            [
             0.5555555555555556,
             "#d8576b"
            ],
            [
             0.6666666666666666,
             "#ed7953"
            ],
            [
             0.7777777777777778,
             "#fb9f3a"
            ],
            [
             0.8888888888888888,
             "#fdca26"
            ],
            [
             1,
             "#f0f921"
            ]
           ],
           "sequentialminus": [
            [
             0,
             "#0d0887"
            ],
            [
             0.1111111111111111,
             "#46039f"
            ],
            [
             0.2222222222222222,
             "#7201a8"
            ],
            [
             0.3333333333333333,
             "#9c179e"
            ],
            [
             0.4444444444444444,
             "#bd3786"
            ],
            [
             0.5555555555555556,
             "#d8576b"
            ],
            [
             0.6666666666666666,
             "#ed7953"
            ],
            [
             0.7777777777777778,
             "#fb9f3a"
            ],
            [
             0.8888888888888888,
             "#fdca26"
            ],
            [
             1,
             "#f0f921"
            ]
           ]
          },
          "colorway": [
           "#636efa",
           "#EF553B",
           "#00cc96",
           "#ab63fa",
           "#FFA15A",
           "#19d3f3",
           "#FF6692",
           "#B6E880",
           "#FF97FF",
           "#FECB52"
          ],
          "font": {
           "color": "#2a3f5f"
          },
          "geo": {
           "bgcolor": "white",
           "lakecolor": "white",
           "landcolor": "#E5ECF6",
           "showlakes": true,
           "showland": true,
           "subunitcolor": "white"
          },
          "hoverlabel": {
           "align": "left"
          },
          "hovermode": "closest",
          "mapbox": {
           "style": "light"
          },
          "paper_bgcolor": "white",
          "plot_bgcolor": "#E5ECF6",
          "polar": {
           "angularaxis": {
            "gridcolor": "white",
            "linecolor": "white",
            "ticks": ""
           },
           "bgcolor": "#E5ECF6",
           "radialaxis": {
            "gridcolor": "white",
            "linecolor": "white",
            "ticks": ""
           }
          },
          "scene": {
           "xaxis": {
            "backgroundcolor": "#E5ECF6",
            "gridcolor": "white",
            "gridwidth": 2,
            "linecolor": "white",
            "showbackground": true,
            "ticks": "",
            "zerolinecolor": "white"
           },
           "yaxis": {
            "backgroundcolor": "#E5ECF6",
            "gridcolor": "white",
            "gridwidth": 2,
            "linecolor": "white",
            "showbackground": true,
            "ticks": "",
            "zerolinecolor": "white"
           },
           "zaxis": {
            "backgroundcolor": "#E5ECF6",
            "gridcolor": "white",
            "gridwidth": 2,
            "linecolor": "white",
            "showbackground": true,
            "ticks": "",
            "zerolinecolor": "white"
           }
          },
          "shapedefaults": {
           "line": {
            "color": "#2a3f5f"
           }
          },
          "ternary": {
           "aaxis": {
            "gridcolor": "white",
            "linecolor": "white",
            "ticks": ""
           },
           "baxis": {
            "gridcolor": "white",
            "linecolor": "white",
            "ticks": ""
           },
           "bgcolor": "#E5ECF6",
           "caxis": {
            "gridcolor": "white",
            "linecolor": "white",
            "ticks": ""
           }
          },
          "title": {
           "x": 0.05
          },
          "xaxis": {
           "automargin": true,
           "gridcolor": "white",
           "linecolor": "white",
           "ticks": "",
           "title": {
            "standoff": 15
           },
           "zerolinecolor": "white",
           "zerolinewidth": 2
          },
          "yaxis": {
           "automargin": true,
           "gridcolor": "white",
           "linecolor": "white",
           "ticks": "",
           "title": {
            "standoff": 15
           },
           "zerolinecolor": "white",
           "zerolinewidth": 2
          }
         }
        },
        "xaxis": {
         "anchor": "y",
         "domain": [
          0,
          1
         ],
         "title": {
          "text": "release_year"
         }
        },
        "yaxis": {
         "anchor": "x",
         "domain": [
          0,
          1
         ],
         "title": {
          "text": "content_produced"
         }
        }
       }
      },
      "text/html": [
       "<div>\n",
       "        \n",
       "        \n",
       "            <div id=\"6ab7a3cf-f74f-4130-be85-b2fcdbe728a1\" class=\"plotly-graph-div\" style=\"height:525px; width:100%;\"></div>\n",
       "            <script type=\"text/javascript\">\n",
       "                require([\"plotly\"], function(Plotly) {\n",
       "                    window.PLOTLYENV=window.PLOTLYENV || {};\n",
       "                    \n",
       "                if (document.getElementById(\"6ab7a3cf-f74f-4130-be85-b2fcdbe728a1\")) {\n",
       "                    Plotly.newPlot(\n",
       "                        '6ab7a3cf-f74f-4130-be85-b2fcdbe728a1',\n",
       "                        [{\"hovertemplate\": \"type=Movie<br>release_year=%{x}<br>content_produced=%{y}<extra></extra>\", \"legendgroup\": \"Movie\", \"line\": {\"color\": \"#636efa\", \"dash\": \"solid\"}, \"mode\": \"lines\", \"name\": \"Movie\", \"orientation\": \"v\", \"showlegend\": true, \"type\": \"scatter\", \"x\": [1991, 1992, 1993, 1994, 1995, 1996, 1997, 1998, 1999, 2000, 2001, 2002, 2003, 2004, 2005, 2006, 2007, 2008, 2009, 2010, 2011, 2012, 2013, 2014, 2015, 2016, 2017, 2018, 2019, 2020, 2021], \"xaxis\": \"x\", \"y\": [16, 16, 18, 15, 17, 16, 26, 27, 26, 30, 32, 39, 40, 50, 61, 72, 72, 102, 103, 136, 127, 158, 202, 244, 382, 642, 744, 734, 582, 411, 12], \"yaxis\": \"y\"}, {\"hovertemplate\": \"type=TV Show<br>release_year=%{x}<br>content_produced=%{y}<extra></extra>\", \"legendgroup\": \"TV Show\", \"line\": {\"color\": \"#EF553B\", \"dash\": \"solid\"}, \"mode\": \"lines\", \"name\": \"TV Show\", \"orientation\": \"v\", \"showlegend\": true, \"type\": \"scatter\", \"x\": [1991, 1992, 1993, 1994, 1995, 1996, 1997, 1998, 1999, 2000, 2001, 2002, 2003, 2004, 2005, 2006, 2007, 2008, 2009, 2010, 2011, 2012, 2013, 2014, 2015, 2016, 2017, 2018, 2019, 2020, 2021], \"xaxis\": \"x\", \"y\": [1, 2, 4, 1, 2, 3, 4, 4, 7, 4, 4, 6, 9, 9, 12, 13, 13, 23, 34, 37, 39, 61, 65, 90, 159, 240, 268, 387, 414, 457, 19], \"yaxis\": \"y\"}],\n",
       "                        {\"barmode\": \"group\", \"legend\": {\"title\": {\"text\": \"type\"}, \"tracegroupgap\": 0}, \"margin\": {\"t\": 60}, \"template\": {\"data\": {\"bar\": [{\"error_x\": {\"color\": \"#2a3f5f\"}, \"error_y\": {\"color\": \"#2a3f5f\"}, \"marker\": {\"line\": {\"color\": \"#E5ECF6\", \"width\": 0.5}}, \"type\": \"bar\"}], \"barpolar\": [{\"marker\": {\"line\": {\"color\": \"#E5ECF6\", \"width\": 0.5}}, \"type\": \"barpolar\"}], \"carpet\": [{\"aaxis\": {\"endlinecolor\": \"#2a3f5f\", \"gridcolor\": \"white\", \"linecolor\": \"white\", \"minorgridcolor\": \"white\", \"startlinecolor\": \"#2a3f5f\"}, \"baxis\": {\"endlinecolor\": \"#2a3f5f\", \"gridcolor\": \"white\", \"linecolor\": \"white\", \"minorgridcolor\": \"white\", \"startlinecolor\": \"#2a3f5f\"}, \"type\": \"carpet\"}], \"choropleth\": [{\"colorbar\": {\"outlinewidth\": 0, \"ticks\": \"\"}, \"type\": \"choropleth\"}], \"contour\": [{\"colorbar\": {\"outlinewidth\": 0, \"ticks\": \"\"}, \"colorscale\": [[0.0, \"#0d0887\"], [0.1111111111111111, \"#46039f\"], [0.2222222222222222, \"#7201a8\"], [0.3333333333333333, \"#9c179e\"], [0.4444444444444444, \"#bd3786\"], [0.5555555555555556, \"#d8576b\"], [0.6666666666666666, \"#ed7953\"], [0.7777777777777778, \"#fb9f3a\"], [0.8888888888888888, \"#fdca26\"], [1.0, \"#f0f921\"]], \"type\": \"contour\"}], \"contourcarpet\": [{\"colorbar\": {\"outlinewidth\": 0, \"ticks\": \"\"}, \"type\": \"contourcarpet\"}], \"heatmap\": [{\"colorbar\": {\"outlinewidth\": 0, \"ticks\": \"\"}, \"colorscale\": [[0.0, \"#0d0887\"], [0.1111111111111111, \"#46039f\"], [0.2222222222222222, \"#7201a8\"], [0.3333333333333333, \"#9c179e\"], [0.4444444444444444, \"#bd3786\"], [0.5555555555555556, \"#d8576b\"], [0.6666666666666666, \"#ed7953\"], [0.7777777777777778, \"#fb9f3a\"], [0.8888888888888888, \"#fdca26\"], [1.0, \"#f0f921\"]], \"type\": \"heatmap\"}], \"heatmapgl\": [{\"colorbar\": {\"outlinewidth\": 0, \"ticks\": \"\"}, \"colorscale\": [[0.0, \"#0d0887\"], [0.1111111111111111, \"#46039f\"], [0.2222222222222222, \"#7201a8\"], [0.3333333333333333, \"#9c179e\"], [0.4444444444444444, \"#bd3786\"], [0.5555555555555556, \"#d8576b\"], [0.6666666666666666, \"#ed7953\"], [0.7777777777777778, \"#fb9f3a\"], [0.8888888888888888, \"#fdca26\"], [1.0, \"#f0f921\"]], \"type\": \"heatmapgl\"}], \"histogram\": [{\"marker\": {\"colorbar\": {\"outlinewidth\": 0, \"ticks\": \"\"}}, \"type\": \"histogram\"}], \"histogram2d\": [{\"colorbar\": {\"outlinewidth\": 0, \"ticks\": \"\"}, \"colorscale\": [[0.0, \"#0d0887\"], [0.1111111111111111, \"#46039f\"], [0.2222222222222222, \"#7201a8\"], [0.3333333333333333, \"#9c179e\"], [0.4444444444444444, \"#bd3786\"], [0.5555555555555556, \"#d8576b\"], [0.6666666666666666, \"#ed7953\"], [0.7777777777777778, \"#fb9f3a\"], [0.8888888888888888, \"#fdca26\"], [1.0, \"#f0f921\"]], \"type\": \"histogram2d\"}], \"histogram2dcontour\": [{\"colorbar\": {\"outlinewidth\": 0, \"ticks\": \"\"}, \"colorscale\": [[0.0, \"#0d0887\"], [0.1111111111111111, \"#46039f\"], [0.2222222222222222, \"#7201a8\"], [0.3333333333333333, \"#9c179e\"], [0.4444444444444444, \"#bd3786\"], [0.5555555555555556, \"#d8576b\"], [0.6666666666666666, \"#ed7953\"], [0.7777777777777778, \"#fb9f3a\"], [0.8888888888888888, \"#fdca26\"], [1.0, \"#f0f921\"]], \"type\": \"histogram2dcontour\"}], \"mesh3d\": [{\"colorbar\": {\"outlinewidth\": 0, \"ticks\": \"\"}, \"type\": \"mesh3d\"}], \"parcoords\": [{\"line\": {\"colorbar\": {\"outlinewidth\": 0, \"ticks\": \"\"}}, \"type\": \"parcoords\"}], \"pie\": [{\"automargin\": true, \"type\": \"pie\"}], \"scatter\": [{\"marker\": {\"colorbar\": {\"outlinewidth\": 0, \"ticks\": \"\"}}, \"type\": \"scatter\"}], \"scatter3d\": [{\"line\": {\"colorbar\": {\"outlinewidth\": 0, \"ticks\": \"\"}}, \"marker\": {\"colorbar\": {\"outlinewidth\": 0, \"ticks\": \"\"}}, \"type\": \"scatter3d\"}], \"scattercarpet\": [{\"marker\": {\"colorbar\": {\"outlinewidth\": 0, \"ticks\": \"\"}}, \"type\": \"scattercarpet\"}], \"scattergeo\": [{\"marker\": {\"colorbar\": {\"outlinewidth\": 0, \"ticks\": \"\"}}, \"type\": \"scattergeo\"}], \"scattergl\": [{\"marker\": {\"colorbar\": {\"outlinewidth\": 0, \"ticks\": \"\"}}, \"type\": \"scattergl\"}], \"scattermapbox\": [{\"marker\": {\"colorbar\": {\"outlinewidth\": 0, \"ticks\": \"\"}}, \"type\": \"scattermapbox\"}], \"scatterpolar\": [{\"marker\": {\"colorbar\": {\"outlinewidth\": 0, \"ticks\": \"\"}}, \"type\": \"scatterpolar\"}], \"scatterpolargl\": [{\"marker\": {\"colorbar\": {\"outlinewidth\": 0, \"ticks\": \"\"}}, \"type\": \"scatterpolargl\"}], \"scatterternary\": [{\"marker\": {\"colorbar\": {\"outlinewidth\": 0, \"ticks\": \"\"}}, \"type\": \"scatterternary\"}], \"surface\": [{\"colorbar\": {\"outlinewidth\": 0, \"ticks\": \"\"}, \"colorscale\": [[0.0, \"#0d0887\"], [0.1111111111111111, \"#46039f\"], [0.2222222222222222, \"#7201a8\"], [0.3333333333333333, \"#9c179e\"], [0.4444444444444444, \"#bd3786\"], [0.5555555555555556, \"#d8576b\"], [0.6666666666666666, \"#ed7953\"], [0.7777777777777778, \"#fb9f3a\"], [0.8888888888888888, \"#fdca26\"], [1.0, \"#f0f921\"]], \"type\": \"surface\"}], \"table\": [{\"cells\": {\"fill\": {\"color\": \"#EBF0F8\"}, \"line\": {\"color\": \"white\"}}, \"header\": {\"fill\": {\"color\": \"#C8D4E3\"}, \"line\": {\"color\": \"white\"}}, \"type\": \"table\"}]}, \"layout\": {\"annotationdefaults\": {\"arrowcolor\": \"#2a3f5f\", \"arrowhead\": 0, \"arrowwidth\": 1}, \"coloraxis\": {\"colorbar\": {\"outlinewidth\": 0, \"ticks\": \"\"}}, \"colorscale\": {\"diverging\": [[0, \"#8e0152\"], [0.1, \"#c51b7d\"], [0.2, \"#de77ae\"], [0.3, \"#f1b6da\"], [0.4, \"#fde0ef\"], [0.5, \"#f7f7f7\"], [0.6, \"#e6f5d0\"], [0.7, \"#b8e186\"], [0.8, \"#7fbc41\"], [0.9, \"#4d9221\"], [1, \"#276419\"]], \"sequential\": [[0.0, \"#0d0887\"], [0.1111111111111111, \"#46039f\"], [0.2222222222222222, \"#7201a8\"], [0.3333333333333333, \"#9c179e\"], [0.4444444444444444, \"#bd3786\"], [0.5555555555555556, \"#d8576b\"], [0.6666666666666666, \"#ed7953\"], [0.7777777777777778, \"#fb9f3a\"], [0.8888888888888888, \"#fdca26\"], [1.0, \"#f0f921\"]], \"sequentialminus\": [[0.0, \"#0d0887\"], [0.1111111111111111, \"#46039f\"], [0.2222222222222222, \"#7201a8\"], [0.3333333333333333, \"#9c179e\"], [0.4444444444444444, \"#bd3786\"], [0.5555555555555556, \"#d8576b\"], [0.6666666666666666, \"#ed7953\"], [0.7777777777777778, \"#fb9f3a\"], [0.8888888888888888, \"#fdca26\"], [1.0, \"#f0f921\"]]}, \"colorway\": [\"#636efa\", \"#EF553B\", \"#00cc96\", \"#ab63fa\", \"#FFA15A\", \"#19d3f3\", \"#FF6692\", \"#B6E880\", \"#FF97FF\", \"#FECB52\"], \"font\": {\"color\": \"#2a3f5f\"}, \"geo\": {\"bgcolor\": \"white\", \"lakecolor\": \"white\", \"landcolor\": \"#E5ECF6\", \"showlakes\": true, \"showland\": true, \"subunitcolor\": \"white\"}, \"hoverlabel\": {\"align\": \"left\"}, \"hovermode\": \"closest\", \"mapbox\": {\"style\": \"light\"}, \"paper_bgcolor\": \"white\", \"plot_bgcolor\": \"#E5ECF6\", \"polar\": {\"angularaxis\": {\"gridcolor\": \"white\", \"linecolor\": \"white\", \"ticks\": \"\"}, \"bgcolor\": \"#E5ECF6\", \"radialaxis\": {\"gridcolor\": \"white\", \"linecolor\": \"white\", \"ticks\": \"\"}}, \"scene\": {\"xaxis\": {\"backgroundcolor\": \"#E5ECF6\", \"gridcolor\": \"white\", \"gridwidth\": 2, \"linecolor\": \"white\", \"showbackground\": true, \"ticks\": \"\", \"zerolinecolor\": \"white\"}, \"yaxis\": {\"backgroundcolor\": \"#E5ECF6\", \"gridcolor\": \"white\", \"gridwidth\": 2, \"linecolor\": \"white\", \"showbackground\": true, \"ticks\": \"\", \"zerolinecolor\": \"white\"}, \"zaxis\": {\"backgroundcolor\": \"#E5ECF6\", \"gridcolor\": \"white\", \"gridwidth\": 2, \"linecolor\": \"white\", \"showbackground\": true, \"ticks\": \"\", \"zerolinecolor\": \"white\"}}, \"shapedefaults\": {\"line\": {\"color\": \"#2a3f5f\"}}, \"ternary\": {\"aaxis\": {\"gridcolor\": \"white\", \"linecolor\": \"white\", \"ticks\": \"\"}, \"baxis\": {\"gridcolor\": \"white\", \"linecolor\": \"white\", \"ticks\": \"\"}, \"bgcolor\": \"#E5ECF6\", \"caxis\": {\"gridcolor\": \"white\", \"linecolor\": \"white\", \"ticks\": \"\"}}, \"title\": {\"x\": 0.05}, \"xaxis\": {\"automargin\": true, \"gridcolor\": \"white\", \"linecolor\": \"white\", \"ticks\": \"\", \"title\": {\"standoff\": 15}, \"zerolinecolor\": \"white\", \"zerolinewidth\": 2}, \"yaxis\": {\"automargin\": true, \"gridcolor\": \"white\", \"linecolor\": \"white\", \"ticks\": \"\", \"title\": {\"standoff\": 15}, \"zerolinecolor\": \"white\", \"zerolinewidth\": 2}}}, \"xaxis\": {\"anchor\": \"y\", \"domain\": [0.0, 1.0], \"title\": {\"text\": \"release_year\"}}, \"yaxis\": {\"anchor\": \"x\", \"domain\": [0.0, 1.0], \"title\": {\"text\": \"content_produced\"}}},\n",
       "                        {\"responsive\": true}\n",
       "                    ).then(function(){\n",
       "                            \n",
       "var gd = document.getElementById('6ab7a3cf-f74f-4130-be85-b2fcdbe728a1');\n",
       "var x = new MutationObserver(function (mutations, observer) {{\n",
       "        var display = window.getComputedStyle(gd).display;\n",
       "        if (!display || display === 'none') {{\n",
       "            console.log([gd, 'removed!']);\n",
       "            Plotly.purge(gd);\n",
       "            observer.disconnect();\n",
       "        }}\n",
       "}});\n",
       "\n",
       "// Listen for the removal of the full notebook cells\n",
       "var notebookContainer = gd.closest('#notebook-container');\n",
       "if (notebookContainer) {{\n",
       "    x.observe(notebookContainer, {childList: true});\n",
       "}}\n",
       "\n",
       "// Listen for the clearing of the current output cell\n",
       "var outputEl = gd.closest('.output');\n",
       "if (outputEl) {{\n",
       "    x.observe(outputEl, {childList: true});\n",
       "}}\n",
       "\n",
       "                        })\n",
       "                };\n",
       "                });\n",
       "            </script>\n",
       "        </div>"
      ]
     },
     "metadata": {},
     "output_type": "display_data"
    }
   ],
   "source": [
    "# total content produced \n",
    "\n",
    "data['content_produced']=1\n",
    "\n",
    "dataset = data.pivot_table(index=[\"type\",\"release_year\"],values=\"content_produced\",aggfunc=\"sum\",fill_value=0)\n",
    "\n",
    "dataset = dataset.reset_index()\n",
    "\n",
    "fig = px.line(dataset[dataset['release_year']>1990],x=\"release_year\",y=\"content_produced\",color=\"type\")\n",
    "fig.update_layout(barmode='group')\n",
    "fig.show()"
   ]
  },
  {
   "cell_type": "markdown",
   "metadata": {},
   "source": [
    "After 2016 netlix has shown anormous growth\n"
   ]
  },
  {
   "cell_type": "markdown",
   "metadata": {},
   "source": [
    "## Top 20 Countries where Netflix content was produced"
   ]
  },
  {
   "cell_type": "code",
   "execution_count": 8,
   "metadata": {},
   "outputs": [
    {
     "data": {
      "application/vnd.plotly.v1+json": {
       "config": {
        "plotlyServerURL": "https://plot.ly"
       },
       "data": [
        {
         "alignmentgroup": "True",
         "hovertemplate": "country=%{x}<br>count=%{text}<extra></extra>",
         "legendgroup": " United States",
         "marker": {
          "color": "#636efa"
         },
         "name": " United States",
         "offsetgroup": " United States",
         "orientation": "v",
         "showlegend": true,
         "text": [
          3297
         ],
         "textposition": "outside",
         "type": "bar",
         "x": [
          " United States"
         ],
         "xaxis": "x",
         "y": [
          3297
         ],
         "yaxis": "y"
        },
        {
         "alignmentgroup": "True",
         "hovertemplate": "country=%{x}<br>count=%{text}<extra></extra>",
         "legendgroup": " India",
         "marker": {
          "color": "#EF553B"
         },
         "name": " India",
         "offsetgroup": " India",
         "orientation": "v",
         "showlegend": true,
         "text": [
          990
         ],
         "textposition": "outside",
         "type": "bar",
         "x": [
          " India"
         ],
         "xaxis": "x",
         "y": [
          990
         ],
         "yaxis": "y"
        },
        {
         "alignmentgroup": "True",
         "hovertemplate": "country=%{x}<br>count=%{text}<extra></extra>",
         "legendgroup": " United Kingdom",
         "marker": {
          "color": "#00cc96"
         },
         "name": " United Kingdom",
         "offsetgroup": " United Kingdom",
         "orientation": "v",
         "showlegend": true,
         "text": [
          723
         ],
         "textposition": "outside",
         "type": "bar",
         "x": [
          " United Kingdom"
         ],
         "xaxis": "x",
         "y": [
          723
         ],
         "yaxis": "y"
        },
        {
         "alignmentgroup": "True",
         "hovertemplate": "country=%{x}<br>count=%{text}<extra></extra>",
         "legendgroup": " Canada",
         "marker": {
          "color": "#ab63fa"
         },
         "name": " Canada",
         "offsetgroup": " Canada",
         "orientation": "v",
         "showlegend": true,
         "text": [
          412
         ],
         "textposition": "outside",
         "type": "bar",
         "x": [
          " Canada"
         ],
         "xaxis": "x",
         "y": [
          412
         ],
         "yaxis": "y"
        },
        {
         "alignmentgroup": "True",
         "hovertemplate": "country=%{x}<br>count=%{text}<extra></extra>",
         "legendgroup": " France",
         "marker": {
          "color": "#FFA15A"
         },
         "name": " France",
         "offsetgroup": " France",
         "orientation": "v",
         "showlegend": true,
         "text": [
          349
         ],
         "textposition": "outside",
         "type": "bar",
         "x": [
          " France"
         ],
         "xaxis": "x",
         "y": [
          349
         ],
         "yaxis": "y"
        },
        {
         "alignmentgroup": "True",
         "hovertemplate": "country=%{x}<br>count=%{text}<extra></extra>",
         "legendgroup": " Japan",
         "marker": {
          "color": "#19d3f3"
         },
         "name": " Japan",
         "offsetgroup": " Japan",
         "orientation": "v",
         "showlegend": true,
         "text": [
          287
         ],
         "textposition": "outside",
         "type": "bar",
         "x": [
          " Japan"
         ],
         "xaxis": "x",
         "y": [
          287
         ],
         "yaxis": "y"
        },
        {
         "alignmentgroup": "True",
         "hovertemplate": "country=%{x}<br>count=%{text}<extra></extra>",
         "legendgroup": " Spain",
         "marker": {
          "color": "#FF6692"
         },
         "name": " Spain",
         "offsetgroup": " Spain",
         "orientation": "v",
         "showlegend": true,
         "text": [
          215
         ],
         "textposition": "outside",
         "type": "bar",
         "x": [
          " Spain"
         ],
         "xaxis": "x",
         "y": [
          215
         ],
         "yaxis": "y"
        },
        {
         "alignmentgroup": "True",
         "hovertemplate": "country=%{x}<br>count=%{text}<extra></extra>",
         "legendgroup": " South Korea",
         "marker": {
          "color": "#B6E880"
         },
         "name": " South Korea",
         "offsetgroup": " South Korea",
         "orientation": "v",
         "showlegend": true,
         "text": [
          212
         ],
         "textposition": "outside",
         "type": "bar",
         "x": [
          " South Korea"
         ],
         "xaxis": "x",
         "y": [
          212
         ],
         "yaxis": "y"
        },
        {
         "alignmentgroup": "True",
         "hovertemplate": "country=%{x}<br>count=%{text}<extra></extra>",
         "legendgroup": " Germany",
         "marker": {
          "color": "#FF97FF"
         },
         "name": " Germany",
         "offsetgroup": " Germany",
         "orientation": "v",
         "showlegend": true,
         "text": [
          199
         ],
         "textposition": "outside",
         "type": "bar",
         "x": [
          " Germany"
         ],
         "xaxis": "x",
         "y": [
          199
         ],
         "yaxis": "y"
        },
        {
         "alignmentgroup": "True",
         "hovertemplate": "country=%{x}<br>count=%{text}<extra></extra>",
         "legendgroup": " Mexico",
         "marker": {
          "color": "#FECB52"
         },
         "name": " Mexico",
         "offsetgroup": " Mexico",
         "orientation": "v",
         "showlegend": true,
         "text": [
          154
         ],
         "textposition": "outside",
         "type": "bar",
         "x": [
          " Mexico"
         ],
         "xaxis": "x",
         "y": [
          154
         ],
         "yaxis": "y"
        },
        {
         "alignmentgroup": "True",
         "hovertemplate": "country=%{x}<br>count=%{text}<extra></extra>",
         "legendgroup": " China",
         "marker": {
          "color": "#636efa"
         },
         "name": " China",
         "offsetgroup": " China",
         "orientation": "v",
         "showlegend": true,
         "text": [
          147
         ],
         "textposition": "outside",
         "type": "bar",
         "x": [
          " China"
         ],
         "xaxis": "x",
         "y": [
          147
         ],
         "yaxis": "y"
        },
        {
         "alignmentgroup": "True",
         "hovertemplate": "country=%{x}<br>count=%{text}<extra></extra>",
         "legendgroup": " Australia",
         "marker": {
          "color": "#EF553B"
         },
         "name": " Australia",
         "offsetgroup": " Australia",
         "orientation": "v",
         "showlegend": true,
         "text": [
          144
         ],
         "textposition": "outside",
         "type": "bar",
         "x": [
          " Australia"
         ],
         "xaxis": "x",
         "y": [
          144
         ],
         "yaxis": "y"
        },
        {
         "alignmentgroup": "True",
         "hovertemplate": "country=%{x}<br>count=%{text}<extra></extra>",
         "legendgroup": " Egypt",
         "marker": {
          "color": "#00cc96"
         },
         "name": " Egypt",
         "offsetgroup": " Egypt",
         "orientation": "v",
         "showlegend": true,
         "text": [
          110
         ],
         "textposition": "outside",
         "type": "bar",
         "x": [
          " Egypt"
         ],
         "xaxis": "x",
         "y": [
          110
         ],
         "yaxis": "y"
        },
        {
         "alignmentgroup": "True",
         "hovertemplate": "country=%{x}<br>count=%{text}<extra></extra>",
         "legendgroup": " Turkey",
         "marker": {
          "color": "#ab63fa"
         },
         "name": " Turkey",
         "offsetgroup": " Turkey",
         "orientation": "v",
         "showlegend": true,
         "text": [
          108
         ],
         "textposition": "outside",
         "type": "bar",
         "x": [
          " Turkey"
         ],
         "xaxis": "x",
         "y": [
          108
         ],
         "yaxis": "y"
        },
        {
         "alignmentgroup": "True",
         "hovertemplate": "country=%{x}<br>count=%{text}<extra></extra>",
         "legendgroup": " Hong Kong",
         "marker": {
          "color": "#FFA15A"
         },
         "name": " Hong Kong",
         "offsetgroup": " Hong Kong",
         "orientation": "v",
         "showlegend": true,
         "text": [
          102
         ],
         "textposition": "outside",
         "type": "bar",
         "x": [
          " Hong Kong"
         ],
         "xaxis": "x",
         "y": [
          102
         ],
         "yaxis": "y"
        },
        {
         "alignmentgroup": "True",
         "hovertemplate": "country=%{x}<br>count=%{text}<extra></extra>",
         "legendgroup": " Italy",
         "marker": {
          "color": "#19d3f3"
         },
         "name": " Italy",
         "offsetgroup": " Italy",
         "orientation": "v",
         "showlegend": true,
         "text": [
          90
         ],
         "textposition": "outside",
         "type": "bar",
         "x": [
          " Italy"
         ],
         "xaxis": "x",
         "y": [
          90
         ],
         "yaxis": "y"
        },
        {
         "alignmentgroup": "True",
         "hovertemplate": "country=%{x}<br>count=%{text}<extra></extra>",
         "legendgroup": " Brazil",
         "marker": {
          "color": "#FF6692"
         },
         "name": " Brazil",
         "offsetgroup": " Brazil",
         "orientation": "v",
         "showlegend": true,
         "text": [
          87
         ],
         "textposition": "outside",
         "type": "bar",
         "x": [
          " Brazil"
         ],
         "xaxis": "x",
         "y": [
          87
         ],
         "yaxis": "y"
        },
        {
         "alignmentgroup": "True",
         "hovertemplate": "country=%{x}<br>count=%{text}<extra></extra>",
         "legendgroup": " Taiwan",
         "marker": {
          "color": "#B6E880"
         },
         "name": " Taiwan",
         "offsetgroup": " Taiwan",
         "orientation": "v",
         "showlegend": true,
         "text": [
          85
         ],
         "textposition": "outside",
         "type": "bar",
         "x": [
          " Taiwan"
         ],
         "xaxis": "x",
         "y": [
          85
         ],
         "yaxis": "y"
        },
        {
         "alignmentgroup": "True",
         "hovertemplate": "country=%{x}<br>count=%{text}<extra></extra>",
         "legendgroup": " Belgium",
         "marker": {
          "color": "#FF97FF"
         },
         "name": " Belgium",
         "offsetgroup": " Belgium",
         "orientation": "v",
         "showlegend": true,
         "text": [
          85
         ],
         "textposition": "outside",
         "type": "bar",
         "x": [
          " Belgium"
         ],
         "xaxis": "x",
         "y": [
          85
         ],
         "yaxis": "y"
        },
        {
         "alignmentgroup": "True",
         "hovertemplate": "country=%{x}<br>count=%{text}<extra></extra>",
         "legendgroup": " Argentina",
         "marker": {
          "color": "#FECB52"
         },
         "name": " Argentina",
         "offsetgroup": " Argentina",
         "orientation": "v",
         "showlegend": true,
         "text": [
          82
         ],
         "textposition": "outside",
         "type": "bar",
         "x": [
          " Argentina"
         ],
         "xaxis": "x",
         "y": [
          82
         ],
         "yaxis": "y"
        }
       ],
       "layout": {
        "barmode": "relative",
        "legend": {
         "title": {
          "text": "country"
         },
         "tracegroupgap": 0
        },
        "template": {
         "data": {
          "bar": [
           {
            "error_x": {
             "color": "#2a3f5f"
            },
            "error_y": {
             "color": "#2a3f5f"
            },
            "marker": {
             "line": {
              "color": "#E5ECF6",
              "width": 0.5
             }
            },
            "type": "bar"
           }
          ],
          "barpolar": [
           {
            "marker": {
             "line": {
              "color": "#E5ECF6",
              "width": 0.5
             }
            },
            "type": "barpolar"
           }
          ],
          "carpet": [
           {
            "aaxis": {
             "endlinecolor": "#2a3f5f",
             "gridcolor": "white",
             "linecolor": "white",
             "minorgridcolor": "white",
             "startlinecolor": "#2a3f5f"
            },
            "baxis": {
             "endlinecolor": "#2a3f5f",
             "gridcolor": "white",
             "linecolor": "white",
             "minorgridcolor": "white",
             "startlinecolor": "#2a3f5f"
            },
            "type": "carpet"
           }
          ],
          "choropleth": [
           {
            "colorbar": {
             "outlinewidth": 0,
             "ticks": ""
            },
            "type": "choropleth"
           }
          ],
          "contour": [
           {
            "colorbar": {
             "outlinewidth": 0,
             "ticks": ""
            },
            "colorscale": [
             [
              0,
              "#0d0887"
             ],
             [
              0.1111111111111111,
              "#46039f"
             ],
             [
              0.2222222222222222,
              "#7201a8"
             ],
             [
              0.3333333333333333,
              "#9c179e"
             ],
             [
              0.4444444444444444,
              "#bd3786"
             ],
             [
              0.5555555555555556,
              "#d8576b"
             ],
             [
              0.6666666666666666,
              "#ed7953"
             ],
             [
              0.7777777777777778,
              "#fb9f3a"
             ],
             [
              0.8888888888888888,
              "#fdca26"
             ],
             [
              1,
              "#f0f921"
             ]
            ],
            "type": "contour"
           }
          ],
          "contourcarpet": [
           {
            "colorbar": {
             "outlinewidth": 0,
             "ticks": ""
            },
            "type": "contourcarpet"
           }
          ],
          "heatmap": [
           {
            "colorbar": {
             "outlinewidth": 0,
             "ticks": ""
            },
            "colorscale": [
             [
              0,
              "#0d0887"
             ],
             [
              0.1111111111111111,
              "#46039f"
             ],
             [
              0.2222222222222222,
              "#7201a8"
             ],
             [
              0.3333333333333333,
              "#9c179e"
             ],
             [
              0.4444444444444444,
              "#bd3786"
             ],
             [
              0.5555555555555556,
              "#d8576b"
             ],
             [
              0.6666666666666666,
              "#ed7953"
             ],
             [
              0.7777777777777778,
              "#fb9f3a"
             ],
             [
              0.8888888888888888,
              "#fdca26"
             ],
             [
              1,
              "#f0f921"
             ]
            ],
            "type": "heatmap"
           }
          ],
          "heatmapgl": [
           {
            "colorbar": {
             "outlinewidth": 0,
             "ticks": ""
            },
            "colorscale": [
             [
              0,
              "#0d0887"
             ],
             [
              0.1111111111111111,
              "#46039f"
             ],
             [
              0.2222222222222222,
              "#7201a8"
             ],
             [
              0.3333333333333333,
              "#9c179e"
             ],
             [
              0.4444444444444444,
              "#bd3786"
             ],
             [
              0.5555555555555556,
              "#d8576b"
             ],
             [
              0.6666666666666666,
              "#ed7953"
             ],
             [
              0.7777777777777778,
              "#fb9f3a"
             ],
             [
              0.8888888888888888,
              "#fdca26"
             ],
             [
              1,
              "#f0f921"
             ]
            ],
            "type": "heatmapgl"
           }
          ],
          "histogram": [
           {
            "marker": {
             "colorbar": {
              "outlinewidth": 0,
              "ticks": ""
             }
            },
            "type": "histogram"
           }
          ],
          "histogram2d": [
           {
            "colorbar": {
             "outlinewidth": 0,
             "ticks": ""
            },
            "colorscale": [
             [
              0,
              "#0d0887"
             ],
             [
              0.1111111111111111,
              "#46039f"
             ],
             [
              0.2222222222222222,
              "#7201a8"
             ],
             [
              0.3333333333333333,
              "#9c179e"
             ],
             [
              0.4444444444444444,
              "#bd3786"
             ],
             [
              0.5555555555555556,
              "#d8576b"
             ],
             [
              0.6666666666666666,
              "#ed7953"
             ],
             [
              0.7777777777777778,
              "#fb9f3a"
             ],
             [
              0.8888888888888888,
              "#fdca26"
             ],
             [
              1,
              "#f0f921"
             ]
            ],
            "type": "histogram2d"
           }
          ],
          "histogram2dcontour": [
           {
            "colorbar": {
             "outlinewidth": 0,
             "ticks": ""
            },
            "colorscale": [
             [
              0,
              "#0d0887"
             ],
             [
              0.1111111111111111,
              "#46039f"
             ],
             [
              0.2222222222222222,
              "#7201a8"
             ],
             [
              0.3333333333333333,
              "#9c179e"
             ],
             [
              0.4444444444444444,
              "#bd3786"
             ],
             [
              0.5555555555555556,
              "#d8576b"
             ],
             [
              0.6666666666666666,
              "#ed7953"
             ],
             [
              0.7777777777777778,
              "#fb9f3a"
             ],
             [
              0.8888888888888888,
              "#fdca26"
             ],
             [
              1,
              "#f0f921"
             ]
            ],
            "type": "histogram2dcontour"
           }
          ],
          "mesh3d": [
           {
            "colorbar": {
             "outlinewidth": 0,
             "ticks": ""
            },
            "type": "mesh3d"
           }
          ],
          "parcoords": [
           {
            "line": {
             "colorbar": {
              "outlinewidth": 0,
              "ticks": ""
             }
            },
            "type": "parcoords"
           }
          ],
          "pie": [
           {
            "automargin": true,
            "type": "pie"
           }
          ],
          "scatter": [
           {
            "marker": {
             "colorbar": {
              "outlinewidth": 0,
              "ticks": ""
             }
            },
            "type": "scatter"
           }
          ],
          "scatter3d": [
           {
            "line": {
             "colorbar": {
              "outlinewidth": 0,
              "ticks": ""
             }
            },
            "marker": {
             "colorbar": {
              "outlinewidth": 0,
              "ticks": ""
             }
            },
            "type": "scatter3d"
           }
          ],
          "scattercarpet": [
           {
            "marker": {
             "colorbar": {
              "outlinewidth": 0,
              "ticks": ""
             }
            },
            "type": "scattercarpet"
           }
          ],
          "scattergeo": [
           {
            "marker": {
             "colorbar": {
              "outlinewidth": 0,
              "ticks": ""
             }
            },
            "type": "scattergeo"
           }
          ],
          "scattergl": [
           {
            "marker": {
             "colorbar": {
              "outlinewidth": 0,
              "ticks": ""
             }
            },
            "type": "scattergl"
           }
          ],
          "scattermapbox": [
           {
            "marker": {
             "colorbar": {
              "outlinewidth": 0,
              "ticks": ""
             }
            },
            "type": "scattermapbox"
           }
          ],
          "scatterpolar": [
           {
            "marker": {
             "colorbar": {
              "outlinewidth": 0,
              "ticks": ""
             }
            },
            "type": "scatterpolar"
           }
          ],
          "scatterpolargl": [
           {
            "marker": {
             "colorbar": {
              "outlinewidth": 0,
              "ticks": ""
             }
            },
            "type": "scatterpolargl"
           }
          ],
          "scatterternary": [
           {
            "marker": {
             "colorbar": {
              "outlinewidth": 0,
              "ticks": ""
             }
            },
            "type": "scatterternary"
           }
          ],
          "surface": [
           {
            "colorbar": {
             "outlinewidth": 0,
             "ticks": ""
            },
            "colorscale": [
             [
              0,
              "#0d0887"
             ],
             [
              0.1111111111111111,
              "#46039f"
             ],
             [
              0.2222222222222222,
              "#7201a8"
             ],
             [
              0.3333333333333333,
              "#9c179e"
             ],
             [
              0.4444444444444444,
              "#bd3786"
             ],
             [
              0.5555555555555556,
              "#d8576b"
             ],
             [
              0.6666666666666666,
              "#ed7953"
             ],
             [
              0.7777777777777778,
              "#fb9f3a"
             ],
             [
              0.8888888888888888,
              "#fdca26"
             ],
             [
              1,
              "#f0f921"
             ]
            ],
            "type": "surface"
           }
          ],
          "table": [
           {
            "cells": {
             "fill": {
              "color": "#EBF0F8"
             },
             "line": {
              "color": "white"
             }
            },
            "header": {
             "fill": {
              "color": "#C8D4E3"
             },
             "line": {
              "color": "white"
             }
            },
            "type": "table"
           }
          ]
         },
         "layout": {
          "annotationdefaults": {
           "arrowcolor": "#2a3f5f",
           "arrowhead": 0,
           "arrowwidth": 1
          },
          "coloraxis": {
           "colorbar": {
            "outlinewidth": 0,
            "ticks": ""
           }
          },
          "colorscale": {
           "diverging": [
            [
             0,
             "#8e0152"
            ],
            [
             0.1,
             "#c51b7d"
            ],
            [
             0.2,
             "#de77ae"
            ],
            [
             0.3,
             "#f1b6da"
            ],
            [
             0.4,
             "#fde0ef"
            ],
            [
             0.5,
             "#f7f7f7"
            ],
            [
             0.6,
             "#e6f5d0"
            ],
            [
             0.7,
             "#b8e186"
            ],
            [
             0.8,
             "#7fbc41"
            ],
            [
             0.9,
             "#4d9221"
            ],
            [
             1,
             "#276419"
            ]
           ],
           "sequential": [
            [
             0,
             "#0d0887"
            ],
            [
             0.1111111111111111,
             "#46039f"
            ],
            [
             0.2222222222222222,
             "#7201a8"
            ],
            [
             0.3333333333333333,
             "#9c179e"
            ],
            [
             0.4444444444444444,
             "#bd3786"
            ],
            [
             0.5555555555555556,
             "#d8576b"
            ],
            [
             0.6666666666666666,
             "#ed7953"
            ],
            [
             0.7777777777777778,
             "#fb9f3a"
            ],
            [
             0.8888888888888888,
             "#fdca26"
            ],
            [
             1,
             "#f0f921"
            ]
           ],
           "sequentialminus": [
            [
             0,
             "#0d0887"
            ],
            [
             0.1111111111111111,
             "#46039f"
            ],
            [
             0.2222222222222222,
             "#7201a8"
            ],
            [
             0.3333333333333333,
             "#9c179e"
            ],
            [
             0.4444444444444444,
             "#bd3786"
            ],
            [
             0.5555555555555556,
             "#d8576b"
            ],
            [
             0.6666666666666666,
             "#ed7953"
            ],
            [
             0.7777777777777778,
             "#fb9f3a"
            ],
            [
             0.8888888888888888,
             "#fdca26"
            ],
            [
             1,
             "#f0f921"
            ]
           ]
          },
          "colorway": [
           "#636efa",
           "#EF553B",
           "#00cc96",
           "#ab63fa",
           "#FFA15A",
           "#19d3f3",
           "#FF6692",
           "#B6E880",
           "#FF97FF",
           "#FECB52"
          ],
          "font": {
           "color": "#2a3f5f"
          },
          "geo": {
           "bgcolor": "white",
           "lakecolor": "white",
           "landcolor": "#E5ECF6",
           "showlakes": true,
           "showland": true,
           "subunitcolor": "white"
          },
          "hoverlabel": {
           "align": "left"
          },
          "hovermode": "closest",
          "mapbox": {
           "style": "light"
          },
          "paper_bgcolor": "white",
          "plot_bgcolor": "#E5ECF6",
          "polar": {
           "angularaxis": {
            "gridcolor": "white",
            "linecolor": "white",
            "ticks": ""
           },
           "bgcolor": "#E5ECF6",
           "radialaxis": {
            "gridcolor": "white",
            "linecolor": "white",
            "ticks": ""
           }
          },
          "scene": {
           "xaxis": {
            "backgroundcolor": "#E5ECF6",
            "gridcolor": "white",
            "gridwidth": 2,
            "linecolor": "white",
            "showbackground": true,
            "ticks": "",
            "zerolinecolor": "white"
           },
           "yaxis": {
            "backgroundcolor": "#E5ECF6",
            "gridcolor": "white",
            "gridwidth": 2,
            "linecolor": "white",
            "showbackground": true,
            "ticks": "",
            "zerolinecolor": "white"
           },
           "zaxis": {
            "backgroundcolor": "#E5ECF6",
            "gridcolor": "white",
            "gridwidth": 2,
            "linecolor": "white",
            "showbackground": true,
            "ticks": "",
            "zerolinecolor": "white"
           }
          },
          "shapedefaults": {
           "line": {
            "color": "#2a3f5f"
           }
          },
          "ternary": {
           "aaxis": {
            "gridcolor": "white",
            "linecolor": "white",
            "ticks": ""
           },
           "baxis": {
            "gridcolor": "white",
            "linecolor": "white",
            "ticks": ""
           },
           "bgcolor": "#E5ECF6",
           "caxis": {
            "gridcolor": "white",
            "linecolor": "white",
            "ticks": ""
           }
          },
          "title": {
           "x": 0.05
          },
          "xaxis": {
           "automargin": true,
           "gridcolor": "white",
           "linecolor": "white",
           "ticks": "",
           "title": {
            "standoff": 15
           },
           "zerolinecolor": "white",
           "zerolinewidth": 2
          },
          "yaxis": {
           "automargin": true,
           "gridcolor": "white",
           "linecolor": "white",
           "ticks": "",
           "title": {
            "standoff": 15
           },
           "zerolinecolor": "white",
           "zerolinewidth": 2
          }
         }
        },
        "title": {
         "text": "Top 20 Netflix country"
        },
        "xaxis": {
         "anchor": "y",
         "categoryarray": [
          " United States",
          " India",
          " United Kingdom",
          " Canada",
          " France",
          " Japan",
          " Spain",
          " South Korea",
          " Germany",
          " Mexico",
          " China",
          " Australia",
          " Egypt",
          " Turkey",
          " Hong Kong",
          " Italy",
          " Brazil",
          " Taiwan",
          " Belgium",
          " Argentina"
         ],
         "categoryorder": "array",
         "domain": [
          0,
          1
         ],
         "title": {
          "text": "country"
         }
        },
        "yaxis": {
         "anchor": "x",
         "domain": [
          0,
          1
         ],
         "title": {
          "text": "count"
         }
        }
       }
      },
      "text/html": [
       "<div>\n",
       "        \n",
       "        \n",
       "            <div id=\"4eaaed61-4df6-4d36-b17a-7e8d73232f28\" class=\"plotly-graph-div\" style=\"height:525px; width:100%;\"></div>\n",
       "            <script type=\"text/javascript\">\n",
       "                require([\"plotly\"], function(Plotly) {\n",
       "                    window.PLOTLYENV=window.PLOTLYENV || {};\n",
       "                    \n",
       "                if (document.getElementById(\"4eaaed61-4df6-4d36-b17a-7e8d73232f28\")) {\n",
       "                    Plotly.newPlot(\n",
       "                        '4eaaed61-4df6-4d36-b17a-7e8d73232f28',\n",
       "                        [{\"alignmentgroup\": \"True\", \"hovertemplate\": \"country=%{x}<br>count=%{text}<extra></extra>\", \"legendgroup\": \" United States\", \"marker\": {\"color\": \"#636efa\"}, \"name\": \" United States\", \"offsetgroup\": \" United States\", \"orientation\": \"v\", \"showlegend\": true, \"text\": [3297.0], \"textposition\": \"outside\", \"type\": \"bar\", \"x\": [\" United States\"], \"xaxis\": \"x\", \"y\": [3297], \"yaxis\": \"y\"}, {\"alignmentgroup\": \"True\", \"hovertemplate\": \"country=%{x}<br>count=%{text}<extra></extra>\", \"legendgroup\": \" India\", \"marker\": {\"color\": \"#EF553B\"}, \"name\": \" India\", \"offsetgroup\": \" India\", \"orientation\": \"v\", \"showlegend\": true, \"text\": [990.0], \"textposition\": \"outside\", \"type\": \"bar\", \"x\": [\" India\"], \"xaxis\": \"x\", \"y\": [990], \"yaxis\": \"y\"}, {\"alignmentgroup\": \"True\", \"hovertemplate\": \"country=%{x}<br>count=%{text}<extra></extra>\", \"legendgroup\": \" United Kingdom\", \"marker\": {\"color\": \"#00cc96\"}, \"name\": \" United Kingdom\", \"offsetgroup\": \" United Kingdom\", \"orientation\": \"v\", \"showlegend\": true, \"text\": [723.0], \"textposition\": \"outside\", \"type\": \"bar\", \"x\": [\" United Kingdom\"], \"xaxis\": \"x\", \"y\": [723], \"yaxis\": \"y\"}, {\"alignmentgroup\": \"True\", \"hovertemplate\": \"country=%{x}<br>count=%{text}<extra></extra>\", \"legendgroup\": \" Canada\", \"marker\": {\"color\": \"#ab63fa\"}, \"name\": \" Canada\", \"offsetgroup\": \" Canada\", \"orientation\": \"v\", \"showlegend\": true, \"text\": [412.0], \"textposition\": \"outside\", \"type\": \"bar\", \"x\": [\" Canada\"], \"xaxis\": \"x\", \"y\": [412], \"yaxis\": \"y\"}, {\"alignmentgroup\": \"True\", \"hovertemplate\": \"country=%{x}<br>count=%{text}<extra></extra>\", \"legendgroup\": \" France\", \"marker\": {\"color\": \"#FFA15A\"}, \"name\": \" France\", \"offsetgroup\": \" France\", \"orientation\": \"v\", \"showlegend\": true, \"text\": [349.0], \"textposition\": \"outside\", \"type\": \"bar\", \"x\": [\" France\"], \"xaxis\": \"x\", \"y\": [349], \"yaxis\": \"y\"}, {\"alignmentgroup\": \"True\", \"hovertemplate\": \"country=%{x}<br>count=%{text}<extra></extra>\", \"legendgroup\": \" Japan\", \"marker\": {\"color\": \"#19d3f3\"}, \"name\": \" Japan\", \"offsetgroup\": \" Japan\", \"orientation\": \"v\", \"showlegend\": true, \"text\": [287.0], \"textposition\": \"outside\", \"type\": \"bar\", \"x\": [\" Japan\"], \"xaxis\": \"x\", \"y\": [287], \"yaxis\": \"y\"}, {\"alignmentgroup\": \"True\", \"hovertemplate\": \"country=%{x}<br>count=%{text}<extra></extra>\", \"legendgroup\": \" Spain\", \"marker\": {\"color\": \"#FF6692\"}, \"name\": \" Spain\", \"offsetgroup\": \" Spain\", \"orientation\": \"v\", \"showlegend\": true, \"text\": [215.0], \"textposition\": \"outside\", \"type\": \"bar\", \"x\": [\" Spain\"], \"xaxis\": \"x\", \"y\": [215], \"yaxis\": \"y\"}, {\"alignmentgroup\": \"True\", \"hovertemplate\": \"country=%{x}<br>count=%{text}<extra></extra>\", \"legendgroup\": \" South Korea\", \"marker\": {\"color\": \"#B6E880\"}, \"name\": \" South Korea\", \"offsetgroup\": \" South Korea\", \"orientation\": \"v\", \"showlegend\": true, \"text\": [212.0], \"textposition\": \"outside\", \"type\": \"bar\", \"x\": [\" South Korea\"], \"xaxis\": \"x\", \"y\": [212], \"yaxis\": \"y\"}, {\"alignmentgroup\": \"True\", \"hovertemplate\": \"country=%{x}<br>count=%{text}<extra></extra>\", \"legendgroup\": \" Germany\", \"marker\": {\"color\": \"#FF97FF\"}, \"name\": \" Germany\", \"offsetgroup\": \" Germany\", \"orientation\": \"v\", \"showlegend\": true, \"text\": [199.0], \"textposition\": \"outside\", \"type\": \"bar\", \"x\": [\" Germany\"], \"xaxis\": \"x\", \"y\": [199], \"yaxis\": \"y\"}, {\"alignmentgroup\": \"True\", \"hovertemplate\": \"country=%{x}<br>count=%{text}<extra></extra>\", \"legendgroup\": \" Mexico\", \"marker\": {\"color\": \"#FECB52\"}, \"name\": \" Mexico\", \"offsetgroup\": \" Mexico\", \"orientation\": \"v\", \"showlegend\": true, \"text\": [154.0], \"textposition\": \"outside\", \"type\": \"bar\", \"x\": [\" Mexico\"], \"xaxis\": \"x\", \"y\": [154], \"yaxis\": \"y\"}, {\"alignmentgroup\": \"True\", \"hovertemplate\": \"country=%{x}<br>count=%{text}<extra></extra>\", \"legendgroup\": \" China\", \"marker\": {\"color\": \"#636efa\"}, \"name\": \" China\", \"offsetgroup\": \" China\", \"orientation\": \"v\", \"showlegend\": true, \"text\": [147.0], \"textposition\": \"outside\", \"type\": \"bar\", \"x\": [\" China\"], \"xaxis\": \"x\", \"y\": [147], \"yaxis\": \"y\"}, {\"alignmentgroup\": \"True\", \"hovertemplate\": \"country=%{x}<br>count=%{text}<extra></extra>\", \"legendgroup\": \" Australia\", \"marker\": {\"color\": \"#EF553B\"}, \"name\": \" Australia\", \"offsetgroup\": \" Australia\", \"orientation\": \"v\", \"showlegend\": true, \"text\": [144.0], \"textposition\": \"outside\", \"type\": \"bar\", \"x\": [\" Australia\"], \"xaxis\": \"x\", \"y\": [144], \"yaxis\": \"y\"}, {\"alignmentgroup\": \"True\", \"hovertemplate\": \"country=%{x}<br>count=%{text}<extra></extra>\", \"legendgroup\": \" Egypt\", \"marker\": {\"color\": \"#00cc96\"}, \"name\": \" Egypt\", \"offsetgroup\": \" Egypt\", \"orientation\": \"v\", \"showlegend\": true, \"text\": [110.0], \"textposition\": \"outside\", \"type\": \"bar\", \"x\": [\" Egypt\"], \"xaxis\": \"x\", \"y\": [110], \"yaxis\": \"y\"}, {\"alignmentgroup\": \"True\", \"hovertemplate\": \"country=%{x}<br>count=%{text}<extra></extra>\", \"legendgroup\": \" Turkey\", \"marker\": {\"color\": \"#ab63fa\"}, \"name\": \" Turkey\", \"offsetgroup\": \" Turkey\", \"orientation\": \"v\", \"showlegend\": true, \"text\": [108.0], \"textposition\": \"outside\", \"type\": \"bar\", \"x\": [\" Turkey\"], \"xaxis\": \"x\", \"y\": [108], \"yaxis\": \"y\"}, {\"alignmentgroup\": \"True\", \"hovertemplate\": \"country=%{x}<br>count=%{text}<extra></extra>\", \"legendgroup\": \" Hong Kong\", \"marker\": {\"color\": \"#FFA15A\"}, \"name\": \" Hong Kong\", \"offsetgroup\": \" Hong Kong\", \"orientation\": \"v\", \"showlegend\": true, \"text\": [102.0], \"textposition\": \"outside\", \"type\": \"bar\", \"x\": [\" Hong Kong\"], \"xaxis\": \"x\", \"y\": [102], \"yaxis\": \"y\"}, {\"alignmentgroup\": \"True\", \"hovertemplate\": \"country=%{x}<br>count=%{text}<extra></extra>\", \"legendgroup\": \" Italy\", \"marker\": {\"color\": \"#19d3f3\"}, \"name\": \" Italy\", \"offsetgroup\": \" Italy\", \"orientation\": \"v\", \"showlegend\": true, \"text\": [90.0], \"textposition\": \"outside\", \"type\": \"bar\", \"x\": [\" Italy\"], \"xaxis\": \"x\", \"y\": [90], \"yaxis\": \"y\"}, {\"alignmentgroup\": \"True\", \"hovertemplate\": \"country=%{x}<br>count=%{text}<extra></extra>\", \"legendgroup\": \" Brazil\", \"marker\": {\"color\": \"#FF6692\"}, \"name\": \" Brazil\", \"offsetgroup\": \" Brazil\", \"orientation\": \"v\", \"showlegend\": true, \"text\": [87.0], \"textposition\": \"outside\", \"type\": \"bar\", \"x\": [\" Brazil\"], \"xaxis\": \"x\", \"y\": [87], \"yaxis\": \"y\"}, {\"alignmentgroup\": \"True\", \"hovertemplate\": \"country=%{x}<br>count=%{text}<extra></extra>\", \"legendgroup\": \" Taiwan\", \"marker\": {\"color\": \"#B6E880\"}, \"name\": \" Taiwan\", \"offsetgroup\": \" Taiwan\", \"orientation\": \"v\", \"showlegend\": true, \"text\": [85.0], \"textposition\": \"outside\", \"type\": \"bar\", \"x\": [\" Taiwan\"], \"xaxis\": \"x\", \"y\": [85], \"yaxis\": \"y\"}, {\"alignmentgroup\": \"True\", \"hovertemplate\": \"country=%{x}<br>count=%{text}<extra></extra>\", \"legendgroup\": \" Belgium\", \"marker\": {\"color\": \"#FF97FF\"}, \"name\": \" Belgium\", \"offsetgroup\": \" Belgium\", \"orientation\": \"v\", \"showlegend\": true, \"text\": [85.0], \"textposition\": \"outside\", \"type\": \"bar\", \"x\": [\" Belgium\"], \"xaxis\": \"x\", \"y\": [85], \"yaxis\": \"y\"}, {\"alignmentgroup\": \"True\", \"hovertemplate\": \"country=%{x}<br>count=%{text}<extra></extra>\", \"legendgroup\": \" Argentina\", \"marker\": {\"color\": \"#FECB52\"}, \"name\": \" Argentina\", \"offsetgroup\": \" Argentina\", \"orientation\": \"v\", \"showlegend\": true, \"text\": [82.0], \"textposition\": \"outside\", \"type\": \"bar\", \"x\": [\" Argentina\"], \"xaxis\": \"x\", \"y\": [82], \"yaxis\": \"y\"}],\n",
       "                        {\"barmode\": \"relative\", \"legend\": {\"title\": {\"text\": \"country\"}, \"tracegroupgap\": 0}, \"template\": {\"data\": {\"bar\": [{\"error_x\": {\"color\": \"#2a3f5f\"}, \"error_y\": {\"color\": \"#2a3f5f\"}, \"marker\": {\"line\": {\"color\": \"#E5ECF6\", \"width\": 0.5}}, \"type\": \"bar\"}], \"barpolar\": [{\"marker\": {\"line\": {\"color\": \"#E5ECF6\", \"width\": 0.5}}, \"type\": \"barpolar\"}], \"carpet\": [{\"aaxis\": {\"endlinecolor\": \"#2a3f5f\", \"gridcolor\": \"white\", \"linecolor\": \"white\", \"minorgridcolor\": \"white\", \"startlinecolor\": \"#2a3f5f\"}, \"baxis\": {\"endlinecolor\": \"#2a3f5f\", \"gridcolor\": \"white\", \"linecolor\": \"white\", \"minorgridcolor\": \"white\", \"startlinecolor\": \"#2a3f5f\"}, \"type\": \"carpet\"}], \"choropleth\": [{\"colorbar\": {\"outlinewidth\": 0, \"ticks\": \"\"}, \"type\": \"choropleth\"}], \"contour\": [{\"colorbar\": {\"outlinewidth\": 0, \"ticks\": \"\"}, \"colorscale\": [[0.0, \"#0d0887\"], [0.1111111111111111, \"#46039f\"], [0.2222222222222222, \"#7201a8\"], [0.3333333333333333, \"#9c179e\"], [0.4444444444444444, \"#bd3786\"], [0.5555555555555556, \"#d8576b\"], [0.6666666666666666, \"#ed7953\"], [0.7777777777777778, \"#fb9f3a\"], [0.8888888888888888, \"#fdca26\"], [1.0, \"#f0f921\"]], \"type\": \"contour\"}], \"contourcarpet\": [{\"colorbar\": {\"outlinewidth\": 0, \"ticks\": \"\"}, \"type\": \"contourcarpet\"}], \"heatmap\": [{\"colorbar\": {\"outlinewidth\": 0, \"ticks\": \"\"}, \"colorscale\": [[0.0, \"#0d0887\"], [0.1111111111111111, \"#46039f\"], [0.2222222222222222, \"#7201a8\"], [0.3333333333333333, \"#9c179e\"], [0.4444444444444444, \"#bd3786\"], [0.5555555555555556, \"#d8576b\"], [0.6666666666666666, \"#ed7953\"], [0.7777777777777778, \"#fb9f3a\"], [0.8888888888888888, \"#fdca26\"], [1.0, \"#f0f921\"]], \"type\": \"heatmap\"}], \"heatmapgl\": [{\"colorbar\": {\"outlinewidth\": 0, \"ticks\": \"\"}, \"colorscale\": [[0.0, \"#0d0887\"], [0.1111111111111111, \"#46039f\"], [0.2222222222222222, \"#7201a8\"], [0.3333333333333333, \"#9c179e\"], [0.4444444444444444, \"#bd3786\"], [0.5555555555555556, \"#d8576b\"], [0.6666666666666666, \"#ed7953\"], [0.7777777777777778, \"#fb9f3a\"], [0.8888888888888888, \"#fdca26\"], [1.0, \"#f0f921\"]], \"type\": \"heatmapgl\"}], \"histogram\": [{\"marker\": {\"colorbar\": {\"outlinewidth\": 0, \"ticks\": \"\"}}, \"type\": \"histogram\"}], \"histogram2d\": [{\"colorbar\": {\"outlinewidth\": 0, \"ticks\": \"\"}, \"colorscale\": [[0.0, \"#0d0887\"], [0.1111111111111111, \"#46039f\"], [0.2222222222222222, \"#7201a8\"], [0.3333333333333333, \"#9c179e\"], [0.4444444444444444, \"#bd3786\"], [0.5555555555555556, \"#d8576b\"], [0.6666666666666666, \"#ed7953\"], [0.7777777777777778, \"#fb9f3a\"], [0.8888888888888888, \"#fdca26\"], [1.0, \"#f0f921\"]], \"type\": \"histogram2d\"}], \"histogram2dcontour\": [{\"colorbar\": {\"outlinewidth\": 0, \"ticks\": \"\"}, \"colorscale\": [[0.0, \"#0d0887\"], [0.1111111111111111, \"#46039f\"], [0.2222222222222222, \"#7201a8\"], [0.3333333333333333, \"#9c179e\"], [0.4444444444444444, \"#bd3786\"], [0.5555555555555556, \"#d8576b\"], [0.6666666666666666, \"#ed7953\"], [0.7777777777777778, \"#fb9f3a\"], [0.8888888888888888, \"#fdca26\"], [1.0, \"#f0f921\"]], \"type\": \"histogram2dcontour\"}], \"mesh3d\": [{\"colorbar\": {\"outlinewidth\": 0, \"ticks\": \"\"}, \"type\": \"mesh3d\"}], \"parcoords\": [{\"line\": {\"colorbar\": {\"outlinewidth\": 0, \"ticks\": \"\"}}, \"type\": \"parcoords\"}], \"pie\": [{\"automargin\": true, \"type\": \"pie\"}], \"scatter\": [{\"marker\": {\"colorbar\": {\"outlinewidth\": 0, \"ticks\": \"\"}}, \"type\": \"scatter\"}], \"scatter3d\": [{\"line\": {\"colorbar\": {\"outlinewidth\": 0, \"ticks\": \"\"}}, \"marker\": {\"colorbar\": {\"outlinewidth\": 0, \"ticks\": \"\"}}, \"type\": \"scatter3d\"}], \"scattercarpet\": [{\"marker\": {\"colorbar\": {\"outlinewidth\": 0, \"ticks\": \"\"}}, \"type\": \"scattercarpet\"}], \"scattergeo\": [{\"marker\": {\"colorbar\": {\"outlinewidth\": 0, \"ticks\": \"\"}}, \"type\": \"scattergeo\"}], \"scattergl\": [{\"marker\": {\"colorbar\": {\"outlinewidth\": 0, \"ticks\": \"\"}}, \"type\": \"scattergl\"}], \"scattermapbox\": [{\"marker\": {\"colorbar\": {\"outlinewidth\": 0, \"ticks\": \"\"}}, \"type\": \"scattermapbox\"}], \"scatterpolar\": [{\"marker\": {\"colorbar\": {\"outlinewidth\": 0, \"ticks\": \"\"}}, \"type\": \"scatterpolar\"}], \"scatterpolargl\": [{\"marker\": {\"colorbar\": {\"outlinewidth\": 0, \"ticks\": \"\"}}, \"type\": \"scatterpolargl\"}], \"scatterternary\": [{\"marker\": {\"colorbar\": {\"outlinewidth\": 0, \"ticks\": \"\"}}, \"type\": \"scatterternary\"}], \"surface\": [{\"colorbar\": {\"outlinewidth\": 0, \"ticks\": \"\"}, \"colorscale\": [[0.0, \"#0d0887\"], [0.1111111111111111, \"#46039f\"], [0.2222222222222222, \"#7201a8\"], [0.3333333333333333, \"#9c179e\"], [0.4444444444444444, \"#bd3786\"], [0.5555555555555556, \"#d8576b\"], [0.6666666666666666, \"#ed7953\"], [0.7777777777777778, \"#fb9f3a\"], [0.8888888888888888, \"#fdca26\"], [1.0, \"#f0f921\"]], \"type\": \"surface\"}], \"table\": [{\"cells\": {\"fill\": {\"color\": \"#EBF0F8\"}, \"line\": {\"color\": \"white\"}}, \"header\": {\"fill\": {\"color\": \"#C8D4E3\"}, \"line\": {\"color\": \"white\"}}, \"type\": \"table\"}]}, \"layout\": {\"annotationdefaults\": {\"arrowcolor\": \"#2a3f5f\", \"arrowhead\": 0, \"arrowwidth\": 1}, \"coloraxis\": {\"colorbar\": {\"outlinewidth\": 0, \"ticks\": \"\"}}, \"colorscale\": {\"diverging\": [[0, \"#8e0152\"], [0.1, \"#c51b7d\"], [0.2, \"#de77ae\"], [0.3, \"#f1b6da\"], [0.4, \"#fde0ef\"], [0.5, \"#f7f7f7\"], [0.6, \"#e6f5d0\"], [0.7, \"#b8e186\"], [0.8, \"#7fbc41\"], [0.9, \"#4d9221\"], [1, \"#276419\"]], \"sequential\": [[0.0, \"#0d0887\"], [0.1111111111111111, \"#46039f\"], [0.2222222222222222, \"#7201a8\"], [0.3333333333333333, \"#9c179e\"], [0.4444444444444444, \"#bd3786\"], [0.5555555555555556, \"#d8576b\"], [0.6666666666666666, \"#ed7953\"], [0.7777777777777778, \"#fb9f3a\"], [0.8888888888888888, \"#fdca26\"], [1.0, \"#f0f921\"]], \"sequentialminus\": [[0.0, \"#0d0887\"], [0.1111111111111111, \"#46039f\"], [0.2222222222222222, \"#7201a8\"], [0.3333333333333333, \"#9c179e\"], [0.4444444444444444, \"#bd3786\"], [0.5555555555555556, \"#d8576b\"], [0.6666666666666666, \"#ed7953\"], [0.7777777777777778, \"#fb9f3a\"], [0.8888888888888888, \"#fdca26\"], [1.0, \"#f0f921\"]]}, \"colorway\": [\"#636efa\", \"#EF553B\", \"#00cc96\", \"#ab63fa\", \"#FFA15A\", \"#19d3f3\", \"#FF6692\", \"#B6E880\", \"#FF97FF\", \"#FECB52\"], \"font\": {\"color\": \"#2a3f5f\"}, \"geo\": {\"bgcolor\": \"white\", \"lakecolor\": \"white\", \"landcolor\": \"#E5ECF6\", \"showlakes\": true, \"showland\": true, \"subunitcolor\": \"white\"}, \"hoverlabel\": {\"align\": \"left\"}, \"hovermode\": \"closest\", \"mapbox\": {\"style\": \"light\"}, \"paper_bgcolor\": \"white\", \"plot_bgcolor\": \"#E5ECF6\", \"polar\": {\"angularaxis\": {\"gridcolor\": \"white\", \"linecolor\": \"white\", \"ticks\": \"\"}, \"bgcolor\": \"#E5ECF6\", \"radialaxis\": {\"gridcolor\": \"white\", \"linecolor\": \"white\", \"ticks\": \"\"}}, \"scene\": {\"xaxis\": {\"backgroundcolor\": \"#E5ECF6\", \"gridcolor\": \"white\", \"gridwidth\": 2, \"linecolor\": \"white\", \"showbackground\": true, \"ticks\": \"\", \"zerolinecolor\": \"white\"}, \"yaxis\": {\"backgroundcolor\": \"#E5ECF6\", \"gridcolor\": \"white\", \"gridwidth\": 2, \"linecolor\": \"white\", \"showbackground\": true, \"ticks\": \"\", \"zerolinecolor\": \"white\"}, \"zaxis\": {\"backgroundcolor\": \"#E5ECF6\", \"gridcolor\": \"white\", \"gridwidth\": 2, \"linecolor\": \"white\", \"showbackground\": true, \"ticks\": \"\", \"zerolinecolor\": \"white\"}}, \"shapedefaults\": {\"line\": {\"color\": \"#2a3f5f\"}}, \"ternary\": {\"aaxis\": {\"gridcolor\": \"white\", \"linecolor\": \"white\", \"ticks\": \"\"}, \"baxis\": {\"gridcolor\": \"white\", \"linecolor\": \"white\", \"ticks\": \"\"}, \"bgcolor\": \"#E5ECF6\", \"caxis\": {\"gridcolor\": \"white\", \"linecolor\": \"white\", \"ticks\": \"\"}}, \"title\": {\"x\": 0.05}, \"xaxis\": {\"automargin\": true, \"gridcolor\": \"white\", \"linecolor\": \"white\", \"ticks\": \"\", \"title\": {\"standoff\": 15}, \"zerolinecolor\": \"white\", \"zerolinewidth\": 2}, \"yaxis\": {\"automargin\": true, \"gridcolor\": \"white\", \"linecolor\": \"white\", \"ticks\": \"\", \"title\": {\"standoff\": 15}, \"zerolinecolor\": \"white\", \"zerolinewidth\": 2}}}, \"title\": {\"text\": \"Top 20 Netflix country\"}, \"xaxis\": {\"anchor\": \"y\", \"categoryarray\": [\" United States\", \" India\", \" United Kingdom\", \" Canada\", \" France\", \" Japan\", \" Spain\", \" South Korea\", \" Germany\", \" Mexico\", \" China\", \" Australia\", \" Egypt\", \" Turkey\", \" Hong Kong\", \" Italy\", \" Brazil\", \" Taiwan\", \" Belgium\", \" Argentina\"], \"categoryorder\": \"array\", \"domain\": [0.0, 1.0], \"title\": {\"text\": \"country\"}}, \"yaxis\": {\"anchor\": \"x\", \"domain\": [0.0, 1.0], \"title\": {\"text\": \"count\"}}},\n",
       "                        {\"responsive\": true}\n",
       "                    ).then(function(){\n",
       "                            \n",
       "var gd = document.getElementById('4eaaed61-4df6-4d36-b17a-7e8d73232f28');\n",
       "var x = new MutationObserver(function (mutations, observer) {{\n",
       "        var display = window.getComputedStyle(gd).display;\n",
       "        if (!display || display === 'none') {{\n",
       "            console.log([gd, 'removed!']);\n",
       "            Plotly.purge(gd);\n",
       "            observer.disconnect();\n",
       "        }}\n",
       "}});\n",
       "\n",
       "// Listen for the removal of the full notebook cells\n",
       "var notebookContainer = gd.closest('#notebook-container');\n",
       "if (notebookContainer) {{\n",
       "    x.observe(notebookContainer, {childList: true});\n",
       "}}\n",
       "\n",
       "// Listen for the clearing of the current output cell\n",
       "var outputEl = gd.closest('.output');\n",
       "if (outputEl) {{\n",
       "    x.observe(outputEl, {childList: true});\n",
       "}}\n",
       "\n",
       "                        })\n",
       "                };\n",
       "                });\n",
       "            </script>\n",
       "        </div>"
      ]
     },
     "metadata": {},
     "output_type": "display_data"
    }
   ],
   "source": [
    "\n",
    "import re  #for regular expression\n",
    "import os #The OS module in Python provides functions for interacting with the operating system\n",
    "\n",
    "country = data[~data[\"country\"].isnull()]['country'].to_list()\n",
    "\n",
    "#Changing the countries to a list\n",
    "country = str(country)\n",
    "\n",
    "#replace occurrences of sub-string with another empty sub-string and deleting some.\n",
    "country = re.sub(\"[\\'\\]\\[]\",\"\",country)\n",
    "country = re.sub(\" {2,}\", \" \", country)\n",
    "\n",
    "#changing the list to dataframe\n",
    "country = pd.Series(country.split(\",\")).value_counts()\n",
    "\n",
    "country = pd.DataFrame(country)\n",
    "country.reset_index(inplace=True)\n",
    "\n",
    "country.columns=[\"country\",\"count\"]\n",
    "\n",
    "fig = px.bar(country.head(20), x=\"country\", y=\"count\",title=\"Top 20 Netflix country\",text=\"count\",color=\"country\")\n",
    "fig.update_traces(textposition=\"outside\")\n",
    "fig.show()\n"
   ]
  },
  {
   "cell_type": "code",
   "execution_count": 9,
   "metadata": {},
   "outputs": [
    {
     "data": {
      "text/html": [
       "<div>\n",
       "<style scoped>\n",
       "    .dataframe tbody tr th:only-of-type {\n",
       "        vertical-align: middle;\n",
       "    }\n",
       "\n",
       "    .dataframe tbody tr th {\n",
       "        vertical-align: top;\n",
       "    }\n",
       "\n",
       "    .dataframe thead th {\n",
       "        text-align: right;\n",
       "    }\n",
       "</style>\n",
       "<table border=\"1\" class=\"dataframe\">\n",
       "  <thead>\n",
       "    <tr style=\"text-align: right;\">\n",
       "      <th></th>\n",
       "      <th>country</th>\n",
       "      <th>count</th>\n",
       "    </tr>\n",
       "  </thead>\n",
       "  <tbody>\n",
       "    <tr>\n",
       "      <th>0</th>\n",
       "      <td>United States</td>\n",
       "      <td>3297</td>\n",
       "    </tr>\n",
       "    <tr>\n",
       "      <th>1</th>\n",
       "      <td>India</td>\n",
       "      <td>990</td>\n",
       "    </tr>\n",
       "    <tr>\n",
       "      <th>2</th>\n",
       "      <td>United Kingdom</td>\n",
       "      <td>723</td>\n",
       "    </tr>\n",
       "    <tr>\n",
       "      <th>3</th>\n",
       "      <td>Canada</td>\n",
       "      <td>412</td>\n",
       "    </tr>\n",
       "    <tr>\n",
       "      <th>4</th>\n",
       "      <td>France</td>\n",
       "      <td>349</td>\n",
       "    </tr>\n",
       "    <tr>\n",
       "      <th>5</th>\n",
       "      <td>Japan</td>\n",
       "      <td>287</td>\n",
       "    </tr>\n",
       "    <tr>\n",
       "      <th>6</th>\n",
       "      <td>Spain</td>\n",
       "      <td>215</td>\n",
       "    </tr>\n",
       "    <tr>\n",
       "      <th>7</th>\n",
       "      <td>South Korea</td>\n",
       "      <td>212</td>\n",
       "    </tr>\n",
       "    <tr>\n",
       "      <th>8</th>\n",
       "      <td>Germany</td>\n",
       "      <td>199</td>\n",
       "    </tr>\n",
       "    <tr>\n",
       "      <th>9</th>\n",
       "      <td>Mexico</td>\n",
       "      <td>154</td>\n",
       "    </tr>\n",
       "  </tbody>\n",
       "</table>\n",
       "</div>"
      ],
      "text/plain": [
       "           country  count\n",
       "0    United States   3297\n",
       "1            India    990\n",
       "2   United Kingdom    723\n",
       "3           Canada    412\n",
       "4           France    349\n",
       "5            Japan    287\n",
       "6            Spain    215\n",
       "7      South Korea    212\n",
       "8          Germany    199\n",
       "9           Mexico    154"
      ]
     },
     "execution_count": 9,
     "metadata": {},
     "output_type": "execute_result"
    }
   ],
   "source": [
    "#Top 10 countries \n",
    "country.head(10)"
   ]
  },
  {
   "cell_type": "markdown",
   "metadata": {},
   "source": [
    "From above, Netflix records best Number of Movies and Tv Shows on United States. and India, United Kingdom followed. Also in other countries.\n",
    "We can also see that Netflix is a global company since it has produced much content in other countries too\n",
    "\n"
   ]
  },
  {
   "cell_type": "markdown",
   "metadata": {},
   "source": [
    "## What Genre that has been produced most?"
   ]
  },
  {
   "cell_type": "code",
   "execution_count": 10,
   "metadata": {},
   "outputs": [
    {
     "data": {
      "application/vnd.plotly.v1+json": {
       "config": {
        "plotlyServerURL": "https://plot.ly"
       },
       "data": [
        {
         "alignmentgroup": "True",
         "hovertemplate": "genre=%{x}<br>count=%{text}<extra></extra>",
         "legendgroup": "International Movies",
         "marker": {
          "color": "#636efa"
         },
         "name": "International Movies",
         "offsetgroup": "International Movies",
         "orientation": "v",
         "showlegend": true,
         "text": [
          2437
         ],
         "textposition": "outside",
         "type": "bar",
         "x": [
          "International Movies"
         ],
         "xaxis": "x",
         "y": [
          2437
         ],
         "yaxis": "y"
        },
        {
         "alignmentgroup": "True",
         "hovertemplate": "genre=%{x}<br>count=%{text}<extra></extra>",
         "legendgroup": "Dramas",
         "marker": {
          "color": "#EF553B"
         },
         "name": "Dramas",
         "offsetgroup": "Dramas",
         "orientation": "v",
         "showlegend": true,
         "text": [
          2106
         ],
         "textposition": "outside",
         "type": "bar",
         "x": [
          "Dramas"
         ],
         "xaxis": "x",
         "y": [
          2106
         ],
         "yaxis": "y"
        },
        {
         "alignmentgroup": "True",
         "hovertemplate": "genre=%{x}<br>count=%{text}<extra></extra>",
         "legendgroup": "Comedies",
         "marker": {
          "color": "#00cc96"
         },
         "name": "Comedies",
         "offsetgroup": "Comedies",
         "orientation": "v",
         "showlegend": true,
         "text": [
          1471
         ],
         "textposition": "outside",
         "type": "bar",
         "x": [
          "Comedies"
         ],
         "xaxis": "x",
         "y": [
          1471
         ],
         "yaxis": "y"
        },
        {
         "alignmentgroup": "True",
         "hovertemplate": "genre=%{x}<br>count=%{text}<extra></extra>",
         "legendgroup": "International TV Shows",
         "marker": {
          "color": "#ab63fa"
         },
         "name": "International TV Shows",
         "offsetgroup": "International TV Shows",
         "orientation": "v",
         "showlegend": true,
         "text": [
          1199
         ],
         "textposition": "outside",
         "type": "bar",
         "x": [
          "International TV Shows"
         ],
         "xaxis": "x",
         "y": [
          1199
         ],
         "yaxis": "y"
        },
        {
         "alignmentgroup": "True",
         "hovertemplate": "genre=%{x}<br>count=%{text}<extra></extra>",
         "legendgroup": "Documentaries",
         "marker": {
          "color": "#FFA15A"
         },
         "name": "Documentaries",
         "offsetgroup": "Documentaries",
         "orientation": "v",
         "showlegend": true,
         "text": [
          786
         ],
         "textposition": "outside",
         "type": "bar",
         "x": [
          "Documentaries"
         ],
         "xaxis": "x",
         "y": [
          786
         ],
         "yaxis": "y"
        },
        {
         "alignmentgroup": "True",
         "hovertemplate": "genre=%{x}<br>count=%{text}<extra></extra>",
         "legendgroup": "Action & Adventure",
         "marker": {
          "color": "#19d3f3"
         },
         "name": "Action & Adventure",
         "offsetgroup": "Action & Adventure",
         "orientation": "v",
         "showlegend": true,
         "text": [
          721
         ],
         "textposition": "outside",
         "type": "bar",
         "x": [
          "Action & Adventure"
         ],
         "xaxis": "x",
         "y": [
          721
         ],
         "yaxis": "y"
        },
        {
         "alignmentgroup": "True",
         "hovertemplate": "genre=%{x}<br>count=%{text}<extra></extra>",
         "legendgroup": "TV Dramas",
         "marker": {
          "color": "#FF6692"
         },
         "name": "TV Dramas",
         "offsetgroup": "TV Dramas",
         "orientation": "v",
         "showlegend": true,
         "text": [
          694
         ],
         "textposition": "outside",
         "type": "bar",
         "x": [
          "TV Dramas"
         ],
         "xaxis": "x",
         "y": [
          694
         ],
         "yaxis": "y"
        },
        {
         "alignmentgroup": "True",
         "hovertemplate": "genre=%{x}<br>count=%{text}<extra></extra>",
         "legendgroup": "Independent Movies",
         "marker": {
          "color": "#B6E880"
         },
         "name": "Independent Movies",
         "offsetgroup": "Independent Movies",
         "orientation": "v",
         "showlegend": true,
         "text": [
          673
         ],
         "textposition": "outside",
         "type": "bar",
         "x": [
          "Independent Movies"
         ],
         "xaxis": "x",
         "y": [
          673
         ],
         "yaxis": "y"
        },
        {
         "alignmentgroup": "True",
         "hovertemplate": "genre=%{x}<br>count=%{text}<extra></extra>",
         "legendgroup": "Children & Family Movies",
         "marker": {
          "color": "#FF97FF"
         },
         "name": "Children & Family Movies",
         "offsetgroup": "Children & Family Movies",
         "orientation": "v",
         "showlegend": true,
         "text": [
          532
         ],
         "textposition": "outside",
         "type": "bar",
         "x": [
          "Children & Family Movies"
         ],
         "xaxis": "x",
         "y": [
          532
         ],
         "yaxis": "y"
        },
        {
         "alignmentgroup": "True",
         "hovertemplate": "genre=%{x}<br>count=%{text}<extra></extra>",
         "legendgroup": "Romantic Movies",
         "marker": {
          "color": "#FECB52"
         },
         "name": "Romantic Movies",
         "offsetgroup": "Romantic Movies",
         "orientation": "v",
         "showlegend": true,
         "text": [
          531
         ],
         "textposition": "outside",
         "type": "bar",
         "x": [
          "Romantic Movies"
         ],
         "xaxis": "x",
         "y": [
          531
         ],
         "yaxis": "y"
        },
        {
         "alignmentgroup": "True",
         "hovertemplate": "genre=%{x}<br>count=%{text}<extra></extra>",
         "legendgroup": "Thrillers",
         "marker": {
          "color": "#636efa"
         },
         "name": "Thrillers",
         "offsetgroup": "Thrillers",
         "orientation": "v",
         "showlegend": true,
         "text": [
          491
         ],
         "textposition": "outside",
         "type": "bar",
         "x": [
          "Thrillers"
         ],
         "xaxis": "x",
         "y": [
          491
         ],
         "yaxis": "y"
        },
        {
         "alignmentgroup": "True",
         "hovertemplate": "genre=%{x}<br>count=%{text}<extra></extra>",
         "legendgroup": "Crime TV Shows",
         "marker": {
          "color": "#EF553B"
         },
         "name": "Crime TV Shows",
         "offsetgroup": "Crime TV Shows",
         "orientation": "v",
         "showlegend": true,
         "text": [
          424
         ],
         "textposition": "outside",
         "type": "bar",
         "x": [
          "Crime TV Shows"
         ],
         "xaxis": "x",
         "y": [
          424
         ],
         "yaxis": "y"
        },
        {
         "alignmentgroup": "True",
         "hovertemplate": "genre=%{x}<br>count=%{text}<extra></extra>",
         "legendgroup": "TV Comedies",
         "marker": {
          "color": "#00cc96"
         },
         "name": "TV Comedies",
         "offsetgroup": "TV Comedies",
         "orientation": "v",
         "showlegend": true,
         "text": [
          414
         ],
         "textposition": "outside",
         "type": "bar",
         "x": [
          "TV Comedies"
         ],
         "xaxis": "x",
         "y": [
          414
         ],
         "yaxis": "y"
        },
        {
         "alignmentgroup": "True",
         "hovertemplate": "genre=%{x}<br>count=%{text}<extra></extra>",
         "legendgroup": "Docuseries",
         "marker": {
          "color": "#ab63fa"
         },
         "name": "Docuseries",
         "offsetgroup": "Docuseries",
         "orientation": "v",
         "showlegend": true,
         "text": [
          352
         ],
         "textposition": "outside",
         "type": "bar",
         "x": [
          "Docuseries"
         ],
         "xaxis": "x",
         "y": [
          352
         ],
         "yaxis": "y"
        },
        {
         "alignmentgroup": "True",
         "hovertemplate": "genre=%{x}<br>count=%{text}<extra></extra>",
         "legendgroup": "Romantic TV Shows",
         "marker": {
          "color": "#FFA15A"
         },
         "name": "Romantic TV Shows",
         "offsetgroup": "Romantic TV Shows",
         "orientation": "v",
         "showlegend": true,
         "text": [
          333
         ],
         "textposition": "outside",
         "type": "bar",
         "x": [
          "Romantic TV Shows"
         ],
         "xaxis": "x",
         "y": [
          333
         ],
         "yaxis": "y"
        },
        {
         "alignmentgroup": "True",
         "hovertemplate": "genre=%{x}<br>count=%{text}<extra></extra>",
         "legendgroup": "Stand-Up Comedy",
         "marker": {
          "color": "#19d3f3"
         },
         "name": "Stand-Up Comedy",
         "offsetgroup": "Stand-Up Comedy",
         "orientation": "v",
         "showlegend": true,
         "text": [
          329
         ],
         "textposition": "outside",
         "type": "bar",
         "x": [
          "Stand-Up Comedy"
         ],
         "xaxis": "x",
         "y": [
          329
         ],
         "yaxis": "y"
        },
        {
         "alignmentgroup": "True",
         "hovertemplate": "genre=%{x}<br>count=%{text}<extra></extra>",
         "legendgroup": "Music & Musicals",
         "marker": {
          "color": "#FF6692"
         },
         "name": "Music & Musicals",
         "offsetgroup": "Music & Musicals",
         "orientation": "v",
         "showlegend": true,
         "text": [
          321
         ],
         "textposition": "outside",
         "type": "bar",
         "x": [
          "Music & Musicals"
         ],
         "xaxis": "x",
         "y": [
          321
         ],
         "yaxis": "y"
        },
        {
         "alignmentgroup": "True",
         "hovertemplate": "genre=%{x}<br>count=%{text}<extra></extra>",
         "legendgroup": "Horror Movies",
         "marker": {
          "color": "#B6E880"
         },
         "name": "Horror Movies",
         "offsetgroup": "Horror Movies",
         "orientation": "v",
         "showlegend": true,
         "text": [
          312
         ],
         "textposition": "outside",
         "type": "bar",
         "x": [
          "Horror Movies"
         ],
         "xaxis": "x",
         "y": [
          312
         ],
         "yaxis": "y"
        },
        {
         "alignmentgroup": "True",
         "hovertemplate": "genre=%{x}<br>count=%{text}<extra></extra>",
         "legendgroup": "Reality TV",
         "marker": {
          "color": "#FF97FF"
         },
         "name": "Reality TV",
         "offsetgroup": "Reality TV",
         "orientation": "v",
         "showlegend": true,
         "text": [
          222
         ],
         "textposition": "outside",
         "type": "bar",
         "x": [
          "Reality TV"
         ],
         "xaxis": "x",
         "y": [
          222
         ],
         "yaxis": "y"
        },
        {
         "alignmentgroup": "True",
         "hovertemplate": "genre=%{x}<br>count=%{text}<extra></extra>",
         "legendgroup": "Sci-Fi & Fantasy",
         "marker": {
          "color": "#FECB52"
         },
         "name": "Sci-Fi & Fantasy",
         "offsetgroup": "Sci-Fi & Fantasy",
         "orientation": "v",
         "showlegend": true,
         "text": [
          218
         ],
         "textposition": "outside",
         "type": "bar",
         "x": [
          "Sci-Fi & Fantasy"
         ],
         "xaxis": "x",
         "y": [
          218
         ],
         "yaxis": "y"
        }
       ],
       "layout": {
        "barmode": "relative",
        "legend": {
         "title": {
          "text": "genre"
         },
         "tracegroupgap": 0
        },
        "template": {
         "data": {
          "bar": [
           {
            "error_x": {
             "color": "#2a3f5f"
            },
            "error_y": {
             "color": "#2a3f5f"
            },
            "marker": {
             "line": {
              "color": "#E5ECF6",
              "width": 0.5
             }
            },
            "type": "bar"
           }
          ],
          "barpolar": [
           {
            "marker": {
             "line": {
              "color": "#E5ECF6",
              "width": 0.5
             }
            },
            "type": "barpolar"
           }
          ],
          "carpet": [
           {
            "aaxis": {
             "endlinecolor": "#2a3f5f",
             "gridcolor": "white",
             "linecolor": "white",
             "minorgridcolor": "white",
             "startlinecolor": "#2a3f5f"
            },
            "baxis": {
             "endlinecolor": "#2a3f5f",
             "gridcolor": "white",
             "linecolor": "white",
             "minorgridcolor": "white",
             "startlinecolor": "#2a3f5f"
            },
            "type": "carpet"
           }
          ],
          "choropleth": [
           {
            "colorbar": {
             "outlinewidth": 0,
             "ticks": ""
            },
            "type": "choropleth"
           }
          ],
          "contour": [
           {
            "colorbar": {
             "outlinewidth": 0,
             "ticks": ""
            },
            "colorscale": [
             [
              0,
              "#0d0887"
             ],
             [
              0.1111111111111111,
              "#46039f"
             ],
             [
              0.2222222222222222,
              "#7201a8"
             ],
             [
              0.3333333333333333,
              "#9c179e"
             ],
             [
              0.4444444444444444,
              "#bd3786"
             ],
             [
              0.5555555555555556,
              "#d8576b"
             ],
             [
              0.6666666666666666,
              "#ed7953"
             ],
             [
              0.7777777777777778,
              "#fb9f3a"
             ],
             [
              0.8888888888888888,
              "#fdca26"
             ],
             [
              1,
              "#f0f921"
             ]
            ],
            "type": "contour"
           }
          ],
          "contourcarpet": [
           {
            "colorbar": {
             "outlinewidth": 0,
             "ticks": ""
            },
            "type": "contourcarpet"
           }
          ],
          "heatmap": [
           {
            "colorbar": {
             "outlinewidth": 0,
             "ticks": ""
            },
            "colorscale": [
             [
              0,
              "#0d0887"
             ],
             [
              0.1111111111111111,
              "#46039f"
             ],
             [
              0.2222222222222222,
              "#7201a8"
             ],
             [
              0.3333333333333333,
              "#9c179e"
             ],
             [
              0.4444444444444444,
              "#bd3786"
             ],
             [
              0.5555555555555556,
              "#d8576b"
             ],
             [
              0.6666666666666666,
              "#ed7953"
             ],
             [
              0.7777777777777778,
              "#fb9f3a"
             ],
             [
              0.8888888888888888,
              "#fdca26"
             ],
             [
              1,
              "#f0f921"
             ]
            ],
            "type": "heatmap"
           }
          ],
          "heatmapgl": [
           {
            "colorbar": {
             "outlinewidth": 0,
             "ticks": ""
            },
            "colorscale": [
             [
              0,
              "#0d0887"
             ],
             [
              0.1111111111111111,
              "#46039f"
             ],
             [
              0.2222222222222222,
              "#7201a8"
             ],
             [
              0.3333333333333333,
              "#9c179e"
             ],
             [
              0.4444444444444444,
              "#bd3786"
             ],
             [
              0.5555555555555556,
              "#d8576b"
             ],
             [
              0.6666666666666666,
              "#ed7953"
             ],
             [
              0.7777777777777778,
              "#fb9f3a"
             ],
             [
              0.8888888888888888,
              "#fdca26"
             ],
             [
              1,
              "#f0f921"
             ]
            ],
            "type": "heatmapgl"
           }
          ],
          "histogram": [
           {
            "marker": {
             "colorbar": {
              "outlinewidth": 0,
              "ticks": ""
             }
            },
            "type": "histogram"
           }
          ],
          "histogram2d": [
           {
            "colorbar": {
             "outlinewidth": 0,
             "ticks": ""
            },
            "colorscale": [
             [
              0,
              "#0d0887"
             ],
             [
              0.1111111111111111,
              "#46039f"
             ],
             [
              0.2222222222222222,
              "#7201a8"
             ],
             [
              0.3333333333333333,
              "#9c179e"
             ],
             [
              0.4444444444444444,
              "#bd3786"
             ],
             [
              0.5555555555555556,
              "#d8576b"
             ],
             [
              0.6666666666666666,
              "#ed7953"
             ],
             [
              0.7777777777777778,
              "#fb9f3a"
             ],
             [
              0.8888888888888888,
              "#fdca26"
             ],
             [
              1,
              "#f0f921"
             ]
            ],
            "type": "histogram2d"
           }
          ],
          "histogram2dcontour": [
           {
            "colorbar": {
             "outlinewidth": 0,
             "ticks": ""
            },
            "colorscale": [
             [
              0,
              "#0d0887"
             ],
             [
              0.1111111111111111,
              "#46039f"
             ],
             [
              0.2222222222222222,
              "#7201a8"
             ],
             [
              0.3333333333333333,
              "#9c179e"
             ],
             [
              0.4444444444444444,
              "#bd3786"
             ],
             [
              0.5555555555555556,
              "#d8576b"
             ],
             [
              0.6666666666666666,
              "#ed7953"
             ],
             [
              0.7777777777777778,
              "#fb9f3a"
             ],
             [
              0.8888888888888888,
              "#fdca26"
             ],
             [
              1,
              "#f0f921"
             ]
            ],
            "type": "histogram2dcontour"
           }
          ],
          "mesh3d": [
           {
            "colorbar": {
             "outlinewidth": 0,
             "ticks": ""
            },
            "type": "mesh3d"
           }
          ],
          "parcoords": [
           {
            "line": {
             "colorbar": {
              "outlinewidth": 0,
              "ticks": ""
             }
            },
            "type": "parcoords"
           }
          ],
          "pie": [
           {
            "automargin": true,
            "type": "pie"
           }
          ],
          "scatter": [
           {
            "marker": {
             "colorbar": {
              "outlinewidth": 0,
              "ticks": ""
             }
            },
            "type": "scatter"
           }
          ],
          "scatter3d": [
           {
            "line": {
             "colorbar": {
              "outlinewidth": 0,
              "ticks": ""
             }
            },
            "marker": {
             "colorbar": {
              "outlinewidth": 0,
              "ticks": ""
             }
            },
            "type": "scatter3d"
           }
          ],
          "scattercarpet": [
           {
            "marker": {
             "colorbar": {
              "outlinewidth": 0,
              "ticks": ""
             }
            },
            "type": "scattercarpet"
           }
          ],
          "scattergeo": [
           {
            "marker": {
             "colorbar": {
              "outlinewidth": 0,
              "ticks": ""
             }
            },
            "type": "scattergeo"
           }
          ],
          "scattergl": [
           {
            "marker": {
             "colorbar": {
              "outlinewidth": 0,
              "ticks": ""
             }
            },
            "type": "scattergl"
           }
          ],
          "scattermapbox": [
           {
            "marker": {
             "colorbar": {
              "outlinewidth": 0,
              "ticks": ""
             }
            },
            "type": "scattermapbox"
           }
          ],
          "scatterpolar": [
           {
            "marker": {
             "colorbar": {
              "outlinewidth": 0,
              "ticks": ""
             }
            },
            "type": "scatterpolar"
           }
          ],
          "scatterpolargl": [
           {
            "marker": {
             "colorbar": {
              "outlinewidth": 0,
              "ticks": ""
             }
            },
            "type": "scatterpolargl"
           }
          ],
          "scatterternary": [
           {
            "marker": {
             "colorbar": {
              "outlinewidth": 0,
              "ticks": ""
             }
            },
            "type": "scatterternary"
           }
          ],
          "surface": [
           {
            "colorbar": {
             "outlinewidth": 0,
             "ticks": ""
            },
            "colorscale": [
             [
              0,
              "#0d0887"
             ],
             [
              0.1111111111111111,
              "#46039f"
             ],
             [
              0.2222222222222222,
              "#7201a8"
             ],
             [
              0.3333333333333333,
              "#9c179e"
             ],
             [
              0.4444444444444444,
              "#bd3786"
             ],
             [
              0.5555555555555556,
              "#d8576b"
             ],
             [
              0.6666666666666666,
              "#ed7953"
             ],
             [
              0.7777777777777778,
              "#fb9f3a"
             ],
             [
              0.8888888888888888,
              "#fdca26"
             ],
             [
              1,
              "#f0f921"
             ]
            ],
            "type": "surface"
           }
          ],
          "table": [
           {
            "cells": {
             "fill": {
              "color": "#EBF0F8"
             },
             "line": {
              "color": "white"
             }
            },
            "header": {
             "fill": {
              "color": "#C8D4E3"
             },
             "line": {
              "color": "white"
             }
            },
            "type": "table"
           }
          ]
         },
         "layout": {
          "annotationdefaults": {
           "arrowcolor": "#2a3f5f",
           "arrowhead": 0,
           "arrowwidth": 1
          },
          "coloraxis": {
           "colorbar": {
            "outlinewidth": 0,
            "ticks": ""
           }
          },
          "colorscale": {
           "diverging": [
            [
             0,
             "#8e0152"
            ],
            [
             0.1,
             "#c51b7d"
            ],
            [
             0.2,
             "#de77ae"
            ],
            [
             0.3,
             "#f1b6da"
            ],
            [
             0.4,
             "#fde0ef"
            ],
            [
             0.5,
             "#f7f7f7"
            ],
            [
             0.6,
             "#e6f5d0"
            ],
            [
             0.7,
             "#b8e186"
            ],
            [
             0.8,
             "#7fbc41"
            ],
            [
             0.9,
             "#4d9221"
            ],
            [
             1,
             "#276419"
            ]
           ],
           "sequential": [
            [
             0,
             "#0d0887"
            ],
            [
             0.1111111111111111,
             "#46039f"
            ],
            [
             0.2222222222222222,
             "#7201a8"
            ],
            [
             0.3333333333333333,
             "#9c179e"
            ],
            [
             0.4444444444444444,
             "#bd3786"
            ],
            [
             0.5555555555555556,
             "#d8576b"
            ],
            [
             0.6666666666666666,
             "#ed7953"
            ],
            [
             0.7777777777777778,
             "#fb9f3a"
            ],
            [
             0.8888888888888888,
             "#fdca26"
            ],
            [
             1,
             "#f0f921"
            ]
           ],
           "sequentialminus": [
            [
             0,
             "#0d0887"
            ],
            [
             0.1111111111111111,
             "#46039f"
            ],
            [
             0.2222222222222222,
             "#7201a8"
            ],
            [
             0.3333333333333333,
             "#9c179e"
            ],
            [
             0.4444444444444444,
             "#bd3786"
            ],
            [
             0.5555555555555556,
             "#d8576b"
            ],
            [
             0.6666666666666666,
             "#ed7953"
            ],
            [
             0.7777777777777778,
             "#fb9f3a"
            ],
            [
             0.8888888888888888,
             "#fdca26"
            ],
            [
             1,
             "#f0f921"
            ]
           ]
          },
          "colorway": [
           "#636efa",
           "#EF553B",
           "#00cc96",
           "#ab63fa",
           "#FFA15A",
           "#19d3f3",
           "#FF6692",
           "#B6E880",
           "#FF97FF",
           "#FECB52"
          ],
          "font": {
           "color": "#2a3f5f"
          },
          "geo": {
           "bgcolor": "white",
           "lakecolor": "white",
           "landcolor": "#E5ECF6",
           "showlakes": true,
           "showland": true,
           "subunitcolor": "white"
          },
          "hoverlabel": {
           "align": "left"
          },
          "hovermode": "closest",
          "mapbox": {
           "style": "light"
          },
          "paper_bgcolor": "white",
          "plot_bgcolor": "#E5ECF6",
          "polar": {
           "angularaxis": {
            "gridcolor": "white",
            "linecolor": "white",
            "ticks": ""
           },
           "bgcolor": "#E5ECF6",
           "radialaxis": {
            "gridcolor": "white",
            "linecolor": "white",
            "ticks": ""
           }
          },
          "scene": {
           "xaxis": {
            "backgroundcolor": "#E5ECF6",
            "gridcolor": "white",
            "gridwidth": 2,
            "linecolor": "white",
            "showbackground": true,
            "ticks": "",
            "zerolinecolor": "white"
           },
           "yaxis": {
            "backgroundcolor": "#E5ECF6",
            "gridcolor": "white",
            "gridwidth": 2,
            "linecolor": "white",
            "showbackground": true,
            "ticks": "",
            "zerolinecolor": "white"
           },
           "zaxis": {
            "backgroundcolor": "#E5ECF6",
            "gridcolor": "white",
            "gridwidth": 2,
            "linecolor": "white",
            "showbackground": true,
            "ticks": "",
            "zerolinecolor": "white"
           }
          },
          "shapedefaults": {
           "line": {
            "color": "#2a3f5f"
           }
          },
          "ternary": {
           "aaxis": {
            "gridcolor": "white",
            "linecolor": "white",
            "ticks": ""
           },
           "baxis": {
            "gridcolor": "white",
            "linecolor": "white",
            "ticks": ""
           },
           "bgcolor": "#E5ECF6",
           "caxis": {
            "gridcolor": "white",
            "linecolor": "white",
            "ticks": ""
           }
          },
          "title": {
           "x": 0.05
          },
          "xaxis": {
           "automargin": true,
           "gridcolor": "white",
           "linecolor": "white",
           "ticks": "",
           "title": {
            "standoff": 15
           },
           "zerolinecolor": "white",
           "zerolinewidth": 2
          },
          "yaxis": {
           "automargin": true,
           "gridcolor": "white",
           "linecolor": "white",
           "ticks": "",
           "title": {
            "standoff": 15
           },
           "zerolinecolor": "white",
           "zerolinewidth": 2
          }
         }
        },
        "title": {
         "text": "Genre Top20"
        },
        "xaxis": {
         "anchor": "y",
         "categoryarray": [
          "International Movies",
          "Dramas",
          "Comedies",
          "International TV Shows",
          "Documentaries",
          "Action & Adventure",
          "TV Dramas",
          "Independent Movies",
          "Children & Family Movies",
          "Romantic Movies",
          "Thrillers",
          "Crime TV Shows",
          "TV Comedies",
          "Docuseries",
          "Romantic TV Shows",
          "Stand-Up Comedy",
          "Music & Musicals",
          "Horror Movies",
          "Reality TV",
          "Sci-Fi & Fantasy"
         ],
         "categoryorder": "array",
         "domain": [
          0,
          1
         ],
         "title": {
          "text": "genre"
         }
        },
        "yaxis": {
         "anchor": "x",
         "domain": [
          0,
          1
         ],
         "title": {
          "text": "count"
         }
        }
       }
      },
      "text/html": [
       "<div>\n",
       "        \n",
       "        \n",
       "            <div id=\"de19b534-5ef9-4c86-aa90-861e2a51efd9\" class=\"plotly-graph-div\" style=\"height:525px; width:100%;\"></div>\n",
       "            <script type=\"text/javascript\">\n",
       "                require([\"plotly\"], function(Plotly) {\n",
       "                    window.PLOTLYENV=window.PLOTLYENV || {};\n",
       "                    \n",
       "                if (document.getElementById(\"de19b534-5ef9-4c86-aa90-861e2a51efd9\")) {\n",
       "                    Plotly.newPlot(\n",
       "                        'de19b534-5ef9-4c86-aa90-861e2a51efd9',\n",
       "                        [{\"alignmentgroup\": \"True\", \"hovertemplate\": \"genre=%{x}<br>count=%{text}<extra></extra>\", \"legendgroup\": \"International Movies\", \"marker\": {\"color\": \"#636efa\"}, \"name\": \"International Movies\", \"offsetgroup\": \"International Movies\", \"orientation\": \"v\", \"showlegend\": true, \"text\": [2437.0], \"textposition\": \"outside\", \"type\": \"bar\", \"x\": [\"International Movies\"], \"xaxis\": \"x\", \"y\": [2437], \"yaxis\": \"y\"}, {\"alignmentgroup\": \"True\", \"hovertemplate\": \"genre=%{x}<br>count=%{text}<extra></extra>\", \"legendgroup\": \"Dramas\", \"marker\": {\"color\": \"#EF553B\"}, \"name\": \"Dramas\", \"offsetgroup\": \"Dramas\", \"orientation\": \"v\", \"showlegend\": true, \"text\": [2106.0], \"textposition\": \"outside\", \"type\": \"bar\", \"x\": [\"Dramas\"], \"xaxis\": \"x\", \"y\": [2106], \"yaxis\": \"y\"}, {\"alignmentgroup\": \"True\", \"hovertemplate\": \"genre=%{x}<br>count=%{text}<extra></extra>\", \"legendgroup\": \"Comedies\", \"marker\": {\"color\": \"#00cc96\"}, \"name\": \"Comedies\", \"offsetgroup\": \"Comedies\", \"orientation\": \"v\", \"showlegend\": true, \"text\": [1471.0], \"textposition\": \"outside\", \"type\": \"bar\", \"x\": [\"Comedies\"], \"xaxis\": \"x\", \"y\": [1471], \"yaxis\": \"y\"}, {\"alignmentgroup\": \"True\", \"hovertemplate\": \"genre=%{x}<br>count=%{text}<extra></extra>\", \"legendgroup\": \"International TV Shows\", \"marker\": {\"color\": \"#ab63fa\"}, \"name\": \"International TV Shows\", \"offsetgroup\": \"International TV Shows\", \"orientation\": \"v\", \"showlegend\": true, \"text\": [1199.0], \"textposition\": \"outside\", \"type\": \"bar\", \"x\": [\"International TV Shows\"], \"xaxis\": \"x\", \"y\": [1199], \"yaxis\": \"y\"}, {\"alignmentgroup\": \"True\", \"hovertemplate\": \"genre=%{x}<br>count=%{text}<extra></extra>\", \"legendgroup\": \"Documentaries\", \"marker\": {\"color\": \"#FFA15A\"}, \"name\": \"Documentaries\", \"offsetgroup\": \"Documentaries\", \"orientation\": \"v\", \"showlegend\": true, \"text\": [786.0], \"textposition\": \"outside\", \"type\": \"bar\", \"x\": [\"Documentaries\"], \"xaxis\": \"x\", \"y\": [786], \"yaxis\": \"y\"}, {\"alignmentgroup\": \"True\", \"hovertemplate\": \"genre=%{x}<br>count=%{text}<extra></extra>\", \"legendgroup\": \"Action & Adventure\", \"marker\": {\"color\": \"#19d3f3\"}, \"name\": \"Action & Adventure\", \"offsetgroup\": \"Action & Adventure\", \"orientation\": \"v\", \"showlegend\": true, \"text\": [721.0], \"textposition\": \"outside\", \"type\": \"bar\", \"x\": [\"Action & Adventure\"], \"xaxis\": \"x\", \"y\": [721], \"yaxis\": \"y\"}, {\"alignmentgroup\": \"True\", \"hovertemplate\": \"genre=%{x}<br>count=%{text}<extra></extra>\", \"legendgroup\": \"TV Dramas\", \"marker\": {\"color\": \"#FF6692\"}, \"name\": \"TV Dramas\", \"offsetgroup\": \"TV Dramas\", \"orientation\": \"v\", \"showlegend\": true, \"text\": [694.0], \"textposition\": \"outside\", \"type\": \"bar\", \"x\": [\"TV Dramas\"], \"xaxis\": \"x\", \"y\": [694], \"yaxis\": \"y\"}, {\"alignmentgroup\": \"True\", \"hovertemplate\": \"genre=%{x}<br>count=%{text}<extra></extra>\", \"legendgroup\": \"Independent Movies\", \"marker\": {\"color\": \"#B6E880\"}, \"name\": \"Independent Movies\", \"offsetgroup\": \"Independent Movies\", \"orientation\": \"v\", \"showlegend\": true, \"text\": [673.0], \"textposition\": \"outside\", \"type\": \"bar\", \"x\": [\"Independent Movies\"], \"xaxis\": \"x\", \"y\": [673], \"yaxis\": \"y\"}, {\"alignmentgroup\": \"True\", \"hovertemplate\": \"genre=%{x}<br>count=%{text}<extra></extra>\", \"legendgroup\": \"Children & Family Movies\", \"marker\": {\"color\": \"#FF97FF\"}, \"name\": \"Children & Family Movies\", \"offsetgroup\": \"Children & Family Movies\", \"orientation\": \"v\", \"showlegend\": true, \"text\": [532.0], \"textposition\": \"outside\", \"type\": \"bar\", \"x\": [\"Children & Family Movies\"], \"xaxis\": \"x\", \"y\": [532], \"yaxis\": \"y\"}, {\"alignmentgroup\": \"True\", \"hovertemplate\": \"genre=%{x}<br>count=%{text}<extra></extra>\", \"legendgroup\": \"Romantic Movies\", \"marker\": {\"color\": \"#FECB52\"}, \"name\": \"Romantic Movies\", \"offsetgroup\": \"Romantic Movies\", \"orientation\": \"v\", \"showlegend\": true, \"text\": [531.0], \"textposition\": \"outside\", \"type\": \"bar\", \"x\": [\"Romantic Movies\"], \"xaxis\": \"x\", \"y\": [531], \"yaxis\": \"y\"}, {\"alignmentgroup\": \"True\", \"hovertemplate\": \"genre=%{x}<br>count=%{text}<extra></extra>\", \"legendgroup\": \"Thrillers\", \"marker\": {\"color\": \"#636efa\"}, \"name\": \"Thrillers\", \"offsetgroup\": \"Thrillers\", \"orientation\": \"v\", \"showlegend\": true, \"text\": [491.0], \"textposition\": \"outside\", \"type\": \"bar\", \"x\": [\"Thrillers\"], \"xaxis\": \"x\", \"y\": [491], \"yaxis\": \"y\"}, {\"alignmentgroup\": \"True\", \"hovertemplate\": \"genre=%{x}<br>count=%{text}<extra></extra>\", \"legendgroup\": \"Crime TV Shows\", \"marker\": {\"color\": \"#EF553B\"}, \"name\": \"Crime TV Shows\", \"offsetgroup\": \"Crime TV Shows\", \"orientation\": \"v\", \"showlegend\": true, \"text\": [424.0], \"textposition\": \"outside\", \"type\": \"bar\", \"x\": [\"Crime TV Shows\"], \"xaxis\": \"x\", \"y\": [424], \"yaxis\": \"y\"}, {\"alignmentgroup\": \"True\", \"hovertemplate\": \"genre=%{x}<br>count=%{text}<extra></extra>\", \"legendgroup\": \"TV Comedies\", \"marker\": {\"color\": \"#00cc96\"}, \"name\": \"TV Comedies\", \"offsetgroup\": \"TV Comedies\", \"orientation\": \"v\", \"showlegend\": true, \"text\": [414.0], \"textposition\": \"outside\", \"type\": \"bar\", \"x\": [\"TV Comedies\"], \"xaxis\": \"x\", \"y\": [414], \"yaxis\": \"y\"}, {\"alignmentgroup\": \"True\", \"hovertemplate\": \"genre=%{x}<br>count=%{text}<extra></extra>\", \"legendgroup\": \"Docuseries\", \"marker\": {\"color\": \"#ab63fa\"}, \"name\": \"Docuseries\", \"offsetgroup\": \"Docuseries\", \"orientation\": \"v\", \"showlegend\": true, \"text\": [352.0], \"textposition\": \"outside\", \"type\": \"bar\", \"x\": [\"Docuseries\"], \"xaxis\": \"x\", \"y\": [352], \"yaxis\": \"y\"}, {\"alignmentgroup\": \"True\", \"hovertemplate\": \"genre=%{x}<br>count=%{text}<extra></extra>\", \"legendgroup\": \"Romantic TV Shows\", \"marker\": {\"color\": \"#FFA15A\"}, \"name\": \"Romantic TV Shows\", \"offsetgroup\": \"Romantic TV Shows\", \"orientation\": \"v\", \"showlegend\": true, \"text\": [333.0], \"textposition\": \"outside\", \"type\": \"bar\", \"x\": [\"Romantic TV Shows\"], \"xaxis\": \"x\", \"y\": [333], \"yaxis\": \"y\"}, {\"alignmentgroup\": \"True\", \"hovertemplate\": \"genre=%{x}<br>count=%{text}<extra></extra>\", \"legendgroup\": \"Stand-Up Comedy\", \"marker\": {\"color\": \"#19d3f3\"}, \"name\": \"Stand-Up Comedy\", \"offsetgroup\": \"Stand-Up Comedy\", \"orientation\": \"v\", \"showlegend\": true, \"text\": [329.0], \"textposition\": \"outside\", \"type\": \"bar\", \"x\": [\"Stand-Up Comedy\"], \"xaxis\": \"x\", \"y\": [329], \"yaxis\": \"y\"}, {\"alignmentgroup\": \"True\", \"hovertemplate\": \"genre=%{x}<br>count=%{text}<extra></extra>\", \"legendgroup\": \"Music & Musicals\", \"marker\": {\"color\": \"#FF6692\"}, \"name\": \"Music & Musicals\", \"offsetgroup\": \"Music & Musicals\", \"orientation\": \"v\", \"showlegend\": true, \"text\": [321.0], \"textposition\": \"outside\", \"type\": \"bar\", \"x\": [\"Music & Musicals\"], \"xaxis\": \"x\", \"y\": [321], \"yaxis\": \"y\"}, {\"alignmentgroup\": \"True\", \"hovertemplate\": \"genre=%{x}<br>count=%{text}<extra></extra>\", \"legendgroup\": \"Horror Movies\", \"marker\": {\"color\": \"#B6E880\"}, \"name\": \"Horror Movies\", \"offsetgroup\": \"Horror Movies\", \"orientation\": \"v\", \"showlegend\": true, \"text\": [312.0], \"textposition\": \"outside\", \"type\": \"bar\", \"x\": [\"Horror Movies\"], \"xaxis\": \"x\", \"y\": [312], \"yaxis\": \"y\"}, {\"alignmentgroup\": \"True\", \"hovertemplate\": \"genre=%{x}<br>count=%{text}<extra></extra>\", \"legendgroup\": \"Reality TV\", \"marker\": {\"color\": \"#FF97FF\"}, \"name\": \"Reality TV\", \"offsetgroup\": \"Reality TV\", \"orientation\": \"v\", \"showlegend\": true, \"text\": [222.0], \"textposition\": \"outside\", \"type\": \"bar\", \"x\": [\"Reality TV\"], \"xaxis\": \"x\", \"y\": [222], \"yaxis\": \"y\"}, {\"alignmentgroup\": \"True\", \"hovertemplate\": \"genre=%{x}<br>count=%{text}<extra></extra>\", \"legendgroup\": \"Sci-Fi & Fantasy\", \"marker\": {\"color\": \"#FECB52\"}, \"name\": \"Sci-Fi & Fantasy\", \"offsetgroup\": \"Sci-Fi & Fantasy\", \"orientation\": \"v\", \"showlegend\": true, \"text\": [218.0], \"textposition\": \"outside\", \"type\": \"bar\", \"x\": [\"Sci-Fi & Fantasy\"], \"xaxis\": \"x\", \"y\": [218], \"yaxis\": \"y\"}],\n",
       "                        {\"barmode\": \"relative\", \"legend\": {\"title\": {\"text\": \"genre\"}, \"tracegroupgap\": 0}, \"template\": {\"data\": {\"bar\": [{\"error_x\": {\"color\": \"#2a3f5f\"}, \"error_y\": {\"color\": \"#2a3f5f\"}, \"marker\": {\"line\": {\"color\": \"#E5ECF6\", \"width\": 0.5}}, \"type\": \"bar\"}], \"barpolar\": [{\"marker\": {\"line\": {\"color\": \"#E5ECF6\", \"width\": 0.5}}, \"type\": \"barpolar\"}], \"carpet\": [{\"aaxis\": {\"endlinecolor\": \"#2a3f5f\", \"gridcolor\": \"white\", \"linecolor\": \"white\", \"minorgridcolor\": \"white\", \"startlinecolor\": \"#2a3f5f\"}, \"baxis\": {\"endlinecolor\": \"#2a3f5f\", \"gridcolor\": \"white\", \"linecolor\": \"white\", \"minorgridcolor\": \"white\", \"startlinecolor\": \"#2a3f5f\"}, \"type\": \"carpet\"}], \"choropleth\": [{\"colorbar\": {\"outlinewidth\": 0, \"ticks\": \"\"}, \"type\": \"choropleth\"}], \"contour\": [{\"colorbar\": {\"outlinewidth\": 0, \"ticks\": \"\"}, \"colorscale\": [[0.0, \"#0d0887\"], [0.1111111111111111, \"#46039f\"], [0.2222222222222222, \"#7201a8\"], [0.3333333333333333, \"#9c179e\"], [0.4444444444444444, \"#bd3786\"], [0.5555555555555556, \"#d8576b\"], [0.6666666666666666, \"#ed7953\"], [0.7777777777777778, \"#fb9f3a\"], [0.8888888888888888, \"#fdca26\"], [1.0, \"#f0f921\"]], \"type\": \"contour\"}], \"contourcarpet\": [{\"colorbar\": {\"outlinewidth\": 0, \"ticks\": \"\"}, \"type\": \"contourcarpet\"}], \"heatmap\": [{\"colorbar\": {\"outlinewidth\": 0, \"ticks\": \"\"}, \"colorscale\": [[0.0, \"#0d0887\"], [0.1111111111111111, \"#46039f\"], [0.2222222222222222, \"#7201a8\"], [0.3333333333333333, \"#9c179e\"], [0.4444444444444444, \"#bd3786\"], [0.5555555555555556, \"#d8576b\"], [0.6666666666666666, \"#ed7953\"], [0.7777777777777778, \"#fb9f3a\"], [0.8888888888888888, \"#fdca26\"], [1.0, \"#f0f921\"]], \"type\": \"heatmap\"}], \"heatmapgl\": [{\"colorbar\": {\"outlinewidth\": 0, \"ticks\": \"\"}, \"colorscale\": [[0.0, \"#0d0887\"], [0.1111111111111111, \"#46039f\"], [0.2222222222222222, \"#7201a8\"], [0.3333333333333333, \"#9c179e\"], [0.4444444444444444, \"#bd3786\"], [0.5555555555555556, \"#d8576b\"], [0.6666666666666666, \"#ed7953\"], [0.7777777777777778, \"#fb9f3a\"], [0.8888888888888888, \"#fdca26\"], [1.0, \"#f0f921\"]], \"type\": \"heatmapgl\"}], \"histogram\": [{\"marker\": {\"colorbar\": {\"outlinewidth\": 0, \"ticks\": \"\"}}, \"type\": \"histogram\"}], \"histogram2d\": [{\"colorbar\": {\"outlinewidth\": 0, \"ticks\": \"\"}, \"colorscale\": [[0.0, \"#0d0887\"], [0.1111111111111111, \"#46039f\"], [0.2222222222222222, \"#7201a8\"], [0.3333333333333333, \"#9c179e\"], [0.4444444444444444, \"#bd3786\"], [0.5555555555555556, \"#d8576b\"], [0.6666666666666666, \"#ed7953\"], [0.7777777777777778, \"#fb9f3a\"], [0.8888888888888888, \"#fdca26\"], [1.0, \"#f0f921\"]], \"type\": \"histogram2d\"}], \"histogram2dcontour\": [{\"colorbar\": {\"outlinewidth\": 0, \"ticks\": \"\"}, \"colorscale\": [[0.0, \"#0d0887\"], [0.1111111111111111, \"#46039f\"], [0.2222222222222222, \"#7201a8\"], [0.3333333333333333, \"#9c179e\"], [0.4444444444444444, \"#bd3786\"], [0.5555555555555556, \"#d8576b\"], [0.6666666666666666, \"#ed7953\"], [0.7777777777777778, \"#fb9f3a\"], [0.8888888888888888, \"#fdca26\"], [1.0, \"#f0f921\"]], \"type\": \"histogram2dcontour\"}], \"mesh3d\": [{\"colorbar\": {\"outlinewidth\": 0, \"ticks\": \"\"}, \"type\": \"mesh3d\"}], \"parcoords\": [{\"line\": {\"colorbar\": {\"outlinewidth\": 0, \"ticks\": \"\"}}, \"type\": \"parcoords\"}], \"pie\": [{\"automargin\": true, \"type\": \"pie\"}], \"scatter\": [{\"marker\": {\"colorbar\": {\"outlinewidth\": 0, \"ticks\": \"\"}}, \"type\": \"scatter\"}], \"scatter3d\": [{\"line\": {\"colorbar\": {\"outlinewidth\": 0, \"ticks\": \"\"}}, \"marker\": {\"colorbar\": {\"outlinewidth\": 0, \"ticks\": \"\"}}, \"type\": \"scatter3d\"}], \"scattercarpet\": [{\"marker\": {\"colorbar\": {\"outlinewidth\": 0, \"ticks\": \"\"}}, \"type\": \"scattercarpet\"}], \"scattergeo\": [{\"marker\": {\"colorbar\": {\"outlinewidth\": 0, \"ticks\": \"\"}}, \"type\": \"scattergeo\"}], \"scattergl\": [{\"marker\": {\"colorbar\": {\"outlinewidth\": 0, \"ticks\": \"\"}}, \"type\": \"scattergl\"}], \"scattermapbox\": [{\"marker\": {\"colorbar\": {\"outlinewidth\": 0, \"ticks\": \"\"}}, \"type\": \"scattermapbox\"}], \"scatterpolar\": [{\"marker\": {\"colorbar\": {\"outlinewidth\": 0, \"ticks\": \"\"}}, \"type\": \"scatterpolar\"}], \"scatterpolargl\": [{\"marker\": {\"colorbar\": {\"outlinewidth\": 0, \"ticks\": \"\"}}, \"type\": \"scatterpolargl\"}], \"scatterternary\": [{\"marker\": {\"colorbar\": {\"outlinewidth\": 0, \"ticks\": \"\"}}, \"type\": \"scatterternary\"}], \"surface\": [{\"colorbar\": {\"outlinewidth\": 0, \"ticks\": \"\"}, \"colorscale\": [[0.0, \"#0d0887\"], [0.1111111111111111, \"#46039f\"], [0.2222222222222222, \"#7201a8\"], [0.3333333333333333, \"#9c179e\"], [0.4444444444444444, \"#bd3786\"], [0.5555555555555556, \"#d8576b\"], [0.6666666666666666, \"#ed7953\"], [0.7777777777777778, \"#fb9f3a\"], [0.8888888888888888, \"#fdca26\"], [1.0, \"#f0f921\"]], \"type\": \"surface\"}], \"table\": [{\"cells\": {\"fill\": {\"color\": \"#EBF0F8\"}, \"line\": {\"color\": \"white\"}}, \"header\": {\"fill\": {\"color\": \"#C8D4E3\"}, \"line\": {\"color\": \"white\"}}, \"type\": \"table\"}]}, \"layout\": {\"annotationdefaults\": {\"arrowcolor\": \"#2a3f5f\", \"arrowhead\": 0, \"arrowwidth\": 1}, \"coloraxis\": {\"colorbar\": {\"outlinewidth\": 0, \"ticks\": \"\"}}, \"colorscale\": {\"diverging\": [[0, \"#8e0152\"], [0.1, \"#c51b7d\"], [0.2, \"#de77ae\"], [0.3, \"#f1b6da\"], [0.4, \"#fde0ef\"], [0.5, \"#f7f7f7\"], [0.6, \"#e6f5d0\"], [0.7, \"#b8e186\"], [0.8, \"#7fbc41\"], [0.9, \"#4d9221\"], [1, \"#276419\"]], \"sequential\": [[0.0, \"#0d0887\"], [0.1111111111111111, \"#46039f\"], [0.2222222222222222, \"#7201a8\"], [0.3333333333333333, \"#9c179e\"], [0.4444444444444444, \"#bd3786\"], [0.5555555555555556, \"#d8576b\"], [0.6666666666666666, \"#ed7953\"], [0.7777777777777778, \"#fb9f3a\"], [0.8888888888888888, \"#fdca26\"], [1.0, \"#f0f921\"]], \"sequentialminus\": [[0.0, \"#0d0887\"], [0.1111111111111111, \"#46039f\"], [0.2222222222222222, \"#7201a8\"], [0.3333333333333333, \"#9c179e\"], [0.4444444444444444, \"#bd3786\"], [0.5555555555555556, \"#d8576b\"], [0.6666666666666666, \"#ed7953\"], [0.7777777777777778, \"#fb9f3a\"], [0.8888888888888888, \"#fdca26\"], [1.0, \"#f0f921\"]]}, \"colorway\": [\"#636efa\", \"#EF553B\", \"#00cc96\", \"#ab63fa\", \"#FFA15A\", \"#19d3f3\", \"#FF6692\", \"#B6E880\", \"#FF97FF\", \"#FECB52\"], \"font\": {\"color\": \"#2a3f5f\"}, \"geo\": {\"bgcolor\": \"white\", \"lakecolor\": \"white\", \"landcolor\": \"#E5ECF6\", \"showlakes\": true, \"showland\": true, \"subunitcolor\": \"white\"}, \"hoverlabel\": {\"align\": \"left\"}, \"hovermode\": \"closest\", \"mapbox\": {\"style\": \"light\"}, \"paper_bgcolor\": \"white\", \"plot_bgcolor\": \"#E5ECF6\", \"polar\": {\"angularaxis\": {\"gridcolor\": \"white\", \"linecolor\": \"white\", \"ticks\": \"\"}, \"bgcolor\": \"#E5ECF6\", \"radialaxis\": {\"gridcolor\": \"white\", \"linecolor\": \"white\", \"ticks\": \"\"}}, \"scene\": {\"xaxis\": {\"backgroundcolor\": \"#E5ECF6\", \"gridcolor\": \"white\", \"gridwidth\": 2, \"linecolor\": \"white\", \"showbackground\": true, \"ticks\": \"\", \"zerolinecolor\": \"white\"}, \"yaxis\": {\"backgroundcolor\": \"#E5ECF6\", \"gridcolor\": \"white\", \"gridwidth\": 2, \"linecolor\": \"white\", \"showbackground\": true, \"ticks\": \"\", \"zerolinecolor\": \"white\"}, \"zaxis\": {\"backgroundcolor\": \"#E5ECF6\", \"gridcolor\": \"white\", \"gridwidth\": 2, \"linecolor\": \"white\", \"showbackground\": true, \"ticks\": \"\", \"zerolinecolor\": \"white\"}}, \"shapedefaults\": {\"line\": {\"color\": \"#2a3f5f\"}}, \"ternary\": {\"aaxis\": {\"gridcolor\": \"white\", \"linecolor\": \"white\", \"ticks\": \"\"}, \"baxis\": {\"gridcolor\": \"white\", \"linecolor\": \"white\", \"ticks\": \"\"}, \"bgcolor\": \"#E5ECF6\", \"caxis\": {\"gridcolor\": \"white\", \"linecolor\": \"white\", \"ticks\": \"\"}}, \"title\": {\"x\": 0.05}, \"xaxis\": {\"automargin\": true, \"gridcolor\": \"white\", \"linecolor\": \"white\", \"ticks\": \"\", \"title\": {\"standoff\": 15}, \"zerolinecolor\": \"white\", \"zerolinewidth\": 2}, \"yaxis\": {\"automargin\": true, \"gridcolor\": \"white\", \"linecolor\": \"white\", \"ticks\": \"\", \"title\": {\"standoff\": 15}, \"zerolinecolor\": \"white\", \"zerolinewidth\": 2}}}, \"title\": {\"text\": \"Genre Top20\"}, \"xaxis\": {\"anchor\": \"y\", \"categoryarray\": [\"International Movies\", \"Dramas\", \"Comedies\", \"International TV Shows\", \"Documentaries\", \"Action & Adventure\", \"TV Dramas\", \"Independent Movies\", \"Children & Family Movies\", \"Romantic Movies\", \"Thrillers\", \"Crime TV Shows\", \"TV Comedies\", \"Docuseries\", \"Romantic TV Shows\", \"Stand-Up Comedy\", \"Music & Musicals\", \"Horror Movies\", \"Reality TV\", \"Sci-Fi & Fantasy\"], \"categoryorder\": \"array\", \"domain\": [0.0, 1.0], \"title\": {\"text\": \"genre\"}}, \"yaxis\": {\"anchor\": \"x\", \"domain\": [0.0, 1.0], \"title\": {\"text\": \"count\"}}},\n",
       "                        {\"responsive\": true}\n",
       "                    ).then(function(){\n",
       "                            \n",
       "var gd = document.getElementById('de19b534-5ef9-4c86-aa90-861e2a51efd9');\n",
       "var x = new MutationObserver(function (mutations, observer) {{\n",
       "        var display = window.getComputedStyle(gd).display;\n",
       "        if (!display || display === 'none') {{\n",
       "            console.log([gd, 'removed!']);\n",
       "            Plotly.purge(gd);\n",
       "            observer.disconnect();\n",
       "        }}\n",
       "}});\n",
       "\n",
       "// Listen for the removal of the full notebook cells\n",
       "var notebookContainer = gd.closest('#notebook-container');\n",
       "if (notebookContainer) {{\n",
       "    x.observe(notebookContainer, {childList: true});\n",
       "}}\n",
       "\n",
       "// Listen for the clearing of the current output cell\n",
       "var outputEl = gd.closest('.output');\n",
       "if (outputEl) {{\n",
       "    x.observe(outputEl, {childList: true});\n",
       "}}\n",
       "\n",
       "                        })\n",
       "                };\n",
       "                });\n",
       "            </script>\n",
       "        </div>"
      ]
     },
     "metadata": {},
     "output_type": "display_data"
    }
   ],
   "source": [
    "#Getting listed in data \n",
    "genre = data[~data[\"listed_in\"].isnull()]['listed_in'].to_list()\n",
    "\n",
    "#changing the genre to a list\n",
    "genre = str(genre)\n",
    "\n",
    "genre = re.sub(\"[\\'\\]\\\\\\[]\",\"\",genre)\n",
    "genre = re.sub(\" {2,}\", \" \", genre)\n",
    "\n",
    "genre = pd.Series(genre.split(\", \")).value_counts()\n",
    "\n",
    "#Changing the list to dataframe\n",
    "genre = pd.DataFrame(genre)\n",
    "genre.reset_index(inplace=True)\n",
    "genre.columns=[\"genre\",\"count\"]\n",
    "\n",
    "#creating a barchart\n",
    "fig = px.bar(genre.head(20), x=\"genre\", y=\"count\",title=\"Genre Top20\",text=\"count\",color=\"genre\")\n",
    "fig.update_traces(textposition=\"outside\")\n",
    "fig.show()"
   ]
  },
  {
   "cell_type": "code",
   "execution_count": 11,
   "metadata": {},
   "outputs": [
    {
     "data": {
      "text/html": [
       "<div>\n",
       "<style scoped>\n",
       "    .dataframe tbody tr th:only-of-type {\n",
       "        vertical-align: middle;\n",
       "    }\n",
       "\n",
       "    .dataframe tbody tr th {\n",
       "        vertical-align: top;\n",
       "    }\n",
       "\n",
       "    .dataframe thead th {\n",
       "        text-align: right;\n",
       "    }\n",
       "</style>\n",
       "<table border=\"1\" class=\"dataframe\">\n",
       "  <thead>\n",
       "    <tr style=\"text-align: right;\">\n",
       "      <th></th>\n",
       "      <th>genre</th>\n",
       "      <th>count</th>\n",
       "    </tr>\n",
       "  </thead>\n",
       "  <tbody>\n",
       "    <tr>\n",
       "      <th>0</th>\n",
       "      <td>International Movies</td>\n",
       "      <td>2437</td>\n",
       "    </tr>\n",
       "    <tr>\n",
       "      <th>1</th>\n",
       "      <td>Dramas</td>\n",
       "      <td>2106</td>\n",
       "    </tr>\n",
       "    <tr>\n",
       "      <th>2</th>\n",
       "      <td>Comedies</td>\n",
       "      <td>1471</td>\n",
       "    </tr>\n",
       "    <tr>\n",
       "      <th>3</th>\n",
       "      <td>International TV Shows</td>\n",
       "      <td>1199</td>\n",
       "    </tr>\n",
       "    <tr>\n",
       "      <th>4</th>\n",
       "      <td>Documentaries</td>\n",
       "      <td>786</td>\n",
       "    </tr>\n",
       "    <tr>\n",
       "      <th>5</th>\n",
       "      <td>Action &amp; Adventure</td>\n",
       "      <td>721</td>\n",
       "    </tr>\n",
       "    <tr>\n",
       "      <th>6</th>\n",
       "      <td>TV Dramas</td>\n",
       "      <td>694</td>\n",
       "    </tr>\n",
       "    <tr>\n",
       "      <th>7</th>\n",
       "      <td>Independent Movies</td>\n",
       "      <td>673</td>\n",
       "    </tr>\n",
       "    <tr>\n",
       "      <th>8</th>\n",
       "      <td>Children &amp; Family Movies</td>\n",
       "      <td>532</td>\n",
       "    </tr>\n",
       "    <tr>\n",
       "      <th>9</th>\n",
       "      <td>Romantic Movies</td>\n",
       "      <td>531</td>\n",
       "    </tr>\n",
       "  </tbody>\n",
       "</table>\n",
       "</div>"
      ],
      "text/plain": [
       "                      genre  count\n",
       "0      International Movies   2437\n",
       "1                    Dramas   2106\n",
       "2                  Comedies   1471\n",
       "3    International TV Shows   1199\n",
       "4             Documentaries    786\n",
       "5        Action & Adventure    721\n",
       "6                 TV Dramas    694\n",
       "7        Independent Movies    673\n",
       "8  Children & Family Movies    532\n",
       "9           Romantic Movies    531"
      ]
     },
     "execution_count": 11,
     "metadata": {},
     "output_type": "execute_result"
    }
   ],
   "source": [
    "# Top 10 Genres\n",
    "genre.head(10)"
   ]
  },
  {
   "cell_type": "markdown",
   "metadata": {},
   "source": [
    "International Movies, Dramas, Comedies, International Tv Shows recorded high values. This shows that netflix produces more internaltional and drama contents\n",
    "¶\n"
   ]
  },
  {
   "cell_type": "code",
   "execution_count": 46,
   "metadata": {},
   "outputs": [
    {
     "data": {
      "application/vnd.plotly.v1+json": {
       "config": {
        "plotlyServerURL": "https://plot.ly"
       },
       "data": [
        {
         "alignmentgroup": "True",
         "hovertemplate": "rating=%{x}<br>count=%{text}<extra></extra>",
         "legendgroup": "TV-MA",
         "marker": {
          "color": "#636efa"
         },
         "name": "TV-MA",
         "offsetgroup": "TV-MA",
         "orientation": "v",
         "showlegend": true,
         "text": [
          2863
         ],
         "textposition": "outside",
         "type": "bar",
         "x": [
          "TV-MA"
         ],
         "xaxis": "x",
         "y": [
          2863
         ],
         "yaxis": "y"
        },
        {
         "alignmentgroup": "True",
         "hovertemplate": "rating=%{x}<br>count=%{text}<extra></extra>",
         "legendgroup": "TV-14",
         "marker": {
          "color": "#EF553B"
         },
         "name": "TV-14",
         "offsetgroup": "TV-14",
         "orientation": "v",
         "showlegend": true,
         "text": [
          1931
         ],
         "textposition": "outside",
         "type": "bar",
         "x": [
          "TV-14"
         ],
         "xaxis": "x",
         "y": [
          1931
         ],
         "yaxis": "y"
        },
        {
         "alignmentgroup": "True",
         "hovertemplate": "rating=%{x}<br>count=%{text}<extra></extra>",
         "legendgroup": "TV-PG",
         "marker": {
          "color": "#00cc96"
         },
         "name": "TV-PG",
         "offsetgroup": "TV-PG",
         "orientation": "v",
         "showlegend": true,
         "text": [
          806
         ],
         "textposition": "outside",
         "type": "bar",
         "x": [
          "TV-PG"
         ],
         "xaxis": "x",
         "y": [
          806
         ],
         "yaxis": "y"
        },
        {
         "alignmentgroup": "True",
         "hovertemplate": "rating=%{x}<br>count=%{text}<extra></extra>",
         "legendgroup": "R",
         "marker": {
          "color": "#ab63fa"
         },
         "name": "R",
         "offsetgroup": "R",
         "orientation": "v",
         "showlegend": true,
         "text": [
          665
         ],
         "textposition": "outside",
         "type": "bar",
         "x": [
          "R"
         ],
         "xaxis": "x",
         "y": [
          665
         ],
         "yaxis": "y"
        },
        {
         "alignmentgroup": "True",
         "hovertemplate": "rating=%{x}<br>count=%{text}<extra></extra>",
         "legendgroup": "PG-13",
         "marker": {
          "color": "#FFA15A"
         },
         "name": "PG-13",
         "offsetgroup": "PG-13",
         "orientation": "v",
         "showlegend": true,
         "text": [
          386
         ],
         "textposition": "outside",
         "type": "bar",
         "x": [
          "PG-13"
         ],
         "xaxis": "x",
         "y": [
          386
         ],
         "yaxis": "y"
        },
        {
         "alignmentgroup": "True",
         "hovertemplate": "rating=%{x}<br>count=%{text}<extra></extra>",
         "legendgroup": "TV-Y",
         "marker": {
          "color": "#19d3f3"
         },
         "name": "TV-Y",
         "offsetgroup": "TV-Y",
         "orientation": "v",
         "showlegend": true,
         "text": [
          280
         ],
         "textposition": "outside",
         "type": "bar",
         "x": [
          "TV-Y"
         ],
         "xaxis": "x",
         "y": [
          280
         ],
         "yaxis": "y"
        },
        {
         "alignmentgroup": "True",
         "hovertemplate": "rating=%{x}<br>count=%{text}<extra></extra>",
         "legendgroup": "TV-Y7",
         "marker": {
          "color": "#FF6692"
         },
         "name": "TV-Y7",
         "offsetgroup": "TV-Y7",
         "orientation": "v",
         "showlegend": true,
         "text": [
          271
         ],
         "textposition": "outside",
         "type": "bar",
         "x": [
          "TV-Y7"
         ],
         "xaxis": "x",
         "y": [
          271
         ],
         "yaxis": "y"
        },
        {
         "alignmentgroup": "True",
         "hovertemplate": "rating=%{x}<br>count=%{text}<extra></extra>",
         "legendgroup": "PG",
         "marker": {
          "color": "#B6E880"
         },
         "name": "PG",
         "offsetgroup": "PG",
         "orientation": "v",
         "showlegend": true,
         "text": [
          247
         ],
         "textposition": "outside",
         "type": "bar",
         "x": [
          "PG"
         ],
         "xaxis": "x",
         "y": [
          247
         ],
         "yaxis": "y"
        },
        {
         "alignmentgroup": "True",
         "hovertemplate": "rating=%{x}<br>count=%{text}<extra></extra>",
         "legendgroup": "TV-G",
         "marker": {
          "color": "#FF97FF"
         },
         "name": "TV-G",
         "offsetgroup": "TV-G",
         "orientation": "v",
         "showlegend": true,
         "text": [
          194
         ],
         "textposition": "outside",
         "type": "bar",
         "x": [
          "TV-G"
         ],
         "xaxis": "x",
         "y": [
          194
         ],
         "yaxis": "y"
        },
        {
         "alignmentgroup": "True",
         "hovertemplate": "rating=%{x}<br>count=%{text}<extra></extra>",
         "legendgroup": "NR",
         "marker": {
          "color": "#FECB52"
         },
         "name": "NR",
         "offsetgroup": "NR",
         "orientation": "v",
         "showlegend": true,
         "text": [
          84
         ],
         "textposition": "outside",
         "type": "bar",
         "x": [
          "NR"
         ],
         "xaxis": "x",
         "y": [
          84
         ],
         "yaxis": "y"
        },
        {
         "alignmentgroup": "True",
         "hovertemplate": "rating=%{x}<br>count=%{text}<extra></extra>",
         "legendgroup": "G",
         "marker": {
          "color": "#636efa"
         },
         "name": "G",
         "offsetgroup": "G",
         "orientation": "v",
         "showlegend": true,
         "text": [
          39
         ],
         "textposition": "outside",
         "type": "bar",
         "x": [
          "G"
         ],
         "xaxis": "x",
         "y": [
          39
         ],
         "yaxis": "y"
        },
        {
         "alignmentgroup": "True",
         "hovertemplate": "rating=%{x}<br>count=%{text}<extra></extra>",
         "legendgroup": "TV-Y7-FV",
         "marker": {
          "color": "#EF553B"
         },
         "name": "TV-Y7-FV",
         "offsetgroup": "TV-Y7-FV",
         "orientation": "v",
         "showlegend": true,
         "text": [
          6
         ],
         "textposition": "outside",
         "type": "bar",
         "x": [
          "TV-Y7-FV"
         ],
         "xaxis": "x",
         "y": [
          6
         ],
         "yaxis": "y"
        },
        {
         "alignmentgroup": "True",
         "hovertemplate": "rating=%{x}<br>count=%{text}<extra></extra>",
         "legendgroup": "UR",
         "marker": {
          "color": "#00cc96"
         },
         "name": "UR",
         "offsetgroup": "UR",
         "orientation": "v",
         "showlegend": true,
         "text": [
          5
         ],
         "textposition": "outside",
         "type": "bar",
         "x": [
          "UR"
         ],
         "xaxis": "x",
         "y": [
          5
         ],
         "yaxis": "y"
        },
        {
         "alignmentgroup": "True",
         "hovertemplate": "rating=%{x}<br>count=%{text}<extra></extra>",
         "legendgroup": "NC-17",
         "marker": {
          "color": "#ab63fa"
         },
         "name": "NC-17",
         "offsetgroup": "NC-17",
         "orientation": "v",
         "showlegend": true,
         "text": [
          3
         ],
         "textposition": "outside",
         "type": "bar",
         "x": [
          "NC-17"
         ],
         "xaxis": "x",
         "y": [
          3
         ],
         "yaxis": "y"
        }
       ],
       "layout": {
        "barmode": "relative",
        "legend": {
         "title": {
          "text": "rating"
         },
         "tracegroupgap": 0
        },
        "template": {
         "data": {
          "bar": [
           {
            "error_x": {
             "color": "#2a3f5f"
            },
            "error_y": {
             "color": "#2a3f5f"
            },
            "marker": {
             "line": {
              "color": "#E5ECF6",
              "width": 0.5
             }
            },
            "type": "bar"
           }
          ],
          "barpolar": [
           {
            "marker": {
             "line": {
              "color": "#E5ECF6",
              "width": 0.5
             }
            },
            "type": "barpolar"
           }
          ],
          "carpet": [
           {
            "aaxis": {
             "endlinecolor": "#2a3f5f",
             "gridcolor": "white",
             "linecolor": "white",
             "minorgridcolor": "white",
             "startlinecolor": "#2a3f5f"
            },
            "baxis": {
             "endlinecolor": "#2a3f5f",
             "gridcolor": "white",
             "linecolor": "white",
             "minorgridcolor": "white",
             "startlinecolor": "#2a3f5f"
            },
            "type": "carpet"
           }
          ],
          "choropleth": [
           {
            "colorbar": {
             "outlinewidth": 0,
             "ticks": ""
            },
            "type": "choropleth"
           }
          ],
          "contour": [
           {
            "colorbar": {
             "outlinewidth": 0,
             "ticks": ""
            },
            "colorscale": [
             [
              0,
              "#0d0887"
             ],
             [
              0.1111111111111111,
              "#46039f"
             ],
             [
              0.2222222222222222,
              "#7201a8"
             ],
             [
              0.3333333333333333,
              "#9c179e"
             ],
             [
              0.4444444444444444,
              "#bd3786"
             ],
             [
              0.5555555555555556,
              "#d8576b"
             ],
             [
              0.6666666666666666,
              "#ed7953"
             ],
             [
              0.7777777777777778,
              "#fb9f3a"
             ],
             [
              0.8888888888888888,
              "#fdca26"
             ],
             [
              1,
              "#f0f921"
             ]
            ],
            "type": "contour"
           }
          ],
          "contourcarpet": [
           {
            "colorbar": {
             "outlinewidth": 0,
             "ticks": ""
            },
            "type": "contourcarpet"
           }
          ],
          "heatmap": [
           {
            "colorbar": {
             "outlinewidth": 0,
             "ticks": ""
            },
            "colorscale": [
             [
              0,
              "#0d0887"
             ],
             [
              0.1111111111111111,
              "#46039f"
             ],
             [
              0.2222222222222222,
              "#7201a8"
             ],
             [
              0.3333333333333333,
              "#9c179e"
             ],
             [
              0.4444444444444444,
              "#bd3786"
             ],
             [
              0.5555555555555556,
              "#d8576b"
             ],
             [
              0.6666666666666666,
              "#ed7953"
             ],
             [
              0.7777777777777778,
              "#fb9f3a"
             ],
             [
              0.8888888888888888,
              "#fdca26"
             ],
             [
              1,
              "#f0f921"
             ]
            ],
            "type": "heatmap"
           }
          ],
          "heatmapgl": [
           {
            "colorbar": {
             "outlinewidth": 0,
             "ticks": ""
            },
            "colorscale": [
             [
              0,
              "#0d0887"
             ],
             [
              0.1111111111111111,
              "#46039f"
             ],
             [
              0.2222222222222222,
              "#7201a8"
             ],
             [
              0.3333333333333333,
              "#9c179e"
             ],
             [
              0.4444444444444444,
              "#bd3786"
             ],
             [
              0.5555555555555556,
              "#d8576b"
             ],
             [
              0.6666666666666666,
              "#ed7953"
             ],
             [
              0.7777777777777778,
              "#fb9f3a"
             ],
             [
              0.8888888888888888,
              "#fdca26"
             ],
             [
              1,
              "#f0f921"
             ]
            ],
            "type": "heatmapgl"
           }
          ],
          "histogram": [
           {
            "marker": {
             "colorbar": {
              "outlinewidth": 0,
              "ticks": ""
             }
            },
            "type": "histogram"
           }
          ],
          "histogram2d": [
           {
            "colorbar": {
             "outlinewidth": 0,
             "ticks": ""
            },
            "colorscale": [
             [
              0,
              "#0d0887"
             ],
             [
              0.1111111111111111,
              "#46039f"
             ],
             [
              0.2222222222222222,
              "#7201a8"
             ],
             [
              0.3333333333333333,
              "#9c179e"
             ],
             [
              0.4444444444444444,
              "#bd3786"
             ],
             [
              0.5555555555555556,
              "#d8576b"
             ],
             [
              0.6666666666666666,
              "#ed7953"
             ],
             [
              0.7777777777777778,
              "#fb9f3a"
             ],
             [
              0.8888888888888888,
              "#fdca26"
             ],
             [
              1,
              "#f0f921"
             ]
            ],
            "type": "histogram2d"
           }
          ],
          "histogram2dcontour": [
           {
            "colorbar": {
             "outlinewidth": 0,
             "ticks": ""
            },
            "colorscale": [
             [
              0,
              "#0d0887"
             ],
             [
              0.1111111111111111,
              "#46039f"
             ],
             [
              0.2222222222222222,
              "#7201a8"
             ],
             [
              0.3333333333333333,
              "#9c179e"
             ],
             [
              0.4444444444444444,
              "#bd3786"
             ],
             [
              0.5555555555555556,
              "#d8576b"
             ],
             [
              0.6666666666666666,
              "#ed7953"
             ],
             [
              0.7777777777777778,
              "#fb9f3a"
             ],
             [
              0.8888888888888888,
              "#fdca26"
             ],
             [
              1,
              "#f0f921"
             ]
            ],
            "type": "histogram2dcontour"
           }
          ],
          "mesh3d": [
           {
            "colorbar": {
             "outlinewidth": 0,
             "ticks": ""
            },
            "type": "mesh3d"
           }
          ],
          "parcoords": [
           {
            "line": {
             "colorbar": {
              "outlinewidth": 0,
              "ticks": ""
             }
            },
            "type": "parcoords"
           }
          ],
          "pie": [
           {
            "automargin": true,
            "type": "pie"
           }
          ],
          "scatter": [
           {
            "marker": {
             "colorbar": {
              "outlinewidth": 0,
              "ticks": ""
             }
            },
            "type": "scatter"
           }
          ],
          "scatter3d": [
           {
            "line": {
             "colorbar": {
              "outlinewidth": 0,
              "ticks": ""
             }
            },
            "marker": {
             "colorbar": {
              "outlinewidth": 0,
              "ticks": ""
             }
            },
            "type": "scatter3d"
           }
          ],
          "scattercarpet": [
           {
            "marker": {
             "colorbar": {
              "outlinewidth": 0,
              "ticks": ""
             }
            },
            "type": "scattercarpet"
           }
          ],
          "scattergeo": [
           {
            "marker": {
             "colorbar": {
              "outlinewidth": 0,
              "ticks": ""
             }
            },
            "type": "scattergeo"
           }
          ],
          "scattergl": [
           {
            "marker": {
             "colorbar": {
              "outlinewidth": 0,
              "ticks": ""
             }
            },
            "type": "scattergl"
           }
          ],
          "scattermapbox": [
           {
            "marker": {
             "colorbar": {
              "outlinewidth": 0,
              "ticks": ""
             }
            },
            "type": "scattermapbox"
           }
          ],
          "scatterpolar": [
           {
            "marker": {
             "colorbar": {
              "outlinewidth": 0,
              "ticks": ""
             }
            },
            "type": "scatterpolar"
           }
          ],
          "scatterpolargl": [
           {
            "marker": {
             "colorbar": {
              "outlinewidth": 0,
              "ticks": ""
             }
            },
            "type": "scatterpolargl"
           }
          ],
          "scatterternary": [
           {
            "marker": {
             "colorbar": {
              "outlinewidth": 0,
              "ticks": ""
             }
            },
            "type": "scatterternary"
           }
          ],
          "surface": [
           {
            "colorbar": {
             "outlinewidth": 0,
             "ticks": ""
            },
            "colorscale": [
             [
              0,
              "#0d0887"
             ],
             [
              0.1111111111111111,
              "#46039f"
             ],
             [
              0.2222222222222222,
              "#7201a8"
             ],
             [
              0.3333333333333333,
              "#9c179e"
             ],
             [
              0.4444444444444444,
              "#bd3786"
             ],
             [
              0.5555555555555556,
              "#d8576b"
             ],
             [
              0.6666666666666666,
              "#ed7953"
             ],
             [
              0.7777777777777778,
              "#fb9f3a"
             ],
             [
              0.8888888888888888,
              "#fdca26"
             ],
             [
              1,
              "#f0f921"
             ]
            ],
            "type": "surface"
           }
          ],
          "table": [
           {
            "cells": {
             "fill": {
              "color": "#EBF0F8"
             },
             "line": {
              "color": "white"
             }
            },
            "header": {
             "fill": {
              "color": "#C8D4E3"
             },
             "line": {
              "color": "white"
             }
            },
            "type": "table"
           }
          ]
         },
         "layout": {
          "annotationdefaults": {
           "arrowcolor": "#2a3f5f",
           "arrowhead": 0,
           "arrowwidth": 1
          },
          "coloraxis": {
           "colorbar": {
            "outlinewidth": 0,
            "ticks": ""
           }
          },
          "colorscale": {
           "diverging": [
            [
             0,
             "#8e0152"
            ],
            [
             0.1,
             "#c51b7d"
            ],
            [
             0.2,
             "#de77ae"
            ],
            [
             0.3,
             "#f1b6da"
            ],
            [
             0.4,
             "#fde0ef"
            ],
            [
             0.5,
             "#f7f7f7"
            ],
            [
             0.6,
             "#e6f5d0"
            ],
            [
             0.7,
             "#b8e186"
            ],
            [
             0.8,
             "#7fbc41"
            ],
            [
             0.9,
             "#4d9221"
            ],
            [
             1,
             "#276419"
            ]
           ],
           "sequential": [
            [
             0,
             "#0d0887"
            ],
            [
             0.1111111111111111,
             "#46039f"
            ],
            [
             0.2222222222222222,
             "#7201a8"
            ],
            [
             0.3333333333333333,
             "#9c179e"
            ],
            [
             0.4444444444444444,
             "#bd3786"
            ],
            [
             0.5555555555555556,
             "#d8576b"
            ],
            [
             0.6666666666666666,
             "#ed7953"
            ],
            [
             0.7777777777777778,
             "#fb9f3a"
            ],
            [
             0.8888888888888888,
             "#fdca26"
            ],
            [
             1,
             "#f0f921"
            ]
           ],
           "sequentialminus": [
            [
             0,
             "#0d0887"
            ],
            [
             0.1111111111111111,
             "#46039f"
            ],
            [
             0.2222222222222222,
             "#7201a8"
            ],
            [
             0.3333333333333333,
             "#9c179e"
            ],
            [
             0.4444444444444444,
             "#bd3786"
            ],
            [
             0.5555555555555556,
             "#d8576b"
            ],
            [
             0.6666666666666666,
             "#ed7953"
            ],
            [
             0.7777777777777778,
             "#fb9f3a"
            ],
            [
             0.8888888888888888,
             "#fdca26"
            ],
            [
             1,
             "#f0f921"
            ]
           ]
          },
          "colorway": [
           "#636efa",
           "#EF553B",
           "#00cc96",
           "#ab63fa",
           "#FFA15A",
           "#19d3f3",
           "#FF6692",
           "#B6E880",
           "#FF97FF",
           "#FECB52"
          ],
          "font": {
           "color": "#2a3f5f"
          },
          "geo": {
           "bgcolor": "white",
           "lakecolor": "white",
           "landcolor": "#E5ECF6",
           "showlakes": true,
           "showland": true,
           "subunitcolor": "white"
          },
          "hoverlabel": {
           "align": "left"
          },
          "hovermode": "closest",
          "mapbox": {
           "style": "light"
          },
          "paper_bgcolor": "white",
          "plot_bgcolor": "#E5ECF6",
          "polar": {
           "angularaxis": {
            "gridcolor": "white",
            "linecolor": "white",
            "ticks": ""
           },
           "bgcolor": "#E5ECF6",
           "radialaxis": {
            "gridcolor": "white",
            "linecolor": "white",
            "ticks": ""
           }
          },
          "scene": {
           "xaxis": {
            "backgroundcolor": "#E5ECF6",
            "gridcolor": "white",
            "gridwidth": 2,
            "linecolor": "white",
            "showbackground": true,
            "ticks": "",
            "zerolinecolor": "white"
           },
           "yaxis": {
            "backgroundcolor": "#E5ECF6",
            "gridcolor": "white",
            "gridwidth": 2,
            "linecolor": "white",
            "showbackground": true,
            "ticks": "",
            "zerolinecolor": "white"
           },
           "zaxis": {
            "backgroundcolor": "#E5ECF6",
            "gridcolor": "white",
            "gridwidth": 2,
            "linecolor": "white",
            "showbackground": true,
            "ticks": "",
            "zerolinecolor": "white"
           }
          },
          "shapedefaults": {
           "line": {
            "color": "#2a3f5f"
           }
          },
          "ternary": {
           "aaxis": {
            "gridcolor": "white",
            "linecolor": "white",
            "ticks": ""
           },
           "baxis": {
            "gridcolor": "white",
            "linecolor": "white",
            "ticks": ""
           },
           "bgcolor": "#E5ECF6",
           "caxis": {
            "gridcolor": "white",
            "linecolor": "white",
            "ticks": ""
           }
          },
          "title": {
           "x": 0.05
          },
          "xaxis": {
           "automargin": true,
           "gridcolor": "white",
           "linecolor": "white",
           "ticks": "",
           "title": {
            "standoff": 15
           },
           "zerolinecolor": "white",
           "zerolinewidth": 2
          },
          "yaxis": {
           "automargin": true,
           "gridcolor": "white",
           "linecolor": "white",
           "ticks": "",
           "title": {
            "standoff": 15
           },
           "zerolinecolor": "white",
           "zerolinewidth": 2
          }
         }
        },
        "title": {
         "text": "Rating Count"
        },
        "xaxis": {
         "anchor": "y",
         "categoryarray": [
          "TV-MA",
          "TV-14",
          "TV-PG",
          "R",
          "PG-13",
          "TV-Y",
          "TV-Y7",
          "PG",
          "TV-G",
          "NR",
          "G",
          "TV-Y7-FV",
          "UR",
          "NC-17"
         ],
         "categoryorder": "array",
         "domain": [
          0,
          1
         ],
         "title": {
          "text": "rating"
         }
        },
        "yaxis": {
         "anchor": "x",
         "domain": [
          0,
          1
         ],
         "title": {
          "text": "count"
         }
        }
       }
      },
      "text/html": [
       "<div>\n",
       "        \n",
       "        \n",
       "            <div id=\"3d95a506-c8c0-41c3-b411-37ccc22cec46\" class=\"plotly-graph-div\" style=\"height:525px; width:100%;\"></div>\n",
       "            <script type=\"text/javascript\">\n",
       "                require([\"plotly\"], function(Plotly) {\n",
       "                    window.PLOTLYENV=window.PLOTLYENV || {};\n",
       "                    \n",
       "                if (document.getElementById(\"3d95a506-c8c0-41c3-b411-37ccc22cec46\")) {\n",
       "                    Plotly.newPlot(\n",
       "                        '3d95a506-c8c0-41c3-b411-37ccc22cec46',\n",
       "                        [{\"alignmentgroup\": \"True\", \"hovertemplate\": \"rating=%{x}<br>count=%{text}<extra></extra>\", \"legendgroup\": \"TV-MA\", \"marker\": {\"color\": \"#636efa\"}, \"name\": \"TV-MA\", \"offsetgroup\": \"TV-MA\", \"orientation\": \"v\", \"showlegend\": true, \"text\": [2863.0], \"textposition\": \"outside\", \"type\": \"bar\", \"x\": [\"TV-MA\"], \"xaxis\": \"x\", \"y\": [2863], \"yaxis\": \"y\"}, {\"alignmentgroup\": \"True\", \"hovertemplate\": \"rating=%{x}<br>count=%{text}<extra></extra>\", \"legendgroup\": \"TV-14\", \"marker\": {\"color\": \"#EF553B\"}, \"name\": \"TV-14\", \"offsetgroup\": \"TV-14\", \"orientation\": \"v\", \"showlegend\": true, \"text\": [1931.0], \"textposition\": \"outside\", \"type\": \"bar\", \"x\": [\"TV-14\"], \"xaxis\": \"x\", \"y\": [1931], \"yaxis\": \"y\"}, {\"alignmentgroup\": \"True\", \"hovertemplate\": \"rating=%{x}<br>count=%{text}<extra></extra>\", \"legendgroup\": \"TV-PG\", \"marker\": {\"color\": \"#00cc96\"}, \"name\": \"TV-PG\", \"offsetgroup\": \"TV-PG\", \"orientation\": \"v\", \"showlegend\": true, \"text\": [806.0], \"textposition\": \"outside\", \"type\": \"bar\", \"x\": [\"TV-PG\"], \"xaxis\": \"x\", \"y\": [806], \"yaxis\": \"y\"}, {\"alignmentgroup\": \"True\", \"hovertemplate\": \"rating=%{x}<br>count=%{text}<extra></extra>\", \"legendgroup\": \"R\", \"marker\": {\"color\": \"#ab63fa\"}, \"name\": \"R\", \"offsetgroup\": \"R\", \"orientation\": \"v\", \"showlegend\": true, \"text\": [665.0], \"textposition\": \"outside\", \"type\": \"bar\", \"x\": [\"R\"], \"xaxis\": \"x\", \"y\": [665], \"yaxis\": \"y\"}, {\"alignmentgroup\": \"True\", \"hovertemplate\": \"rating=%{x}<br>count=%{text}<extra></extra>\", \"legendgroup\": \"PG-13\", \"marker\": {\"color\": \"#FFA15A\"}, \"name\": \"PG-13\", \"offsetgroup\": \"PG-13\", \"orientation\": \"v\", \"showlegend\": true, \"text\": [386.0], \"textposition\": \"outside\", \"type\": \"bar\", \"x\": [\"PG-13\"], \"xaxis\": \"x\", \"y\": [386], \"yaxis\": \"y\"}, {\"alignmentgroup\": \"True\", \"hovertemplate\": \"rating=%{x}<br>count=%{text}<extra></extra>\", \"legendgroup\": \"TV-Y\", \"marker\": {\"color\": \"#19d3f3\"}, \"name\": \"TV-Y\", \"offsetgroup\": \"TV-Y\", \"orientation\": \"v\", \"showlegend\": true, \"text\": [280.0], \"textposition\": \"outside\", \"type\": \"bar\", \"x\": [\"TV-Y\"], \"xaxis\": \"x\", \"y\": [280], \"yaxis\": \"y\"}, {\"alignmentgroup\": \"True\", \"hovertemplate\": \"rating=%{x}<br>count=%{text}<extra></extra>\", \"legendgroup\": \"TV-Y7\", \"marker\": {\"color\": \"#FF6692\"}, \"name\": \"TV-Y7\", \"offsetgroup\": \"TV-Y7\", \"orientation\": \"v\", \"showlegend\": true, \"text\": [271.0], \"textposition\": \"outside\", \"type\": \"bar\", \"x\": [\"TV-Y7\"], \"xaxis\": \"x\", \"y\": [271], \"yaxis\": \"y\"}, {\"alignmentgroup\": \"True\", \"hovertemplate\": \"rating=%{x}<br>count=%{text}<extra></extra>\", \"legendgroup\": \"PG\", \"marker\": {\"color\": \"#B6E880\"}, \"name\": \"PG\", \"offsetgroup\": \"PG\", \"orientation\": \"v\", \"showlegend\": true, \"text\": [247.0], \"textposition\": \"outside\", \"type\": \"bar\", \"x\": [\"PG\"], \"xaxis\": \"x\", \"y\": [247], \"yaxis\": \"y\"}, {\"alignmentgroup\": \"True\", \"hovertemplate\": \"rating=%{x}<br>count=%{text}<extra></extra>\", \"legendgroup\": \"TV-G\", \"marker\": {\"color\": \"#FF97FF\"}, \"name\": \"TV-G\", \"offsetgroup\": \"TV-G\", \"orientation\": \"v\", \"showlegend\": true, \"text\": [194.0], \"textposition\": \"outside\", \"type\": \"bar\", \"x\": [\"TV-G\"], \"xaxis\": \"x\", \"y\": [194], \"yaxis\": \"y\"}, {\"alignmentgroup\": \"True\", \"hovertemplate\": \"rating=%{x}<br>count=%{text}<extra></extra>\", \"legendgroup\": \"NR\", \"marker\": {\"color\": \"#FECB52\"}, \"name\": \"NR\", \"offsetgroup\": \"NR\", \"orientation\": \"v\", \"showlegend\": true, \"text\": [84.0], \"textposition\": \"outside\", \"type\": \"bar\", \"x\": [\"NR\"], \"xaxis\": \"x\", \"y\": [84], \"yaxis\": \"y\"}, {\"alignmentgroup\": \"True\", \"hovertemplate\": \"rating=%{x}<br>count=%{text}<extra></extra>\", \"legendgroup\": \"G\", \"marker\": {\"color\": \"#636efa\"}, \"name\": \"G\", \"offsetgroup\": \"G\", \"orientation\": \"v\", \"showlegend\": true, \"text\": [39.0], \"textposition\": \"outside\", \"type\": \"bar\", \"x\": [\"G\"], \"xaxis\": \"x\", \"y\": [39], \"yaxis\": \"y\"}, {\"alignmentgroup\": \"True\", \"hovertemplate\": \"rating=%{x}<br>count=%{text}<extra></extra>\", \"legendgroup\": \"TV-Y7-FV\", \"marker\": {\"color\": \"#EF553B\"}, \"name\": \"TV-Y7-FV\", \"offsetgroup\": \"TV-Y7-FV\", \"orientation\": \"v\", \"showlegend\": true, \"text\": [6.0], \"textposition\": \"outside\", \"type\": \"bar\", \"x\": [\"TV-Y7-FV\"], \"xaxis\": \"x\", \"y\": [6], \"yaxis\": \"y\"}, {\"alignmentgroup\": \"True\", \"hovertemplate\": \"rating=%{x}<br>count=%{text}<extra></extra>\", \"legendgroup\": \"UR\", \"marker\": {\"color\": \"#00cc96\"}, \"name\": \"UR\", \"offsetgroup\": \"UR\", \"orientation\": \"v\", \"showlegend\": true, \"text\": [5.0], \"textposition\": \"outside\", \"type\": \"bar\", \"x\": [\"UR\"], \"xaxis\": \"x\", \"y\": [5], \"yaxis\": \"y\"}, {\"alignmentgroup\": \"True\", \"hovertemplate\": \"rating=%{x}<br>count=%{text}<extra></extra>\", \"legendgroup\": \"NC-17\", \"marker\": {\"color\": \"#ab63fa\"}, \"name\": \"NC-17\", \"offsetgroup\": \"NC-17\", \"orientation\": \"v\", \"showlegend\": true, \"text\": [3.0], \"textposition\": \"outside\", \"type\": \"bar\", \"x\": [\"NC-17\"], \"xaxis\": \"x\", \"y\": [3], \"yaxis\": \"y\"}],\n",
       "                        {\"barmode\": \"relative\", \"legend\": {\"title\": {\"text\": \"rating\"}, \"tracegroupgap\": 0}, \"template\": {\"data\": {\"bar\": [{\"error_x\": {\"color\": \"#2a3f5f\"}, \"error_y\": {\"color\": \"#2a3f5f\"}, \"marker\": {\"line\": {\"color\": \"#E5ECF6\", \"width\": 0.5}}, \"type\": \"bar\"}], \"barpolar\": [{\"marker\": {\"line\": {\"color\": \"#E5ECF6\", \"width\": 0.5}}, \"type\": \"barpolar\"}], \"carpet\": [{\"aaxis\": {\"endlinecolor\": \"#2a3f5f\", \"gridcolor\": \"white\", \"linecolor\": \"white\", \"minorgridcolor\": \"white\", \"startlinecolor\": \"#2a3f5f\"}, \"baxis\": {\"endlinecolor\": \"#2a3f5f\", \"gridcolor\": \"white\", \"linecolor\": \"white\", \"minorgridcolor\": \"white\", \"startlinecolor\": \"#2a3f5f\"}, \"type\": \"carpet\"}], \"choropleth\": [{\"colorbar\": {\"outlinewidth\": 0, \"ticks\": \"\"}, \"type\": \"choropleth\"}], \"contour\": [{\"colorbar\": {\"outlinewidth\": 0, \"ticks\": \"\"}, \"colorscale\": [[0.0, \"#0d0887\"], [0.1111111111111111, \"#46039f\"], [0.2222222222222222, \"#7201a8\"], [0.3333333333333333, \"#9c179e\"], [0.4444444444444444, \"#bd3786\"], [0.5555555555555556, \"#d8576b\"], [0.6666666666666666, \"#ed7953\"], [0.7777777777777778, \"#fb9f3a\"], [0.8888888888888888, \"#fdca26\"], [1.0, \"#f0f921\"]], \"type\": \"contour\"}], \"contourcarpet\": [{\"colorbar\": {\"outlinewidth\": 0, \"ticks\": \"\"}, \"type\": \"contourcarpet\"}], \"heatmap\": [{\"colorbar\": {\"outlinewidth\": 0, \"ticks\": \"\"}, \"colorscale\": [[0.0, \"#0d0887\"], [0.1111111111111111, \"#46039f\"], [0.2222222222222222, \"#7201a8\"], [0.3333333333333333, \"#9c179e\"], [0.4444444444444444, \"#bd3786\"], [0.5555555555555556, \"#d8576b\"], [0.6666666666666666, \"#ed7953\"], [0.7777777777777778, \"#fb9f3a\"], [0.8888888888888888, \"#fdca26\"], [1.0, \"#f0f921\"]], \"type\": \"heatmap\"}], \"heatmapgl\": [{\"colorbar\": {\"outlinewidth\": 0, \"ticks\": \"\"}, \"colorscale\": [[0.0, \"#0d0887\"], [0.1111111111111111, \"#46039f\"], [0.2222222222222222, \"#7201a8\"], [0.3333333333333333, \"#9c179e\"], [0.4444444444444444, \"#bd3786\"], [0.5555555555555556, \"#d8576b\"], [0.6666666666666666, \"#ed7953\"], [0.7777777777777778, \"#fb9f3a\"], [0.8888888888888888, \"#fdca26\"], [1.0, \"#f0f921\"]], \"type\": \"heatmapgl\"}], \"histogram\": [{\"marker\": {\"colorbar\": {\"outlinewidth\": 0, \"ticks\": \"\"}}, \"type\": \"histogram\"}], \"histogram2d\": [{\"colorbar\": {\"outlinewidth\": 0, \"ticks\": \"\"}, \"colorscale\": [[0.0, \"#0d0887\"], [0.1111111111111111, \"#46039f\"], [0.2222222222222222, \"#7201a8\"], [0.3333333333333333, \"#9c179e\"], [0.4444444444444444, \"#bd3786\"], [0.5555555555555556, \"#d8576b\"], [0.6666666666666666, \"#ed7953\"], [0.7777777777777778, \"#fb9f3a\"], [0.8888888888888888, \"#fdca26\"], [1.0, \"#f0f921\"]], \"type\": \"histogram2d\"}], \"histogram2dcontour\": [{\"colorbar\": {\"outlinewidth\": 0, \"ticks\": \"\"}, \"colorscale\": [[0.0, \"#0d0887\"], [0.1111111111111111, \"#46039f\"], [0.2222222222222222, \"#7201a8\"], [0.3333333333333333, \"#9c179e\"], [0.4444444444444444, \"#bd3786\"], [0.5555555555555556, \"#d8576b\"], [0.6666666666666666, \"#ed7953\"], [0.7777777777777778, \"#fb9f3a\"], [0.8888888888888888, \"#fdca26\"], [1.0, \"#f0f921\"]], \"type\": \"histogram2dcontour\"}], \"mesh3d\": [{\"colorbar\": {\"outlinewidth\": 0, \"ticks\": \"\"}, \"type\": \"mesh3d\"}], \"parcoords\": [{\"line\": {\"colorbar\": {\"outlinewidth\": 0, \"ticks\": \"\"}}, \"type\": \"parcoords\"}], \"pie\": [{\"automargin\": true, \"type\": \"pie\"}], \"scatter\": [{\"marker\": {\"colorbar\": {\"outlinewidth\": 0, \"ticks\": \"\"}}, \"type\": \"scatter\"}], \"scatter3d\": [{\"line\": {\"colorbar\": {\"outlinewidth\": 0, \"ticks\": \"\"}}, \"marker\": {\"colorbar\": {\"outlinewidth\": 0, \"ticks\": \"\"}}, \"type\": \"scatter3d\"}], \"scattercarpet\": [{\"marker\": {\"colorbar\": {\"outlinewidth\": 0, \"ticks\": \"\"}}, \"type\": \"scattercarpet\"}], \"scattergeo\": [{\"marker\": {\"colorbar\": {\"outlinewidth\": 0, \"ticks\": \"\"}}, \"type\": \"scattergeo\"}], \"scattergl\": [{\"marker\": {\"colorbar\": {\"outlinewidth\": 0, \"ticks\": \"\"}}, \"type\": \"scattergl\"}], \"scattermapbox\": [{\"marker\": {\"colorbar\": {\"outlinewidth\": 0, \"ticks\": \"\"}}, \"type\": \"scattermapbox\"}], \"scatterpolar\": [{\"marker\": {\"colorbar\": {\"outlinewidth\": 0, \"ticks\": \"\"}}, \"type\": \"scatterpolar\"}], \"scatterpolargl\": [{\"marker\": {\"colorbar\": {\"outlinewidth\": 0, \"ticks\": \"\"}}, \"type\": \"scatterpolargl\"}], \"scatterternary\": [{\"marker\": {\"colorbar\": {\"outlinewidth\": 0, \"ticks\": \"\"}}, \"type\": \"scatterternary\"}], \"surface\": [{\"colorbar\": {\"outlinewidth\": 0, \"ticks\": \"\"}, \"colorscale\": [[0.0, \"#0d0887\"], [0.1111111111111111, \"#46039f\"], [0.2222222222222222, \"#7201a8\"], [0.3333333333333333, \"#9c179e\"], [0.4444444444444444, \"#bd3786\"], [0.5555555555555556, \"#d8576b\"], [0.6666666666666666, \"#ed7953\"], [0.7777777777777778, \"#fb9f3a\"], [0.8888888888888888, \"#fdca26\"], [1.0, \"#f0f921\"]], \"type\": \"surface\"}], \"table\": [{\"cells\": {\"fill\": {\"color\": \"#EBF0F8\"}, \"line\": {\"color\": \"white\"}}, \"header\": {\"fill\": {\"color\": \"#C8D4E3\"}, \"line\": {\"color\": \"white\"}}, \"type\": \"table\"}]}, \"layout\": {\"annotationdefaults\": {\"arrowcolor\": \"#2a3f5f\", \"arrowhead\": 0, \"arrowwidth\": 1}, \"coloraxis\": {\"colorbar\": {\"outlinewidth\": 0, \"ticks\": \"\"}}, \"colorscale\": {\"diverging\": [[0, \"#8e0152\"], [0.1, \"#c51b7d\"], [0.2, \"#de77ae\"], [0.3, \"#f1b6da\"], [0.4, \"#fde0ef\"], [0.5, \"#f7f7f7\"], [0.6, \"#e6f5d0\"], [0.7, \"#b8e186\"], [0.8, \"#7fbc41\"], [0.9, \"#4d9221\"], [1, \"#276419\"]], \"sequential\": [[0.0, \"#0d0887\"], [0.1111111111111111, \"#46039f\"], [0.2222222222222222, \"#7201a8\"], [0.3333333333333333, \"#9c179e\"], [0.4444444444444444, \"#bd3786\"], [0.5555555555555556, \"#d8576b\"], [0.6666666666666666, \"#ed7953\"], [0.7777777777777778, \"#fb9f3a\"], [0.8888888888888888, \"#fdca26\"], [1.0, \"#f0f921\"]], \"sequentialminus\": [[0.0, \"#0d0887\"], [0.1111111111111111, \"#46039f\"], [0.2222222222222222, \"#7201a8\"], [0.3333333333333333, \"#9c179e\"], [0.4444444444444444, \"#bd3786\"], [0.5555555555555556, \"#d8576b\"], [0.6666666666666666, \"#ed7953\"], [0.7777777777777778, \"#fb9f3a\"], [0.8888888888888888, \"#fdca26\"], [1.0, \"#f0f921\"]]}, \"colorway\": [\"#636efa\", \"#EF553B\", \"#00cc96\", \"#ab63fa\", \"#FFA15A\", \"#19d3f3\", \"#FF6692\", \"#B6E880\", \"#FF97FF\", \"#FECB52\"], \"font\": {\"color\": \"#2a3f5f\"}, \"geo\": {\"bgcolor\": \"white\", \"lakecolor\": \"white\", \"landcolor\": \"#E5ECF6\", \"showlakes\": true, \"showland\": true, \"subunitcolor\": \"white\"}, \"hoverlabel\": {\"align\": \"left\"}, \"hovermode\": \"closest\", \"mapbox\": {\"style\": \"light\"}, \"paper_bgcolor\": \"white\", \"plot_bgcolor\": \"#E5ECF6\", \"polar\": {\"angularaxis\": {\"gridcolor\": \"white\", \"linecolor\": \"white\", \"ticks\": \"\"}, \"bgcolor\": \"#E5ECF6\", \"radialaxis\": {\"gridcolor\": \"white\", \"linecolor\": \"white\", \"ticks\": \"\"}}, \"scene\": {\"xaxis\": {\"backgroundcolor\": \"#E5ECF6\", \"gridcolor\": \"white\", \"gridwidth\": 2, \"linecolor\": \"white\", \"showbackground\": true, \"ticks\": \"\", \"zerolinecolor\": \"white\"}, \"yaxis\": {\"backgroundcolor\": \"#E5ECF6\", \"gridcolor\": \"white\", \"gridwidth\": 2, \"linecolor\": \"white\", \"showbackground\": true, \"ticks\": \"\", \"zerolinecolor\": \"white\"}, \"zaxis\": {\"backgroundcolor\": \"#E5ECF6\", \"gridcolor\": \"white\", \"gridwidth\": 2, \"linecolor\": \"white\", \"showbackground\": true, \"ticks\": \"\", \"zerolinecolor\": \"white\"}}, \"shapedefaults\": {\"line\": {\"color\": \"#2a3f5f\"}}, \"ternary\": {\"aaxis\": {\"gridcolor\": \"white\", \"linecolor\": \"white\", \"ticks\": \"\"}, \"baxis\": {\"gridcolor\": \"white\", \"linecolor\": \"white\", \"ticks\": \"\"}, \"bgcolor\": \"#E5ECF6\", \"caxis\": {\"gridcolor\": \"white\", \"linecolor\": \"white\", \"ticks\": \"\"}}, \"title\": {\"x\": 0.05}, \"xaxis\": {\"automargin\": true, \"gridcolor\": \"white\", \"linecolor\": \"white\", \"ticks\": \"\", \"title\": {\"standoff\": 15}, \"zerolinecolor\": \"white\", \"zerolinewidth\": 2}, \"yaxis\": {\"automargin\": true, \"gridcolor\": \"white\", \"linecolor\": \"white\", \"ticks\": \"\", \"title\": {\"standoff\": 15}, \"zerolinecolor\": \"white\", \"zerolinewidth\": 2}}}, \"title\": {\"text\": \"Rating Count\"}, \"xaxis\": {\"anchor\": \"y\", \"categoryarray\": [\"TV-MA\", \"TV-14\", \"TV-PG\", \"R\", \"PG-13\", \"TV-Y\", \"TV-Y7\", \"PG\", \"TV-G\", \"NR\", \"G\", \"TV-Y7-FV\", \"UR\", \"NC-17\"], \"categoryorder\": \"array\", \"domain\": [0.0, 1.0], \"title\": {\"text\": \"rating\"}}, \"yaxis\": {\"anchor\": \"x\", \"domain\": [0.0, 1.0], \"title\": {\"text\": \"count\"}}},\n",
       "                        {\"responsive\": true}\n",
       "                    ).then(function(){\n",
       "                            \n",
       "var gd = document.getElementById('3d95a506-c8c0-41c3-b411-37ccc22cec46');\n",
       "var x = new MutationObserver(function (mutations, observer) {{\n",
       "        var display = window.getComputedStyle(gd).display;\n",
       "        if (!display || display === 'none') {{\n",
       "            console.log([gd, 'removed!']);\n",
       "            Plotly.purge(gd);\n",
       "            observer.disconnect();\n",
       "        }}\n",
       "}});\n",
       "\n",
       "// Listen for the removal of the full notebook cells\n",
       "var notebookContainer = gd.closest('#notebook-container');\n",
       "if (notebookContainer) {{\n",
       "    x.observe(notebookContainer, {childList: true});\n",
       "}}\n",
       "\n",
       "// Listen for the clearing of the current output cell\n",
       "var outputEl = gd.closest('.output');\n",
       "if (outputEl) {{\n",
       "    x.observe(outputEl, {childList: true});\n",
       "}}\n",
       "\n",
       "                        })\n",
       "                };\n",
       "                });\n",
       "            </script>\n",
       "        </div>"
      ]
     },
     "metadata": {},
     "output_type": "display_data"
    }
   ],
   "source": [
    "rating = pd.DataFrame(data.groupby(\"rating\")[\"title\"].count())\n",
    "\n",
    "rating.reset_index(inplace=True)\n",
    "\n",
    "rating.columns=[\"rating\", \"count\"]\n",
    "\n",
    "#sorting data\n",
    "rating =pd.DataFrame(rating)\n",
    "rating = rating.sort_values(by=['count'], ascending=False)\n",
    "\n",
    "#creating a barchart\n",
    "fig = px.bar(rating, x=\"rating\", y=\"count\",title=\"Rating Count\",text=\"count\",color=\"rating\")\n",
    "fig.update_traces(textposition=\"outside\")\n",
    "\n",
    "fig.show()"
   ]
  },
  {
   "cell_type": "code",
   "execution_count": 47,
   "metadata": {},
   "outputs": [
    {
     "data": {
      "application/vnd.plotly.v1+json": {
       "config": {
        "plotlyServerURL": "https://plot.ly"
       },
       "data": [
        {
         "domain": {
          "x": [
           0,
           1
          ],
          "y": [
           0,
           1
          ]
         },
         "hole": 0.5,
         "hovertemplate": "rating=%{label}<br>count=%{value}<extra></extra>",
         "labels": [
          "TV-MA",
          "TV-14",
          "TV-PG",
          "R",
          "PG-13",
          "TV-Y",
          "TV-Y7",
          "PG",
          "TV-G",
          "NR",
          "G",
          "TV-Y7-FV",
          "UR",
          "NC-17"
         ],
         "legendgroup": "",
         "name": "",
         "showlegend": true,
         "textinfo": "percent+label",
         "textposition": "inside",
         "type": "pie",
         "values": [
          2863,
          1931,
          806,
          665,
          386,
          280,
          271,
          247,
          194,
          84,
          39,
          6,
          5,
          3
         ]
        }
       ],
       "layout": {
        "legend": {
         "tracegroupgap": 0
        },
        "template": {
         "data": {
          "bar": [
           {
            "error_x": {
             "color": "#2a3f5f"
            },
            "error_y": {
             "color": "#2a3f5f"
            },
            "marker": {
             "line": {
              "color": "#E5ECF6",
              "width": 0.5
             }
            },
            "type": "bar"
           }
          ],
          "barpolar": [
           {
            "marker": {
             "line": {
              "color": "#E5ECF6",
              "width": 0.5
             }
            },
            "type": "barpolar"
           }
          ],
          "carpet": [
           {
            "aaxis": {
             "endlinecolor": "#2a3f5f",
             "gridcolor": "white",
             "linecolor": "white",
             "minorgridcolor": "white",
             "startlinecolor": "#2a3f5f"
            },
            "baxis": {
             "endlinecolor": "#2a3f5f",
             "gridcolor": "white",
             "linecolor": "white",
             "minorgridcolor": "white",
             "startlinecolor": "#2a3f5f"
            },
            "type": "carpet"
           }
          ],
          "choropleth": [
           {
            "colorbar": {
             "outlinewidth": 0,
             "ticks": ""
            },
            "type": "choropleth"
           }
          ],
          "contour": [
           {
            "colorbar": {
             "outlinewidth": 0,
             "ticks": ""
            },
            "colorscale": [
             [
              0,
              "#0d0887"
             ],
             [
              0.1111111111111111,
              "#46039f"
             ],
             [
              0.2222222222222222,
              "#7201a8"
             ],
             [
              0.3333333333333333,
              "#9c179e"
             ],
             [
              0.4444444444444444,
              "#bd3786"
             ],
             [
              0.5555555555555556,
              "#d8576b"
             ],
             [
              0.6666666666666666,
              "#ed7953"
             ],
             [
              0.7777777777777778,
              "#fb9f3a"
             ],
             [
              0.8888888888888888,
              "#fdca26"
             ],
             [
              1,
              "#f0f921"
             ]
            ],
            "type": "contour"
           }
          ],
          "contourcarpet": [
           {
            "colorbar": {
             "outlinewidth": 0,
             "ticks": ""
            },
            "type": "contourcarpet"
           }
          ],
          "heatmap": [
           {
            "colorbar": {
             "outlinewidth": 0,
             "ticks": ""
            },
            "colorscale": [
             [
              0,
              "#0d0887"
             ],
             [
              0.1111111111111111,
              "#46039f"
             ],
             [
              0.2222222222222222,
              "#7201a8"
             ],
             [
              0.3333333333333333,
              "#9c179e"
             ],
             [
              0.4444444444444444,
              "#bd3786"
             ],
             [
              0.5555555555555556,
              "#d8576b"
             ],
             [
              0.6666666666666666,
              "#ed7953"
             ],
             [
              0.7777777777777778,
              "#fb9f3a"
             ],
             [
              0.8888888888888888,
              "#fdca26"
             ],
             [
              1,
              "#f0f921"
             ]
            ],
            "type": "heatmap"
           }
          ],
          "heatmapgl": [
           {
            "colorbar": {
             "outlinewidth": 0,
             "ticks": ""
            },
            "colorscale": [
             [
              0,
              "#0d0887"
             ],
             [
              0.1111111111111111,
              "#46039f"
             ],
             [
              0.2222222222222222,
              "#7201a8"
             ],
             [
              0.3333333333333333,
              "#9c179e"
             ],
             [
              0.4444444444444444,
              "#bd3786"
             ],
             [
              0.5555555555555556,
              "#d8576b"
             ],
             [
              0.6666666666666666,
              "#ed7953"
             ],
             [
              0.7777777777777778,
              "#fb9f3a"
             ],
             [
              0.8888888888888888,
              "#fdca26"
             ],
             [
              1,
              "#f0f921"
             ]
            ],
            "type": "heatmapgl"
           }
          ],
          "histogram": [
           {
            "marker": {
             "colorbar": {
              "outlinewidth": 0,
              "ticks": ""
             }
            },
            "type": "histogram"
           }
          ],
          "histogram2d": [
           {
            "colorbar": {
             "outlinewidth": 0,
             "ticks": ""
            },
            "colorscale": [
             [
              0,
              "#0d0887"
             ],
             [
              0.1111111111111111,
              "#46039f"
             ],
             [
              0.2222222222222222,
              "#7201a8"
             ],
             [
              0.3333333333333333,
              "#9c179e"
             ],
             [
              0.4444444444444444,
              "#bd3786"
             ],
             [
              0.5555555555555556,
              "#d8576b"
             ],
             [
              0.6666666666666666,
              "#ed7953"
             ],
             [
              0.7777777777777778,
              "#fb9f3a"
             ],
             [
              0.8888888888888888,
              "#fdca26"
             ],
             [
              1,
              "#f0f921"
             ]
            ],
            "type": "histogram2d"
           }
          ],
          "histogram2dcontour": [
           {
            "colorbar": {
             "outlinewidth": 0,
             "ticks": ""
            },
            "colorscale": [
             [
              0,
              "#0d0887"
             ],
             [
              0.1111111111111111,
              "#46039f"
             ],
             [
              0.2222222222222222,
              "#7201a8"
             ],
             [
              0.3333333333333333,
              "#9c179e"
             ],
             [
              0.4444444444444444,
              "#bd3786"
             ],
             [
              0.5555555555555556,
              "#d8576b"
             ],
             [
              0.6666666666666666,
              "#ed7953"
             ],
             [
              0.7777777777777778,
              "#fb9f3a"
             ],
             [
              0.8888888888888888,
              "#fdca26"
             ],
             [
              1,
              "#f0f921"
             ]
            ],
            "type": "histogram2dcontour"
           }
          ],
          "mesh3d": [
           {
            "colorbar": {
             "outlinewidth": 0,
             "ticks": ""
            },
            "type": "mesh3d"
           }
          ],
          "parcoords": [
           {
            "line": {
             "colorbar": {
              "outlinewidth": 0,
              "ticks": ""
             }
            },
            "type": "parcoords"
           }
          ],
          "pie": [
           {
            "automargin": true,
            "type": "pie"
           }
          ],
          "scatter": [
           {
            "marker": {
             "colorbar": {
              "outlinewidth": 0,
              "ticks": ""
             }
            },
            "type": "scatter"
           }
          ],
          "scatter3d": [
           {
            "line": {
             "colorbar": {
              "outlinewidth": 0,
              "ticks": ""
             }
            },
            "marker": {
             "colorbar": {
              "outlinewidth": 0,
              "ticks": ""
             }
            },
            "type": "scatter3d"
           }
          ],
          "scattercarpet": [
           {
            "marker": {
             "colorbar": {
              "outlinewidth": 0,
              "ticks": ""
             }
            },
            "type": "scattercarpet"
           }
          ],
          "scattergeo": [
           {
            "marker": {
             "colorbar": {
              "outlinewidth": 0,
              "ticks": ""
             }
            },
            "type": "scattergeo"
           }
          ],
          "scattergl": [
           {
            "marker": {
             "colorbar": {
              "outlinewidth": 0,
              "ticks": ""
             }
            },
            "type": "scattergl"
           }
          ],
          "scattermapbox": [
           {
            "marker": {
             "colorbar": {
              "outlinewidth": 0,
              "ticks": ""
             }
            },
            "type": "scattermapbox"
           }
          ],
          "scatterpolar": [
           {
            "marker": {
             "colorbar": {
              "outlinewidth": 0,
              "ticks": ""
             }
            },
            "type": "scatterpolar"
           }
          ],
          "scatterpolargl": [
           {
            "marker": {
             "colorbar": {
              "outlinewidth": 0,
              "ticks": ""
             }
            },
            "type": "scatterpolargl"
           }
          ],
          "scatterternary": [
           {
            "marker": {
             "colorbar": {
              "outlinewidth": 0,
              "ticks": ""
             }
            },
            "type": "scatterternary"
           }
          ],
          "surface": [
           {
            "colorbar": {
             "outlinewidth": 0,
             "ticks": ""
            },
            "colorscale": [
             [
              0,
              "#0d0887"
             ],
             [
              0.1111111111111111,
              "#46039f"
             ],
             [
              0.2222222222222222,
              "#7201a8"
             ],
             [
              0.3333333333333333,
              "#9c179e"
             ],
             [
              0.4444444444444444,
              "#bd3786"
             ],
             [
              0.5555555555555556,
              "#d8576b"
             ],
             [
              0.6666666666666666,
              "#ed7953"
             ],
             [
              0.7777777777777778,
              "#fb9f3a"
             ],
             [
              0.8888888888888888,
              "#fdca26"
             ],
             [
              1,
              "#f0f921"
             ]
            ],
            "type": "surface"
           }
          ],
          "table": [
           {
            "cells": {
             "fill": {
              "color": "#EBF0F8"
             },
             "line": {
              "color": "white"
             }
            },
            "header": {
             "fill": {
              "color": "#C8D4E3"
             },
             "line": {
              "color": "white"
             }
            },
            "type": "table"
           }
          ]
         },
         "layout": {
          "annotationdefaults": {
           "arrowcolor": "#2a3f5f",
           "arrowhead": 0,
           "arrowwidth": 1
          },
          "coloraxis": {
           "colorbar": {
            "outlinewidth": 0,
            "ticks": ""
           }
          },
          "colorscale": {
           "diverging": [
            [
             0,
             "#8e0152"
            ],
            [
             0.1,
             "#c51b7d"
            ],
            [
             0.2,
             "#de77ae"
            ],
            [
             0.3,
             "#f1b6da"
            ],
            [
             0.4,
             "#fde0ef"
            ],
            [
             0.5,
             "#f7f7f7"
            ],
            [
             0.6,
             "#e6f5d0"
            ],
            [
             0.7,
             "#b8e186"
            ],
            [
             0.8,
             "#7fbc41"
            ],
            [
             0.9,
             "#4d9221"
            ],
            [
             1,
             "#276419"
            ]
           ],
           "sequential": [
            [
             0,
             "#0d0887"
            ],
            [
             0.1111111111111111,
             "#46039f"
            ],
            [
             0.2222222222222222,
             "#7201a8"
            ],
            [
             0.3333333333333333,
             "#9c179e"
            ],
            [
             0.4444444444444444,
             "#bd3786"
            ],
            [
             0.5555555555555556,
             "#d8576b"
            ],
            [
             0.6666666666666666,
             "#ed7953"
            ],
            [
             0.7777777777777778,
             "#fb9f3a"
            ],
            [
             0.8888888888888888,
             "#fdca26"
            ],
            [
             1,
             "#f0f921"
            ]
           ],
           "sequentialminus": [
            [
             0,
             "#0d0887"
            ],
            [
             0.1111111111111111,
             "#46039f"
            ],
            [
             0.2222222222222222,
             "#7201a8"
            ],
            [
             0.3333333333333333,
             "#9c179e"
            ],
            [
             0.4444444444444444,
             "#bd3786"
            ],
            [
             0.5555555555555556,
             "#d8576b"
            ],
            [
             0.6666666666666666,
             "#ed7953"
            ],
            [
             0.7777777777777778,
             "#fb9f3a"
            ],
            [
             0.8888888888888888,
             "#fdca26"
            ],
            [
             1,
             "#f0f921"
            ]
           ]
          },
          "colorway": [
           "#636efa",
           "#EF553B",
           "#00cc96",
           "#ab63fa",
           "#FFA15A",
           "#19d3f3",
           "#FF6692",
           "#B6E880",
           "#FF97FF",
           "#FECB52"
          ],
          "font": {
           "color": "#2a3f5f"
          },
          "geo": {
           "bgcolor": "white",
           "lakecolor": "white",
           "landcolor": "#E5ECF6",
           "showlakes": true,
           "showland": true,
           "subunitcolor": "white"
          },
          "hoverlabel": {
           "align": "left"
          },
          "hovermode": "closest",
          "mapbox": {
           "style": "light"
          },
          "paper_bgcolor": "white",
          "plot_bgcolor": "#E5ECF6",
          "polar": {
           "angularaxis": {
            "gridcolor": "white",
            "linecolor": "white",
            "ticks": ""
           },
           "bgcolor": "#E5ECF6",
           "radialaxis": {
            "gridcolor": "white",
            "linecolor": "white",
            "ticks": ""
           }
          },
          "scene": {
           "xaxis": {
            "backgroundcolor": "#E5ECF6",
            "gridcolor": "white",
            "gridwidth": 2,
            "linecolor": "white",
            "showbackground": true,
            "ticks": "",
            "zerolinecolor": "white"
           },
           "yaxis": {
            "backgroundcolor": "#E5ECF6",
            "gridcolor": "white",
            "gridwidth": 2,
            "linecolor": "white",
            "showbackground": true,
            "ticks": "",
            "zerolinecolor": "white"
           },
           "zaxis": {
            "backgroundcolor": "#E5ECF6",
            "gridcolor": "white",
            "gridwidth": 2,
            "linecolor": "white",
            "showbackground": true,
            "ticks": "",
            "zerolinecolor": "white"
           }
          },
          "shapedefaults": {
           "line": {
            "color": "#2a3f5f"
           }
          },
          "ternary": {
           "aaxis": {
            "gridcolor": "white",
            "linecolor": "white",
            "ticks": ""
           },
           "baxis": {
            "gridcolor": "white",
            "linecolor": "white",
            "ticks": ""
           },
           "bgcolor": "#E5ECF6",
           "caxis": {
            "gridcolor": "white",
            "linecolor": "white",
            "ticks": ""
           }
          },
          "title": {
           "x": 0.05
          },
          "xaxis": {
           "automargin": true,
           "gridcolor": "white",
           "linecolor": "white",
           "ticks": "",
           "title": {
            "standoff": 15
           },
           "zerolinecolor": "white",
           "zerolinewidth": 2
          },
          "yaxis": {
           "automargin": true,
           "gridcolor": "white",
           "linecolor": "white",
           "ticks": "",
           "title": {
            "standoff": 15
           },
           "zerolinecolor": "white",
           "zerolinewidth": 2
          }
         }
        },
        "title": {
         "text": "Rating proportions"
        }
       }
      },
      "text/html": [
       "<div>\n",
       "        \n",
       "        \n",
       "            <div id=\"05a9f852-bf95-4643-aae4-78afb2c0ad49\" class=\"plotly-graph-div\" style=\"height:525px; width:100%;\"></div>\n",
       "            <script type=\"text/javascript\">\n",
       "                require([\"plotly\"], function(Plotly) {\n",
       "                    window.PLOTLYENV=window.PLOTLYENV || {};\n",
       "                    \n",
       "                if (document.getElementById(\"05a9f852-bf95-4643-aae4-78afb2c0ad49\")) {\n",
       "                    Plotly.newPlot(\n",
       "                        '05a9f852-bf95-4643-aae4-78afb2c0ad49',\n",
       "                        [{\"domain\": {\"x\": [0.0, 1.0], \"y\": [0.0, 1.0]}, \"hole\": 0.5, \"hovertemplate\": \"rating=%{label}<br>count=%{value}<extra></extra>\", \"labels\": [\"TV-MA\", \"TV-14\", \"TV-PG\", \"R\", \"PG-13\", \"TV-Y\", \"TV-Y7\", \"PG\", \"TV-G\", \"NR\", \"G\", \"TV-Y7-FV\", \"UR\", \"NC-17\"], \"legendgroup\": \"\", \"name\": \"\", \"showlegend\": true, \"textinfo\": \"percent+label\", \"textposition\": \"inside\", \"type\": \"pie\", \"values\": [2863, 1931, 806, 665, 386, 280, 271, 247, 194, 84, 39, 6, 5, 3]}],\n",
       "                        {\"legend\": {\"tracegroupgap\": 0}, \"template\": {\"data\": {\"bar\": [{\"error_x\": {\"color\": \"#2a3f5f\"}, \"error_y\": {\"color\": \"#2a3f5f\"}, \"marker\": {\"line\": {\"color\": \"#E5ECF6\", \"width\": 0.5}}, \"type\": \"bar\"}], \"barpolar\": [{\"marker\": {\"line\": {\"color\": \"#E5ECF6\", \"width\": 0.5}}, \"type\": \"barpolar\"}], \"carpet\": [{\"aaxis\": {\"endlinecolor\": \"#2a3f5f\", \"gridcolor\": \"white\", \"linecolor\": \"white\", \"minorgridcolor\": \"white\", \"startlinecolor\": \"#2a3f5f\"}, \"baxis\": {\"endlinecolor\": \"#2a3f5f\", \"gridcolor\": \"white\", \"linecolor\": \"white\", \"minorgridcolor\": \"white\", \"startlinecolor\": \"#2a3f5f\"}, \"type\": \"carpet\"}], \"choropleth\": [{\"colorbar\": {\"outlinewidth\": 0, \"ticks\": \"\"}, \"type\": \"choropleth\"}], \"contour\": [{\"colorbar\": {\"outlinewidth\": 0, \"ticks\": \"\"}, \"colorscale\": [[0.0, \"#0d0887\"], [0.1111111111111111, \"#46039f\"], [0.2222222222222222, \"#7201a8\"], [0.3333333333333333, \"#9c179e\"], [0.4444444444444444, \"#bd3786\"], [0.5555555555555556, \"#d8576b\"], [0.6666666666666666, \"#ed7953\"], [0.7777777777777778, \"#fb9f3a\"], [0.8888888888888888, \"#fdca26\"], [1.0, \"#f0f921\"]], \"type\": \"contour\"}], \"contourcarpet\": [{\"colorbar\": {\"outlinewidth\": 0, \"ticks\": \"\"}, \"type\": \"contourcarpet\"}], \"heatmap\": [{\"colorbar\": {\"outlinewidth\": 0, \"ticks\": \"\"}, \"colorscale\": [[0.0, \"#0d0887\"], [0.1111111111111111, \"#46039f\"], [0.2222222222222222, \"#7201a8\"], [0.3333333333333333, \"#9c179e\"], [0.4444444444444444, \"#bd3786\"], [0.5555555555555556, \"#d8576b\"], [0.6666666666666666, \"#ed7953\"], [0.7777777777777778, \"#fb9f3a\"], [0.8888888888888888, \"#fdca26\"], [1.0, \"#f0f921\"]], \"type\": \"heatmap\"}], \"heatmapgl\": [{\"colorbar\": {\"outlinewidth\": 0, \"ticks\": \"\"}, \"colorscale\": [[0.0, \"#0d0887\"], [0.1111111111111111, \"#46039f\"], [0.2222222222222222, \"#7201a8\"], [0.3333333333333333, \"#9c179e\"], [0.4444444444444444, \"#bd3786\"], [0.5555555555555556, \"#d8576b\"], [0.6666666666666666, \"#ed7953\"], [0.7777777777777778, \"#fb9f3a\"], [0.8888888888888888, \"#fdca26\"], [1.0, \"#f0f921\"]], \"type\": \"heatmapgl\"}], \"histogram\": [{\"marker\": {\"colorbar\": {\"outlinewidth\": 0, \"ticks\": \"\"}}, \"type\": \"histogram\"}], \"histogram2d\": [{\"colorbar\": {\"outlinewidth\": 0, \"ticks\": \"\"}, \"colorscale\": [[0.0, \"#0d0887\"], [0.1111111111111111, \"#46039f\"], [0.2222222222222222, \"#7201a8\"], [0.3333333333333333, \"#9c179e\"], [0.4444444444444444, \"#bd3786\"], [0.5555555555555556, \"#d8576b\"], [0.6666666666666666, \"#ed7953\"], [0.7777777777777778, \"#fb9f3a\"], [0.8888888888888888, \"#fdca26\"], [1.0, \"#f0f921\"]], \"type\": \"histogram2d\"}], \"histogram2dcontour\": [{\"colorbar\": {\"outlinewidth\": 0, \"ticks\": \"\"}, \"colorscale\": [[0.0, \"#0d0887\"], [0.1111111111111111, \"#46039f\"], [0.2222222222222222, \"#7201a8\"], [0.3333333333333333, \"#9c179e\"], [0.4444444444444444, \"#bd3786\"], [0.5555555555555556, \"#d8576b\"], [0.6666666666666666, \"#ed7953\"], [0.7777777777777778, \"#fb9f3a\"], [0.8888888888888888, \"#fdca26\"], [1.0, \"#f0f921\"]], \"type\": \"histogram2dcontour\"}], \"mesh3d\": [{\"colorbar\": {\"outlinewidth\": 0, \"ticks\": \"\"}, \"type\": \"mesh3d\"}], \"parcoords\": [{\"line\": {\"colorbar\": {\"outlinewidth\": 0, \"ticks\": \"\"}}, \"type\": \"parcoords\"}], \"pie\": [{\"automargin\": true, \"type\": \"pie\"}], \"scatter\": [{\"marker\": {\"colorbar\": {\"outlinewidth\": 0, \"ticks\": \"\"}}, \"type\": \"scatter\"}], \"scatter3d\": [{\"line\": {\"colorbar\": {\"outlinewidth\": 0, \"ticks\": \"\"}}, \"marker\": {\"colorbar\": {\"outlinewidth\": 0, \"ticks\": \"\"}}, \"type\": \"scatter3d\"}], \"scattercarpet\": [{\"marker\": {\"colorbar\": {\"outlinewidth\": 0, \"ticks\": \"\"}}, \"type\": \"scattercarpet\"}], \"scattergeo\": [{\"marker\": {\"colorbar\": {\"outlinewidth\": 0, \"ticks\": \"\"}}, \"type\": \"scattergeo\"}], \"scattergl\": [{\"marker\": {\"colorbar\": {\"outlinewidth\": 0, \"ticks\": \"\"}}, \"type\": \"scattergl\"}], \"scattermapbox\": [{\"marker\": {\"colorbar\": {\"outlinewidth\": 0, \"ticks\": \"\"}}, \"type\": \"scattermapbox\"}], \"scatterpolar\": [{\"marker\": {\"colorbar\": {\"outlinewidth\": 0, \"ticks\": \"\"}}, \"type\": \"scatterpolar\"}], \"scatterpolargl\": [{\"marker\": {\"colorbar\": {\"outlinewidth\": 0, \"ticks\": \"\"}}, \"type\": \"scatterpolargl\"}], \"scatterternary\": [{\"marker\": {\"colorbar\": {\"outlinewidth\": 0, \"ticks\": \"\"}}, \"type\": \"scatterternary\"}], \"surface\": [{\"colorbar\": {\"outlinewidth\": 0, \"ticks\": \"\"}, \"colorscale\": [[0.0, \"#0d0887\"], [0.1111111111111111, \"#46039f\"], [0.2222222222222222, \"#7201a8\"], [0.3333333333333333, \"#9c179e\"], [0.4444444444444444, \"#bd3786\"], [0.5555555555555556, \"#d8576b\"], [0.6666666666666666, \"#ed7953\"], [0.7777777777777778, \"#fb9f3a\"], [0.8888888888888888, \"#fdca26\"], [1.0, \"#f0f921\"]], \"type\": \"surface\"}], \"table\": [{\"cells\": {\"fill\": {\"color\": \"#EBF0F8\"}, \"line\": {\"color\": \"white\"}}, \"header\": {\"fill\": {\"color\": \"#C8D4E3\"}, \"line\": {\"color\": \"white\"}}, \"type\": \"table\"}]}, \"layout\": {\"annotationdefaults\": {\"arrowcolor\": \"#2a3f5f\", \"arrowhead\": 0, \"arrowwidth\": 1}, \"coloraxis\": {\"colorbar\": {\"outlinewidth\": 0, \"ticks\": \"\"}}, \"colorscale\": {\"diverging\": [[0, \"#8e0152\"], [0.1, \"#c51b7d\"], [0.2, \"#de77ae\"], [0.3, \"#f1b6da\"], [0.4, \"#fde0ef\"], [0.5, \"#f7f7f7\"], [0.6, \"#e6f5d0\"], [0.7, \"#b8e186\"], [0.8, \"#7fbc41\"], [0.9, \"#4d9221\"], [1, \"#276419\"]], \"sequential\": [[0.0, \"#0d0887\"], [0.1111111111111111, \"#46039f\"], [0.2222222222222222, \"#7201a8\"], [0.3333333333333333, \"#9c179e\"], [0.4444444444444444, \"#bd3786\"], [0.5555555555555556, \"#d8576b\"], [0.6666666666666666, \"#ed7953\"], [0.7777777777777778, \"#fb9f3a\"], [0.8888888888888888, \"#fdca26\"], [1.0, \"#f0f921\"]], \"sequentialminus\": [[0.0, \"#0d0887\"], [0.1111111111111111, \"#46039f\"], [0.2222222222222222, \"#7201a8\"], [0.3333333333333333, \"#9c179e\"], [0.4444444444444444, \"#bd3786\"], [0.5555555555555556, \"#d8576b\"], [0.6666666666666666, \"#ed7953\"], [0.7777777777777778, \"#fb9f3a\"], [0.8888888888888888, \"#fdca26\"], [1.0, \"#f0f921\"]]}, \"colorway\": [\"#636efa\", \"#EF553B\", \"#00cc96\", \"#ab63fa\", \"#FFA15A\", \"#19d3f3\", \"#FF6692\", \"#B6E880\", \"#FF97FF\", \"#FECB52\"], \"font\": {\"color\": \"#2a3f5f\"}, \"geo\": {\"bgcolor\": \"white\", \"lakecolor\": \"white\", \"landcolor\": \"#E5ECF6\", \"showlakes\": true, \"showland\": true, \"subunitcolor\": \"white\"}, \"hoverlabel\": {\"align\": \"left\"}, \"hovermode\": \"closest\", \"mapbox\": {\"style\": \"light\"}, \"paper_bgcolor\": \"white\", \"plot_bgcolor\": \"#E5ECF6\", \"polar\": {\"angularaxis\": {\"gridcolor\": \"white\", \"linecolor\": \"white\", \"ticks\": \"\"}, \"bgcolor\": \"#E5ECF6\", \"radialaxis\": {\"gridcolor\": \"white\", \"linecolor\": \"white\", \"ticks\": \"\"}}, \"scene\": {\"xaxis\": {\"backgroundcolor\": \"#E5ECF6\", \"gridcolor\": \"white\", \"gridwidth\": 2, \"linecolor\": \"white\", \"showbackground\": true, \"ticks\": \"\", \"zerolinecolor\": \"white\"}, \"yaxis\": {\"backgroundcolor\": \"#E5ECF6\", \"gridcolor\": \"white\", \"gridwidth\": 2, \"linecolor\": \"white\", \"showbackground\": true, \"ticks\": \"\", \"zerolinecolor\": \"white\"}, \"zaxis\": {\"backgroundcolor\": \"#E5ECF6\", \"gridcolor\": \"white\", \"gridwidth\": 2, \"linecolor\": \"white\", \"showbackground\": true, \"ticks\": \"\", \"zerolinecolor\": \"white\"}}, \"shapedefaults\": {\"line\": {\"color\": \"#2a3f5f\"}}, \"ternary\": {\"aaxis\": {\"gridcolor\": \"white\", \"linecolor\": \"white\", \"ticks\": \"\"}, \"baxis\": {\"gridcolor\": \"white\", \"linecolor\": \"white\", \"ticks\": \"\"}, \"bgcolor\": \"#E5ECF6\", \"caxis\": {\"gridcolor\": \"white\", \"linecolor\": \"white\", \"ticks\": \"\"}}, \"title\": {\"x\": 0.05}, \"xaxis\": {\"automargin\": true, \"gridcolor\": \"white\", \"linecolor\": \"white\", \"ticks\": \"\", \"title\": {\"standoff\": 15}, \"zerolinecolor\": \"white\", \"zerolinewidth\": 2}, \"yaxis\": {\"automargin\": true, \"gridcolor\": \"white\", \"linecolor\": \"white\", \"ticks\": \"\", \"title\": {\"standoff\": 15}, \"zerolinecolor\": \"white\", \"zerolinewidth\": 2}}}, \"title\": {\"text\": \"Rating proportions\"}},\n",
       "                        {\"responsive\": true}\n",
       "                    ).then(function(){\n",
       "                            \n",
       "var gd = document.getElementById('05a9f852-bf95-4643-aae4-78afb2c0ad49');\n",
       "var x = new MutationObserver(function (mutations, observer) {{\n",
       "        var display = window.getComputedStyle(gd).display;\n",
       "        if (!display || display === 'none') {{\n",
       "            console.log([gd, 'removed!']);\n",
       "            Plotly.purge(gd);\n",
       "            observer.disconnect();\n",
       "        }}\n",
       "}});\n",
       "\n",
       "// Listen for the removal of the full notebook cells\n",
       "var notebookContainer = gd.closest('#notebook-container');\n",
       "if (notebookContainer) {{\n",
       "    x.observe(notebookContainer, {childList: true});\n",
       "}}\n",
       "\n",
       "// Listen for the clearing of the current output cell\n",
       "var outputEl = gd.closest('.output');\n",
       "if (outputEl) {{\n",
       "    x.observe(outputEl, {childList: true});\n",
       "}}\n",
       "\n",
       "                        })\n",
       "                };\n",
       "                });\n",
       "            </script>\n",
       "        </div>"
      ]
     },
     "metadata": {},
     "output_type": "display_data"
    }
   ],
   "source": [
    "fig = px.pie(rating, values=\"count\",names='rating',hole=.5,title=\"Rating proportions\")\n",
    "fig.update_traces(textposition='inside', textinfo='percent+label')\n",
    "fig.show()"
   ]
  },
  {
   "cell_type": "markdown",
   "metadata": {},
   "source": [
    "## Who is the best director?\n",
    "\n",
    "Getting the best director by sorting the directing in top 10"
   ]
  },
  {
   "cell_type": "code",
   "execution_count": 49,
   "metadata": {},
   "outputs": [
    {
     "data": {
      "application/vnd.plotly.v1+json": {
       "config": {
        "plotlyServerURL": "https://plot.ly"
       },
       "data": [
        {
         "alignmentgroup": "True",
         "hovertemplate": "director=%{x}<br>count=%{text}<extra></extra>",
         "legendgroup": "Raúl Campos, Jan Suter",
         "marker": {
          "color": "#636efa"
         },
         "name": "Raúl Campos, Jan Suter",
         "offsetgroup": "Raúl Campos, Jan Suter",
         "orientation": "v",
         "showlegend": true,
         "text": [
          18
         ],
         "textposition": "outside",
         "type": "bar",
         "x": [
          "Raúl Campos, Jan Suter"
         ],
         "xaxis": "x",
         "y": [
          18
         ],
         "yaxis": "y"
        },
        {
         "alignmentgroup": "True",
         "hovertemplate": "director=%{x}<br>count=%{text}<extra></extra>",
         "legendgroup": "Marcus Raboy",
         "marker": {
          "color": "#EF553B"
         },
         "name": "Marcus Raboy",
         "offsetgroup": "Marcus Raboy",
         "orientation": "v",
         "showlegend": true,
         "text": [
          16
         ],
         "textposition": "outside",
         "type": "bar",
         "x": [
          "Marcus Raboy"
         ],
         "xaxis": "x",
         "y": [
          16
         ],
         "yaxis": "y"
        },
        {
         "alignmentgroup": "True",
         "hovertemplate": "director=%{x}<br>count=%{text}<extra></extra>",
         "legendgroup": "Jay Karas",
         "marker": {
          "color": "#00cc96"
         },
         "name": "Jay Karas",
         "offsetgroup": "Jay Karas",
         "orientation": "v",
         "showlegend": true,
         "text": [
          14
         ],
         "textposition": "outside",
         "type": "bar",
         "x": [
          "Jay Karas"
         ],
         "xaxis": "x",
         "y": [
          14
         ],
         "yaxis": "y"
        },
        {
         "alignmentgroup": "True",
         "hovertemplate": "director=%{x}<br>count=%{text}<extra></extra>",
         "legendgroup": "Cathy Garcia-Molina",
         "marker": {
          "color": "#ab63fa"
         },
         "name": "Cathy Garcia-Molina",
         "offsetgroup": "Cathy Garcia-Molina",
         "orientation": "v",
         "showlegend": true,
         "text": [
          13
         ],
         "textposition": "outside",
         "type": "bar",
         "x": [
          "Cathy Garcia-Molina"
         ],
         "xaxis": "x",
         "y": [
          13
         ],
         "yaxis": "y"
        },
        {
         "alignmentgroup": "True",
         "hovertemplate": "director=%{x}<br>count=%{text}<extra></extra>",
         "legendgroup": "Jay Chapman",
         "marker": {
          "color": "#FFA15A"
         },
         "name": "Jay Chapman",
         "offsetgroup": "Jay Chapman",
         "orientation": "v",
         "showlegend": true,
         "text": [
          12
         ],
         "textposition": "outside",
         "type": "bar",
         "x": [
          "Jay Chapman"
         ],
         "xaxis": "x",
         "y": [
          12
         ],
         "yaxis": "y"
        },
        {
         "alignmentgroup": "True",
         "hovertemplate": "director=%{x}<br>count=%{text}<extra></extra>",
         "legendgroup": "Martin Scorsese",
         "marker": {
          "color": "#19d3f3"
         },
         "name": "Martin Scorsese",
         "offsetgroup": "Martin Scorsese",
         "orientation": "v",
         "showlegend": true,
         "text": [
          12
         ],
         "textposition": "outside",
         "type": "bar",
         "x": [
          "Martin Scorsese"
         ],
         "xaxis": "x",
         "y": [
          12
         ],
         "yaxis": "y"
        },
        {
         "alignmentgroup": "True",
         "hovertemplate": "director=%{x}<br>count=%{text}<extra></extra>",
         "legendgroup": "Youssef Chahine",
         "marker": {
          "color": "#FF6692"
         },
         "name": "Youssef Chahine",
         "offsetgroup": "Youssef Chahine",
         "orientation": "v",
         "showlegend": true,
         "text": [
          12
         ],
         "textposition": "outside",
         "type": "bar",
         "x": [
          "Youssef Chahine"
         ],
         "xaxis": "x",
         "y": [
          12
         ],
         "yaxis": "y"
        },
        {
         "alignmentgroup": "True",
         "hovertemplate": "director=%{x}<br>count=%{text}<extra></extra>",
         "legendgroup": "Steven Spielberg",
         "marker": {
          "color": "#B6E880"
         },
         "name": "Steven Spielberg",
         "offsetgroup": "Steven Spielberg",
         "orientation": "v",
         "showlegend": true,
         "text": [
          10
         ],
         "textposition": "outside",
         "type": "bar",
         "x": [
          "Steven Spielberg"
         ],
         "xaxis": "x",
         "y": [
          10
         ],
         "yaxis": "y"
        },
        {
         "alignmentgroup": "True",
         "hovertemplate": "director=%{x}<br>count=%{text}<extra></extra>",
         "legendgroup": "David Dhawan",
         "marker": {
          "color": "#FF97FF"
         },
         "name": "David Dhawan",
         "offsetgroup": "David Dhawan",
         "orientation": "v",
         "showlegend": true,
         "text": [
          9
         ],
         "textposition": "outside",
         "type": "bar",
         "x": [
          "David Dhawan"
         ],
         "xaxis": "x",
         "y": [
          9
         ],
         "yaxis": "y"
        },
        {
         "alignmentgroup": "True",
         "hovertemplate": "director=%{x}<br>count=%{text}<extra></extra>",
         "legendgroup": "Quentin Tarantino",
         "marker": {
          "color": "#FECB52"
         },
         "name": "Quentin Tarantino",
         "offsetgroup": "Quentin Tarantino",
         "orientation": "v",
         "showlegend": true,
         "text": [
          8
         ],
         "textposition": "outside",
         "type": "bar",
         "x": [
          "Quentin Tarantino"
         ],
         "xaxis": "x",
         "y": [
          8
         ],
         "yaxis": "y"
        }
       ],
       "layout": {
        "barmode": "relative",
        "legend": {
         "title": {
          "text": "director"
         },
         "tracegroupgap": 0
        },
        "template": {
         "data": {
          "bar": [
           {
            "error_x": {
             "color": "#2a3f5f"
            },
            "error_y": {
             "color": "#2a3f5f"
            },
            "marker": {
             "line": {
              "color": "#E5ECF6",
              "width": 0.5
             }
            },
            "type": "bar"
           }
          ],
          "barpolar": [
           {
            "marker": {
             "line": {
              "color": "#E5ECF6",
              "width": 0.5
             }
            },
            "type": "barpolar"
           }
          ],
          "carpet": [
           {
            "aaxis": {
             "endlinecolor": "#2a3f5f",
             "gridcolor": "white",
             "linecolor": "white",
             "minorgridcolor": "white",
             "startlinecolor": "#2a3f5f"
            },
            "baxis": {
             "endlinecolor": "#2a3f5f",
             "gridcolor": "white",
             "linecolor": "white",
             "minorgridcolor": "white",
             "startlinecolor": "#2a3f5f"
            },
            "type": "carpet"
           }
          ],
          "choropleth": [
           {
            "colorbar": {
             "outlinewidth": 0,
             "ticks": ""
            },
            "type": "choropleth"
           }
          ],
          "contour": [
           {
            "colorbar": {
             "outlinewidth": 0,
             "ticks": ""
            },
            "colorscale": [
             [
              0,
              "#0d0887"
             ],
             [
              0.1111111111111111,
              "#46039f"
             ],
             [
              0.2222222222222222,
              "#7201a8"
             ],
             [
              0.3333333333333333,
              "#9c179e"
             ],
             [
              0.4444444444444444,
              "#bd3786"
             ],
             [
              0.5555555555555556,
              "#d8576b"
             ],
             [
              0.6666666666666666,
              "#ed7953"
             ],
             [
              0.7777777777777778,
              "#fb9f3a"
             ],
             [
              0.8888888888888888,
              "#fdca26"
             ],
             [
              1,
              "#f0f921"
             ]
            ],
            "type": "contour"
           }
          ],
          "contourcarpet": [
           {
            "colorbar": {
             "outlinewidth": 0,
             "ticks": ""
            },
            "type": "contourcarpet"
           }
          ],
          "heatmap": [
           {
            "colorbar": {
             "outlinewidth": 0,
             "ticks": ""
            },
            "colorscale": [
             [
              0,
              "#0d0887"
             ],
             [
              0.1111111111111111,
              "#46039f"
             ],
             [
              0.2222222222222222,
              "#7201a8"
             ],
             [
              0.3333333333333333,
              "#9c179e"
             ],
             [
              0.4444444444444444,
              "#bd3786"
             ],
             [
              0.5555555555555556,
              "#d8576b"
             ],
             [
              0.6666666666666666,
              "#ed7953"
             ],
             [
              0.7777777777777778,
              "#fb9f3a"
             ],
             [
              0.8888888888888888,
              "#fdca26"
             ],
             [
              1,
              "#f0f921"
             ]
            ],
            "type": "heatmap"
           }
          ],
          "heatmapgl": [
           {
            "colorbar": {
             "outlinewidth": 0,
             "ticks": ""
            },
            "colorscale": [
             [
              0,
              "#0d0887"
             ],
             [
              0.1111111111111111,
              "#46039f"
             ],
             [
              0.2222222222222222,
              "#7201a8"
             ],
             [
              0.3333333333333333,
              "#9c179e"
             ],
             [
              0.4444444444444444,
              "#bd3786"
             ],
             [
              0.5555555555555556,
              "#d8576b"
             ],
             [
              0.6666666666666666,
              "#ed7953"
             ],
             [
              0.7777777777777778,
              "#fb9f3a"
             ],
             [
              0.8888888888888888,
              "#fdca26"
             ],
             [
              1,
              "#f0f921"
             ]
            ],
            "type": "heatmapgl"
           }
          ],
          "histogram": [
           {
            "marker": {
             "colorbar": {
              "outlinewidth": 0,
              "ticks": ""
             }
            },
            "type": "histogram"
           }
          ],
          "histogram2d": [
           {
            "colorbar": {
             "outlinewidth": 0,
             "ticks": ""
            },
            "colorscale": [
             [
              0,
              "#0d0887"
             ],
             [
              0.1111111111111111,
              "#46039f"
             ],
             [
              0.2222222222222222,
              "#7201a8"
             ],
             [
              0.3333333333333333,
              "#9c179e"
             ],
             [
              0.4444444444444444,
              "#bd3786"
             ],
             [
              0.5555555555555556,
              "#d8576b"
             ],
             [
              0.6666666666666666,
              "#ed7953"
             ],
             [
              0.7777777777777778,
              "#fb9f3a"
             ],
             [
              0.8888888888888888,
              "#fdca26"
             ],
             [
              1,
              "#f0f921"
             ]
            ],
            "type": "histogram2d"
           }
          ],
          "histogram2dcontour": [
           {
            "colorbar": {
             "outlinewidth": 0,
             "ticks": ""
            },
            "colorscale": [
             [
              0,
              "#0d0887"
             ],
             [
              0.1111111111111111,
              "#46039f"
             ],
             [
              0.2222222222222222,
              "#7201a8"
             ],
             [
              0.3333333333333333,
              "#9c179e"
             ],
             [
              0.4444444444444444,
              "#bd3786"
             ],
             [
              0.5555555555555556,
              "#d8576b"
             ],
             [
              0.6666666666666666,
              "#ed7953"
             ],
             [
              0.7777777777777778,
              "#fb9f3a"
             ],
             [
              0.8888888888888888,
              "#fdca26"
             ],
             [
              1,
              "#f0f921"
             ]
            ],
            "type": "histogram2dcontour"
           }
          ],
          "mesh3d": [
           {
            "colorbar": {
             "outlinewidth": 0,
             "ticks": ""
            },
            "type": "mesh3d"
           }
          ],
          "parcoords": [
           {
            "line": {
             "colorbar": {
              "outlinewidth": 0,
              "ticks": ""
             }
            },
            "type": "parcoords"
           }
          ],
          "pie": [
           {
            "automargin": true,
            "type": "pie"
           }
          ],
          "scatter": [
           {
            "marker": {
             "colorbar": {
              "outlinewidth": 0,
              "ticks": ""
             }
            },
            "type": "scatter"
           }
          ],
          "scatter3d": [
           {
            "line": {
             "colorbar": {
              "outlinewidth": 0,
              "ticks": ""
             }
            },
            "marker": {
             "colorbar": {
              "outlinewidth": 0,
              "ticks": ""
             }
            },
            "type": "scatter3d"
           }
          ],
          "scattercarpet": [
           {
            "marker": {
             "colorbar": {
              "outlinewidth": 0,
              "ticks": ""
             }
            },
            "type": "scattercarpet"
           }
          ],
          "scattergeo": [
           {
            "marker": {
             "colorbar": {
              "outlinewidth": 0,
              "ticks": ""
             }
            },
            "type": "scattergeo"
           }
          ],
          "scattergl": [
           {
            "marker": {
             "colorbar": {
              "outlinewidth": 0,
              "ticks": ""
             }
            },
            "type": "scattergl"
           }
          ],
          "scattermapbox": [
           {
            "marker": {
             "colorbar": {
              "outlinewidth": 0,
              "ticks": ""
             }
            },
            "type": "scattermapbox"
           }
          ],
          "scatterpolar": [
           {
            "marker": {
             "colorbar": {
              "outlinewidth": 0,
              "ticks": ""
             }
            },
            "type": "scatterpolar"
           }
          ],
          "scatterpolargl": [
           {
            "marker": {
             "colorbar": {
              "outlinewidth": 0,
              "ticks": ""
             }
            },
            "type": "scatterpolargl"
           }
          ],
          "scatterternary": [
           {
            "marker": {
             "colorbar": {
              "outlinewidth": 0,
              "ticks": ""
             }
            },
            "type": "scatterternary"
           }
          ],
          "surface": [
           {
            "colorbar": {
             "outlinewidth": 0,
             "ticks": ""
            },
            "colorscale": [
             [
              0,
              "#0d0887"
             ],
             [
              0.1111111111111111,
              "#46039f"
             ],
             [
              0.2222222222222222,
              "#7201a8"
             ],
             [
              0.3333333333333333,
              "#9c179e"
             ],
             [
              0.4444444444444444,
              "#bd3786"
             ],
             [
              0.5555555555555556,
              "#d8576b"
             ],
             [
              0.6666666666666666,
              "#ed7953"
             ],
             [
              0.7777777777777778,
              "#fb9f3a"
             ],
             [
              0.8888888888888888,
              "#fdca26"
             ],
             [
              1,
              "#f0f921"
             ]
            ],
            "type": "surface"
           }
          ],
          "table": [
           {
            "cells": {
             "fill": {
              "color": "#EBF0F8"
             },
             "line": {
              "color": "white"
             }
            },
            "header": {
             "fill": {
              "color": "#C8D4E3"
             },
             "line": {
              "color": "white"
             }
            },
            "type": "table"
           }
          ]
         },
         "layout": {
          "annotationdefaults": {
           "arrowcolor": "#2a3f5f",
           "arrowhead": 0,
           "arrowwidth": 1
          },
          "coloraxis": {
           "colorbar": {
            "outlinewidth": 0,
            "ticks": ""
           }
          },
          "colorscale": {
           "diverging": [
            [
             0,
             "#8e0152"
            ],
            [
             0.1,
             "#c51b7d"
            ],
            [
             0.2,
             "#de77ae"
            ],
            [
             0.3,
             "#f1b6da"
            ],
            [
             0.4,
             "#fde0ef"
            ],
            [
             0.5,
             "#f7f7f7"
            ],
            [
             0.6,
             "#e6f5d0"
            ],
            [
             0.7,
             "#b8e186"
            ],
            [
             0.8,
             "#7fbc41"
            ],
            [
             0.9,
             "#4d9221"
            ],
            [
             1,
             "#276419"
            ]
           ],
           "sequential": [
            [
             0,
             "#0d0887"
            ],
            [
             0.1111111111111111,
             "#46039f"
            ],
            [
             0.2222222222222222,
             "#7201a8"
            ],
            [
             0.3333333333333333,
             "#9c179e"
            ],
            [
             0.4444444444444444,
             "#bd3786"
            ],
            [
             0.5555555555555556,
             "#d8576b"
            ],
            [
             0.6666666666666666,
             "#ed7953"
            ],
            [
             0.7777777777777778,
             "#fb9f3a"
            ],
            [
             0.8888888888888888,
             "#fdca26"
            ],
            [
             1,
             "#f0f921"
            ]
           ],
           "sequentialminus": [
            [
             0,
             "#0d0887"
            ],
            [
             0.1111111111111111,
             "#46039f"
            ],
            [
             0.2222222222222222,
             "#7201a8"
            ],
            [
             0.3333333333333333,
             "#9c179e"
            ],
            [
             0.4444444444444444,
             "#bd3786"
            ],
            [
             0.5555555555555556,
             "#d8576b"
            ],
            [
             0.6666666666666666,
             "#ed7953"
            ],
            [
             0.7777777777777778,
             "#fb9f3a"
            ],
            [
             0.8888888888888888,
             "#fdca26"
            ],
            [
             1,
             "#f0f921"
            ]
           ]
          },
          "colorway": [
           "#636efa",
           "#EF553B",
           "#00cc96",
           "#ab63fa",
           "#FFA15A",
           "#19d3f3",
           "#FF6692",
           "#B6E880",
           "#FF97FF",
           "#FECB52"
          ],
          "font": {
           "color": "#2a3f5f"
          },
          "geo": {
           "bgcolor": "white",
           "lakecolor": "white",
           "landcolor": "#E5ECF6",
           "showlakes": true,
           "showland": true,
           "subunitcolor": "white"
          },
          "hoverlabel": {
           "align": "left"
          },
          "hovermode": "closest",
          "mapbox": {
           "style": "light"
          },
          "paper_bgcolor": "white",
          "plot_bgcolor": "#E5ECF6",
          "polar": {
           "angularaxis": {
            "gridcolor": "white",
            "linecolor": "white",
            "ticks": ""
           },
           "bgcolor": "#E5ECF6",
           "radialaxis": {
            "gridcolor": "white",
            "linecolor": "white",
            "ticks": ""
           }
          },
          "scene": {
           "xaxis": {
            "backgroundcolor": "#E5ECF6",
            "gridcolor": "white",
            "gridwidth": 2,
            "linecolor": "white",
            "showbackground": true,
            "ticks": "",
            "zerolinecolor": "white"
           },
           "yaxis": {
            "backgroundcolor": "#E5ECF6",
            "gridcolor": "white",
            "gridwidth": 2,
            "linecolor": "white",
            "showbackground": true,
            "ticks": "",
            "zerolinecolor": "white"
           },
           "zaxis": {
            "backgroundcolor": "#E5ECF6",
            "gridcolor": "white",
            "gridwidth": 2,
            "linecolor": "white",
            "showbackground": true,
            "ticks": "",
            "zerolinecolor": "white"
           }
          },
          "shapedefaults": {
           "line": {
            "color": "#2a3f5f"
           }
          },
          "ternary": {
           "aaxis": {
            "gridcolor": "white",
            "linecolor": "white",
            "ticks": ""
           },
           "baxis": {
            "gridcolor": "white",
            "linecolor": "white",
            "ticks": ""
           },
           "bgcolor": "#E5ECF6",
           "caxis": {
            "gridcolor": "white",
            "linecolor": "white",
            "ticks": ""
           }
          },
          "title": {
           "x": 0.05
          },
          "xaxis": {
           "automargin": true,
           "gridcolor": "white",
           "linecolor": "white",
           "ticks": "",
           "title": {
            "standoff": 15
           },
           "zerolinecolor": "white",
           "zerolinewidth": 2
          },
          "yaxis": {
           "automargin": true,
           "gridcolor": "white",
           "linecolor": "white",
           "ticks": "",
           "title": {
            "standoff": 15
           },
           "zerolinecolor": "white",
           "zerolinewidth": 2
          }
         }
        },
        "title": {
         "text": "More than 10 Movies or Tv Programs"
        },
        "xaxis": {
         "anchor": "y",
         "categoryarray": [
          "Raúl Campos, Jan Suter",
          "Marcus Raboy",
          "Jay Karas",
          "Cathy Garcia-Molina",
          "Jay Chapman",
          "Martin Scorsese",
          "Youssef Chahine",
          "Steven Spielberg",
          "David Dhawan",
          "Quentin Tarantino"
         ],
         "categoryorder": "array",
         "domain": [
          0,
          1
         ],
         "title": {
          "text": "director"
         }
        },
        "yaxis": {
         "anchor": "x",
         "domain": [
          0,
          1
         ],
         "title": {
          "text": "count"
         }
        }
       }
      },
      "text/html": [
       "<div>\n",
       "        \n",
       "        \n",
       "            <div id=\"fd4f89cb-577d-4a20-841c-a6886a4be19f\" class=\"plotly-graph-div\" style=\"height:525px; width:100%;\"></div>\n",
       "            <script type=\"text/javascript\">\n",
       "                require([\"plotly\"], function(Plotly) {\n",
       "                    window.PLOTLYENV=window.PLOTLYENV || {};\n",
       "                    \n",
       "                if (document.getElementById(\"fd4f89cb-577d-4a20-841c-a6886a4be19f\")) {\n",
       "                    Plotly.newPlot(\n",
       "                        'fd4f89cb-577d-4a20-841c-a6886a4be19f',\n",
       "                        [{\"alignmentgroup\": \"True\", \"hovertemplate\": \"director=%{x}<br>count=%{text}<extra></extra>\", \"legendgroup\": \"Ra\\u00fal Campos, Jan Suter\", \"marker\": {\"color\": \"#636efa\"}, \"name\": \"Ra\\u00fal Campos, Jan Suter\", \"offsetgroup\": \"Ra\\u00fal Campos, Jan Suter\", \"orientation\": \"v\", \"showlegend\": true, \"text\": [18.0], \"textposition\": \"outside\", \"type\": \"bar\", \"x\": [\"Ra\\u00fal Campos, Jan Suter\"], \"xaxis\": \"x\", \"y\": [18], \"yaxis\": \"y\"}, {\"alignmentgroup\": \"True\", \"hovertemplate\": \"director=%{x}<br>count=%{text}<extra></extra>\", \"legendgroup\": \"Marcus Raboy\", \"marker\": {\"color\": \"#EF553B\"}, \"name\": \"Marcus Raboy\", \"offsetgroup\": \"Marcus Raboy\", \"orientation\": \"v\", \"showlegend\": true, \"text\": [16.0], \"textposition\": \"outside\", \"type\": \"bar\", \"x\": [\"Marcus Raboy\"], \"xaxis\": \"x\", \"y\": [16], \"yaxis\": \"y\"}, {\"alignmentgroup\": \"True\", \"hovertemplate\": \"director=%{x}<br>count=%{text}<extra></extra>\", \"legendgroup\": \"Jay Karas\", \"marker\": {\"color\": \"#00cc96\"}, \"name\": \"Jay Karas\", \"offsetgroup\": \"Jay Karas\", \"orientation\": \"v\", \"showlegend\": true, \"text\": [14.0], \"textposition\": \"outside\", \"type\": \"bar\", \"x\": [\"Jay Karas\"], \"xaxis\": \"x\", \"y\": [14], \"yaxis\": \"y\"}, {\"alignmentgroup\": \"True\", \"hovertemplate\": \"director=%{x}<br>count=%{text}<extra></extra>\", \"legendgroup\": \"Cathy Garcia-Molina\", \"marker\": {\"color\": \"#ab63fa\"}, \"name\": \"Cathy Garcia-Molina\", \"offsetgroup\": \"Cathy Garcia-Molina\", \"orientation\": \"v\", \"showlegend\": true, \"text\": [13.0], \"textposition\": \"outside\", \"type\": \"bar\", \"x\": [\"Cathy Garcia-Molina\"], \"xaxis\": \"x\", \"y\": [13], \"yaxis\": \"y\"}, {\"alignmentgroup\": \"True\", \"hovertemplate\": \"director=%{x}<br>count=%{text}<extra></extra>\", \"legendgroup\": \"Jay Chapman\", \"marker\": {\"color\": \"#FFA15A\"}, \"name\": \"Jay Chapman\", \"offsetgroup\": \"Jay Chapman\", \"orientation\": \"v\", \"showlegend\": true, \"text\": [12.0], \"textposition\": \"outside\", \"type\": \"bar\", \"x\": [\"Jay Chapman\"], \"xaxis\": \"x\", \"y\": [12], \"yaxis\": \"y\"}, {\"alignmentgroup\": \"True\", \"hovertemplate\": \"director=%{x}<br>count=%{text}<extra></extra>\", \"legendgroup\": \"Martin Scorsese\", \"marker\": {\"color\": \"#19d3f3\"}, \"name\": \"Martin Scorsese\", \"offsetgroup\": \"Martin Scorsese\", \"orientation\": \"v\", \"showlegend\": true, \"text\": [12.0], \"textposition\": \"outside\", \"type\": \"bar\", \"x\": [\"Martin Scorsese\"], \"xaxis\": \"x\", \"y\": [12], \"yaxis\": \"y\"}, {\"alignmentgroup\": \"True\", \"hovertemplate\": \"director=%{x}<br>count=%{text}<extra></extra>\", \"legendgroup\": \"Youssef Chahine\", \"marker\": {\"color\": \"#FF6692\"}, \"name\": \"Youssef Chahine\", \"offsetgroup\": \"Youssef Chahine\", \"orientation\": \"v\", \"showlegend\": true, \"text\": [12.0], \"textposition\": \"outside\", \"type\": \"bar\", \"x\": [\"Youssef Chahine\"], \"xaxis\": \"x\", \"y\": [12], \"yaxis\": \"y\"}, {\"alignmentgroup\": \"True\", \"hovertemplate\": \"director=%{x}<br>count=%{text}<extra></extra>\", \"legendgroup\": \"Steven Spielberg\", \"marker\": {\"color\": \"#B6E880\"}, \"name\": \"Steven Spielberg\", \"offsetgroup\": \"Steven Spielberg\", \"orientation\": \"v\", \"showlegend\": true, \"text\": [10.0], \"textposition\": \"outside\", \"type\": \"bar\", \"x\": [\"Steven Spielberg\"], \"xaxis\": \"x\", \"y\": [10], \"yaxis\": \"y\"}, {\"alignmentgroup\": \"True\", \"hovertemplate\": \"director=%{x}<br>count=%{text}<extra></extra>\", \"legendgroup\": \"David Dhawan\", \"marker\": {\"color\": \"#FF97FF\"}, \"name\": \"David Dhawan\", \"offsetgroup\": \"David Dhawan\", \"orientation\": \"v\", \"showlegend\": true, \"text\": [9.0], \"textposition\": \"outside\", \"type\": \"bar\", \"x\": [\"David Dhawan\"], \"xaxis\": \"x\", \"y\": [9], \"yaxis\": \"y\"}, {\"alignmentgroup\": \"True\", \"hovertemplate\": \"director=%{x}<br>count=%{text}<extra></extra>\", \"legendgroup\": \"Quentin Tarantino\", \"marker\": {\"color\": \"#FECB52\"}, \"name\": \"Quentin Tarantino\", \"offsetgroup\": \"Quentin Tarantino\", \"orientation\": \"v\", \"showlegend\": true, \"text\": [8.0], \"textposition\": \"outside\", \"type\": \"bar\", \"x\": [\"Quentin Tarantino\"], \"xaxis\": \"x\", \"y\": [8], \"yaxis\": \"y\"}],\n",
       "                        {\"barmode\": \"relative\", \"legend\": {\"title\": {\"text\": \"director\"}, \"tracegroupgap\": 0}, \"template\": {\"data\": {\"bar\": [{\"error_x\": {\"color\": \"#2a3f5f\"}, \"error_y\": {\"color\": \"#2a3f5f\"}, \"marker\": {\"line\": {\"color\": \"#E5ECF6\", \"width\": 0.5}}, \"type\": \"bar\"}], \"barpolar\": [{\"marker\": {\"line\": {\"color\": \"#E5ECF6\", \"width\": 0.5}}, \"type\": \"barpolar\"}], \"carpet\": [{\"aaxis\": {\"endlinecolor\": \"#2a3f5f\", \"gridcolor\": \"white\", \"linecolor\": \"white\", \"minorgridcolor\": \"white\", \"startlinecolor\": \"#2a3f5f\"}, \"baxis\": {\"endlinecolor\": \"#2a3f5f\", \"gridcolor\": \"white\", \"linecolor\": \"white\", \"minorgridcolor\": \"white\", \"startlinecolor\": \"#2a3f5f\"}, \"type\": \"carpet\"}], \"choropleth\": [{\"colorbar\": {\"outlinewidth\": 0, \"ticks\": \"\"}, \"type\": \"choropleth\"}], \"contour\": [{\"colorbar\": {\"outlinewidth\": 0, \"ticks\": \"\"}, \"colorscale\": [[0.0, \"#0d0887\"], [0.1111111111111111, \"#46039f\"], [0.2222222222222222, \"#7201a8\"], [0.3333333333333333, \"#9c179e\"], [0.4444444444444444, \"#bd3786\"], [0.5555555555555556, \"#d8576b\"], [0.6666666666666666, \"#ed7953\"], [0.7777777777777778, \"#fb9f3a\"], [0.8888888888888888, \"#fdca26\"], [1.0, \"#f0f921\"]], \"type\": \"contour\"}], \"contourcarpet\": [{\"colorbar\": {\"outlinewidth\": 0, \"ticks\": \"\"}, \"type\": \"contourcarpet\"}], \"heatmap\": [{\"colorbar\": {\"outlinewidth\": 0, \"ticks\": \"\"}, \"colorscale\": [[0.0, \"#0d0887\"], [0.1111111111111111, \"#46039f\"], [0.2222222222222222, \"#7201a8\"], [0.3333333333333333, \"#9c179e\"], [0.4444444444444444, \"#bd3786\"], [0.5555555555555556, \"#d8576b\"], [0.6666666666666666, \"#ed7953\"], [0.7777777777777778, \"#fb9f3a\"], [0.8888888888888888, \"#fdca26\"], [1.0, \"#f0f921\"]], \"type\": \"heatmap\"}], \"heatmapgl\": [{\"colorbar\": {\"outlinewidth\": 0, \"ticks\": \"\"}, \"colorscale\": [[0.0, \"#0d0887\"], [0.1111111111111111, \"#46039f\"], [0.2222222222222222, \"#7201a8\"], [0.3333333333333333, \"#9c179e\"], [0.4444444444444444, \"#bd3786\"], [0.5555555555555556, \"#d8576b\"], [0.6666666666666666, \"#ed7953\"], [0.7777777777777778, \"#fb9f3a\"], [0.8888888888888888, \"#fdca26\"], [1.0, \"#f0f921\"]], \"type\": \"heatmapgl\"}], \"histogram\": [{\"marker\": {\"colorbar\": {\"outlinewidth\": 0, \"ticks\": \"\"}}, \"type\": \"histogram\"}], \"histogram2d\": [{\"colorbar\": {\"outlinewidth\": 0, \"ticks\": \"\"}, \"colorscale\": [[0.0, \"#0d0887\"], [0.1111111111111111, \"#46039f\"], [0.2222222222222222, \"#7201a8\"], [0.3333333333333333, \"#9c179e\"], [0.4444444444444444, \"#bd3786\"], [0.5555555555555556, \"#d8576b\"], [0.6666666666666666, \"#ed7953\"], [0.7777777777777778, \"#fb9f3a\"], [0.8888888888888888, \"#fdca26\"], [1.0, \"#f0f921\"]], \"type\": \"histogram2d\"}], \"histogram2dcontour\": [{\"colorbar\": {\"outlinewidth\": 0, \"ticks\": \"\"}, \"colorscale\": [[0.0, \"#0d0887\"], [0.1111111111111111, \"#46039f\"], [0.2222222222222222, \"#7201a8\"], [0.3333333333333333, \"#9c179e\"], [0.4444444444444444, \"#bd3786\"], [0.5555555555555556, \"#d8576b\"], [0.6666666666666666, \"#ed7953\"], [0.7777777777777778, \"#fb9f3a\"], [0.8888888888888888, \"#fdca26\"], [1.0, \"#f0f921\"]], \"type\": \"histogram2dcontour\"}], \"mesh3d\": [{\"colorbar\": {\"outlinewidth\": 0, \"ticks\": \"\"}, \"type\": \"mesh3d\"}], \"parcoords\": [{\"line\": {\"colorbar\": {\"outlinewidth\": 0, \"ticks\": \"\"}}, \"type\": \"parcoords\"}], \"pie\": [{\"automargin\": true, \"type\": \"pie\"}], \"scatter\": [{\"marker\": {\"colorbar\": {\"outlinewidth\": 0, \"ticks\": \"\"}}, \"type\": \"scatter\"}], \"scatter3d\": [{\"line\": {\"colorbar\": {\"outlinewidth\": 0, \"ticks\": \"\"}}, \"marker\": {\"colorbar\": {\"outlinewidth\": 0, \"ticks\": \"\"}}, \"type\": \"scatter3d\"}], \"scattercarpet\": [{\"marker\": {\"colorbar\": {\"outlinewidth\": 0, \"ticks\": \"\"}}, \"type\": \"scattercarpet\"}], \"scattergeo\": [{\"marker\": {\"colorbar\": {\"outlinewidth\": 0, \"ticks\": \"\"}}, \"type\": \"scattergeo\"}], \"scattergl\": [{\"marker\": {\"colorbar\": {\"outlinewidth\": 0, \"ticks\": \"\"}}, \"type\": \"scattergl\"}], \"scattermapbox\": [{\"marker\": {\"colorbar\": {\"outlinewidth\": 0, \"ticks\": \"\"}}, \"type\": \"scattermapbox\"}], \"scatterpolar\": [{\"marker\": {\"colorbar\": {\"outlinewidth\": 0, \"ticks\": \"\"}}, \"type\": \"scatterpolar\"}], \"scatterpolargl\": [{\"marker\": {\"colorbar\": {\"outlinewidth\": 0, \"ticks\": \"\"}}, \"type\": \"scatterpolargl\"}], \"scatterternary\": [{\"marker\": {\"colorbar\": {\"outlinewidth\": 0, \"ticks\": \"\"}}, \"type\": \"scatterternary\"}], \"surface\": [{\"colorbar\": {\"outlinewidth\": 0, \"ticks\": \"\"}, \"colorscale\": [[0.0, \"#0d0887\"], [0.1111111111111111, \"#46039f\"], [0.2222222222222222, \"#7201a8\"], [0.3333333333333333, \"#9c179e\"], [0.4444444444444444, \"#bd3786\"], [0.5555555555555556, \"#d8576b\"], [0.6666666666666666, \"#ed7953\"], [0.7777777777777778, \"#fb9f3a\"], [0.8888888888888888, \"#fdca26\"], [1.0, \"#f0f921\"]], \"type\": \"surface\"}], \"table\": [{\"cells\": {\"fill\": {\"color\": \"#EBF0F8\"}, \"line\": {\"color\": \"white\"}}, \"header\": {\"fill\": {\"color\": \"#C8D4E3\"}, \"line\": {\"color\": \"white\"}}, \"type\": \"table\"}]}, \"layout\": {\"annotationdefaults\": {\"arrowcolor\": \"#2a3f5f\", \"arrowhead\": 0, \"arrowwidth\": 1}, \"coloraxis\": {\"colorbar\": {\"outlinewidth\": 0, \"ticks\": \"\"}}, \"colorscale\": {\"diverging\": [[0, \"#8e0152\"], [0.1, \"#c51b7d\"], [0.2, \"#de77ae\"], [0.3, \"#f1b6da\"], [0.4, \"#fde0ef\"], [0.5, \"#f7f7f7\"], [0.6, \"#e6f5d0\"], [0.7, \"#b8e186\"], [0.8, \"#7fbc41\"], [0.9, \"#4d9221\"], [1, \"#276419\"]], \"sequential\": [[0.0, \"#0d0887\"], [0.1111111111111111, \"#46039f\"], [0.2222222222222222, \"#7201a8\"], [0.3333333333333333, \"#9c179e\"], [0.4444444444444444, \"#bd3786\"], [0.5555555555555556, \"#d8576b\"], [0.6666666666666666, \"#ed7953\"], [0.7777777777777778, \"#fb9f3a\"], [0.8888888888888888, \"#fdca26\"], [1.0, \"#f0f921\"]], \"sequentialminus\": [[0.0, \"#0d0887\"], [0.1111111111111111, \"#46039f\"], [0.2222222222222222, \"#7201a8\"], [0.3333333333333333, \"#9c179e\"], [0.4444444444444444, \"#bd3786\"], [0.5555555555555556, \"#d8576b\"], [0.6666666666666666, \"#ed7953\"], [0.7777777777777778, \"#fb9f3a\"], [0.8888888888888888, \"#fdca26\"], [1.0, \"#f0f921\"]]}, \"colorway\": [\"#636efa\", \"#EF553B\", \"#00cc96\", \"#ab63fa\", \"#FFA15A\", \"#19d3f3\", \"#FF6692\", \"#B6E880\", \"#FF97FF\", \"#FECB52\"], \"font\": {\"color\": \"#2a3f5f\"}, \"geo\": {\"bgcolor\": \"white\", \"lakecolor\": \"white\", \"landcolor\": \"#E5ECF6\", \"showlakes\": true, \"showland\": true, \"subunitcolor\": \"white\"}, \"hoverlabel\": {\"align\": \"left\"}, \"hovermode\": \"closest\", \"mapbox\": {\"style\": \"light\"}, \"paper_bgcolor\": \"white\", \"plot_bgcolor\": \"#E5ECF6\", \"polar\": {\"angularaxis\": {\"gridcolor\": \"white\", \"linecolor\": \"white\", \"ticks\": \"\"}, \"bgcolor\": \"#E5ECF6\", \"radialaxis\": {\"gridcolor\": \"white\", \"linecolor\": \"white\", \"ticks\": \"\"}}, \"scene\": {\"xaxis\": {\"backgroundcolor\": \"#E5ECF6\", \"gridcolor\": \"white\", \"gridwidth\": 2, \"linecolor\": \"white\", \"showbackground\": true, \"ticks\": \"\", \"zerolinecolor\": \"white\"}, \"yaxis\": {\"backgroundcolor\": \"#E5ECF6\", \"gridcolor\": \"white\", \"gridwidth\": 2, \"linecolor\": \"white\", \"showbackground\": true, \"ticks\": \"\", \"zerolinecolor\": \"white\"}, \"zaxis\": {\"backgroundcolor\": \"#E5ECF6\", \"gridcolor\": \"white\", \"gridwidth\": 2, \"linecolor\": \"white\", \"showbackground\": true, \"ticks\": \"\", \"zerolinecolor\": \"white\"}}, \"shapedefaults\": {\"line\": {\"color\": \"#2a3f5f\"}}, \"ternary\": {\"aaxis\": {\"gridcolor\": \"white\", \"linecolor\": \"white\", \"ticks\": \"\"}, \"baxis\": {\"gridcolor\": \"white\", \"linecolor\": \"white\", \"ticks\": \"\"}, \"bgcolor\": \"#E5ECF6\", \"caxis\": {\"gridcolor\": \"white\", \"linecolor\": \"white\", \"ticks\": \"\"}}, \"title\": {\"x\": 0.05}, \"xaxis\": {\"automargin\": true, \"gridcolor\": \"white\", \"linecolor\": \"white\", \"ticks\": \"\", \"title\": {\"standoff\": 15}, \"zerolinecolor\": \"white\", \"zerolinewidth\": 2}, \"yaxis\": {\"automargin\": true, \"gridcolor\": \"white\", \"linecolor\": \"white\", \"ticks\": \"\", \"title\": {\"standoff\": 15}, \"zerolinecolor\": \"white\", \"zerolinewidth\": 2}}}, \"title\": {\"text\": \"More than 10 Movies or Tv Programs\"}, \"xaxis\": {\"anchor\": \"y\", \"categoryarray\": [\"Ra\\u00fal Campos, Jan Suter\", \"Marcus Raboy\", \"Jay Karas\", \"Cathy Garcia-Molina\", \"Jay Chapman\", \"Martin Scorsese\", \"Youssef Chahine\", \"Steven Spielberg\", \"David Dhawan\", \"Quentin Tarantino\"], \"categoryorder\": \"array\", \"domain\": [0.0, 1.0], \"title\": {\"text\": \"director\"}}, \"yaxis\": {\"anchor\": \"x\", \"domain\": [0.0, 1.0], \"title\": {\"text\": \"count\"}}},\n",
       "                        {\"responsive\": true}\n",
       "                    ).then(function(){\n",
       "                            \n",
       "var gd = document.getElementById('fd4f89cb-577d-4a20-841c-a6886a4be19f');\n",
       "var x = new MutationObserver(function (mutations, observer) {{\n",
       "        var display = window.getComputedStyle(gd).display;\n",
       "        if (!display || display === 'none') {{\n",
       "            console.log([gd, 'removed!']);\n",
       "            Plotly.purge(gd);\n",
       "            observer.disconnect();\n",
       "        }}\n",
       "}});\n",
       "\n",
       "// Listen for the removal of the full notebook cells\n",
       "var notebookContainer = gd.closest('#notebook-container');\n",
       "if (notebookContainer) {{\n",
       "    x.observe(notebookContainer, {childList: true});\n",
       "}}\n",
       "\n",
       "// Listen for the clearing of the current output cell\n",
       "var outputEl = gd.closest('.output');\n",
       "if (outputEl) {{\n",
       "    x.observe(outputEl, {childList: true});\n",
       "}}\n",
       "\n",
       "                        })\n",
       "                };\n",
       "                });\n",
       "            </script>\n",
       "        </div>"
      ]
     },
     "metadata": {},
     "output_type": "display_data"
    }
   ],
   "source": [
    "director = pd.DataFrame(data.director.value_counts())\n",
    "\n",
    "director.reset_index(inplace=True)\n",
    "\n",
    "director.columns=[\"director\",\"count\"]\n",
    "\n",
    "fig = px.bar(director.head(10), x=\"director\", y=\"count\",color=\"director\",text=\"count\",title=\"More than 10 Movies or Tv Programs\")\n",
    "fig.update_traces(textposition=\"outside\")\n",
    "fig.show()"
   ]
  },
  {
   "cell_type": "code",
   "execution_count": 50,
   "metadata": {},
   "outputs": [
    {
     "data": {
      "application/vnd.plotly.v1+json": {
       "config": {
        "plotlyServerURL": "https://plot.ly"
       },
       "data": [
        {
         "alignmentgroup": "True",
         "hovertemplate": "cast=%{x}<br>count=%{text}<extra></extra>",
         "legendgroup": "Anupam Kher",
         "marker": {
          "color": "#636efa"
         },
         "name": "Anupam Kher",
         "offsetgroup": "Anupam Kher",
         "orientation": "v",
         "showlegend": true,
         "text": [
          42
         ],
         "textposition": "outside",
         "type": "bar",
         "x": [
          "Anupam Kher"
         ],
         "xaxis": "x",
         "y": [
          42
         ],
         "yaxis": "y"
        },
        {
         "alignmentgroup": "True",
         "hovertemplate": "cast=%{x}<br>count=%{text}<extra></extra>",
         "legendgroup": "Shah Rukh Khan",
         "marker": {
          "color": "#EF553B"
         },
         "name": "Shah Rukh Khan",
         "offsetgroup": "Shah Rukh Khan",
         "orientation": "v",
         "showlegend": true,
         "text": [
          35
         ],
         "textposition": "outside",
         "type": "bar",
         "x": [
          "Shah Rukh Khan"
         ],
         "xaxis": "x",
         "y": [
          35
         ],
         "yaxis": "y"
        },
        {
         "alignmentgroup": "True",
         "hovertemplate": "cast=%{x}<br>count=%{text}<extra></extra>",
         "legendgroup": "Naseeruddin Shah",
         "marker": {
          "color": "#00cc96"
         },
         "name": "Naseeruddin Shah",
         "offsetgroup": "Naseeruddin Shah",
         "orientation": "v",
         "showlegend": true,
         "text": [
          30
         ],
         "textposition": "outside",
         "type": "bar",
         "x": [
          "Naseeruddin Shah"
         ],
         "xaxis": "x",
         "y": [
          30
         ],
         "yaxis": "y"
        },
        {
         "alignmentgroup": "True",
         "hovertemplate": "cast=%{x}<br>count=%{text}<extra></extra>",
         "legendgroup": "Om Puri",
         "marker": {
          "color": "#ab63fa"
         },
         "name": "Om Puri",
         "offsetgroup": "Om Puri",
         "orientation": "v",
         "showlegend": true,
         "text": [
          30
         ],
         "textposition": "outside",
         "type": "bar",
         "x": [
          "Om Puri"
         ],
         "xaxis": "x",
         "y": [
          30
         ],
         "yaxis": "y"
        },
        {
         "alignmentgroup": "True",
         "hovertemplate": "cast=%{x}<br>count=%{text}<extra></extra>",
         "legendgroup": "Takahiro Sakurai",
         "marker": {
          "color": "#FFA15A"
         },
         "name": "Takahiro Sakurai",
         "offsetgroup": "Takahiro Sakurai",
         "orientation": "v",
         "showlegend": true,
         "text": [
          29
         ],
         "textposition": "outside",
         "type": "bar",
         "x": [
          "Takahiro Sakurai"
         ],
         "xaxis": "x",
         "y": [
          29
         ],
         "yaxis": "y"
        },
        {
         "alignmentgroup": "True",
         "hovertemplate": "cast=%{x}<br>count=%{text}<extra></extra>",
         "legendgroup": "Amitabh Bachchan",
         "marker": {
          "color": "#19d3f3"
         },
         "name": "Amitabh Bachchan",
         "offsetgroup": "Amitabh Bachchan",
         "orientation": "v",
         "showlegend": true,
         "text": [
          27
         ],
         "textposition": "outside",
         "type": "bar",
         "x": [
          "Amitabh Bachchan"
         ],
         "xaxis": "x",
         "y": [
          27
         ],
         "yaxis": "y"
        },
        {
         "alignmentgroup": "True",
         "hovertemplate": "cast=%{x}<br>count=%{text}<extra></extra>",
         "legendgroup": "Yuki Kaji",
         "marker": {
          "color": "#FF6692"
         },
         "name": "Yuki Kaji",
         "offsetgroup": "Yuki Kaji",
         "orientation": "v",
         "showlegend": true,
         "text": [
          27
         ],
         "textposition": "outside",
         "type": "bar",
         "x": [
          "Yuki Kaji"
         ],
         "xaxis": "x",
         "y": [
          27
         ],
         "yaxis": "y"
        },
        {
         "alignmentgroup": "True",
         "hovertemplate": "cast=%{x}<br>count=%{text}<extra></extra>",
         "legendgroup": "Akshay Kumar",
         "marker": {
          "color": "#B6E880"
         },
         "name": "Akshay Kumar",
         "offsetgroup": "Akshay Kumar",
         "orientation": "v",
         "showlegend": true,
         "text": [
          27
         ],
         "textposition": "outside",
         "type": "bar",
         "x": [
          "Akshay Kumar"
         ],
         "xaxis": "x",
         "y": [
          27
         ],
         "yaxis": "y"
        },
        {
         "alignmentgroup": "True",
         "hovertemplate": "cast=%{x}<br>count=%{text}<extra></extra>",
         "legendgroup": "Paresh Rawal",
         "marker": {
          "color": "#FF97FF"
         },
         "name": "Paresh Rawal",
         "offsetgroup": "Paresh Rawal",
         "orientation": "v",
         "showlegend": true,
         "text": [
          27
         ],
         "textposition": "outside",
         "type": "bar",
         "x": [
          "Paresh Rawal"
         ],
         "xaxis": "x",
         "y": [
          27
         ],
         "yaxis": "y"
        },
        {
         "alignmentgroup": "True",
         "hovertemplate": "cast=%{x}<br>count=%{text}<extra></extra>",
         "legendgroup": "Boman Irani",
         "marker": {
          "color": "#FECB52"
         },
         "name": "Boman Irani",
         "offsetgroup": "Boman Irani",
         "orientation": "v",
         "showlegend": true,
         "text": [
          26
         ],
         "textposition": "outside",
         "type": "bar",
         "x": [
          "Boman Irani"
         ],
         "xaxis": "x",
         "y": [
          26
         ],
         "yaxis": "y"
        },
        {
         "alignmentgroup": "True",
         "hovertemplate": "cast=%{x}<br>count=%{text}<extra></extra>",
         "legendgroup": "Kareena Kapoor",
         "marker": {
          "color": "#636efa"
         },
         "name": "Kareena Kapoor",
         "offsetgroup": "Kareena Kapoor",
         "orientation": "v",
         "showlegend": true,
         "text": [
          25
         ],
         "textposition": "outside",
         "type": "bar",
         "x": [
          "Kareena Kapoor"
         ],
         "xaxis": "x",
         "y": [
          25
         ],
         "yaxis": "y"
        },
        {
         "alignmentgroup": "True",
         "hovertemplate": "cast=%{x}<br>count=%{text}<extra></extra>",
         "legendgroup": "John Cleese",
         "marker": {
          "color": "#EF553B"
         },
         "name": "John Cleese",
         "offsetgroup": "John Cleese",
         "orientation": "v",
         "showlegend": true,
         "text": [
          24
         ],
         "textposition": "outside",
         "type": "bar",
         "x": [
          "John Cleese"
         ],
         "xaxis": "x",
         "y": [
          24
         ],
         "yaxis": "y"
        },
        {
         "alignmentgroup": "True",
         "hovertemplate": "cast=%{x}<br>count=%{text}<extra></extra>",
         "legendgroup": "Vincent Tong",
         "marker": {
          "color": "#00cc96"
         },
         "name": "Vincent Tong",
         "offsetgroup": "Vincent Tong",
         "orientation": "v",
         "showlegend": true,
         "text": [
          24
         ],
         "textposition": "outside",
         "type": "bar",
         "x": [
          "Vincent Tong"
         ],
         "xaxis": "x",
         "y": [
          24
         ],
         "yaxis": "y"
        },
        {
         "alignmentgroup": "True",
         "hovertemplate": "cast=%{x}<br>count=%{text}<extra></extra>",
         "legendgroup": "Andrea Libman",
         "marker": {
          "color": "#ab63fa"
         },
         "name": "Andrea Libman",
         "offsetgroup": "Andrea Libman",
         "orientation": "v",
         "showlegend": true,
         "text": [
          24
         ],
         "textposition": "outside",
         "type": "bar",
         "x": [
          "Andrea Libman"
         ],
         "xaxis": "x",
         "y": [
          24
         ],
         "yaxis": "y"
        },
        {
         "alignmentgroup": "True",
         "hovertemplate": "cast=%{x}<br>count=%{text}<extra></extra>",
         "legendgroup": "Ashleigh Ball",
         "marker": {
          "color": "#FFA15A"
         },
         "name": "Ashleigh Ball",
         "offsetgroup": "Ashleigh Ball",
         "orientation": "v",
         "showlegend": true,
         "text": [
          22
         ],
         "textposition": "outside",
         "type": "bar",
         "x": [
          "Ashleigh Ball"
         ],
         "xaxis": "x",
         "y": [
          22
         ],
         "yaxis": "y"
        },
        {
         "alignmentgroup": "True",
         "hovertemplate": "cast=%{x}<br>count=%{text}<extra></extra>",
         "legendgroup": "Tara Strong",
         "marker": {
          "color": "#19d3f3"
         },
         "name": "Tara Strong",
         "offsetgroup": "Tara Strong",
         "orientation": "v",
         "showlegend": true,
         "text": [
          22
         ],
         "textposition": "outside",
         "type": "bar",
         "x": [
          "Tara Strong"
         ],
         "xaxis": "x",
         "y": [
          22
         ],
         "yaxis": "y"
        },
        {
         "alignmentgroup": "True",
         "hovertemplate": "cast=%{x}<br>count=%{text}<extra></extra>",
         "legendgroup": "Nawazuddin Siddiqui",
         "marker": {
          "color": "#FF6692"
         },
         "name": "Nawazuddin Siddiqui",
         "offsetgroup": "Nawazuddin Siddiqui",
         "orientation": "v",
         "showlegend": true,
         "text": [
          21
         ],
         "textposition": "outside",
         "type": "bar",
         "x": [
          "Nawazuddin Siddiqui"
         ],
         "xaxis": "x",
         "y": [
          21
         ],
         "yaxis": "y"
        },
        {
         "alignmentgroup": "True",
         "hovertemplate": "cast=%{x}<br>count=%{text}<extra></extra>",
         "legendgroup": "Kay Kay Menon",
         "marker": {
          "color": "#B6E880"
         },
         "name": "Kay Kay Menon",
         "offsetgroup": "Kay Kay Menon",
         "orientation": "v",
         "showlegend": true,
         "text": [
          20
         ],
         "textposition": "outside",
         "type": "bar",
         "x": [
          "Kay Kay Menon"
         ],
         "xaxis": "x",
         "y": [
          20
         ],
         "yaxis": "y"
        },
        {
         "alignmentgroup": "True",
         "hovertemplate": "cast=%{x}<br>count=%{text}<extra></extra>",
         "legendgroup": "Salman Khan",
         "marker": {
          "color": "#FF97FF"
         },
         "name": "Salman Khan",
         "offsetgroup": "Salman Khan",
         "orientation": "v",
         "showlegend": true,
         "text": [
          20
         ],
         "textposition": "outside",
         "type": "bar",
         "x": [
          "Salman Khan"
         ],
         "xaxis": "x",
         "y": [
          20
         ],
         "yaxis": "y"
        },
        {
         "alignmentgroup": "True",
         "hovertemplate": "cast=%{x}<br>count=%{text}<extra></extra>",
         "legendgroup": "Daisuke Ono",
         "marker": {
          "color": "#FECB52"
         },
         "name": "Daisuke Ono",
         "offsetgroup": "Daisuke Ono",
         "orientation": "v",
         "showlegend": true,
         "text": [
          20
         ],
         "textposition": "outside",
         "type": "bar",
         "x": [
          "Daisuke Ono"
         ],
         "xaxis": "x",
         "y": [
          20
         ],
         "yaxis": "y"
        },
        {
         "alignmentgroup": "True",
         "hovertemplate": "cast=%{x}<br>count=%{text}<extra></extra>",
         "legendgroup": "Ajay Devgn",
         "marker": {
          "color": "#636efa"
         },
         "name": "Ajay Devgn",
         "offsetgroup": "Ajay Devgn",
         "orientation": "v",
         "showlegend": true,
         "text": [
          20
         ],
         "textposition": "outside",
         "type": "bar",
         "x": [
          "Ajay Devgn"
         ],
         "xaxis": "x",
         "y": [
          20
         ],
         "yaxis": "y"
        },
        {
         "alignmentgroup": "True",
         "hovertemplate": "cast=%{x}<br>count=%{text}<extra></extra>",
         "legendgroup": "Nicolas Cage",
         "marker": {
          "color": "#EF553B"
         },
         "name": "Nicolas Cage",
         "offsetgroup": "Nicolas Cage",
         "orientation": "v",
         "showlegend": true,
         "text": [
          19
         ],
         "textposition": "outside",
         "type": "bar",
         "x": [
          "Nicolas Cage"
         ],
         "xaxis": "x",
         "y": [
          19
         ],
         "yaxis": "y"
        },
        {
         "alignmentgroup": "True",
         "hovertemplate": "cast=%{x}<br>count=%{text}<extra></extra>",
         "legendgroup": "Samuel L. Jackson",
         "marker": {
          "color": "#00cc96"
         },
         "name": "Samuel L. Jackson",
         "offsetgroup": "Samuel L. Jackson",
         "orientation": "v",
         "showlegend": true,
         "text": [
          19
         ],
         "textposition": "outside",
         "type": "bar",
         "x": [
          "Samuel L. Jackson"
         ],
         "xaxis": "x",
         "y": [
          19
         ],
         "yaxis": "y"
        },
        {
         "alignmentgroup": "True",
         "hovertemplate": "cast=%{x}<br>count=%{text}<extra></extra>",
         "legendgroup": "Gulshan Grover",
         "marker": {
          "color": "#ab63fa"
         },
         "name": "Gulshan Grover",
         "offsetgroup": "Gulshan Grover",
         "orientation": "v",
         "showlegend": true,
         "text": [
          19
         ],
         "textposition": "outside",
         "type": "bar",
         "x": [
          "Gulshan Grover"
         ],
         "xaxis": "x",
         "y": [
          19
         ],
         "yaxis": "y"
        },
        {
         "alignmentgroup": "True",
         "hovertemplate": "cast=%{x}<br>count=%{text}<extra></extra>",
         "legendgroup": "Kana Hanazawa",
         "marker": {
          "color": "#FFA15A"
         },
         "name": "Kana Hanazawa",
         "offsetgroup": "Kana Hanazawa",
         "orientation": "v",
         "showlegend": true,
         "text": [
          18
         ],
         "textposition": "outside",
         "type": "bar",
         "x": [
          "Kana Hanazawa"
         ],
         "xaxis": "x",
         "y": [
          18
         ],
         "yaxis": "y"
        },
        {
         "alignmentgroup": "True",
         "hovertemplate": "cast=%{x}<br>count=%{text}<extra></extra>",
         "legendgroup": "Debi Derryberry",
         "marker": {
          "color": "#19d3f3"
         },
         "name": "Debi Derryberry",
         "offsetgroup": "Debi Derryberry",
         "orientation": "v",
         "showlegend": true,
         "text": [
          18
         ],
         "textposition": "outside",
         "type": "bar",
         "x": [
          "Debi Derryberry"
         ],
         "xaxis": "x",
         "y": [
          18
         ],
         "yaxis": "y"
        },
        {
         "alignmentgroup": "True",
         "hovertemplate": "cast=%{x}<br>count=%{text}<extra></extra>",
         "legendgroup": "Adam Sandler",
         "marker": {
          "color": "#FF6692"
         },
         "name": "Adam Sandler",
         "offsetgroup": "Adam Sandler",
         "orientation": "v",
         "showlegend": true,
         "text": [
          18
         ],
         "textposition": "outside",
         "type": "bar",
         "x": [
          "Adam Sandler"
         ],
         "xaxis": "x",
         "y": [
          18
         ],
         "yaxis": "y"
        },
        {
         "alignmentgroup": "True",
         "hovertemplate": "cast=%{x}<br>count=%{text}<extra></extra>",
         "legendgroup": "Erin Fitzgerald",
         "marker": {
          "color": "#B6E880"
         },
         "name": "Erin Fitzgerald",
         "offsetgroup": "Erin Fitzgerald",
         "orientation": "v",
         "showlegend": true,
         "text": [
          18
         ],
         "textposition": "outside",
         "type": "bar",
         "x": [
          "Erin Fitzgerald"
         ],
         "xaxis": "x",
         "y": [
          18
         ],
         "yaxis": "y"
        },
        {
         "alignmentgroup": "True",
         "hovertemplate": "cast=%{x}<br>count=%{text}<extra></extra>",
         "legendgroup": "David Attenborough",
         "marker": {
          "color": "#FF97FF"
         },
         "name": "David Attenborough",
         "offsetgroup": "David Attenborough",
         "orientation": "v",
         "showlegend": true,
         "text": [
          18
         ],
         "textposition": "outside",
         "type": "bar",
         "x": [
          "David Attenborough"
         ],
         "xaxis": "x",
         "y": [
          18
         ],
         "yaxis": "y"
        },
        {
         "alignmentgroup": "True",
         "hovertemplate": "cast=%{x}<br>count=%{text}<extra></extra>",
         "legendgroup": "Junichi Suwabe",
         "marker": {
          "color": "#FECB52"
         },
         "name": "Junichi Suwabe",
         "offsetgroup": "Junichi Suwabe",
         "orientation": "v",
         "showlegend": true,
         "text": [
          18
         ],
         "textposition": "outside",
         "type": "bar",
         "x": [
          "Junichi Suwabe"
         ],
         "xaxis": "x",
         "y": [
          18
         ],
         "yaxis": "y"
        },
        {
         "alignmentgroup": "True",
         "hovertemplate": "cast=%{x}<br>count=%{text}<extra></extra>",
         "legendgroup": "Ai Kayano",
         "marker": {
          "color": "#636efa"
         },
         "name": "Ai Kayano",
         "offsetgroup": "Ai Kayano",
         "orientation": "v",
         "showlegend": true,
         "text": [
          18
         ],
         "textposition": "outside",
         "type": "bar",
         "x": [
          "Ai Kayano"
         ],
         "xaxis": "x",
         "y": [
          18
         ],
         "yaxis": "y"
        },
        {
         "alignmentgroup": "True",
         "hovertemplate": "cast=%{x}<br>count=%{text}<extra></extra>",
         "legendgroup": "Yashpal Sharma",
         "marker": {
          "color": "#EF553B"
         },
         "name": "Yashpal Sharma",
         "offsetgroup": "Yashpal Sharma",
         "orientation": "v",
         "showlegend": true,
         "text": [
          18
         ],
         "textposition": "outside",
         "type": "bar",
         "x": [
          "Yashpal Sharma"
         ],
         "xaxis": "x",
         "y": [
          18
         ],
         "yaxis": "y"
        },
        {
         "alignmentgroup": "True",
         "hovertemplate": "cast=%{x}<br>count=%{text}<extra></extra>",
         "legendgroup": "Fred Tatasciore",
         "marker": {
          "color": "#00cc96"
         },
         "name": "Fred Tatasciore",
         "offsetgroup": "Fred Tatasciore",
         "orientation": "v",
         "showlegend": true,
         "text": [
          18
         ],
         "textposition": "outside",
         "type": "bar",
         "x": [
          "Fred Tatasciore"
         ],
         "xaxis": "x",
         "y": [
          18
         ],
         "yaxis": "y"
        },
        {
         "alignmentgroup": "True",
         "hovertemplate": "cast=%{x}<br>count=%{text}<extra></extra>",
         "legendgroup": "Saif Ali Khan",
         "marker": {
          "color": "#ab63fa"
         },
         "name": "Saif Ali Khan",
         "offsetgroup": "Saif Ali Khan",
         "orientation": "v",
         "showlegend": true,
         "text": [
          17
         ],
         "textposition": "outside",
         "type": "bar",
         "x": [
          "Saif Ali Khan"
         ],
         "xaxis": "x",
         "y": [
          17
         ],
         "yaxis": "y"
        },
        {
         "alignmentgroup": "True",
         "hovertemplate": "cast=%{x}<br>count=%{text}<extra></extra>",
         "legendgroup": "Diana Kaarina",
         "marker": {
          "color": "#FFA15A"
         },
         "name": "Diana Kaarina",
         "offsetgroup": "Diana Kaarina",
         "orientation": "v",
         "showlegend": true,
         "text": [
          17
         ],
         "textposition": "outside",
         "type": "bar",
         "x": [
          "Diana Kaarina"
         ],
         "xaxis": "x",
         "y": [
          17
         ],
         "yaxis": "y"
        },
        {
         "alignmentgroup": "True",
         "hovertemplate": "cast=%{x}<br>count=%{text}<extra></extra>",
         "legendgroup": "James Franco",
         "marker": {
          "color": "#19d3f3"
         },
         "name": "James Franco",
         "offsetgroup": "James Franco",
         "orientation": "v",
         "showlegend": true,
         "text": [
          17
         ],
         "textposition": "outside",
         "type": "bar",
         "x": [
          "James Franco"
         ],
         "xaxis": "x",
         "y": [
          17
         ],
         "yaxis": "y"
        },
        {
         "alignmentgroup": "True",
         "hovertemplate": "cast=%{x}<br>count=%{text}<extra></extra>",
         "legendgroup": "Jackie Shroff",
         "marker": {
          "color": "#FF6692"
         },
         "name": "Jackie Shroff",
         "offsetgroup": "Jackie Shroff",
         "orientation": "v",
         "showlegend": true,
         "text": [
          17
         ],
         "textposition": "outside",
         "type": "bar",
         "x": [
          "Jackie Shroff"
         ],
         "xaxis": "x",
         "y": [
          17
         ],
         "yaxis": "y"
        },
        {
         "alignmentgroup": "True",
         "hovertemplate": "cast=%{x}<br>count=%{text}<extra></extra>",
         "legendgroup": "Anil Kapoor",
         "marker": {
          "color": "#B6E880"
         },
         "name": "Anil Kapoor",
         "offsetgroup": "Anil Kapoor",
         "orientation": "v",
         "showlegend": true,
         "text": [
          17
         ],
         "textposition": "outside",
         "type": "bar",
         "x": [
          "Anil Kapoor"
         ],
         "xaxis": "x",
         "y": [
          17
         ],
         "yaxis": "y"
        },
        {
         "alignmentgroup": "True",
         "hovertemplate": "cast=%{x}<br>count=%{text}<extra></extra>",
         "legendgroup": "Priyanka Chopra",
         "marker": {
          "color": "#FF97FF"
         },
         "name": "Priyanka Chopra",
         "offsetgroup": "Priyanka Chopra",
         "orientation": "v",
         "showlegend": true,
         "text": [
          17
         ],
         "textposition": "outside",
         "type": "bar",
         "x": [
          "Priyanka Chopra"
         ],
         "xaxis": "x",
         "y": [
          17
         ],
         "yaxis": "y"
        },
        {
         "alignmentgroup": "True",
         "hovertemplate": "cast=%{x}<br>count=%{text}<extra></extra>",
         "legendgroup": "Kate Higgins",
         "marker": {
          "color": "#FECB52"
         },
         "name": "Kate Higgins",
         "offsetgroup": "Kate Higgins",
         "orientation": "v",
         "showlegend": true,
         "text": [
          17
         ],
         "textposition": "outside",
         "type": "bar",
         "x": [
          "Kate Higgins"
         ],
         "xaxis": "x",
         "y": [
          17
         ],
         "yaxis": "y"
        },
        {
         "alignmentgroup": "True",
         "hovertemplate": "cast=%{x}<br>count=%{text}<extra></extra>",
         "legendgroup": "Fred Armisen",
         "marker": {
          "color": "#636efa"
         },
         "name": "Fred Armisen",
         "offsetgroup": "Fred Armisen",
         "orientation": "v",
         "showlegend": true,
         "text": [
          17
         ],
         "textposition": "outside",
         "type": "bar",
         "x": [
          "Fred Armisen"
         ],
         "xaxis": "x",
         "y": [
          17
         ],
         "yaxis": "y"
        },
        {
         "alignmentgroup": "True",
         "hovertemplate": "cast=%{x}<br>count=%{text}<extra></extra>",
         "legendgroup": "Asrani",
         "marker": {
          "color": "#EF553B"
         },
         "name": "Asrani",
         "offsetgroup": "Asrani",
         "orientation": "v",
         "showlegend": true,
         "text": [
          17
         ],
         "textposition": "outside",
         "type": "bar",
         "x": [
          "Asrani"
         ],
         "xaxis": "x",
         "y": [
          17
         ],
         "yaxis": "y"
        },
        {
         "alignmentgroup": "True",
         "hovertemplate": "cast=%{x}<br>count=%{text}<extra></extra>",
         "legendgroup": "Aamir Khan",
         "marker": {
          "color": "#00cc96"
         },
         "name": "Aamir Khan",
         "offsetgroup": "Aamir Khan",
         "orientation": "v",
         "showlegend": true,
         "text": [
          16
         ],
         "textposition": "outside",
         "type": "bar",
         "x": [
          "Aamir Khan"
         ],
         "xaxis": "x",
         "y": [
          16
         ],
         "yaxis": "y"
        },
        {
         "alignmentgroup": "True",
         "hovertemplate": "cast=%{x}<br>count=%{text}<extra></extra>",
         "legendgroup": "Amrish Puri",
         "marker": {
          "color": "#ab63fa"
         },
         "name": "Amrish Puri",
         "offsetgroup": "Amrish Puri",
         "orientation": "v",
         "showlegend": true,
         "text": [
          16
         ],
         "textposition": "outside",
         "type": "bar",
         "x": [
          "Amrish Puri"
         ],
         "xaxis": "x",
         "y": [
          16
         ],
         "yaxis": "y"
        },
        {
         "alignmentgroup": "True",
         "hovertemplate": "cast=%{x}<br>count=%{text}<extra></extra>",
         "legendgroup": "Seth Rogen",
         "marker": {
          "color": "#FFA15A"
         },
         "name": "Seth Rogen",
         "offsetgroup": "Seth Rogen",
         "orientation": "v",
         "showlegend": true,
         "text": [
          16
         ],
         "textposition": "outside",
         "type": "bar",
         "x": [
          "Seth Rogen"
         ],
         "xaxis": "x",
         "y": [
          16
         ],
         "yaxis": "y"
        },
        {
         "alignmentgroup": "True",
         "hovertemplate": "cast=%{x}<br>count=%{text}<extra></extra>",
         "legendgroup": "Manoj Joshi",
         "marker": {
          "color": "#19d3f3"
         },
         "name": "Manoj Joshi",
         "offsetgroup": "Manoj Joshi",
         "orientation": "v",
         "showlegend": true,
         "text": [
          16
         ],
         "textposition": "outside",
         "type": "bar",
         "x": [
          "Manoj Joshi"
         ],
         "xaxis": "x",
         "y": [
          16
         ],
         "yaxis": "y"
        },
        {
         "alignmentgroup": "True",
         "hovertemplate": "cast=%{x}<br>count=%{text}<extra></extra>",
         "legendgroup": "Michela Luci",
         "marker": {
          "color": "#FF6692"
         },
         "name": "Michela Luci",
         "offsetgroup": "Michela Luci",
         "orientation": "v",
         "showlegend": true,
         "text": [
          16
         ],
         "textposition": "outside",
         "type": "bar",
         "x": [
          "Michela Luci"
         ],
         "xaxis": "x",
         "y": [
          16
         ],
         "yaxis": "y"
        },
        {
         "alignmentgroup": "True",
         "hovertemplate": "cast=%{x}<br>count=%{text}<extra></extra>",
         "legendgroup": "Tomokazu Sugita",
         "marker": {
          "color": "#B6E880"
         },
         "name": "Tomokazu Sugita",
         "offsetgroup": "Tomokazu Sugita",
         "orientation": "v",
         "showlegend": true,
         "text": [
          16
         ],
         "textposition": "outside",
         "type": "bar",
         "x": [
          "Tomokazu Sugita"
         ],
         "xaxis": "x",
         "y": [
          16
         ],
         "yaxis": "y"
        },
        {
         "alignmentgroup": "True",
         "hovertemplate": "cast=%{x}<br>count=%{text}<extra></extra>",
         "legendgroup": "Yuichi Nakamura",
         "marker": {
          "color": "#FF97FF"
         },
         "name": "Yuichi Nakamura",
         "offsetgroup": "Yuichi Nakamura",
         "orientation": "v",
         "showlegend": true,
         "text": [
          16
         ],
         "textposition": "outside",
         "type": "bar",
         "x": [
          "Yuichi Nakamura"
         ],
         "xaxis": "x",
         "y": [
          16
         ],
         "yaxis": "y"
        },
        {
         "alignmentgroup": "True",
         "hovertemplate": "cast=%{x}<br>count=%{text}<extra></extra>",
         "legendgroup": "Michael Palin",
         "marker": {
          "color": "#FECB52"
         },
         "name": "Michael Palin",
         "offsetgroup": "Michael Palin",
         "orientation": "v",
         "showlegend": true,
         "text": [
          16
         ],
         "textposition": "outside",
         "type": "bar",
         "x": [
          "Michael Palin"
         ],
         "xaxis": "x",
         "y": [
          16
         ],
         "yaxis": "y"
        }
       ],
       "layout": {
        "barmode": "relative",
        "legend": {
         "title": {
          "text": "cast"
         },
         "tracegroupgap": 0
        },
        "template": {
         "data": {
          "bar": [
           {
            "error_x": {
             "color": "#2a3f5f"
            },
            "error_y": {
             "color": "#2a3f5f"
            },
            "marker": {
             "line": {
              "color": "#E5ECF6",
              "width": 0.5
             }
            },
            "type": "bar"
           }
          ],
          "barpolar": [
           {
            "marker": {
             "line": {
              "color": "#E5ECF6",
              "width": 0.5
             }
            },
            "type": "barpolar"
           }
          ],
          "carpet": [
           {
            "aaxis": {
             "endlinecolor": "#2a3f5f",
             "gridcolor": "white",
             "linecolor": "white",
             "minorgridcolor": "white",
             "startlinecolor": "#2a3f5f"
            },
            "baxis": {
             "endlinecolor": "#2a3f5f",
             "gridcolor": "white",
             "linecolor": "white",
             "minorgridcolor": "white",
             "startlinecolor": "#2a3f5f"
            },
            "type": "carpet"
           }
          ],
          "choropleth": [
           {
            "colorbar": {
             "outlinewidth": 0,
             "ticks": ""
            },
            "type": "choropleth"
           }
          ],
          "contour": [
           {
            "colorbar": {
             "outlinewidth": 0,
             "ticks": ""
            },
            "colorscale": [
             [
              0,
              "#0d0887"
             ],
             [
              0.1111111111111111,
              "#46039f"
             ],
             [
              0.2222222222222222,
              "#7201a8"
             ],
             [
              0.3333333333333333,
              "#9c179e"
             ],
             [
              0.4444444444444444,
              "#bd3786"
             ],
             [
              0.5555555555555556,
              "#d8576b"
             ],
             [
              0.6666666666666666,
              "#ed7953"
             ],
             [
              0.7777777777777778,
              "#fb9f3a"
             ],
             [
              0.8888888888888888,
              "#fdca26"
             ],
             [
              1,
              "#f0f921"
             ]
            ],
            "type": "contour"
           }
          ],
          "contourcarpet": [
           {
            "colorbar": {
             "outlinewidth": 0,
             "ticks": ""
            },
            "type": "contourcarpet"
           }
          ],
          "heatmap": [
           {
            "colorbar": {
             "outlinewidth": 0,
             "ticks": ""
            },
            "colorscale": [
             [
              0,
              "#0d0887"
             ],
             [
              0.1111111111111111,
              "#46039f"
             ],
             [
              0.2222222222222222,
              "#7201a8"
             ],
             [
              0.3333333333333333,
              "#9c179e"
             ],
             [
              0.4444444444444444,
              "#bd3786"
             ],
             [
              0.5555555555555556,
              "#d8576b"
             ],
             [
              0.6666666666666666,
              "#ed7953"
             ],
             [
              0.7777777777777778,
              "#fb9f3a"
             ],
             [
              0.8888888888888888,
              "#fdca26"
             ],
             [
              1,
              "#f0f921"
             ]
            ],
            "type": "heatmap"
           }
          ],
          "heatmapgl": [
           {
            "colorbar": {
             "outlinewidth": 0,
             "ticks": ""
            },
            "colorscale": [
             [
              0,
              "#0d0887"
             ],
             [
              0.1111111111111111,
              "#46039f"
             ],
             [
              0.2222222222222222,
              "#7201a8"
             ],
             [
              0.3333333333333333,
              "#9c179e"
             ],
             [
              0.4444444444444444,
              "#bd3786"
             ],
             [
              0.5555555555555556,
              "#d8576b"
             ],
             [
              0.6666666666666666,
              "#ed7953"
             ],
             [
              0.7777777777777778,
              "#fb9f3a"
             ],
             [
              0.8888888888888888,
              "#fdca26"
             ],
             [
              1,
              "#f0f921"
             ]
            ],
            "type": "heatmapgl"
           }
          ],
          "histogram": [
           {
            "marker": {
             "colorbar": {
              "outlinewidth": 0,
              "ticks": ""
             }
            },
            "type": "histogram"
           }
          ],
          "histogram2d": [
           {
            "colorbar": {
             "outlinewidth": 0,
             "ticks": ""
            },
            "colorscale": [
             [
              0,
              "#0d0887"
             ],
             [
              0.1111111111111111,
              "#46039f"
             ],
             [
              0.2222222222222222,
              "#7201a8"
             ],
             [
              0.3333333333333333,
              "#9c179e"
             ],
             [
              0.4444444444444444,
              "#bd3786"
             ],
             [
              0.5555555555555556,
              "#d8576b"
             ],
             [
              0.6666666666666666,
              "#ed7953"
             ],
             [
              0.7777777777777778,
              "#fb9f3a"
             ],
             [
              0.8888888888888888,
              "#fdca26"
             ],
             [
              1,
              "#f0f921"
             ]
            ],
            "type": "histogram2d"
           }
          ],
          "histogram2dcontour": [
           {
            "colorbar": {
             "outlinewidth": 0,
             "ticks": ""
            },
            "colorscale": [
             [
              0,
              "#0d0887"
             ],
             [
              0.1111111111111111,
              "#46039f"
             ],
             [
              0.2222222222222222,
              "#7201a8"
             ],
             [
              0.3333333333333333,
              "#9c179e"
             ],
             [
              0.4444444444444444,
              "#bd3786"
             ],
             [
              0.5555555555555556,
              "#d8576b"
             ],
             [
              0.6666666666666666,
              "#ed7953"
             ],
             [
              0.7777777777777778,
              "#fb9f3a"
             ],
             [
              0.8888888888888888,
              "#fdca26"
             ],
             [
              1,
              "#f0f921"
             ]
            ],
            "type": "histogram2dcontour"
           }
          ],
          "mesh3d": [
           {
            "colorbar": {
             "outlinewidth": 0,
             "ticks": ""
            },
            "type": "mesh3d"
           }
          ],
          "parcoords": [
           {
            "line": {
             "colorbar": {
              "outlinewidth": 0,
              "ticks": ""
             }
            },
            "type": "parcoords"
           }
          ],
          "pie": [
           {
            "automargin": true,
            "type": "pie"
           }
          ],
          "scatter": [
           {
            "marker": {
             "colorbar": {
              "outlinewidth": 0,
              "ticks": ""
             }
            },
            "type": "scatter"
           }
          ],
          "scatter3d": [
           {
            "line": {
             "colorbar": {
              "outlinewidth": 0,
              "ticks": ""
             }
            },
            "marker": {
             "colorbar": {
              "outlinewidth": 0,
              "ticks": ""
             }
            },
            "type": "scatter3d"
           }
          ],
          "scattercarpet": [
           {
            "marker": {
             "colorbar": {
              "outlinewidth": 0,
              "ticks": ""
             }
            },
            "type": "scattercarpet"
           }
          ],
          "scattergeo": [
           {
            "marker": {
             "colorbar": {
              "outlinewidth": 0,
              "ticks": ""
             }
            },
            "type": "scattergeo"
           }
          ],
          "scattergl": [
           {
            "marker": {
             "colorbar": {
              "outlinewidth": 0,
              "ticks": ""
             }
            },
            "type": "scattergl"
           }
          ],
          "scattermapbox": [
           {
            "marker": {
             "colorbar": {
              "outlinewidth": 0,
              "ticks": ""
             }
            },
            "type": "scattermapbox"
           }
          ],
          "scatterpolar": [
           {
            "marker": {
             "colorbar": {
              "outlinewidth": 0,
              "ticks": ""
             }
            },
            "type": "scatterpolar"
           }
          ],
          "scatterpolargl": [
           {
            "marker": {
             "colorbar": {
              "outlinewidth": 0,
              "ticks": ""
             }
            },
            "type": "scatterpolargl"
           }
          ],
          "scatterternary": [
           {
            "marker": {
             "colorbar": {
              "outlinewidth": 0,
              "ticks": ""
             }
            },
            "type": "scatterternary"
           }
          ],
          "surface": [
           {
            "colorbar": {
             "outlinewidth": 0,
             "ticks": ""
            },
            "colorscale": [
             [
              0,
              "#0d0887"
             ],
             [
              0.1111111111111111,
              "#46039f"
             ],
             [
              0.2222222222222222,
              "#7201a8"
             ],
             [
              0.3333333333333333,
              "#9c179e"
             ],
             [
              0.4444444444444444,
              "#bd3786"
             ],
             [
              0.5555555555555556,
              "#d8576b"
             ],
             [
              0.6666666666666666,
              "#ed7953"
             ],
             [
              0.7777777777777778,
              "#fb9f3a"
             ],
             [
              0.8888888888888888,
              "#fdca26"
             ],
             [
              1,
              "#f0f921"
             ]
            ],
            "type": "surface"
           }
          ],
          "table": [
           {
            "cells": {
             "fill": {
              "color": "#EBF0F8"
             },
             "line": {
              "color": "white"
             }
            },
            "header": {
             "fill": {
              "color": "#C8D4E3"
             },
             "line": {
              "color": "white"
             }
            },
            "type": "table"
           }
          ]
         },
         "layout": {
          "annotationdefaults": {
           "arrowcolor": "#2a3f5f",
           "arrowhead": 0,
           "arrowwidth": 1
          },
          "coloraxis": {
           "colorbar": {
            "outlinewidth": 0,
            "ticks": ""
           }
          },
          "colorscale": {
           "diverging": [
            [
             0,
             "#8e0152"
            ],
            [
             0.1,
             "#c51b7d"
            ],
            [
             0.2,
             "#de77ae"
            ],
            [
             0.3,
             "#f1b6da"
            ],
            [
             0.4,
             "#fde0ef"
            ],
            [
             0.5,
             "#f7f7f7"
            ],
            [
             0.6,
             "#e6f5d0"
            ],
            [
             0.7,
             "#b8e186"
            ],
            [
             0.8,
             "#7fbc41"
            ],
            [
             0.9,
             "#4d9221"
            ],
            [
             1,
             "#276419"
            ]
           ],
           "sequential": [
            [
             0,
             "#0d0887"
            ],
            [
             0.1111111111111111,
             "#46039f"
            ],
            [
             0.2222222222222222,
             "#7201a8"
            ],
            [
             0.3333333333333333,
             "#9c179e"
            ],
            [
             0.4444444444444444,
             "#bd3786"
            ],
            [
             0.5555555555555556,
             "#d8576b"
            ],
            [
             0.6666666666666666,
             "#ed7953"
            ],
            [
             0.7777777777777778,
             "#fb9f3a"
            ],
            [
             0.8888888888888888,
             "#fdca26"
            ],
            [
             1,
             "#f0f921"
            ]
           ],
           "sequentialminus": [
            [
             0,
             "#0d0887"
            ],
            [
             0.1111111111111111,
             "#46039f"
            ],
            [
             0.2222222222222222,
             "#7201a8"
            ],
            [
             0.3333333333333333,
             "#9c179e"
            ],
            [
             0.4444444444444444,
             "#bd3786"
            ],
            [
             0.5555555555555556,
             "#d8576b"
            ],
            [
             0.6666666666666666,
             "#ed7953"
            ],
            [
             0.7777777777777778,
             "#fb9f3a"
            ],
            [
             0.8888888888888888,
             "#fdca26"
            ],
            [
             1,
             "#f0f921"
            ]
           ]
          },
          "colorway": [
           "#636efa",
           "#EF553B",
           "#00cc96",
           "#ab63fa",
           "#FFA15A",
           "#19d3f3",
           "#FF6692",
           "#B6E880",
           "#FF97FF",
           "#FECB52"
          ],
          "font": {
           "color": "#2a3f5f"
          },
          "geo": {
           "bgcolor": "white",
           "lakecolor": "white",
           "landcolor": "#E5ECF6",
           "showlakes": true,
           "showland": true,
           "subunitcolor": "white"
          },
          "hoverlabel": {
           "align": "left"
          },
          "hovermode": "closest",
          "mapbox": {
           "style": "light"
          },
          "paper_bgcolor": "white",
          "plot_bgcolor": "#E5ECF6",
          "polar": {
           "angularaxis": {
            "gridcolor": "white",
            "linecolor": "white",
            "ticks": ""
           },
           "bgcolor": "#E5ECF6",
           "radialaxis": {
            "gridcolor": "white",
            "linecolor": "white",
            "ticks": ""
           }
          },
          "scene": {
           "xaxis": {
            "backgroundcolor": "#E5ECF6",
            "gridcolor": "white",
            "gridwidth": 2,
            "linecolor": "white",
            "showbackground": true,
            "ticks": "",
            "zerolinecolor": "white"
           },
           "yaxis": {
            "backgroundcolor": "#E5ECF6",
            "gridcolor": "white",
            "gridwidth": 2,
            "linecolor": "white",
            "showbackground": true,
            "ticks": "",
            "zerolinecolor": "white"
           },
           "zaxis": {
            "backgroundcolor": "#E5ECF6",
            "gridcolor": "white",
            "gridwidth": 2,
            "linecolor": "white",
            "showbackground": true,
            "ticks": "",
            "zerolinecolor": "white"
           }
          },
          "shapedefaults": {
           "line": {
            "color": "#2a3f5f"
           }
          },
          "ternary": {
           "aaxis": {
            "gridcolor": "white",
            "linecolor": "white",
            "ticks": ""
           },
           "baxis": {
            "gridcolor": "white",
            "linecolor": "white",
            "ticks": ""
           },
           "bgcolor": "#E5ECF6",
           "caxis": {
            "gridcolor": "white",
            "linecolor": "white",
            "ticks": ""
           }
          },
          "title": {
           "x": 0.05
          },
          "xaxis": {
           "automargin": true,
           "gridcolor": "white",
           "linecolor": "white",
           "ticks": "",
           "title": {
            "standoff": 15
           },
           "zerolinecolor": "white",
           "zerolinewidth": 2
          },
          "yaxis": {
           "automargin": true,
           "gridcolor": "white",
           "linecolor": "white",
           "ticks": "",
           "title": {
            "standoff": 15
           },
           "zerolinecolor": "white",
           "zerolinewidth": 2
          }
         }
        },
        "title": {
         "text": "Cast Top20"
        },
        "xaxis": {
         "anchor": "y",
         "categoryarray": [
          "Anupam Kher",
          "Shah Rukh Khan",
          "Naseeruddin Shah",
          "Om Puri",
          "Takahiro Sakurai",
          "Amitabh Bachchan",
          "Yuki Kaji",
          "Akshay Kumar",
          "Paresh Rawal",
          "Boman Irani",
          "Kareena Kapoor",
          "John Cleese",
          "Vincent Tong",
          "Andrea Libman",
          "Ashleigh Ball",
          "Tara Strong",
          "Nawazuddin Siddiqui",
          "Kay Kay Menon",
          "Salman Khan",
          "Daisuke Ono",
          "Ajay Devgn",
          "Nicolas Cage",
          "Samuel L. Jackson",
          "Gulshan Grover",
          "Kana Hanazawa",
          "Debi Derryberry",
          "Adam Sandler",
          "Erin Fitzgerald",
          "David Attenborough",
          "Junichi Suwabe",
          "Ai Kayano",
          "Yashpal Sharma",
          "Fred Tatasciore",
          "Saif Ali Khan",
          "Diana Kaarina",
          "James Franco",
          "Jackie Shroff",
          "Anil Kapoor",
          "Priyanka Chopra",
          "Kate Higgins",
          "Fred Armisen",
          "Asrani",
          "Aamir Khan",
          "Amrish Puri",
          "Seth Rogen",
          "Manoj Joshi",
          "Michela Luci",
          "Tomokazu Sugita",
          "Yuichi Nakamura",
          "Michael Palin"
         ],
         "categoryorder": "array",
         "domain": [
          0,
          1
         ],
         "title": {
          "text": "cast"
         }
        },
        "yaxis": {
         "anchor": "x",
         "domain": [
          0,
          1
         ],
         "title": {
          "text": "count"
         }
        }
       }
      },
      "text/html": [
       "<div>\n",
       "        \n",
       "        \n",
       "            <div id=\"a1a34012-6b28-4473-ac98-d0e443d6ec32\" class=\"plotly-graph-div\" style=\"height:525px; width:100%;\"></div>\n",
       "            <script type=\"text/javascript\">\n",
       "                require([\"plotly\"], function(Plotly) {\n",
       "                    window.PLOTLYENV=window.PLOTLYENV || {};\n",
       "                    \n",
       "                if (document.getElementById(\"a1a34012-6b28-4473-ac98-d0e443d6ec32\")) {\n",
       "                    Plotly.newPlot(\n",
       "                        'a1a34012-6b28-4473-ac98-d0e443d6ec32',\n",
       "                        [{\"alignmentgroup\": \"True\", \"hovertemplate\": \"cast=%{x}<br>count=%{text}<extra></extra>\", \"legendgroup\": \"Anupam Kher\", \"marker\": {\"color\": \"#636efa\"}, \"name\": \"Anupam Kher\", \"offsetgroup\": \"Anupam Kher\", \"orientation\": \"v\", \"showlegend\": true, \"text\": [42.0], \"textposition\": \"outside\", \"type\": \"bar\", \"x\": [\"Anupam Kher\"], \"xaxis\": \"x\", \"y\": [42], \"yaxis\": \"y\"}, {\"alignmentgroup\": \"True\", \"hovertemplate\": \"cast=%{x}<br>count=%{text}<extra></extra>\", \"legendgroup\": \"Shah Rukh Khan\", \"marker\": {\"color\": \"#EF553B\"}, \"name\": \"Shah Rukh Khan\", \"offsetgroup\": \"Shah Rukh Khan\", \"orientation\": \"v\", \"showlegend\": true, \"text\": [35.0], \"textposition\": \"outside\", \"type\": \"bar\", \"x\": [\"Shah Rukh Khan\"], \"xaxis\": \"x\", \"y\": [35], \"yaxis\": \"y\"}, {\"alignmentgroup\": \"True\", \"hovertemplate\": \"cast=%{x}<br>count=%{text}<extra></extra>\", \"legendgroup\": \"Naseeruddin Shah\", \"marker\": {\"color\": \"#00cc96\"}, \"name\": \"Naseeruddin Shah\", \"offsetgroup\": \"Naseeruddin Shah\", \"orientation\": \"v\", \"showlegend\": true, \"text\": [30.0], \"textposition\": \"outside\", \"type\": \"bar\", \"x\": [\"Naseeruddin Shah\"], \"xaxis\": \"x\", \"y\": [30], \"yaxis\": \"y\"}, {\"alignmentgroup\": \"True\", \"hovertemplate\": \"cast=%{x}<br>count=%{text}<extra></extra>\", \"legendgroup\": \"Om Puri\", \"marker\": {\"color\": \"#ab63fa\"}, \"name\": \"Om Puri\", \"offsetgroup\": \"Om Puri\", \"orientation\": \"v\", \"showlegend\": true, \"text\": [30.0], \"textposition\": \"outside\", \"type\": \"bar\", \"x\": [\"Om Puri\"], \"xaxis\": \"x\", \"y\": [30], \"yaxis\": \"y\"}, {\"alignmentgroup\": \"True\", \"hovertemplate\": \"cast=%{x}<br>count=%{text}<extra></extra>\", \"legendgroup\": \"Takahiro Sakurai\", \"marker\": {\"color\": \"#FFA15A\"}, \"name\": \"Takahiro Sakurai\", \"offsetgroup\": \"Takahiro Sakurai\", \"orientation\": \"v\", \"showlegend\": true, \"text\": [29.0], \"textposition\": \"outside\", \"type\": \"bar\", \"x\": [\"Takahiro Sakurai\"], \"xaxis\": \"x\", \"y\": [29], \"yaxis\": \"y\"}, {\"alignmentgroup\": \"True\", \"hovertemplate\": \"cast=%{x}<br>count=%{text}<extra></extra>\", \"legendgroup\": \"Amitabh Bachchan\", \"marker\": {\"color\": \"#19d3f3\"}, \"name\": \"Amitabh Bachchan\", \"offsetgroup\": \"Amitabh Bachchan\", \"orientation\": \"v\", \"showlegend\": true, \"text\": [27.0], \"textposition\": \"outside\", \"type\": \"bar\", \"x\": [\"Amitabh Bachchan\"], \"xaxis\": \"x\", \"y\": [27], \"yaxis\": \"y\"}, {\"alignmentgroup\": \"True\", \"hovertemplate\": \"cast=%{x}<br>count=%{text}<extra></extra>\", \"legendgroup\": \"Yuki Kaji\", \"marker\": {\"color\": \"#FF6692\"}, \"name\": \"Yuki Kaji\", \"offsetgroup\": \"Yuki Kaji\", \"orientation\": \"v\", \"showlegend\": true, \"text\": [27.0], \"textposition\": \"outside\", \"type\": \"bar\", \"x\": [\"Yuki Kaji\"], \"xaxis\": \"x\", \"y\": [27], \"yaxis\": \"y\"}, {\"alignmentgroup\": \"True\", \"hovertemplate\": \"cast=%{x}<br>count=%{text}<extra></extra>\", \"legendgroup\": \"Akshay Kumar\", \"marker\": {\"color\": \"#B6E880\"}, \"name\": \"Akshay Kumar\", \"offsetgroup\": \"Akshay Kumar\", \"orientation\": \"v\", \"showlegend\": true, \"text\": [27.0], \"textposition\": \"outside\", \"type\": \"bar\", \"x\": [\"Akshay Kumar\"], \"xaxis\": \"x\", \"y\": [27], \"yaxis\": \"y\"}, {\"alignmentgroup\": \"True\", \"hovertemplate\": \"cast=%{x}<br>count=%{text}<extra></extra>\", \"legendgroup\": \"Paresh Rawal\", \"marker\": {\"color\": \"#FF97FF\"}, \"name\": \"Paresh Rawal\", \"offsetgroup\": \"Paresh Rawal\", \"orientation\": \"v\", \"showlegend\": true, \"text\": [27.0], \"textposition\": \"outside\", \"type\": \"bar\", \"x\": [\"Paresh Rawal\"], \"xaxis\": \"x\", \"y\": [27], \"yaxis\": \"y\"}, {\"alignmentgroup\": \"True\", \"hovertemplate\": \"cast=%{x}<br>count=%{text}<extra></extra>\", \"legendgroup\": \"Boman Irani\", \"marker\": {\"color\": \"#FECB52\"}, \"name\": \"Boman Irani\", \"offsetgroup\": \"Boman Irani\", \"orientation\": \"v\", \"showlegend\": true, \"text\": [26.0], \"textposition\": \"outside\", \"type\": \"bar\", \"x\": [\"Boman Irani\"], \"xaxis\": \"x\", \"y\": [26], \"yaxis\": \"y\"}, {\"alignmentgroup\": \"True\", \"hovertemplate\": \"cast=%{x}<br>count=%{text}<extra></extra>\", \"legendgroup\": \"Kareena Kapoor\", \"marker\": {\"color\": \"#636efa\"}, \"name\": \"Kareena Kapoor\", \"offsetgroup\": \"Kareena Kapoor\", \"orientation\": \"v\", \"showlegend\": true, \"text\": [25.0], \"textposition\": \"outside\", \"type\": \"bar\", \"x\": [\"Kareena Kapoor\"], \"xaxis\": \"x\", \"y\": [25], \"yaxis\": \"y\"}, {\"alignmentgroup\": \"True\", \"hovertemplate\": \"cast=%{x}<br>count=%{text}<extra></extra>\", \"legendgroup\": \"John Cleese\", \"marker\": {\"color\": \"#EF553B\"}, \"name\": \"John Cleese\", \"offsetgroup\": \"John Cleese\", \"orientation\": \"v\", \"showlegend\": true, \"text\": [24.0], \"textposition\": \"outside\", \"type\": \"bar\", \"x\": [\"John Cleese\"], \"xaxis\": \"x\", \"y\": [24], \"yaxis\": \"y\"}, {\"alignmentgroup\": \"True\", \"hovertemplate\": \"cast=%{x}<br>count=%{text}<extra></extra>\", \"legendgroup\": \"Vincent Tong\", \"marker\": {\"color\": \"#00cc96\"}, \"name\": \"Vincent Tong\", \"offsetgroup\": \"Vincent Tong\", \"orientation\": \"v\", \"showlegend\": true, \"text\": [24.0], \"textposition\": \"outside\", \"type\": \"bar\", \"x\": [\"Vincent Tong\"], \"xaxis\": \"x\", \"y\": [24], \"yaxis\": \"y\"}, {\"alignmentgroup\": \"True\", \"hovertemplate\": \"cast=%{x}<br>count=%{text}<extra></extra>\", \"legendgroup\": \"Andrea Libman\", \"marker\": {\"color\": \"#ab63fa\"}, \"name\": \"Andrea Libman\", \"offsetgroup\": \"Andrea Libman\", \"orientation\": \"v\", \"showlegend\": true, \"text\": [24.0], \"textposition\": \"outside\", \"type\": \"bar\", \"x\": [\"Andrea Libman\"], \"xaxis\": \"x\", \"y\": [24], \"yaxis\": \"y\"}, {\"alignmentgroup\": \"True\", \"hovertemplate\": \"cast=%{x}<br>count=%{text}<extra></extra>\", \"legendgroup\": \"Ashleigh Ball\", \"marker\": {\"color\": \"#FFA15A\"}, \"name\": \"Ashleigh Ball\", \"offsetgroup\": \"Ashleigh Ball\", \"orientation\": \"v\", \"showlegend\": true, \"text\": [22.0], \"textposition\": \"outside\", \"type\": \"bar\", \"x\": [\"Ashleigh Ball\"], \"xaxis\": \"x\", \"y\": [22], \"yaxis\": \"y\"}, {\"alignmentgroup\": \"True\", \"hovertemplate\": \"cast=%{x}<br>count=%{text}<extra></extra>\", \"legendgroup\": \"Tara Strong\", \"marker\": {\"color\": \"#19d3f3\"}, \"name\": \"Tara Strong\", \"offsetgroup\": \"Tara Strong\", \"orientation\": \"v\", \"showlegend\": true, \"text\": [22.0], \"textposition\": \"outside\", \"type\": \"bar\", \"x\": [\"Tara Strong\"], \"xaxis\": \"x\", \"y\": [22], \"yaxis\": \"y\"}, {\"alignmentgroup\": \"True\", \"hovertemplate\": \"cast=%{x}<br>count=%{text}<extra></extra>\", \"legendgroup\": \"Nawazuddin Siddiqui\", \"marker\": {\"color\": \"#FF6692\"}, \"name\": \"Nawazuddin Siddiqui\", \"offsetgroup\": \"Nawazuddin Siddiqui\", \"orientation\": \"v\", \"showlegend\": true, \"text\": [21.0], \"textposition\": \"outside\", \"type\": \"bar\", \"x\": [\"Nawazuddin Siddiqui\"], \"xaxis\": \"x\", \"y\": [21], \"yaxis\": \"y\"}, {\"alignmentgroup\": \"True\", \"hovertemplate\": \"cast=%{x}<br>count=%{text}<extra></extra>\", \"legendgroup\": \"Kay Kay Menon\", \"marker\": {\"color\": \"#B6E880\"}, \"name\": \"Kay Kay Menon\", \"offsetgroup\": \"Kay Kay Menon\", \"orientation\": \"v\", \"showlegend\": true, \"text\": [20.0], \"textposition\": \"outside\", \"type\": \"bar\", \"x\": [\"Kay Kay Menon\"], \"xaxis\": \"x\", \"y\": [20], \"yaxis\": \"y\"}, {\"alignmentgroup\": \"True\", \"hovertemplate\": \"cast=%{x}<br>count=%{text}<extra></extra>\", \"legendgroup\": \"Salman Khan\", \"marker\": {\"color\": \"#FF97FF\"}, \"name\": \"Salman Khan\", \"offsetgroup\": \"Salman Khan\", \"orientation\": \"v\", \"showlegend\": true, \"text\": [20.0], \"textposition\": \"outside\", \"type\": \"bar\", \"x\": [\"Salman Khan\"], \"xaxis\": \"x\", \"y\": [20], \"yaxis\": \"y\"}, {\"alignmentgroup\": \"True\", \"hovertemplate\": \"cast=%{x}<br>count=%{text}<extra></extra>\", \"legendgroup\": \"Daisuke Ono\", \"marker\": {\"color\": \"#FECB52\"}, \"name\": \"Daisuke Ono\", \"offsetgroup\": \"Daisuke Ono\", \"orientation\": \"v\", \"showlegend\": true, \"text\": [20.0], \"textposition\": \"outside\", \"type\": \"bar\", \"x\": [\"Daisuke Ono\"], \"xaxis\": \"x\", \"y\": [20], \"yaxis\": \"y\"}, {\"alignmentgroup\": \"True\", \"hovertemplate\": \"cast=%{x}<br>count=%{text}<extra></extra>\", \"legendgroup\": \"Ajay Devgn\", \"marker\": {\"color\": \"#636efa\"}, \"name\": \"Ajay Devgn\", \"offsetgroup\": \"Ajay Devgn\", \"orientation\": \"v\", \"showlegend\": true, \"text\": [20.0], \"textposition\": \"outside\", \"type\": \"bar\", \"x\": [\"Ajay Devgn\"], \"xaxis\": \"x\", \"y\": [20], \"yaxis\": \"y\"}, {\"alignmentgroup\": \"True\", \"hovertemplate\": \"cast=%{x}<br>count=%{text}<extra></extra>\", \"legendgroup\": \"Nicolas Cage\", \"marker\": {\"color\": \"#EF553B\"}, \"name\": \"Nicolas Cage\", \"offsetgroup\": \"Nicolas Cage\", \"orientation\": \"v\", \"showlegend\": true, \"text\": [19.0], \"textposition\": \"outside\", \"type\": \"bar\", \"x\": [\"Nicolas Cage\"], \"xaxis\": \"x\", \"y\": [19], \"yaxis\": \"y\"}, {\"alignmentgroup\": \"True\", \"hovertemplate\": \"cast=%{x}<br>count=%{text}<extra></extra>\", \"legendgroup\": \"Samuel L. Jackson\", \"marker\": {\"color\": \"#00cc96\"}, \"name\": \"Samuel L. Jackson\", \"offsetgroup\": \"Samuel L. Jackson\", \"orientation\": \"v\", \"showlegend\": true, \"text\": [19.0], \"textposition\": \"outside\", \"type\": \"bar\", \"x\": [\"Samuel L. Jackson\"], \"xaxis\": \"x\", \"y\": [19], \"yaxis\": \"y\"}, {\"alignmentgroup\": \"True\", \"hovertemplate\": \"cast=%{x}<br>count=%{text}<extra></extra>\", \"legendgroup\": \"Gulshan Grover\", \"marker\": {\"color\": \"#ab63fa\"}, \"name\": \"Gulshan Grover\", \"offsetgroup\": \"Gulshan Grover\", \"orientation\": \"v\", \"showlegend\": true, \"text\": [19.0], \"textposition\": \"outside\", \"type\": \"bar\", \"x\": [\"Gulshan Grover\"], \"xaxis\": \"x\", \"y\": [19], \"yaxis\": \"y\"}, {\"alignmentgroup\": \"True\", \"hovertemplate\": \"cast=%{x}<br>count=%{text}<extra></extra>\", \"legendgroup\": \"Kana Hanazawa\", \"marker\": {\"color\": \"#FFA15A\"}, \"name\": \"Kana Hanazawa\", \"offsetgroup\": \"Kana Hanazawa\", \"orientation\": \"v\", \"showlegend\": true, \"text\": [18.0], \"textposition\": \"outside\", \"type\": \"bar\", \"x\": [\"Kana Hanazawa\"], \"xaxis\": \"x\", \"y\": [18], \"yaxis\": \"y\"}, {\"alignmentgroup\": \"True\", \"hovertemplate\": \"cast=%{x}<br>count=%{text}<extra></extra>\", \"legendgroup\": \"Debi Derryberry\", \"marker\": {\"color\": \"#19d3f3\"}, \"name\": \"Debi Derryberry\", \"offsetgroup\": \"Debi Derryberry\", \"orientation\": \"v\", \"showlegend\": true, \"text\": [18.0], \"textposition\": \"outside\", \"type\": \"bar\", \"x\": [\"Debi Derryberry\"], \"xaxis\": \"x\", \"y\": [18], \"yaxis\": \"y\"}, {\"alignmentgroup\": \"True\", \"hovertemplate\": \"cast=%{x}<br>count=%{text}<extra></extra>\", \"legendgroup\": \"Adam Sandler\", \"marker\": {\"color\": \"#FF6692\"}, \"name\": \"Adam Sandler\", \"offsetgroup\": \"Adam Sandler\", \"orientation\": \"v\", \"showlegend\": true, \"text\": [18.0], \"textposition\": \"outside\", \"type\": \"bar\", \"x\": [\"Adam Sandler\"], \"xaxis\": \"x\", \"y\": [18], \"yaxis\": \"y\"}, {\"alignmentgroup\": \"True\", \"hovertemplate\": \"cast=%{x}<br>count=%{text}<extra></extra>\", \"legendgroup\": \"Erin Fitzgerald\", \"marker\": {\"color\": \"#B6E880\"}, \"name\": \"Erin Fitzgerald\", \"offsetgroup\": \"Erin Fitzgerald\", \"orientation\": \"v\", \"showlegend\": true, \"text\": [18.0], \"textposition\": \"outside\", \"type\": \"bar\", \"x\": [\"Erin Fitzgerald\"], \"xaxis\": \"x\", \"y\": [18], \"yaxis\": \"y\"}, {\"alignmentgroup\": \"True\", \"hovertemplate\": \"cast=%{x}<br>count=%{text}<extra></extra>\", \"legendgroup\": \"David Attenborough\", \"marker\": {\"color\": \"#FF97FF\"}, \"name\": \"David Attenborough\", \"offsetgroup\": \"David Attenborough\", \"orientation\": \"v\", \"showlegend\": true, \"text\": [18.0], \"textposition\": \"outside\", \"type\": \"bar\", \"x\": [\"David Attenborough\"], \"xaxis\": \"x\", \"y\": [18], \"yaxis\": \"y\"}, {\"alignmentgroup\": \"True\", \"hovertemplate\": \"cast=%{x}<br>count=%{text}<extra></extra>\", \"legendgroup\": \"Junichi Suwabe\", \"marker\": {\"color\": \"#FECB52\"}, \"name\": \"Junichi Suwabe\", \"offsetgroup\": \"Junichi Suwabe\", \"orientation\": \"v\", \"showlegend\": true, \"text\": [18.0], \"textposition\": \"outside\", \"type\": \"bar\", \"x\": [\"Junichi Suwabe\"], \"xaxis\": \"x\", \"y\": [18], \"yaxis\": \"y\"}, {\"alignmentgroup\": \"True\", \"hovertemplate\": \"cast=%{x}<br>count=%{text}<extra></extra>\", \"legendgroup\": \"Ai Kayano\", \"marker\": {\"color\": \"#636efa\"}, \"name\": \"Ai Kayano\", \"offsetgroup\": \"Ai Kayano\", \"orientation\": \"v\", \"showlegend\": true, \"text\": [18.0], \"textposition\": \"outside\", \"type\": \"bar\", \"x\": [\"Ai Kayano\"], \"xaxis\": \"x\", \"y\": [18], \"yaxis\": \"y\"}, {\"alignmentgroup\": \"True\", \"hovertemplate\": \"cast=%{x}<br>count=%{text}<extra></extra>\", \"legendgroup\": \"Yashpal Sharma\", \"marker\": {\"color\": \"#EF553B\"}, \"name\": \"Yashpal Sharma\", \"offsetgroup\": \"Yashpal Sharma\", \"orientation\": \"v\", \"showlegend\": true, \"text\": [18.0], \"textposition\": \"outside\", \"type\": \"bar\", \"x\": [\"Yashpal Sharma\"], \"xaxis\": \"x\", \"y\": [18], \"yaxis\": \"y\"}, {\"alignmentgroup\": \"True\", \"hovertemplate\": \"cast=%{x}<br>count=%{text}<extra></extra>\", \"legendgroup\": \"Fred Tatasciore\", \"marker\": {\"color\": \"#00cc96\"}, \"name\": \"Fred Tatasciore\", \"offsetgroup\": \"Fred Tatasciore\", \"orientation\": \"v\", \"showlegend\": true, \"text\": [18.0], \"textposition\": \"outside\", \"type\": \"bar\", \"x\": [\"Fred Tatasciore\"], \"xaxis\": \"x\", \"y\": [18], \"yaxis\": \"y\"}, {\"alignmentgroup\": \"True\", \"hovertemplate\": \"cast=%{x}<br>count=%{text}<extra></extra>\", \"legendgroup\": \"Saif Ali Khan\", \"marker\": {\"color\": \"#ab63fa\"}, \"name\": \"Saif Ali Khan\", \"offsetgroup\": \"Saif Ali Khan\", \"orientation\": \"v\", \"showlegend\": true, \"text\": [17.0], \"textposition\": \"outside\", \"type\": \"bar\", \"x\": [\"Saif Ali Khan\"], \"xaxis\": \"x\", \"y\": [17], \"yaxis\": \"y\"}, {\"alignmentgroup\": \"True\", \"hovertemplate\": \"cast=%{x}<br>count=%{text}<extra></extra>\", \"legendgroup\": \"Diana Kaarina\", \"marker\": {\"color\": \"#FFA15A\"}, \"name\": \"Diana Kaarina\", \"offsetgroup\": \"Diana Kaarina\", \"orientation\": \"v\", \"showlegend\": true, \"text\": [17.0], \"textposition\": \"outside\", \"type\": \"bar\", \"x\": [\"Diana Kaarina\"], \"xaxis\": \"x\", \"y\": [17], \"yaxis\": \"y\"}, {\"alignmentgroup\": \"True\", \"hovertemplate\": \"cast=%{x}<br>count=%{text}<extra></extra>\", \"legendgroup\": \"James Franco\", \"marker\": {\"color\": \"#19d3f3\"}, \"name\": \"James Franco\", \"offsetgroup\": \"James Franco\", \"orientation\": \"v\", \"showlegend\": true, \"text\": [17.0], \"textposition\": \"outside\", \"type\": \"bar\", \"x\": [\"James Franco\"], \"xaxis\": \"x\", \"y\": [17], \"yaxis\": \"y\"}, {\"alignmentgroup\": \"True\", \"hovertemplate\": \"cast=%{x}<br>count=%{text}<extra></extra>\", \"legendgroup\": \"Jackie Shroff\", \"marker\": {\"color\": \"#FF6692\"}, \"name\": \"Jackie Shroff\", \"offsetgroup\": \"Jackie Shroff\", \"orientation\": \"v\", \"showlegend\": true, \"text\": [17.0], \"textposition\": \"outside\", \"type\": \"bar\", \"x\": [\"Jackie Shroff\"], \"xaxis\": \"x\", \"y\": [17], \"yaxis\": \"y\"}, {\"alignmentgroup\": \"True\", \"hovertemplate\": \"cast=%{x}<br>count=%{text}<extra></extra>\", \"legendgroup\": \"Anil Kapoor\", \"marker\": {\"color\": \"#B6E880\"}, \"name\": \"Anil Kapoor\", \"offsetgroup\": \"Anil Kapoor\", \"orientation\": \"v\", \"showlegend\": true, \"text\": [17.0], \"textposition\": \"outside\", \"type\": \"bar\", \"x\": [\"Anil Kapoor\"], \"xaxis\": \"x\", \"y\": [17], \"yaxis\": \"y\"}, {\"alignmentgroup\": \"True\", \"hovertemplate\": \"cast=%{x}<br>count=%{text}<extra></extra>\", \"legendgroup\": \"Priyanka Chopra\", \"marker\": {\"color\": \"#FF97FF\"}, \"name\": \"Priyanka Chopra\", \"offsetgroup\": \"Priyanka Chopra\", \"orientation\": \"v\", \"showlegend\": true, \"text\": [17.0], \"textposition\": \"outside\", \"type\": \"bar\", \"x\": [\"Priyanka Chopra\"], \"xaxis\": \"x\", \"y\": [17], \"yaxis\": \"y\"}, {\"alignmentgroup\": \"True\", \"hovertemplate\": \"cast=%{x}<br>count=%{text}<extra></extra>\", \"legendgroup\": \"Kate Higgins\", \"marker\": {\"color\": \"#FECB52\"}, \"name\": \"Kate Higgins\", \"offsetgroup\": \"Kate Higgins\", \"orientation\": \"v\", \"showlegend\": true, \"text\": [17.0], \"textposition\": \"outside\", \"type\": \"bar\", \"x\": [\"Kate Higgins\"], \"xaxis\": \"x\", \"y\": [17], \"yaxis\": \"y\"}, {\"alignmentgroup\": \"True\", \"hovertemplate\": \"cast=%{x}<br>count=%{text}<extra></extra>\", \"legendgroup\": \"Fred Armisen\", \"marker\": {\"color\": \"#636efa\"}, \"name\": \"Fred Armisen\", \"offsetgroup\": \"Fred Armisen\", \"orientation\": \"v\", \"showlegend\": true, \"text\": [17.0], \"textposition\": \"outside\", \"type\": \"bar\", \"x\": [\"Fred Armisen\"], \"xaxis\": \"x\", \"y\": [17], \"yaxis\": \"y\"}, {\"alignmentgroup\": \"True\", \"hovertemplate\": \"cast=%{x}<br>count=%{text}<extra></extra>\", \"legendgroup\": \"Asrani\", \"marker\": {\"color\": \"#EF553B\"}, \"name\": \"Asrani\", \"offsetgroup\": \"Asrani\", \"orientation\": \"v\", \"showlegend\": true, \"text\": [17.0], \"textposition\": \"outside\", \"type\": \"bar\", \"x\": [\"Asrani\"], \"xaxis\": \"x\", \"y\": [17], \"yaxis\": \"y\"}, {\"alignmentgroup\": \"True\", \"hovertemplate\": \"cast=%{x}<br>count=%{text}<extra></extra>\", \"legendgroup\": \"Aamir Khan\", \"marker\": {\"color\": \"#00cc96\"}, \"name\": \"Aamir Khan\", \"offsetgroup\": \"Aamir Khan\", \"orientation\": \"v\", \"showlegend\": true, \"text\": [16.0], \"textposition\": \"outside\", \"type\": \"bar\", \"x\": [\"Aamir Khan\"], \"xaxis\": \"x\", \"y\": [16], \"yaxis\": \"y\"}, {\"alignmentgroup\": \"True\", \"hovertemplate\": \"cast=%{x}<br>count=%{text}<extra></extra>\", \"legendgroup\": \"Amrish Puri\", \"marker\": {\"color\": \"#ab63fa\"}, \"name\": \"Amrish Puri\", \"offsetgroup\": \"Amrish Puri\", \"orientation\": \"v\", \"showlegend\": true, \"text\": [16.0], \"textposition\": \"outside\", \"type\": \"bar\", \"x\": [\"Amrish Puri\"], \"xaxis\": \"x\", \"y\": [16], \"yaxis\": \"y\"}, {\"alignmentgroup\": \"True\", \"hovertemplate\": \"cast=%{x}<br>count=%{text}<extra></extra>\", \"legendgroup\": \"Seth Rogen\", \"marker\": {\"color\": \"#FFA15A\"}, \"name\": \"Seth Rogen\", \"offsetgroup\": \"Seth Rogen\", \"orientation\": \"v\", \"showlegend\": true, \"text\": [16.0], \"textposition\": \"outside\", \"type\": \"bar\", \"x\": [\"Seth Rogen\"], \"xaxis\": \"x\", \"y\": [16], \"yaxis\": \"y\"}, {\"alignmentgroup\": \"True\", \"hovertemplate\": \"cast=%{x}<br>count=%{text}<extra></extra>\", \"legendgroup\": \"Manoj Joshi\", \"marker\": {\"color\": \"#19d3f3\"}, \"name\": \"Manoj Joshi\", \"offsetgroup\": \"Manoj Joshi\", \"orientation\": \"v\", \"showlegend\": true, \"text\": [16.0], \"textposition\": \"outside\", \"type\": \"bar\", \"x\": [\"Manoj Joshi\"], \"xaxis\": \"x\", \"y\": [16], \"yaxis\": \"y\"}, {\"alignmentgroup\": \"True\", \"hovertemplate\": \"cast=%{x}<br>count=%{text}<extra></extra>\", \"legendgroup\": \"Michela Luci\", \"marker\": {\"color\": \"#FF6692\"}, \"name\": \"Michela Luci\", \"offsetgroup\": \"Michela Luci\", \"orientation\": \"v\", \"showlegend\": true, \"text\": [16.0], \"textposition\": \"outside\", \"type\": \"bar\", \"x\": [\"Michela Luci\"], \"xaxis\": \"x\", \"y\": [16], \"yaxis\": \"y\"}, {\"alignmentgroup\": \"True\", \"hovertemplate\": \"cast=%{x}<br>count=%{text}<extra></extra>\", \"legendgroup\": \"Tomokazu Sugita\", \"marker\": {\"color\": \"#B6E880\"}, \"name\": \"Tomokazu Sugita\", \"offsetgroup\": \"Tomokazu Sugita\", \"orientation\": \"v\", \"showlegend\": true, \"text\": [16.0], \"textposition\": \"outside\", \"type\": \"bar\", \"x\": [\"Tomokazu Sugita\"], \"xaxis\": \"x\", \"y\": [16], \"yaxis\": \"y\"}, {\"alignmentgroup\": \"True\", \"hovertemplate\": \"cast=%{x}<br>count=%{text}<extra></extra>\", \"legendgroup\": \"Yuichi Nakamura\", \"marker\": {\"color\": \"#FF97FF\"}, \"name\": \"Yuichi Nakamura\", \"offsetgroup\": \"Yuichi Nakamura\", \"orientation\": \"v\", \"showlegend\": true, \"text\": [16.0], \"textposition\": \"outside\", \"type\": \"bar\", \"x\": [\"Yuichi Nakamura\"], \"xaxis\": \"x\", \"y\": [16], \"yaxis\": \"y\"}, {\"alignmentgroup\": \"True\", \"hovertemplate\": \"cast=%{x}<br>count=%{text}<extra></extra>\", \"legendgroup\": \"Michael Palin\", \"marker\": {\"color\": \"#FECB52\"}, \"name\": \"Michael Palin\", \"offsetgroup\": \"Michael Palin\", \"orientation\": \"v\", \"showlegend\": true, \"text\": [16.0], \"textposition\": \"outside\", \"type\": \"bar\", \"x\": [\"Michael Palin\"], \"xaxis\": \"x\", \"y\": [16], \"yaxis\": \"y\"}],\n",
       "                        {\"barmode\": \"relative\", \"legend\": {\"title\": {\"text\": \"cast\"}, \"tracegroupgap\": 0}, \"template\": {\"data\": {\"bar\": [{\"error_x\": {\"color\": \"#2a3f5f\"}, \"error_y\": {\"color\": \"#2a3f5f\"}, \"marker\": {\"line\": {\"color\": \"#E5ECF6\", \"width\": 0.5}}, \"type\": \"bar\"}], \"barpolar\": [{\"marker\": {\"line\": {\"color\": \"#E5ECF6\", \"width\": 0.5}}, \"type\": \"barpolar\"}], \"carpet\": [{\"aaxis\": {\"endlinecolor\": \"#2a3f5f\", \"gridcolor\": \"white\", \"linecolor\": \"white\", \"minorgridcolor\": \"white\", \"startlinecolor\": \"#2a3f5f\"}, \"baxis\": {\"endlinecolor\": \"#2a3f5f\", \"gridcolor\": \"white\", \"linecolor\": \"white\", \"minorgridcolor\": \"white\", \"startlinecolor\": \"#2a3f5f\"}, \"type\": \"carpet\"}], \"choropleth\": [{\"colorbar\": {\"outlinewidth\": 0, \"ticks\": \"\"}, \"type\": \"choropleth\"}], \"contour\": [{\"colorbar\": {\"outlinewidth\": 0, \"ticks\": \"\"}, \"colorscale\": [[0.0, \"#0d0887\"], [0.1111111111111111, \"#46039f\"], [0.2222222222222222, \"#7201a8\"], [0.3333333333333333, \"#9c179e\"], [0.4444444444444444, \"#bd3786\"], [0.5555555555555556, \"#d8576b\"], [0.6666666666666666, \"#ed7953\"], [0.7777777777777778, \"#fb9f3a\"], [0.8888888888888888, \"#fdca26\"], [1.0, \"#f0f921\"]], \"type\": \"contour\"}], \"contourcarpet\": [{\"colorbar\": {\"outlinewidth\": 0, \"ticks\": \"\"}, \"type\": \"contourcarpet\"}], \"heatmap\": [{\"colorbar\": {\"outlinewidth\": 0, \"ticks\": \"\"}, \"colorscale\": [[0.0, \"#0d0887\"], [0.1111111111111111, \"#46039f\"], [0.2222222222222222, \"#7201a8\"], [0.3333333333333333, \"#9c179e\"], [0.4444444444444444, \"#bd3786\"], [0.5555555555555556, \"#d8576b\"], [0.6666666666666666, \"#ed7953\"], [0.7777777777777778, \"#fb9f3a\"], [0.8888888888888888, \"#fdca26\"], [1.0, \"#f0f921\"]], \"type\": \"heatmap\"}], \"heatmapgl\": [{\"colorbar\": {\"outlinewidth\": 0, \"ticks\": \"\"}, \"colorscale\": [[0.0, \"#0d0887\"], [0.1111111111111111, \"#46039f\"], [0.2222222222222222, \"#7201a8\"], [0.3333333333333333, \"#9c179e\"], [0.4444444444444444, \"#bd3786\"], [0.5555555555555556, \"#d8576b\"], [0.6666666666666666, \"#ed7953\"], [0.7777777777777778, \"#fb9f3a\"], [0.8888888888888888, \"#fdca26\"], [1.0, \"#f0f921\"]], \"type\": \"heatmapgl\"}], \"histogram\": [{\"marker\": {\"colorbar\": {\"outlinewidth\": 0, \"ticks\": \"\"}}, \"type\": \"histogram\"}], \"histogram2d\": [{\"colorbar\": {\"outlinewidth\": 0, \"ticks\": \"\"}, \"colorscale\": [[0.0, \"#0d0887\"], [0.1111111111111111, \"#46039f\"], [0.2222222222222222, \"#7201a8\"], [0.3333333333333333, \"#9c179e\"], [0.4444444444444444, \"#bd3786\"], [0.5555555555555556, \"#d8576b\"], [0.6666666666666666, \"#ed7953\"], [0.7777777777777778, \"#fb9f3a\"], [0.8888888888888888, \"#fdca26\"], [1.0, \"#f0f921\"]], \"type\": \"histogram2d\"}], \"histogram2dcontour\": [{\"colorbar\": {\"outlinewidth\": 0, \"ticks\": \"\"}, \"colorscale\": [[0.0, \"#0d0887\"], [0.1111111111111111, \"#46039f\"], [0.2222222222222222, \"#7201a8\"], [0.3333333333333333, \"#9c179e\"], [0.4444444444444444, \"#bd3786\"], [0.5555555555555556, \"#d8576b\"], [0.6666666666666666, \"#ed7953\"], [0.7777777777777778, \"#fb9f3a\"], [0.8888888888888888, \"#fdca26\"], [1.0, \"#f0f921\"]], \"type\": \"histogram2dcontour\"}], \"mesh3d\": [{\"colorbar\": {\"outlinewidth\": 0, \"ticks\": \"\"}, \"type\": \"mesh3d\"}], \"parcoords\": [{\"line\": {\"colorbar\": {\"outlinewidth\": 0, \"ticks\": \"\"}}, \"type\": \"parcoords\"}], \"pie\": [{\"automargin\": true, \"type\": \"pie\"}], \"scatter\": [{\"marker\": {\"colorbar\": {\"outlinewidth\": 0, \"ticks\": \"\"}}, \"type\": \"scatter\"}], \"scatter3d\": [{\"line\": {\"colorbar\": {\"outlinewidth\": 0, \"ticks\": \"\"}}, \"marker\": {\"colorbar\": {\"outlinewidth\": 0, \"ticks\": \"\"}}, \"type\": \"scatter3d\"}], \"scattercarpet\": [{\"marker\": {\"colorbar\": {\"outlinewidth\": 0, \"ticks\": \"\"}}, \"type\": \"scattercarpet\"}], \"scattergeo\": [{\"marker\": {\"colorbar\": {\"outlinewidth\": 0, \"ticks\": \"\"}}, \"type\": \"scattergeo\"}], \"scattergl\": [{\"marker\": {\"colorbar\": {\"outlinewidth\": 0, \"ticks\": \"\"}}, \"type\": \"scattergl\"}], \"scattermapbox\": [{\"marker\": {\"colorbar\": {\"outlinewidth\": 0, \"ticks\": \"\"}}, \"type\": \"scattermapbox\"}], \"scatterpolar\": [{\"marker\": {\"colorbar\": {\"outlinewidth\": 0, \"ticks\": \"\"}}, \"type\": \"scatterpolar\"}], \"scatterpolargl\": [{\"marker\": {\"colorbar\": {\"outlinewidth\": 0, \"ticks\": \"\"}}, \"type\": \"scatterpolargl\"}], \"scatterternary\": [{\"marker\": {\"colorbar\": {\"outlinewidth\": 0, \"ticks\": \"\"}}, \"type\": \"scatterternary\"}], \"surface\": [{\"colorbar\": {\"outlinewidth\": 0, \"ticks\": \"\"}, \"colorscale\": [[0.0, \"#0d0887\"], [0.1111111111111111, \"#46039f\"], [0.2222222222222222, \"#7201a8\"], [0.3333333333333333, \"#9c179e\"], [0.4444444444444444, \"#bd3786\"], [0.5555555555555556, \"#d8576b\"], [0.6666666666666666, \"#ed7953\"], [0.7777777777777778, \"#fb9f3a\"], [0.8888888888888888, \"#fdca26\"], [1.0, \"#f0f921\"]], \"type\": \"surface\"}], \"table\": [{\"cells\": {\"fill\": {\"color\": \"#EBF0F8\"}, \"line\": {\"color\": \"white\"}}, \"header\": {\"fill\": {\"color\": \"#C8D4E3\"}, \"line\": {\"color\": \"white\"}}, \"type\": \"table\"}]}, \"layout\": {\"annotationdefaults\": {\"arrowcolor\": \"#2a3f5f\", \"arrowhead\": 0, \"arrowwidth\": 1}, \"coloraxis\": {\"colorbar\": {\"outlinewidth\": 0, \"ticks\": \"\"}}, \"colorscale\": {\"diverging\": [[0, \"#8e0152\"], [0.1, \"#c51b7d\"], [0.2, \"#de77ae\"], [0.3, \"#f1b6da\"], [0.4, \"#fde0ef\"], [0.5, \"#f7f7f7\"], [0.6, \"#e6f5d0\"], [0.7, \"#b8e186\"], [0.8, \"#7fbc41\"], [0.9, \"#4d9221\"], [1, \"#276419\"]], \"sequential\": [[0.0, \"#0d0887\"], [0.1111111111111111, \"#46039f\"], [0.2222222222222222, \"#7201a8\"], [0.3333333333333333, \"#9c179e\"], [0.4444444444444444, \"#bd3786\"], [0.5555555555555556, \"#d8576b\"], [0.6666666666666666, \"#ed7953\"], [0.7777777777777778, \"#fb9f3a\"], [0.8888888888888888, \"#fdca26\"], [1.0, \"#f0f921\"]], \"sequentialminus\": [[0.0, \"#0d0887\"], [0.1111111111111111, \"#46039f\"], [0.2222222222222222, \"#7201a8\"], [0.3333333333333333, \"#9c179e\"], [0.4444444444444444, \"#bd3786\"], [0.5555555555555556, \"#d8576b\"], [0.6666666666666666, \"#ed7953\"], [0.7777777777777778, \"#fb9f3a\"], [0.8888888888888888, \"#fdca26\"], [1.0, \"#f0f921\"]]}, \"colorway\": [\"#636efa\", \"#EF553B\", \"#00cc96\", \"#ab63fa\", \"#FFA15A\", \"#19d3f3\", \"#FF6692\", \"#B6E880\", \"#FF97FF\", \"#FECB52\"], \"font\": {\"color\": \"#2a3f5f\"}, \"geo\": {\"bgcolor\": \"white\", \"lakecolor\": \"white\", \"landcolor\": \"#E5ECF6\", \"showlakes\": true, \"showland\": true, \"subunitcolor\": \"white\"}, \"hoverlabel\": {\"align\": \"left\"}, \"hovermode\": \"closest\", \"mapbox\": {\"style\": \"light\"}, \"paper_bgcolor\": \"white\", \"plot_bgcolor\": \"#E5ECF6\", \"polar\": {\"angularaxis\": {\"gridcolor\": \"white\", \"linecolor\": \"white\", \"ticks\": \"\"}, \"bgcolor\": \"#E5ECF6\", \"radialaxis\": {\"gridcolor\": \"white\", \"linecolor\": \"white\", \"ticks\": \"\"}}, \"scene\": {\"xaxis\": {\"backgroundcolor\": \"#E5ECF6\", \"gridcolor\": \"white\", \"gridwidth\": 2, \"linecolor\": \"white\", \"showbackground\": true, \"ticks\": \"\", \"zerolinecolor\": \"white\"}, \"yaxis\": {\"backgroundcolor\": \"#E5ECF6\", \"gridcolor\": \"white\", \"gridwidth\": 2, \"linecolor\": \"white\", \"showbackground\": true, \"ticks\": \"\", \"zerolinecolor\": \"white\"}, \"zaxis\": {\"backgroundcolor\": \"#E5ECF6\", \"gridcolor\": \"white\", \"gridwidth\": 2, \"linecolor\": \"white\", \"showbackground\": true, \"ticks\": \"\", \"zerolinecolor\": \"white\"}}, \"shapedefaults\": {\"line\": {\"color\": \"#2a3f5f\"}}, \"ternary\": {\"aaxis\": {\"gridcolor\": \"white\", \"linecolor\": \"white\", \"ticks\": \"\"}, \"baxis\": {\"gridcolor\": \"white\", \"linecolor\": \"white\", \"ticks\": \"\"}, \"bgcolor\": \"#E5ECF6\", \"caxis\": {\"gridcolor\": \"white\", \"linecolor\": \"white\", \"ticks\": \"\"}}, \"title\": {\"x\": 0.05}, \"xaxis\": {\"automargin\": true, \"gridcolor\": \"white\", \"linecolor\": \"white\", \"ticks\": \"\", \"title\": {\"standoff\": 15}, \"zerolinecolor\": \"white\", \"zerolinewidth\": 2}, \"yaxis\": {\"automargin\": true, \"gridcolor\": \"white\", \"linecolor\": \"white\", \"ticks\": \"\", \"title\": {\"standoff\": 15}, \"zerolinecolor\": \"white\", \"zerolinewidth\": 2}}}, \"title\": {\"text\": \"Cast Top20\"}, \"xaxis\": {\"anchor\": \"y\", \"categoryarray\": [\"Anupam Kher\", \"Shah Rukh Khan\", \"Naseeruddin Shah\", \"Om Puri\", \"Takahiro Sakurai\", \"Amitabh Bachchan\", \"Yuki Kaji\", \"Akshay Kumar\", \"Paresh Rawal\", \"Boman Irani\", \"Kareena Kapoor\", \"John Cleese\", \"Vincent Tong\", \"Andrea Libman\", \"Ashleigh Ball\", \"Tara Strong\", \"Nawazuddin Siddiqui\", \"Kay Kay Menon\", \"Salman Khan\", \"Daisuke Ono\", \"Ajay Devgn\", \"Nicolas Cage\", \"Samuel L. Jackson\", \"Gulshan Grover\", \"Kana Hanazawa\", \"Debi Derryberry\", \"Adam Sandler\", \"Erin Fitzgerald\", \"David Attenborough\", \"Junichi Suwabe\", \"Ai Kayano\", \"Yashpal Sharma\", \"Fred Tatasciore\", \"Saif Ali Khan\", \"Diana Kaarina\", \"James Franco\", \"Jackie Shroff\", \"Anil Kapoor\", \"Priyanka Chopra\", \"Kate Higgins\", \"Fred Armisen\", \"Asrani\", \"Aamir Khan\", \"Amrish Puri\", \"Seth Rogen\", \"Manoj Joshi\", \"Michela Luci\", \"Tomokazu Sugita\", \"Yuichi Nakamura\", \"Michael Palin\"], \"categoryorder\": \"array\", \"domain\": [0.0, 1.0], \"title\": {\"text\": \"cast\"}}, \"yaxis\": {\"anchor\": \"x\", \"domain\": [0.0, 1.0], \"title\": {\"text\": \"count\"}}},\n",
       "                        {\"responsive\": true}\n",
       "                    ).then(function(){\n",
       "                            \n",
       "var gd = document.getElementById('a1a34012-6b28-4473-ac98-d0e443d6ec32');\n",
       "var x = new MutationObserver(function (mutations, observer) {{\n",
       "        var display = window.getComputedStyle(gd).display;\n",
       "        if (!display || display === 'none') {{\n",
       "            console.log([gd, 'removed!']);\n",
       "            Plotly.purge(gd);\n",
       "            observer.disconnect();\n",
       "        }}\n",
       "}});\n",
       "\n",
       "// Listen for the removal of the full notebook cells\n",
       "var notebookContainer = gd.closest('#notebook-container');\n",
       "if (notebookContainer) {{\n",
       "    x.observe(notebookContainer, {childList: true});\n",
       "}}\n",
       "\n",
       "// Listen for the clearing of the current output cell\n",
       "var outputEl = gd.closest('.output');\n",
       "if (outputEl) {{\n",
       "    x.observe(outputEl, {childList: true});\n",
       "}}\n",
       "\n",
       "                        })\n",
       "                };\n",
       "                });\n",
       "            </script>\n",
       "        </div>"
      ]
     },
     "metadata": {},
     "output_type": "display_data"
    }
   ],
   "source": [
    "cast = data[~data[\"cast\"].isnull()]['cast'].to_list()\n",
    "cast = str(cast)\n",
    "cast = re.sub(\"[\\'\\]\\\\\\[]\",\"\",cast)\n",
    "cast = re.sub(\" {2,}\", \" \", cast)\n",
    "cast_series = pd.Series(cast.split(\", \")).value_counts()\n",
    "\n",
    "cast = pd.DataFrame(cast_series)\n",
    "cast.reset_index(inplace=True)\n",
    "cast.columns=[\"cast\",\"count\"]\n",
    "\n",
    "fig = px.bar(cast.head(50), x=\"cast\", y=\"count\",title=\"Cast Top20\",text=\"count\",color=\"cast\")\n",
    "fig.update_traces(textposition=\"outside\")\n",
    "fig.update\n",
    "fig.show()"
   ]
  },
  {
   "cell_type": "markdown",
   "metadata": {},
   "source": [
    "### Top 10 actors involved in either movies or TV shows"
   ]
  },
  {
   "cell_type": "code",
   "execution_count": 51,
   "metadata": {},
   "outputs": [
    {
     "data": {
      "text/html": [
       "<div>\n",
       "<style scoped>\n",
       "    .dataframe tbody tr th:only-of-type {\n",
       "        vertical-align: middle;\n",
       "    }\n",
       "\n",
       "    .dataframe tbody tr th {\n",
       "        vertical-align: top;\n",
       "    }\n",
       "\n",
       "    .dataframe thead th {\n",
       "        text-align: right;\n",
       "    }\n",
       "</style>\n",
       "<table border=\"1\" class=\"dataframe\">\n",
       "  <thead>\n",
       "    <tr style=\"text-align: right;\">\n",
       "      <th></th>\n",
       "      <th>cast</th>\n",
       "      <th>count</th>\n",
       "    </tr>\n",
       "  </thead>\n",
       "  <tbody>\n",
       "    <tr>\n",
       "      <th>0</th>\n",
       "      <td>Anupam Kher</td>\n",
       "      <td>42</td>\n",
       "    </tr>\n",
       "    <tr>\n",
       "      <th>1</th>\n",
       "      <td>Shah Rukh Khan</td>\n",
       "      <td>35</td>\n",
       "    </tr>\n",
       "    <tr>\n",
       "      <th>2</th>\n",
       "      <td>Naseeruddin Shah</td>\n",
       "      <td>30</td>\n",
       "    </tr>\n",
       "    <tr>\n",
       "      <th>3</th>\n",
       "      <td>Om Puri</td>\n",
       "      <td>30</td>\n",
       "    </tr>\n",
       "    <tr>\n",
       "      <th>4</th>\n",
       "      <td>Takahiro Sakurai</td>\n",
       "      <td>29</td>\n",
       "    </tr>\n",
       "    <tr>\n",
       "      <th>5</th>\n",
       "      <td>Amitabh Bachchan</td>\n",
       "      <td>27</td>\n",
       "    </tr>\n",
       "    <tr>\n",
       "      <th>6</th>\n",
       "      <td>Yuki Kaji</td>\n",
       "      <td>27</td>\n",
       "    </tr>\n",
       "    <tr>\n",
       "      <th>7</th>\n",
       "      <td>Akshay Kumar</td>\n",
       "      <td>27</td>\n",
       "    </tr>\n",
       "    <tr>\n",
       "      <th>8</th>\n",
       "      <td>Paresh Rawal</td>\n",
       "      <td>27</td>\n",
       "    </tr>\n",
       "    <tr>\n",
       "      <th>9</th>\n",
       "      <td>Boman Irani</td>\n",
       "      <td>26</td>\n",
       "    </tr>\n",
       "  </tbody>\n",
       "</table>\n",
       "</div>"
      ],
      "text/plain": [
       "               cast  count\n",
       "0       Anupam Kher     42\n",
       "1    Shah Rukh Khan     35\n",
       "2  Naseeruddin Shah     30\n",
       "3           Om Puri     30\n",
       "4  Takahiro Sakurai     29\n",
       "5  Amitabh Bachchan     27\n",
       "6         Yuki Kaji     27\n",
       "7      Akshay Kumar     27\n",
       "8      Paresh Rawal     27\n",
       "9       Boman Irani     26"
      ]
     },
     "execution_count": 51,
     "metadata": {},
     "output_type": "execute_result"
    }
   ],
   "source": [
    "\n",
    "cast.head(10)"
   ]
  },
  {
   "cell_type": "markdown",
   "metadata": {},
   "source": [
    "## Run time of Movies"
   ]
  },
  {
   "cell_type": "code",
   "execution_count": 59,
   "metadata": {},
   "outputs": [
    {
     "name": "stderr",
     "output_type": "stream",
     "text": [
      "C:\\Users\\Faith Kanini\\anaconda3\\anaconda\\lib\\site-packages\\ipykernel_launcher.py:6: SettingWithCopyWarning:\n",
      "\n",
      "\n",
      "A value is trying to be set on a copy of a slice from a DataFrame.\n",
      "Try using .loc[row_indexer,col_indexer] = value instead\n",
      "\n",
      "See the caveats in the documentation: https://pandas.pydata.org/pandas-docs/stable/user_guide/indexing.html#returning-a-view-versus-a-copy\n",
      "\n",
      "C:\\Users\\Faith Kanini\\anaconda3\\anaconda\\lib\\site-packages\\ipykernel_launcher.py:8: SettingWithCopyWarning:\n",
      "\n",
      "\n",
      "A value is trying to be set on a copy of a slice from a DataFrame.\n",
      "Try using .loc[row_indexer,col_indexer] = value instead\n",
      "\n",
      "See the caveats in the documentation: https://pandas.pydata.org/pandas-docs/stable/user_guide/indexing.html#returning-a-view-versus-a-copy\n",
      "\n"
     ]
    },
    {
     "data": {
      "application/vnd.plotly.v1+json": {
       "config": {
        "plotlyServerURL": "https://plot.ly"
       },
       "data": [
        {
         "alignmentgroup": "True",
         "bingroup": "x",
         "hovertemplate": "variable=duration<br>value=%{x}<br>count=%{y}<extra></extra>",
         "legendgroup": "duration",
         "marker": {
          "color": "#636efa"
         },
         "name": "duration",
         "offsetgroup": "duration",
         "orientation": "v",
         "showlegend": true,
         "type": "histogram",
         "x": [
          93,
          78,
          80,
          123,
          95,
          119,
          118,
          143,
          103,
          89,
          91,
          149,
          144,
          124,
          87,
          110,
          128,
          117,
          100,
          84,
          99,
          95,
          90,
          102,
          104,
          99,
          105,
          56,
          125,
          119,
          81,
          97,
          106,
          99,
          107,
          93,
          89,
          105,
          87,
          97,
          109,
          93,
          109,
          44,
          75,
          101,
          89,
          90,
          90,
          93,
          101,
          37,
          113,
          89,
          84,
          102,
          102,
          114,
          130,
          90,
          94,
          97,
          143,
          91,
          107,
          95,
          119,
          93,
          101,
          93,
          140,
          135,
          82,
          70,
          104,
          117,
          121,
          92,
          124,
          164,
          53,
          93,
          91,
          83,
          93,
          114,
          116,
          93,
          81,
          84,
          105,
          86,
          120,
          106,
          92,
          96,
          97,
          99,
          100,
          126,
          96,
          75,
          94,
          129,
          80,
          103,
          96,
          77,
          137,
          148,
          123,
          121,
          95,
          28,
          99,
          104,
          122,
          104,
          94,
          176,
          107,
          90,
          94,
          101,
          87,
          92,
          85,
          93,
          22,
          95,
          86,
          137,
          101,
          68,
          121,
          111,
          110,
          29,
          142,
          168,
          102,
          92,
          86,
          22,
          22,
          21,
          59,
          93,
          86,
          80,
          109,
          92,
          92,
          89,
          96,
          95,
          87,
          93,
          113,
          20,
          117,
          97,
          98,
          108,
          125,
          91,
          76,
          90,
          82,
          111,
          92,
          110,
          94,
          100,
          91,
          94,
          44,
          108,
          130,
          83,
          123,
          106,
          87,
          130,
          100,
          96,
          89,
          95,
          26,
          156,
          98,
          30,
          108,
          92,
          28,
          99,
          85,
          122,
          84,
          57,
          107,
          102,
          103,
          91,
          104,
          91,
          110,
          111,
          77,
          99,
          122,
          150,
          117,
          126,
          148,
          122,
          95,
          133,
          164,
          115,
          154,
          133,
          110,
          127,
          146,
          136,
          100,
          90,
          88,
          131,
          44,
          101,
          123,
          90,
          89,
          87,
          24,
          88,
          133,
          110,
          112,
          129,
          87,
          87,
          120,
          59,
          74,
          96,
          91,
          59,
          105,
          63,
          111,
          96,
          99,
          92,
          86,
          90,
          63,
          106,
          38,
          93,
          87,
          25,
          105,
          94,
          107,
          89,
          92,
          22,
          174,
          60,
          97,
          122,
          91,
          84,
          97,
          127,
          153,
          158,
          151,
          150,
          105,
          109,
          81,
          162,
          104,
          54,
          94,
          83,
          85,
          106,
          60,
          102,
          88,
          51,
          100,
          131,
          109,
          69,
          106,
          115,
          60,
          64,
          110,
          54,
          147,
          112,
          87,
          63,
          88,
          42,
          90,
          89,
          79,
          101,
          102,
          122,
          85,
          83,
          92,
          40,
          84,
          104,
          91,
          109,
          100,
          90,
          90,
          94,
          99,
          90,
          95,
          92,
          103,
          103,
          103,
          45,
          45,
          90,
          106,
          75,
          98,
          112,
          92,
          103,
          104,
          92,
          172,
          125,
          96,
          44,
          81,
          112,
          122,
          101,
          53,
          53,
          110,
          10,
          99,
          95,
          119,
          163,
          55,
          84,
          96,
          102,
          90,
          106,
          72,
          127,
          116,
          128,
          61,
          57,
          80,
          80,
          75,
          75,
          79,
          93,
          129,
          108,
          87,
          71,
          97,
          91,
          83,
          85,
          116,
          130,
          111,
          113,
          97,
          102,
          106,
          160,
          137,
          171,
          171,
          104,
          95,
          90,
          128,
          103,
          121,
          30,
          48,
          139,
          105,
          104,
          162,
          157,
          15,
          106,
          130,
          88,
          146,
          64,
          104,
          127,
          92,
          100,
          72,
          118,
          110,
          65,
          64,
          59,
          122,
          90,
          60,
          134,
          89,
          161,
          86,
          87,
          130,
          107,
          80,
          79,
          62,
          93,
          81,
          87,
          54,
          98,
          113,
          91,
          89,
          63,
          110,
          98,
          125,
          106,
          93,
          139,
          90,
          123,
          168,
          83,
          101,
          94,
          100,
          117,
          133,
          81,
          91,
          104,
          106,
          112,
          122,
          102,
          88,
          99,
          186,
          49,
          94,
          90,
          95,
          97,
          110,
          97,
          73,
          88,
          150,
          97,
          91,
          92,
          111,
          101,
          112,
          73,
          89,
          129,
          58,
          80,
          65,
          99,
          126,
          135,
          127,
          165,
          166,
          166,
          138,
          159,
          160,
          159,
          136,
          112,
          101,
          143,
          127,
          98,
          61,
          95,
          86,
          84,
          111,
          92,
          102,
          97,
          90,
          119,
          147,
          99,
          130,
          87,
          83,
          83,
          105,
          91,
          117,
          117,
          78,
          75,
          78,
          149,
          103,
          108,
          84,
          94,
          95,
          141,
          122,
          134,
          107,
          126,
          122,
          95,
          88,
          101,
          74,
          64,
          74,
          74,
          83,
          72,
          79,
          72,
          80,
          75,
          75,
          72,
          109,
          132,
          110,
          99,
          144,
          91,
          105,
          166,
          103,
          128,
          118,
          87,
          77,
          98,
          94,
          125,
          29,
          102,
          121,
          116,
          110,
          88,
          52,
          89,
          52,
          137,
          51,
          110,
          92,
          119,
          81,
          73,
          75,
          99,
          89,
          121,
          100,
          92,
          100,
          98,
          97,
          97,
          86,
          105,
          100,
          96,
          115,
          99,
          76,
          113,
          88,
          106,
          127,
          90,
          74,
          91,
          85,
          90,
          102,
          90,
          87,
          100,
          25,
          94,
          105,
          99,
          116,
          82,
          120,
          77,
          92,
          107,
          62,
          57,
          70,
          98,
          77,
          44,
          97,
          100,
          104,
          56,
          108,
          83,
          91,
          149,
          112,
          102,
          98,
          107,
          59,
          120,
          151,
          116,
          112,
          117,
          130,
          74,
          150,
          63,
          138,
          148,
          114,
          123,
          97,
          105,
          107,
          106,
          87,
          93,
          88,
          126,
          107,
          103,
          90,
          68,
          100,
          95,
          108,
          86,
          81,
          65,
          67,
          78,
          69,
          28,
          34,
          61,
          56,
          81,
          97,
          132,
          110,
          66,
          127,
          131,
          107,
          124,
          38,
          115,
          88,
          97,
          116,
          132,
          117,
          137,
          100,
          79,
          162,
          144,
          79,
          312,
          135,
          83,
          114,
          88,
          116,
          91,
          83,
          80,
          90,
          106,
          129,
          94,
          94,
          120,
          83,
          91,
          130,
          91,
          102,
          85,
          88,
          110,
          113,
          123,
          180,
          98,
          81,
          90,
          90,
          94,
          112,
          129,
          85,
          108,
          60,
          60,
          97,
          47,
          99,
          83,
          168,
          116,
          99,
          106,
          130,
          161,
          111,
          26,
          92,
          102,
          99,
          89,
          108,
          123,
          86,
          89,
          88,
          126,
          117,
          111,
          79,
          96,
          70,
          87,
          89,
          86,
          74,
          139,
          112,
          84,
          100,
          80,
          86,
          105,
          90,
          63,
          96,
          89,
          90,
          102,
          51,
          92,
          94,
          96,
          108,
          105,
          81,
          105,
          116,
          77,
          61,
          110,
          110,
          94,
          51,
          118,
          100,
          95,
          133,
          97,
          110,
          90,
          120,
          155,
          91,
          90,
          90,
          129,
          103,
          103,
          14,
          95,
          103,
          73,
          94,
          95,
          94,
          97,
          98,
          98,
          119,
          76,
          104,
          148,
          78,
          102,
          94,
          98,
          108,
          128,
          110,
          122,
          177,
          104,
          135,
          127,
          114,
          98,
          87,
          151,
          78,
          73,
          125,
          126,
          101,
          11,
          11,
          22,
          93,
          95,
          105,
          104,
          104,
          117,
          101,
          120,
          114,
          93,
          104,
          99,
          9,
          103,
          126,
          81,
          46,
          104,
          92,
          142,
          131,
          113,
          83,
          67,
          63,
          82,
          119,
          98,
          98,
          85,
          84,
          82,
          111,
          145,
          125,
          108,
          81,
          108,
          141,
          117,
          74,
          96,
          82,
          75,
          77,
          60,
          107,
          156,
          110,
          116,
          148,
          126,
          135,
          110,
          129,
          132,
          118,
          166,
          112,
          164,
          102,
          121,
          87,
          95,
          86,
          106,
          121,
          115,
          98,
          106,
          94,
          85,
          121,
          121,
          113,
          89,
          129,
          99,
          105,
          116,
          115,
          71,
          75,
          135,
          88,
          87,
          63,
          62,
          62,
          112,
          113,
          82,
          25,
          98,
          87,
          63,
          112,
          127,
          111,
          63,
          92,
          105,
          146,
          96,
          90,
          114,
          101,
          80,
          84,
          66,
          55,
          98,
          65,
          92,
          99,
          59,
          119,
          87,
          106,
          87,
          112,
          88,
          105,
          101,
          86,
          86,
          91,
          99,
          104,
          86,
          104,
          47,
          56,
          61,
          34,
          158,
          118,
          127,
          130,
          115,
          86,
          87,
          109,
          151,
          106,
          130,
          69,
          77,
          110,
          102,
          88,
          106,
          91,
          98,
          103,
          89,
          108,
          104,
          124,
          95,
          112,
          96,
          172,
          124,
          90,
          95,
          85,
          51,
          137,
          57,
          98,
          91,
          88,
          69,
          120,
          98,
          98,
          73,
          66,
          62,
          56,
          118,
          110,
          114,
          112,
          105,
          92,
          117,
          137,
          84,
          52,
          96,
          112,
          90,
          106,
          106,
          116,
          97,
          100,
          127,
          96,
          88,
          45,
          8,
          101,
          12,
          69,
          88,
          91,
          103,
          88,
          75,
          90,
          90,
          97,
          67,
          112,
          102,
          114,
          107,
          110,
          14,
          78,
          80,
          108,
          67,
          40,
          81,
          120,
          101,
          114,
          95,
          90,
          45,
          99,
          93,
          82,
          96,
          96,
          59,
          58,
          102,
          107,
          156,
          82,
          118,
          133,
          153,
          135,
          117,
          103,
          93,
          82,
          115,
          151,
          103,
          117,
          64,
          100,
          81,
          70,
          52,
          161,
          97,
          55,
          78,
          103,
          108,
          75,
          113,
          98,
          100,
          91,
          93,
          81,
          90,
          113,
          97,
          104,
          116,
          121,
          112,
          66,
          85,
          84,
          77,
          97,
          73,
          107,
          91,
          76,
          81,
          110,
          90,
          94,
          78,
          97,
          86,
          86,
          94,
          83,
          43,
          100,
          92,
          149,
          93,
          91,
          88,
          100,
          94,
          111,
          71,
          53,
          101,
          146,
          93,
          107,
          156,
          82,
          137,
          79,
          92,
          128,
          101,
          102,
          102,
          96,
          62,
          56,
          99,
          83,
          140,
          62,
          70,
          66,
          74,
          50,
          69,
          94,
          88,
          76,
          107,
          90,
          79,
          136,
          99,
          97,
          88,
          137,
          87,
          108,
          94,
          123,
          128,
          157,
          114,
          127,
          127,
          102,
          124,
          132,
          113,
          93,
          113,
          96,
          90,
          133,
          90,
          69,
          23,
          23,
          165,
          185,
          174,
          176,
          166,
          145,
          109,
          118,
          154,
          115,
          90,
          108,
          134,
          107,
          111,
          87,
          112,
          107,
          95,
          165,
          91,
          106,
          121,
          200,
          93,
          118,
          120,
          90,
          99,
          90,
          107,
          89,
          169,
          148,
          83,
          96,
          99,
          95,
          88,
          94,
          115,
          113,
          93,
          93,
          92,
          98,
          65,
          127,
          105,
          97,
          114,
          134,
          142,
          105,
          105,
          110,
          94,
          104,
          126,
          94,
          69,
          82,
          86,
          86,
          103,
          94,
          103,
          97,
          84,
          98,
          97,
          68,
          27,
          46,
          46,
          46,
          42,
          92,
          109,
          46,
          89,
          92,
          162,
          119,
          99,
          97,
          100,
          102,
          94,
          92,
          97,
          93,
          162,
          85,
          110,
          170,
          165,
          141,
          88,
          52,
          90,
          81,
          91,
          107,
          106,
          92,
          140,
          127,
          82,
          98,
          69,
          90,
          92,
          103,
          80,
          65,
          133,
          153,
          100,
          109,
          102,
          124,
          105,
          120,
          134,
          151,
          141,
          120,
          106,
          109,
          105,
          89,
          123,
          119,
          85,
          82,
          52,
          106,
          48,
          73,
          122,
          74,
          95,
          73,
          79,
          94,
          143,
          81,
          196,
          84,
          28,
          27,
          98,
          119,
          90,
          109,
          93,
          92,
          49,
          90,
          102,
          82,
          128,
          90,
          74,
          94,
          87,
          108,
          151,
          40,
          109,
          91,
          163,
          66,
          93,
          124,
          85,
          59,
          103,
          105,
          102,
          107,
          52,
          81,
          99,
          69,
          88,
          120,
          95,
          100,
          91,
          110,
          124,
          96,
          69,
          91,
          96,
          103,
          102,
          96,
          98,
          133,
          124,
          127,
          102,
          134,
          108,
          133,
          103,
          58,
          79,
          101,
          78,
          96,
          103,
          81,
          95,
          117,
          110,
          25,
          108,
          99,
          106,
          103,
          92,
          90,
          60,
          89,
          54,
          106,
          61,
          150,
          80,
          124,
          98,
          82,
          99,
          92,
          29,
          109,
          91,
          33,
          102,
          114,
          146,
          94,
          75,
          158,
          61,
          90,
          72,
          95,
          100,
          97,
          118,
          92,
          70,
          110,
          58,
          91,
          60,
          86,
          91,
          63,
          133,
          103,
          117,
          181,
          118,
          101,
          204,
          29,
          92,
          94,
          118,
          98,
          90,
          93,
          125,
          106,
          114,
          40,
          83,
          117,
          99,
          60,
          60,
          91,
          96,
          102,
          90,
          123,
          103,
          137,
          90,
          112,
          49,
          61,
          78,
          124,
          60,
          104,
          83,
          163,
          119,
          74,
          102,
          83,
          88,
          86,
          66,
          90,
          134,
          92,
          145,
          105,
          95,
          93,
          93,
          84,
          112,
          93,
          81,
          98,
          123,
          132,
          74,
          87,
          105,
          109,
          96,
          61,
          88,
          125,
          118,
          113,
          100,
          79,
          86,
          61,
          54,
          66,
          87,
          70,
          32,
          85,
          91,
          105,
          93,
          65,
          115,
          91,
          58,
          51,
          139,
          112,
          135,
          99,
          103,
          116,
          72,
          86,
          104,
          97,
          92,
          161,
          104,
          93,
          35,
          93,
          99,
          106,
          47,
          52,
          97,
          85,
          135,
          75,
          110,
          88,
          91,
          134,
          82,
          87,
          106,
          109,
          97,
          88,
          98,
          110,
          88,
          123,
          104,
          128,
          91,
          132,
          88,
          58,
          57,
          126,
          101,
          108,
          111,
          135,
          96,
          98,
          98,
          98,
          102,
          86,
          148,
          167,
          96,
          109,
          70,
          78,
          79,
          78,
          62,
          96,
          95,
          126,
          97,
          107,
          118,
          130,
          154,
          90,
          107,
          95,
          96,
          52,
          87,
          103,
          109,
          98,
          101,
          103,
          110,
          104,
          85,
          101,
          129,
          163,
          100,
          78,
          58,
          47,
          110,
          145,
          58,
          56,
          22,
          95,
          161,
          141,
          115,
          101,
          96,
          68,
          58,
          90,
          126,
          106,
          92,
          103,
          82,
          71,
          121,
          77,
          91,
          77,
          86,
          103,
          42,
          60,
          111,
          103,
          129,
          113,
          106,
          105,
          101,
          91,
          88,
          137,
          22,
          130,
          89,
          110,
          112,
          135,
          148,
          100,
          101,
          96,
          115,
          96,
          90,
          103,
          75,
          99,
          99,
          93,
          90,
          90,
          101,
          145,
          95,
          92,
          102,
          90,
          144,
          137,
          98,
          109,
          150,
          117,
          93,
          96,
          133,
          71,
          80,
          57,
          98,
          110,
          131,
          95,
          102,
          66,
          65,
          114,
          96,
          97,
          106,
          82,
          78,
          67,
          84,
          95,
          120,
          149,
          126,
          90,
          143,
          113,
          106,
          155,
          57,
          121,
          91,
          100,
          101,
          137,
          138,
          125,
          95,
          154,
          106,
          116,
          116,
          97,
          93,
          129,
          111,
          117,
          65,
          158,
          110,
          108,
          79,
          95,
          81,
          99,
          86,
          73,
          70,
          68,
          86,
          138,
          110,
          78,
          127,
          129,
          91,
          179,
          113,
          79,
          105,
          93,
          98,
          94,
          79,
          96,
          67,
          99,
          62,
          55,
          101,
          88,
          95,
          87,
          83,
          90,
          100,
          73,
          135,
          151,
          109,
          109,
          89,
          99,
          86,
          86,
          85,
          129,
          98,
          93,
          111,
          58,
          95,
          89,
          97,
          89,
          90,
          104,
          119,
          92,
          107,
          124,
          87,
          91,
          94,
          118,
          86,
          102,
          122,
          126,
          117,
          65,
          118,
          126,
          87,
          156,
          97,
          96,
          89,
          97,
          40,
          143,
          81,
          88,
          87,
          96,
          104,
          129,
          124,
          118,
          111,
          125,
          120,
          91,
          137,
          104,
          80,
          127,
          141,
          117,
          140,
          95,
          93,
          97,
          118,
          100,
          118,
          150,
          44,
          54,
          170,
          118,
          126,
          128,
          104,
          105,
          86,
          94,
          106,
          92,
          108,
          89,
          95,
          103,
          92,
          102,
          126,
          87,
          138,
          73,
          84,
          111,
          100,
          119,
          94,
          86,
          142,
          95,
          95,
          80,
          79,
          81,
          120,
          61,
          85,
          104,
          96,
          91,
          134,
          93,
          120,
          83,
          82,
          88,
          102,
          101,
          96,
          97,
          105,
          101,
          86,
          88,
          84,
          89,
          113,
          110,
          105,
          116,
          94,
          110,
          104,
          116,
          47,
          102,
          51,
          143,
          103,
          104,
          127,
          83,
          193,
          176,
          95,
          149,
          131,
          79,
          101,
          97,
          89,
          91,
          140,
          85,
          85,
          150,
          82,
          117,
          84,
          106,
          107,
          90,
          98,
          82,
          87,
          54,
          102,
          114,
          99,
          139,
          94,
          88,
          89,
          93,
          82,
          117,
          91,
          91,
          97,
          89,
          106,
          116,
          128,
          81,
          88,
          80,
          100,
          96,
          80,
          67,
          119,
          75,
          112,
          135,
          110,
          94,
          91,
          121,
          108,
          104,
          124,
          13,
          87,
          128,
          78,
          72,
          72,
          78,
          75,
          140,
          108,
          97,
          103,
          95,
          86,
          104,
          101,
          94,
          98,
          114,
          99,
          94,
          103,
          89,
          99,
          116,
          102,
          129,
          87,
          148,
          103,
          89,
          119,
          106,
          90,
          118,
          95,
          101,
          123,
          127,
          116,
          119,
          99,
          90,
          90,
          153,
          122,
          109,
          125,
          106,
          141,
          106,
          103,
          122,
          87,
          116,
          45,
          102,
          107,
          148,
          116,
          88,
          99,
          100,
          99,
          72,
          134,
          87,
          91,
          88,
          96,
          107,
          108,
          105,
          105,
          127,
          137,
          77,
          108,
          71,
          93,
          96,
          99,
          102,
          129,
          130,
          115,
          113,
          88,
          98,
          140,
          92,
          127,
          127,
          101,
          101,
          112,
          91,
          84,
          105,
          88,
          141,
          68,
          162,
          163,
          147,
          142,
          143,
          93,
          86,
          68,
          65,
          58,
          154,
          44,
          92,
          90,
          124,
          91,
          76,
          155,
          101,
          132,
          92,
          22,
          132,
          94,
          132,
          94,
          77,
          107,
          103,
          142,
          128,
          105,
          97,
          90,
          84,
          69,
          58,
          97,
          80,
          71,
          71,
          85,
          75,
          59,
          119,
          78,
          69,
          67,
          103,
          109,
          62,
          61,
          81,
          69,
          134,
          80,
          53,
          84,
          86,
          44,
          131,
          94,
          72,
          74,
          71,
          77,
          70,
          77,
          87,
          67,
          71,
          62,
          102,
          62,
          58,
          83,
          135,
          124,
          69,
          79,
          181,
          60,
          55,
          63,
          128,
          98,
          69,
          78,
          214,
          90,
          67,
          64,
          64,
          79,
          90,
          133,
          125,
          92,
          90,
          80,
          70,
          65,
          60,
          62,
          17,
          98,
          96,
          97,
          101,
          135,
          75,
          79,
          99,
          101,
          90,
          84,
          70,
          137,
          133,
          145,
          91,
          52,
          123,
          113,
          107,
          128,
          101,
          104,
          94,
          96,
          107,
          92,
          95,
          106,
          90,
          106,
          138,
          110,
          100,
          139,
          130,
          132,
          133,
          126,
          91,
          173,
          105,
          148,
          192,
          151,
          209,
          171,
          120,
          122,
          85,
          120,
          113,
          187,
          154,
          99,
          80,
          105,
          41,
          107,
          128,
          104,
          93,
          110,
          160,
          138,
          112,
          101,
          110,
          107,
          65,
          135,
          118,
          137,
          117,
          65,
          118,
          86,
          140,
          66,
          64,
          71,
          89,
          60,
          61,
          85,
          45,
          132,
          53,
          116,
          133,
          116,
          82,
          62,
          68,
          62,
          60,
          89,
          75,
          67,
          96,
          70,
          63,
          62,
          42,
          90,
          170,
          151,
          121,
          132,
          124,
          120,
          157,
          124,
          110,
          90,
          97,
          108,
          95,
          90,
          102,
          111,
          137,
          100,
          53,
          100,
          87,
          106,
          112,
          107,
          87,
          86,
          100,
          80,
          97,
          103,
          109,
          81,
          182,
          88,
          98,
          110,
          114,
          87,
          132,
          101,
          145,
          93,
          116,
          85,
          84,
          92,
          98,
          88,
          99,
          63,
          121,
          104,
          104,
          105,
          135,
          56,
          107,
          95,
          96,
          115,
          117,
          58,
          62,
          65,
          61,
          65,
          65,
          58,
          60,
          81,
          126,
          124,
          85,
          114,
          93,
          136,
          185,
          126,
          99,
          79,
          26,
          23,
          107,
          106,
          133,
          147,
          95,
          100,
          149,
          165,
          124,
          52,
          150,
          165,
          84,
          104,
          114,
          109,
          88,
          50,
          87,
          92,
          143,
          116,
          112,
          40,
          94,
          101,
          104,
          110,
          111,
          83,
          101,
          224,
          118,
          111,
          185,
          153,
          145,
          82,
          140,
          87,
          68,
          86,
          86,
          76,
          115,
          93,
          98,
          83,
          81,
          116,
          105,
          99,
          121,
          54,
          78,
          100,
          89,
          37,
          33,
          35,
          32,
          147,
          132,
          110,
          132,
          97,
          108,
          101,
          68,
          100,
          22,
          48,
          25,
          22,
          22,
          22,
          44,
          22,
          111,
          109,
          78,
          103,
          158,
          66,
          24,
          144,
          93,
          58,
          116,
          113,
          90,
          68,
          104,
          86,
          118,
          99,
          89,
          126,
          83,
          109,
          80,
          40,
          109,
          84,
          104,
          105,
          99,
          104,
          105,
          116,
          94,
          85,
          59,
          150,
          109,
          94,
          111,
          95,
          59,
          103,
          116,
          58,
          89,
          92,
          95,
          23,
          25,
          85,
          20,
          102,
          90,
          68,
          67,
          66,
          70,
          66,
          68,
          69,
          91,
          102,
          149,
          87,
          98,
          94,
          90,
          233,
          108,
          85,
          105,
          95,
          103,
          89,
          118,
          114,
          153,
          106,
          96,
          68,
          40,
          96,
          117,
          88,
          116,
          155,
          28,
          71,
          88,
          64,
          92,
          93,
          95,
          86,
          92,
          74,
          84,
          66,
          140,
          110,
          106,
          98,
          101,
          96,
          103,
          105,
          93,
          111,
          94,
          109,
          87,
          163,
          103,
          120,
          93,
          133,
          77,
          97,
          101,
          111,
          115,
          91,
          103,
          95,
          92,
          84,
          82,
          124,
          77,
          91,
          79,
          112,
          113,
          50,
          81,
          81,
          87,
          71,
          98,
          66,
          102,
          156,
          113,
          144,
          131,
          150,
          125,
          100,
          110,
          100,
          121,
          129,
          51,
          117,
          94,
          32,
          107,
          76,
          118,
          108,
          101,
          93,
          99,
          84,
          102,
          134,
          91,
          78,
          128,
          141,
          128,
          95,
          73,
          110,
          143,
          189,
          75,
          119,
          56,
          134,
          92,
          109,
          171,
          129,
          137,
          192,
          33,
          21,
          106,
          132,
          133,
          131,
          51,
          89,
          70,
          71,
          91,
          131,
          101,
          105,
          88,
          155,
          103,
          97,
          92,
          98,
          109,
          110,
          136,
          133,
          152,
          173,
          89,
          129,
          162,
          112,
          85,
          114,
          75,
          89,
          177,
          93,
          112,
          99,
          107,
          71,
          95,
          70,
          73,
          29,
          90,
          64,
          50,
          38,
          69,
          29,
          67,
          94,
          135,
          137,
          90,
          104,
          55,
          62,
          83,
          77,
          74,
          75,
          72,
          103,
          120,
          131,
          100,
          95,
          112,
          138,
          143,
          108,
          91,
          80,
          94,
          132,
          57,
          136,
          63,
          84,
          111,
          99,
          93,
          114,
          122,
          120,
          100,
          67,
          132,
          83,
          54,
          105,
          98,
          112,
          94,
          90,
          75,
          48,
          150,
          126,
          110,
          84,
          118,
          97,
          86,
          98,
          88,
          101,
          82,
          81,
          112,
          88,
          99,
          79,
          88,
          88,
          103,
          115,
          115,
          106,
          162,
          103,
          93,
          116,
          100,
          95,
          102,
          105,
          148,
          105,
          86,
          54,
          61,
          19,
          63,
          59,
          60,
          113,
          92,
          87,
          112,
          26,
          97,
          76,
          71,
          86,
          56,
          60,
          63,
          124,
          94,
          100,
          115,
          102,
          128,
          99,
          88,
          106,
          83,
          78,
          128,
          136,
          132,
          129,
          98,
          62,
          106,
          129,
          120,
          81,
          82,
          85,
          90,
          136,
          89,
          130,
          85,
          90,
          94,
          86,
          102,
          94,
          100,
          119,
          107,
          93,
          109,
          93,
          57,
          64,
          54,
          109,
          96,
          92,
          168,
          93,
          100,
          141,
          139,
          92,
          119,
          84,
          57,
          96,
          122,
          83,
          117,
          93,
          73,
          72,
          72,
          46,
          74,
          46,
          46,
          74,
          71,
          72,
          76,
          23,
          60,
          46,
          91,
          81,
          101,
          119,
          92,
          55,
          137,
          56,
          58,
          80,
          94,
          94,
          97,
          111,
          96,
          135,
          91,
          84,
          121,
          61,
          83,
          103,
          127,
          132,
          117,
          109,
          74,
          94,
          105,
          131,
          105,
          97,
          102,
          93,
          97,
          96,
          97,
          91,
          86,
          88,
          107,
          90,
          153,
          96,
          104,
          96,
          136,
          131,
          135,
          150,
          98,
          158,
          163,
          98,
          77,
          107,
          116,
          135,
          104,
          139,
          85,
          110,
          172,
          128,
          134,
          98,
          79,
          97,
          102,
          106,
          86,
          127,
          94,
          185,
          136,
          105,
          80,
          84,
          97,
          92,
          116,
          95,
          99,
          77,
          121,
          91,
          100,
          91,
          102,
          119,
          115,
          100,
          68,
          44,
          72,
          73,
          73,
          44,
          44,
          115,
          61,
          86,
          104,
          82,
          92,
          90,
          99,
          109,
          93,
          100,
          107,
          95,
          111,
          86,
          111,
          108,
          101,
          99,
          100,
          99,
          104,
          138,
          88,
          122,
          141,
          147,
          92,
          73,
          85,
          97,
          91,
          171,
          130,
          80,
          101,
          91,
          99,
          93,
          96,
          102,
          95,
          85,
          97,
          95,
          83,
          115,
          72,
          69,
          76,
          60,
          51,
          61,
          114,
          92,
          82,
          42,
          131,
          165,
          91,
          101,
          53,
          121,
          59,
          110,
          66,
          137,
          103,
          132,
          108,
          108,
          89,
          107,
          91,
          117,
          84,
          96,
          117,
          106,
          124,
          104,
          87,
          113,
          93,
          59,
          118,
          97,
          64,
          94,
          115,
          99,
          107,
          102,
          125,
          208,
          161,
          116,
          106,
          237,
          131,
          102,
          103,
          104,
          109,
          92,
          103,
          96,
          117,
          61,
          89,
          92,
          90,
          91,
          50,
          84,
          87,
          94,
          133,
          97,
          53,
          113,
          53,
          54,
          53,
          54,
          113,
          53,
          53,
          53,
          54,
          54,
          52,
          54,
          54,
          53,
          53,
          53,
          113,
          53,
          86,
          102,
          114,
          99,
          55,
          91,
          117,
          124,
          102,
          122,
          84,
          84,
          120,
          127,
          122,
          125,
          72,
          47,
          23,
          23,
          121,
          107,
          140,
          91,
          89,
          154,
          103,
          103,
          106,
          129,
          102,
          109,
          157,
          146,
          146,
          110,
          121,
          96,
          102,
          96,
          82,
          119,
          169,
          101,
          97,
          116,
          100,
          89,
          92,
          107,
          95,
          101,
          78,
          79,
          86,
          70,
          66,
          73,
          83,
          72,
          111,
          133,
          142,
          166,
          160,
          135,
          135,
          128,
          120,
          92,
          87,
          70,
          31,
          92,
          89,
          102,
          93,
          95,
          86,
          90,
          97,
          90,
          88,
          76,
          86,
          84,
          99,
          96,
          111,
          124,
          93,
          139,
          91,
          86,
          61,
          95,
          107,
          87,
          104,
          122,
          97,
          101,
          96,
          103,
          88,
          93,
          90,
          90,
          92,
          63,
          103,
          103,
          94,
          35,
          85,
          122,
          102,
          110,
          116,
          100,
          105,
          100,
          118,
          105,
          117,
          126,
          129,
          89,
          82,
          44,
          71,
          74,
          130,
          89,
          106,
          107,
          134,
          82,
          82,
          98,
          96,
          108,
          106,
          91,
          163,
          119,
          125,
          137,
          112,
          171,
          69,
          87,
          137,
          89,
          94,
          111,
          74,
          86,
          93,
          93,
          106,
          187,
          109,
          116,
          77,
          84,
          63,
          124,
          72,
          33,
          115,
          84,
          140,
          68,
          90,
          94,
          117,
          105,
          66,
          66,
          91,
          104,
          110,
          114,
          73,
          85,
          112,
          90,
          48,
          109,
          98,
          134,
          95,
          125,
          89,
          89,
          92,
          108,
          102,
          76,
          104,
          72,
          109,
          26,
          105,
          50,
          92,
          95,
          93,
          170,
          170,
          82,
          108,
          129,
          85,
          126,
          159,
          150,
          118,
          125,
          112,
          138,
          96,
          81,
          108,
          128,
          81,
          81,
          90,
          92,
          112,
          130,
          65,
          124,
          127,
          102,
          81,
          146,
          133,
          91,
          81,
          108,
          120,
          162,
          106,
          149,
          92,
          65,
          28,
          19,
          25,
          22,
          40,
          22,
          24,
          87,
          97,
          98,
          98,
          119,
          88,
          122,
          88,
          96,
          114,
          77,
          98,
          102,
          138,
          90,
          128,
          104,
          86,
          124,
          24,
          46,
          24,
          55,
          24,
          23,
          24,
          24,
          106,
          117,
          52,
          164,
          127,
          86,
          84,
          95,
          131,
          152,
          93,
          29,
          97,
          100,
          124,
          163,
          84,
          103,
          92,
          113,
          88,
          83,
          100,
          143,
          102,
          82,
          165,
          119,
          154,
          158,
          92,
          93,
          87,
          91,
          120,
          89,
          24,
          92,
          149,
          136,
          120,
          153,
          96,
          120,
          161,
          137,
          57,
          106,
          98,
          138,
          128,
          125,
          93,
          120,
          124,
          132,
          98,
          162,
          150,
          85,
          155,
          139,
          99,
          113,
          71,
          90,
          83,
          103,
          143,
          64,
          63,
          129,
          93,
          113,
          117,
          93,
          124,
          134,
          119,
          92,
          97,
          88,
          177,
          131,
          119,
          104,
          116,
          113,
          69,
          83,
          32,
          142,
          178,
          133,
          90,
          154,
          100,
          122,
          115,
          159,
          110,
          153,
          126,
          76,
          88,
          86,
          104,
          59,
          230,
          99,
          144,
          98,
          46,
          46,
          127,
          123,
          111,
          101,
          73,
          90,
          81,
          114,
          112,
          80,
          100,
          24,
          100,
          62,
          116,
          96,
          49,
          65,
          84,
          71,
          74,
          59,
          59,
          57,
          88,
          95,
          112,
          112,
          152,
          97,
          97,
          90,
          94,
          105,
          28,
          102,
          124,
          97,
          118,
          95,
          92,
          102,
          100,
          87,
          120,
          84,
          66,
          92,
          31,
          59,
          59,
          105,
          79,
          79,
          99,
          81,
          91,
          101,
          99,
          103,
          88,
          87,
          132,
          83,
          101,
          95,
          107,
          107,
          105,
          118,
          87,
          94,
          73,
          136,
          96,
          97,
          44,
          45,
          92,
          103,
          110,
          139,
          46,
          120,
          119,
          119,
          100,
          92,
          104,
          66,
          53,
          93,
          116,
          103,
          104,
          98,
          80,
          90,
          79,
          142,
          135,
          124,
          110,
          105,
          141,
          122,
          75,
          63,
          93,
          63,
          118,
          89,
          26,
          42,
          62,
          90,
          66,
          119,
          137,
          121,
          137,
          100,
          143,
          79,
          103,
          92,
          89,
          97,
          134,
          116,
          110,
          88,
          115,
          107,
          63,
          69,
          93,
          73,
          72,
          108,
          141,
          57,
          82,
          95,
          117,
          107,
          131,
          172,
          118,
          118,
          128,
          114,
          91,
          83,
          105,
          94,
          137,
          61,
          86,
          86,
          118,
          139,
          173,
          90,
          152,
          134,
          194,
          76,
          99,
          64,
          50,
          49,
          71,
          29,
          110,
          116,
          119,
          107,
          83,
          109,
          65,
          32,
          122,
          113,
          88,
          131,
          228,
          159,
          111,
          86,
          91,
          44,
          72,
          107,
          87,
          117,
          50,
          71,
          102,
          98,
          140,
          145,
          126,
          162,
          131,
          131,
          133,
          127,
          141,
          78,
          150,
          92,
          153,
          83,
          146,
          52,
          95,
          93,
          53,
          73,
          126,
          95,
          119,
          99,
          173,
          93,
          93,
          121,
          88,
          88,
          195,
          120,
          112,
          94,
          77,
          102,
          112,
          121,
          117,
          105,
          96,
          90,
          93,
          110,
          86,
          95,
          49,
          65,
          76,
          63,
          101,
          111,
          98,
          150,
          108,
          54,
          54,
          54,
          55,
          54,
          55,
          55,
          114,
          55,
          55,
          55,
          92,
          87,
          96,
          126,
          117,
          87,
          102,
          106,
          109,
          110,
          69,
          119,
          115,
          108,
          106,
          96,
          85,
          61,
          70,
          103,
          123,
          111,
          116,
          107,
          94,
          123,
          128,
          100,
          102,
          146,
          145,
          103,
          109,
          111,
          100,
          125,
          111,
          146,
          116,
          115,
          126,
          168,
          109,
          107,
          148,
          92,
          91,
          86,
          28,
          135,
          83,
          87,
          71,
          105,
          113,
          105,
          111,
          119,
          112,
          106,
          128,
          163,
          121,
          87,
          103,
          97,
          168,
          131,
          116,
          45,
          75,
          71,
          106,
          122,
          97,
          101,
          89,
          121,
          98,
          130,
          127,
          115,
          96,
          86,
          95,
          93,
          89,
          119,
          105,
          106,
          141,
          88,
          3,
          94,
          77,
          133,
          122,
          52,
          105,
          72,
          101,
          136,
          158,
          143,
          142,
          127,
          92,
          97,
          87,
          83,
          88,
          95,
          105,
          16,
          76,
          96,
          78,
          107,
          80,
          100,
          93,
          49,
          94,
          99,
          101,
          89,
          135,
          107,
          115,
          84,
          95,
          110,
          92,
          95,
          66,
          123,
          83,
          86,
          89,
          134,
          126,
          108,
          137,
          87,
          142,
          80,
          62,
          160,
          5,
          155,
          91,
          94,
          135,
          135,
          104,
          97,
          92,
          87,
          128,
          101,
          77,
          93,
          109,
          110,
          97,
          73,
          131,
          116,
          88,
          106,
          94,
          85,
          130,
          107,
          98,
          94,
          137,
          101,
          108,
          96,
          75,
          83,
          111,
          75,
          139,
          117,
          79,
          46,
          95,
          92,
          29,
          45,
          47,
          129,
          94,
          153,
          112,
          88,
          100,
          83,
          88,
          93,
          140,
          103,
          88,
          86,
          88,
          152,
          33,
          128,
          106,
          69,
          101,
          128,
          94,
          52,
          23,
          140,
          98,
          89,
          108,
          86,
          91,
          122,
          74,
          106,
          100,
          61,
          91,
          113,
          100,
          132,
          96,
          96,
          96,
          91,
          113,
          76,
          127,
          96,
          104,
          95,
          85,
          106,
          117,
          108,
          123,
          105,
          85,
          78,
          97,
          99,
          95,
          42,
          95,
          135,
          130,
          115,
          107,
          44,
          114,
          107,
          93,
          94,
          94,
          113,
          74,
          85,
          63,
          104,
          176,
          28,
          24,
          59,
          24,
          25,
          25,
          24,
          25,
          24,
          127,
          113,
          91,
          108,
          154,
          82,
          140,
          137,
          98,
          86,
          121,
          119,
          85,
          103,
          86,
          92,
          126,
          123,
          185,
          123,
          75,
          112,
          116,
          93,
          83,
          94,
          97,
          108,
          101,
          99,
          104,
          120,
          177,
          162,
          95,
          84,
          97,
          80,
          109,
          88,
          107,
          140,
          120,
          110,
          103,
          112,
          111,
          133,
          102,
          124,
          114,
          148,
          110,
          91,
          81,
          116,
          89,
          72,
          112,
          101,
          98,
          81,
          114,
          125,
          61,
          48,
          128,
          81,
          91,
          121,
          103,
          155,
          119,
          137,
          89,
          87,
          88,
          94,
          125,
          86,
          67,
          78,
          108,
          102,
          127,
          93,
          109,
          115,
          98,
          84,
          133,
          121,
          156,
          135,
          135,
          148,
          131,
          91,
          108,
          130,
          100,
          93,
          108,
          117,
          117,
          95,
          104,
          78,
          87,
          88,
          93,
          107,
          99,
          94,
          90,
          140,
          105,
          91,
          98,
          113,
          89,
          114,
          97,
          97,
          108,
          80,
          79,
          64,
          101,
          115,
          90,
          117,
          101,
          95,
          86,
          94,
          76,
          85,
          102,
          100,
          119,
          87,
          101,
          133,
          112,
          102,
          83,
          89,
          80,
          18,
          112,
          100,
          110,
          96,
          92,
          63,
          72,
          93,
          91,
          73,
          98,
          118,
          121,
          95,
          95,
          116,
          98,
          101,
          86,
          99,
          91,
          130,
          90,
          101,
          106,
          59,
          118,
          120,
          115,
          98,
          111,
          116,
          97,
          95,
          86,
          114,
          122,
          28,
          103,
          122,
          95,
          93,
          107,
          82,
          118,
          119,
          88,
          102,
          119,
          97,
          96,
          103,
          81,
          118,
          96,
          106,
          93,
          109,
          112,
          112,
          96,
          89,
          60,
          113,
          126,
          109,
          93,
          101,
          111,
          107,
          100,
          104,
          115,
          92,
          103,
          90,
          17,
          105,
          102,
          103,
          118,
          105,
          103,
          95,
          101,
          123,
          112,
          114,
          101,
          53,
          81,
          100,
          99,
          102,
          66,
          112,
          83,
          101,
          149,
          99,
          105,
          120,
          93,
          121,
          75,
          92,
          95,
          100,
          93,
          124,
          106,
          154,
          107,
          96,
          97,
          83,
          67,
          151,
          78,
          85,
          139,
          69,
          84,
          88,
          110,
          86,
          108,
          104,
          102,
          113,
          109,
          106,
          117,
          121,
          99,
          139,
          110,
          104,
          95,
          122,
          105,
          96,
          130,
          97,
          87,
          106,
          112,
          148,
          85,
          107,
          76,
          103,
          112,
          95,
          88,
          116,
          121,
          82,
          107,
          87,
          46,
          103,
          97,
          91,
          91,
          111,
          101,
          104,
          92,
          113,
          93,
          151,
          89,
          124,
          115,
          84,
          106,
          97,
          92,
          86,
          46,
          124,
          83,
          100,
          107,
          115,
          104,
          101,
          158,
          95,
          97,
          97,
          89,
          161,
          205,
          123,
          190,
          108,
          136,
          161,
          114,
          128,
          133,
          119,
          101,
          86,
          124,
          105,
          91,
          94,
          168,
          136,
          94,
          85,
          108,
          101,
          116,
          71,
          147,
          88,
          99,
          96,
          132,
          85,
          95,
          97,
          92,
          135,
          36,
          79,
          120,
          53,
          94,
          111,
          123,
          103,
          111,
          123,
          114,
          100,
          84,
          75,
          118,
          96,
          102,
          108,
          99,
          103,
          93,
          101,
          112,
          99,
          129,
          106,
          100,
          209,
          24,
          105,
          93,
          112,
          52,
          106,
          123,
          90,
          140,
          95,
          100,
          121,
          97,
          141,
          118,
          105,
          133,
          76,
          93,
          98,
          86,
          130,
          113,
          98,
          84,
          91,
          104,
          133,
          105,
          149,
          93,
          88,
          131,
          44,
          119,
          99,
          96,
          70,
          107,
          83,
          110,
          116,
          88,
          95,
          96,
          101,
          83,
          121,
          87,
          156,
          87,
          118,
          30,
          95,
          107,
          96,
          110,
          118,
          89,
          85,
          107,
          86,
          83,
          108,
          138,
          119,
          93,
          30,
          91,
          87,
          121,
          95,
          103,
          201,
          179,
          113,
          110,
          94,
          127,
          87,
          87,
          98,
          98,
          82,
          85,
          90,
          46,
          46,
          46,
          103,
          137,
          68,
          107,
          100,
          195,
          98,
          138,
          40,
          137,
          97,
          136,
          138,
          129,
          90,
          116,
          130,
          60,
          88,
          40,
          94,
          113,
          98,
          119,
          91,
          95,
          54,
          86,
          132,
          44,
          104,
          91,
          70,
          102,
          93,
          92,
          114,
          104,
          115,
          85,
          85,
          138,
          40,
          59,
          82,
          107,
          104,
          90,
          121,
          90,
          85,
          99,
          104,
          126,
          97,
          91,
          106,
          95,
          111,
          106,
          108,
          84,
          122,
          111,
          94,
          123,
          86,
          95,
          108,
          94,
          94,
          87,
          124,
          141,
          91,
          93,
          143,
          148,
          91,
          103,
          141,
          110,
          155,
          93,
          78,
          118,
          88,
          89,
          140,
          94,
          124,
          110,
          89,
          100,
          94,
          96,
          116,
          92,
          91,
          111,
          98,
          102,
          97,
          125,
          125,
          132,
          133,
          76,
          117,
          90,
          66,
          105,
          119,
          136,
          52,
          81,
          77,
          108,
          130,
          120,
          102,
          116,
          67,
          90,
          100,
          123,
          90,
          120,
          92,
          93,
          116,
          107,
          95,
          87,
          111,
          14,
          101,
          91,
          105,
          103,
          103,
          90,
          81,
          120,
          107,
          90,
          47,
          111,
          94,
          92,
          92,
          99,
          253,
          124,
          111,
          32,
          98,
          86,
          105,
          100,
          104,
          123,
          100,
          105,
          85,
          108,
          97,
          97,
          91,
          96,
          93,
          122,
          90,
          163,
          110,
          143,
          104,
          103,
          105,
          94,
          121,
          93,
          120,
          95,
          41,
          97,
          84,
          46,
          94,
          94,
          105,
          81,
          103,
          122,
          98,
          90,
          111,
          97,
          91,
          89,
          115,
          98,
          92,
          106,
          139,
          81,
          83,
          123,
          96,
          118,
          110,
          94,
          58,
          96,
          107,
          97,
          103,
          24,
          91,
          136,
          130,
          91,
          104,
          94,
          108,
          91,
          58,
          99,
          106,
          126,
          96,
          93,
          106,
          103,
          130,
          91,
          115,
          91,
          92,
          103,
          72,
          138,
          98,
          125,
          93,
          111,
          112,
          90,
          101,
          101,
          98,
          111,
          117,
          41,
          92,
          117,
          92,
          88,
          126,
          157,
          116,
          47,
          100,
          114,
          128,
          101,
          108,
          53,
          99,
          89,
          90,
          111,
          83,
          85,
          135,
          94,
          104,
          132,
          89,
          97,
          67,
          86,
          158,
          72,
          110,
          98,
          99,
          82,
          180,
          107,
          77,
          123,
          23,
          23,
          23,
          122,
          131,
          77,
          125,
          125,
          139,
          88,
          107,
          96,
          87,
          104,
          133,
          93,
          42,
          56,
          66,
          92,
          58,
          130,
          91,
          108,
          151,
          30,
          30,
          146,
          127,
          98,
          125,
          96,
          135,
          88,
          99,
          78,
          97,
          100,
          102,
          81,
          84,
          88,
          95,
          108,
          108,
          96,
          61,
          63,
          46,
          78,
          86,
          176,
          145,
          89,
          98,
          60,
          57,
          60,
          70,
          74,
          71,
          74,
          63,
          119,
          99,
          117,
          106,
          94,
          108,
          87,
          133,
          106,
          104,
          94,
          114,
          107,
          94,
          59,
          130,
          89,
          81,
          102,
          74,
          47,
          95,
          46,
          88,
          118,
          94,
          114,
          83,
          119,
          79,
          114,
          94,
          111,
          85,
          88,
          82,
          82,
          96,
          100,
          104,
          101,
          99,
          98,
          102,
          100,
          67,
          64,
          96,
          134,
          173,
          113,
          115,
          126,
          96,
          93,
          91,
          27,
          110,
          90,
          128,
          128,
          98,
          108,
          24,
          24,
          24,
          24,
          24,
          46,
          24,
          124,
          88,
          125,
          89,
          162,
          128,
          72,
          90,
          123,
          76,
          96,
          107,
          102,
          53,
          110,
          102,
          86,
          89,
          117,
          80,
          95,
          78,
          90,
          121,
          99,
          137,
          146,
          125,
          115,
          143,
          109,
          137,
          96,
          114,
          94,
          90,
          104,
          190,
          100,
          109,
          116,
          92,
          95,
          104,
          98,
          135,
          113,
          40,
          94,
          87,
          102,
          84,
          108,
          85,
          94,
          61,
          85,
          121,
          94,
          83,
          114,
          92,
          105,
          113,
          97,
          97,
          83,
          95,
          93,
          86,
          110,
          99,
          106,
          112,
          116,
          121,
          62,
          119,
          95,
          130,
          119,
          132,
          86,
          145,
          90,
          144,
          106,
          117,
          130,
          78,
          113,
          82,
          81,
          105,
          126,
          127,
          109,
          156,
          106,
          93,
          110,
          91,
          113,
          97,
          115,
          101,
          91,
          66,
          76,
          68,
          50,
          127,
          100,
          29,
          125,
          116,
          166,
          106,
          106,
          113,
          93,
          96,
          99,
          66,
          119,
          115,
          130,
          120,
          93,
          94,
          111,
          94,
          132,
          109,
          81,
          94,
          100,
          96,
          90,
          66,
          95,
          103,
          61,
          109,
          147,
          123,
          98,
          73,
          92,
          128,
          93,
          78,
          68,
          98,
          74,
          119,
          109,
          86,
          123,
          96,
          83,
          101,
          95,
          91,
          90,
          93,
          38,
          106,
          94,
          89,
          91,
          94,
          72,
          94,
          95,
          149,
          124,
          99,
          73,
          108,
          131,
          80,
          84,
          135,
          106,
          81,
          93,
          96,
          105,
          102,
          92,
          98,
          17,
          124,
          102,
          103,
          99,
          130,
          52,
          91,
          87,
          96,
          92,
          140,
          96,
          93,
          32,
          118,
          110,
          95,
          203,
          82,
          107,
          96,
          75,
          109,
          103,
          97,
          89,
          86,
          97,
          69,
          98,
          98,
          93,
          89,
          120,
          88,
          90,
          91,
          59,
          48,
          78,
          94,
          90,
          102,
          50,
          84,
          126,
          82,
          98,
          86,
          106,
          105,
          93,
          105,
          72,
          100,
          89,
          100,
          104,
          85,
          86,
          99,
          100,
          108,
          106,
          108,
          93,
          102,
          74,
          80,
          92,
          93,
          109,
          132,
          69,
          101,
          97,
          91,
          94,
          147,
          129,
          49,
          93,
          133,
          140,
          45,
          68,
          191,
          135,
          105,
          92,
          91,
          81,
          124,
          101,
          106,
          137,
          15,
          171,
          148,
          132,
          147,
          151,
          97,
          117,
          95,
          90,
          104,
          111,
          112,
          107,
          78,
          96,
          88,
          78,
          54,
          63,
          93,
          87,
          85,
          157,
          116,
          113,
          89,
          107,
          117,
          112,
          94,
          81,
          120,
          115,
          103,
          72,
          88,
          98,
          115,
          130,
          160,
          61,
          101,
          109,
          92,
          131,
          120,
          159,
          89,
          126,
          154,
          96,
          12,
          105,
          89,
          158,
          104,
          88,
          94,
          88,
          99,
          111,
          44,
          90
         ],
         "xaxis": "x",
         "yaxis": "y"
        }
       ],
       "layout": {
        "barmode": "relative",
        "legend": {
         "title": {
          "text": "variable"
         },
         "tracegroupgap": 0
        },
        "template": {
         "data": {
          "bar": [
           {
            "error_x": {
             "color": "#2a3f5f"
            },
            "error_y": {
             "color": "#2a3f5f"
            },
            "marker": {
             "line": {
              "color": "#E5ECF6",
              "width": 0.5
             }
            },
            "type": "bar"
           }
          ],
          "barpolar": [
           {
            "marker": {
             "line": {
              "color": "#E5ECF6",
              "width": 0.5
             }
            },
            "type": "barpolar"
           }
          ],
          "carpet": [
           {
            "aaxis": {
             "endlinecolor": "#2a3f5f",
             "gridcolor": "white",
             "linecolor": "white",
             "minorgridcolor": "white",
             "startlinecolor": "#2a3f5f"
            },
            "baxis": {
             "endlinecolor": "#2a3f5f",
             "gridcolor": "white",
             "linecolor": "white",
             "minorgridcolor": "white",
             "startlinecolor": "#2a3f5f"
            },
            "type": "carpet"
           }
          ],
          "choropleth": [
           {
            "colorbar": {
             "outlinewidth": 0,
             "ticks": ""
            },
            "type": "choropleth"
           }
          ],
          "contour": [
           {
            "colorbar": {
             "outlinewidth": 0,
             "ticks": ""
            },
            "colorscale": [
             [
              0,
              "#0d0887"
             ],
             [
              0.1111111111111111,
              "#46039f"
             ],
             [
              0.2222222222222222,
              "#7201a8"
             ],
             [
              0.3333333333333333,
              "#9c179e"
             ],
             [
              0.4444444444444444,
              "#bd3786"
             ],
             [
              0.5555555555555556,
              "#d8576b"
             ],
             [
              0.6666666666666666,
              "#ed7953"
             ],
             [
              0.7777777777777778,
              "#fb9f3a"
             ],
             [
              0.8888888888888888,
              "#fdca26"
             ],
             [
              1,
              "#f0f921"
             ]
            ],
            "type": "contour"
           }
          ],
          "contourcarpet": [
           {
            "colorbar": {
             "outlinewidth": 0,
             "ticks": ""
            },
            "type": "contourcarpet"
           }
          ],
          "heatmap": [
           {
            "colorbar": {
             "outlinewidth": 0,
             "ticks": ""
            },
            "colorscale": [
             [
              0,
              "#0d0887"
             ],
             [
              0.1111111111111111,
              "#46039f"
             ],
             [
              0.2222222222222222,
              "#7201a8"
             ],
             [
              0.3333333333333333,
              "#9c179e"
             ],
             [
              0.4444444444444444,
              "#bd3786"
             ],
             [
              0.5555555555555556,
              "#d8576b"
             ],
             [
              0.6666666666666666,
              "#ed7953"
             ],
             [
              0.7777777777777778,
              "#fb9f3a"
             ],
             [
              0.8888888888888888,
              "#fdca26"
             ],
             [
              1,
              "#f0f921"
             ]
            ],
            "type": "heatmap"
           }
          ],
          "heatmapgl": [
           {
            "colorbar": {
             "outlinewidth": 0,
             "ticks": ""
            },
            "colorscale": [
             [
              0,
              "#0d0887"
             ],
             [
              0.1111111111111111,
              "#46039f"
             ],
             [
              0.2222222222222222,
              "#7201a8"
             ],
             [
              0.3333333333333333,
              "#9c179e"
             ],
             [
              0.4444444444444444,
              "#bd3786"
             ],
             [
              0.5555555555555556,
              "#d8576b"
             ],
             [
              0.6666666666666666,
              "#ed7953"
             ],
             [
              0.7777777777777778,
              "#fb9f3a"
             ],
             [
              0.8888888888888888,
              "#fdca26"
             ],
             [
              1,
              "#f0f921"
             ]
            ],
            "type": "heatmapgl"
           }
          ],
          "histogram": [
           {
            "marker": {
             "colorbar": {
              "outlinewidth": 0,
              "ticks": ""
             }
            },
            "type": "histogram"
           }
          ],
          "histogram2d": [
           {
            "colorbar": {
             "outlinewidth": 0,
             "ticks": ""
            },
            "colorscale": [
             [
              0,
              "#0d0887"
             ],
             [
              0.1111111111111111,
              "#46039f"
             ],
             [
              0.2222222222222222,
              "#7201a8"
             ],
             [
              0.3333333333333333,
              "#9c179e"
             ],
             [
              0.4444444444444444,
              "#bd3786"
             ],
             [
              0.5555555555555556,
              "#d8576b"
             ],
             [
              0.6666666666666666,
              "#ed7953"
             ],
             [
              0.7777777777777778,
              "#fb9f3a"
             ],
             [
              0.8888888888888888,
              "#fdca26"
             ],
             [
              1,
              "#f0f921"
             ]
            ],
            "type": "histogram2d"
           }
          ],
          "histogram2dcontour": [
           {
            "colorbar": {
             "outlinewidth": 0,
             "ticks": ""
            },
            "colorscale": [
             [
              0,
              "#0d0887"
             ],
             [
              0.1111111111111111,
              "#46039f"
             ],
             [
              0.2222222222222222,
              "#7201a8"
             ],
             [
              0.3333333333333333,
              "#9c179e"
             ],
             [
              0.4444444444444444,
              "#bd3786"
             ],
             [
              0.5555555555555556,
              "#d8576b"
             ],
             [
              0.6666666666666666,
              "#ed7953"
             ],
             [
              0.7777777777777778,
              "#fb9f3a"
             ],
             [
              0.8888888888888888,
              "#fdca26"
             ],
             [
              1,
              "#f0f921"
             ]
            ],
            "type": "histogram2dcontour"
           }
          ],
          "mesh3d": [
           {
            "colorbar": {
             "outlinewidth": 0,
             "ticks": ""
            },
            "type": "mesh3d"
           }
          ],
          "parcoords": [
           {
            "line": {
             "colorbar": {
              "outlinewidth": 0,
              "ticks": ""
             }
            },
            "type": "parcoords"
           }
          ],
          "pie": [
           {
            "automargin": true,
            "type": "pie"
           }
          ],
          "scatter": [
           {
            "marker": {
             "colorbar": {
              "outlinewidth": 0,
              "ticks": ""
             }
            },
            "type": "scatter"
           }
          ],
          "scatter3d": [
           {
            "line": {
             "colorbar": {
              "outlinewidth": 0,
              "ticks": ""
             }
            },
            "marker": {
             "colorbar": {
              "outlinewidth": 0,
              "ticks": ""
             }
            },
            "type": "scatter3d"
           }
          ],
          "scattercarpet": [
           {
            "marker": {
             "colorbar": {
              "outlinewidth": 0,
              "ticks": ""
             }
            },
            "type": "scattercarpet"
           }
          ],
          "scattergeo": [
           {
            "marker": {
             "colorbar": {
              "outlinewidth": 0,
              "ticks": ""
             }
            },
            "type": "scattergeo"
           }
          ],
          "scattergl": [
           {
            "marker": {
             "colorbar": {
              "outlinewidth": 0,
              "ticks": ""
             }
            },
            "type": "scattergl"
           }
          ],
          "scattermapbox": [
           {
            "marker": {
             "colorbar": {
              "outlinewidth": 0,
              "ticks": ""
             }
            },
            "type": "scattermapbox"
           }
          ],
          "scatterpolar": [
           {
            "marker": {
             "colorbar": {
              "outlinewidth": 0,
              "ticks": ""
             }
            },
            "type": "scatterpolar"
           }
          ],
          "scatterpolargl": [
           {
            "marker": {
             "colorbar": {
              "outlinewidth": 0,
              "ticks": ""
             }
            },
            "type": "scatterpolargl"
           }
          ],
          "scatterternary": [
           {
            "marker": {
             "colorbar": {
              "outlinewidth": 0,
              "ticks": ""
             }
            },
            "type": "scatterternary"
           }
          ],
          "surface": [
           {
            "colorbar": {
             "outlinewidth": 0,
             "ticks": ""
            },
            "colorscale": [
             [
              0,
              "#0d0887"
             ],
             [
              0.1111111111111111,
              "#46039f"
             ],
             [
              0.2222222222222222,
              "#7201a8"
             ],
             [
              0.3333333333333333,
              "#9c179e"
             ],
             [
              0.4444444444444444,
              "#bd3786"
             ],
             [
              0.5555555555555556,
              "#d8576b"
             ],
             [
              0.6666666666666666,
              "#ed7953"
             ],
             [
              0.7777777777777778,
              "#fb9f3a"
             ],
             [
              0.8888888888888888,
              "#fdca26"
             ],
             [
              1,
              "#f0f921"
             ]
            ],
            "type": "surface"
           }
          ],
          "table": [
           {
            "cells": {
             "fill": {
              "color": "#EBF0F8"
             },
             "line": {
              "color": "white"
             }
            },
            "header": {
             "fill": {
              "color": "#C8D4E3"
             },
             "line": {
              "color": "white"
             }
            },
            "type": "table"
           }
          ]
         },
         "layout": {
          "annotationdefaults": {
           "arrowcolor": "#2a3f5f",
           "arrowhead": 0,
           "arrowwidth": 1
          },
          "coloraxis": {
           "colorbar": {
            "outlinewidth": 0,
            "ticks": ""
           }
          },
          "colorscale": {
           "diverging": [
            [
             0,
             "#8e0152"
            ],
            [
             0.1,
             "#c51b7d"
            ],
            [
             0.2,
             "#de77ae"
            ],
            [
             0.3,
             "#f1b6da"
            ],
            [
             0.4,
             "#fde0ef"
            ],
            [
             0.5,
             "#f7f7f7"
            ],
            [
             0.6,
             "#e6f5d0"
            ],
            [
             0.7,
             "#b8e186"
            ],
            [
             0.8,
             "#7fbc41"
            ],
            [
             0.9,
             "#4d9221"
            ],
            [
             1,
             "#276419"
            ]
           ],
           "sequential": [
            [
             0,
             "#0d0887"
            ],
            [
             0.1111111111111111,
             "#46039f"
            ],
            [
             0.2222222222222222,
             "#7201a8"
            ],
            [
             0.3333333333333333,
             "#9c179e"
            ],
            [
             0.4444444444444444,
             "#bd3786"
            ],
            [
             0.5555555555555556,
             "#d8576b"
            ],
            [
             0.6666666666666666,
             "#ed7953"
            ],
            [
             0.7777777777777778,
             "#fb9f3a"
            ],
            [
             0.8888888888888888,
             "#fdca26"
            ],
            [
             1,
             "#f0f921"
            ]
           ],
           "sequentialminus": [
            [
             0,
             "#0d0887"
            ],
            [
             0.1111111111111111,
             "#46039f"
            ],
            [
             0.2222222222222222,
             "#7201a8"
            ],
            [
             0.3333333333333333,
             "#9c179e"
            ],
            [
             0.4444444444444444,
             "#bd3786"
            ],
            [
             0.5555555555555556,
             "#d8576b"
            ],
            [
             0.6666666666666666,
             "#ed7953"
            ],
            [
             0.7777777777777778,
             "#fb9f3a"
            ],
            [
             0.8888888888888888,
             "#fdca26"
            ],
            [
             1,
             "#f0f921"
            ]
           ]
          },
          "colorway": [
           "#636efa",
           "#EF553B",
           "#00cc96",
           "#ab63fa",
           "#FFA15A",
           "#19d3f3",
           "#FF6692",
           "#B6E880",
           "#FF97FF",
           "#FECB52"
          ],
          "font": {
           "color": "#2a3f5f"
          },
          "geo": {
           "bgcolor": "white",
           "lakecolor": "white",
           "landcolor": "#E5ECF6",
           "showlakes": true,
           "showland": true,
           "subunitcolor": "white"
          },
          "hoverlabel": {
           "align": "left"
          },
          "hovermode": "closest",
          "mapbox": {
           "style": "light"
          },
          "paper_bgcolor": "white",
          "plot_bgcolor": "#E5ECF6",
          "polar": {
           "angularaxis": {
            "gridcolor": "white",
            "linecolor": "white",
            "ticks": ""
           },
           "bgcolor": "#E5ECF6",
           "radialaxis": {
            "gridcolor": "white",
            "linecolor": "white",
            "ticks": ""
           }
          },
          "scene": {
           "xaxis": {
            "backgroundcolor": "#E5ECF6",
            "gridcolor": "white",
            "gridwidth": 2,
            "linecolor": "white",
            "showbackground": true,
            "ticks": "",
            "zerolinecolor": "white"
           },
           "yaxis": {
            "backgroundcolor": "#E5ECF6",
            "gridcolor": "white",
            "gridwidth": 2,
            "linecolor": "white",
            "showbackground": true,
            "ticks": "",
            "zerolinecolor": "white"
           },
           "zaxis": {
            "backgroundcolor": "#E5ECF6",
            "gridcolor": "white",
            "gridwidth": 2,
            "linecolor": "white",
            "showbackground": true,
            "ticks": "",
            "zerolinecolor": "white"
           }
          },
          "shapedefaults": {
           "line": {
            "color": "#2a3f5f"
           }
          },
          "ternary": {
           "aaxis": {
            "gridcolor": "white",
            "linecolor": "white",
            "ticks": ""
           },
           "baxis": {
            "gridcolor": "white",
            "linecolor": "white",
            "ticks": ""
           },
           "bgcolor": "#E5ECF6",
           "caxis": {
            "gridcolor": "white",
            "linecolor": "white",
            "ticks": ""
           }
          },
          "title": {
           "x": 0.05
          },
          "xaxis": {
           "automargin": true,
           "gridcolor": "white",
           "linecolor": "white",
           "ticks": "",
           "title": {
            "standoff": 15
           },
           "zerolinecolor": "white",
           "zerolinewidth": 2
          },
          "yaxis": {
           "automargin": true,
           "gridcolor": "white",
           "linecolor": "white",
           "ticks": "",
           "title": {
            "standoff": 15
           },
           "zerolinecolor": "white",
           "zerolinewidth": 2
          }
         }
        },
        "title": {
         "text": "Movie's Run Time"
        },
        "xaxis": {
         "anchor": "y",
         "domain": [
          0,
          1
         ],
         "range": [
          0,
          200
         ],
         "title": {
          "text": "value"
         }
        },
        "yaxis": {
         "anchor": "x",
         "domain": [
          0,
          1
         ],
         "title": {
          "text": "count"
         }
        }
       }
      },
      "text/html": [
       "<div>\n",
       "        \n",
       "        \n",
       "            <div id=\"6b5b54e1-2cd8-4c7a-9aea-97c3c7213aa4\" class=\"plotly-graph-div\" style=\"height:525px; width:100%;\"></div>\n",
       "            <script type=\"text/javascript\">\n",
       "                require([\"plotly\"], function(Plotly) {\n",
       "                    window.PLOTLYENV=window.PLOTLYENV || {};\n",
       "                    \n",
       "                if (document.getElementById(\"6b5b54e1-2cd8-4c7a-9aea-97c3c7213aa4\")) {\n",
       "                    Plotly.newPlot(\n",
       "                        '6b5b54e1-2cd8-4c7a-9aea-97c3c7213aa4',\n",
       "                        [{\"alignmentgroup\": \"True\", \"bingroup\": \"x\", \"hovertemplate\": \"variable=duration<br>value=%{x}<br>count=%{y}<extra></extra>\", \"legendgroup\": \"duration\", \"marker\": {\"color\": \"#636efa\"}, \"name\": \"duration\", \"offsetgroup\": \"duration\", \"orientation\": \"v\", \"showlegend\": true, \"type\": \"histogram\", \"x\": [93, 78, 80, 123, 95, 119, 118, 143, 103, 89, 91, 149, 144, 124, 87, 110, 128, 117, 100, 84, 99, 95, 90, 102, 104, 99, 105, 56, 125, 119, 81, 97, 106, 99, 107, 93, 89, 105, 87, 97, 109, 93, 109, 44, 75, 101, 89, 90, 90, 93, 101, 37, 113, 89, 84, 102, 102, 114, 130, 90, 94, 97, 143, 91, 107, 95, 119, 93, 101, 93, 140, 135, 82, 70, 104, 117, 121, 92, 124, 164, 53, 93, 91, 83, 93, 114, 116, 93, 81, 84, 105, 86, 120, 106, 92, 96, 97, 99, 100, 126, 96, 75, 94, 129, 80, 103, 96, 77, 137, 148, 123, 121, 95, 28, 99, 104, 122, 104, 94, 176, 107, 90, 94, 101, 87, 92, 85, 93, 22, 95, 86, 137, 101, 68, 121, 111, 110, 29, 142, 168, 102, 92, 86, 22, 22, 21, 59, 93, 86, 80, 109, 92, 92, 89, 96, 95, 87, 93, 113, 20, 117, 97, 98, 108, 125, 91, 76, 90, 82, 111, 92, 110, 94, 100, 91, 94, 44, 108, 130, 83, 123, 106, 87, 130, 100, 96, 89, 95, 26, 156, 98, 30, 108, 92, 28, 99, 85, 122, 84, 57, 107, 102, 103, 91, 104, 91, 110, 111, 77, 99, 122, 150, 117, 126, 148, 122, 95, 133, 164, 115, 154, 133, 110, 127, 146, 136, 100, 90, 88, 131, 44, 101, 123, 90, 89, 87, 24, 88, 133, 110, 112, 129, 87, 87, 120, 59, 74, 96, 91, 59, 105, 63, 111, 96, 99, 92, 86, 90, 63, 106, 38, 93, 87, 25, 105, 94, 107, 89, 92, 22, 174, 60, 97, 122, 91, 84, 97, 127, 153, 158, 151, 150, 105, 109, 81, 162, 104, 54, 94, 83, 85, 106, 60, 102, 88, 51, 100, 131, 109, 69, 106, 115, 60, 64, 110, 54, 147, 112, 87, 63, 88, 42, 90, 89, 79, 101, 102, 122, 85, 83, 92, 40, 84, 104, 91, 109, 100, 90, 90, 94, 99, 90, 95, 92, 103, 103, 103, 45, 45, 90, 106, 75, 98, 112, 92, 103, 104, 92, 172, 125, 96, 44, 81, 112, 122, 101, 53, 53, 110, 10, 99, 95, 119, 163, 55, 84, 96, 102, 90, 106, 72, 127, 116, 128, 61, 57, 80, 80, 75, 75, 79, 93, 129, 108, 87, 71, 97, 91, 83, 85, 116, 130, 111, 113, 97, 102, 106, 160, 137, 171, 171, 104, 95, 90, 128, 103, 121, 30, 48, 139, 105, 104, 162, 157, 15, 106, 130, 88, 146, 64, 104, 127, 92, 100, 72, 118, 110, 65, 64, 59, 122, 90, 60, 134, 89, 161, 86, 87, 130, 107, 80, 79, 62, 93, 81, 87, 54, 98, 113, 91, 89, 63, 110, 98, 125, 106, 93, 139, 90, 123, 168, 83, 101, 94, 100, 117, 133, 81, 91, 104, 106, 112, 122, 102, 88, 99, 186, 49, 94, 90, 95, 97, 110, 97, 73, 88, 150, 97, 91, 92, 111, 101, 112, 73, 89, 129, 58, 80, 65, 99, 126, 135, 127, 165, 166, 166, 138, 159, 160, 159, 136, 112, 101, 143, 127, 98, 61, 95, 86, 84, 111, 92, 102, 97, 90, 119, 147, 99, 130, 87, 83, 83, 105, 91, 117, 117, 78, 75, 78, 149, 103, 108, 84, 94, 95, 141, 122, 134, 107, 126, 122, 95, 88, 101, 74, 64, 74, 74, 83, 72, 79, 72, 80, 75, 75, 72, 109, 132, 110, 99, 144, 91, 105, 166, 103, 128, 118, 87, 77, 98, 94, 125, 29, 102, 121, 116, 110, 88, 52, 89, 52, 137, 51, 110, 92, 119, 81, 73, 75, 99, 89, 121, 100, 92, 100, 98, 97, 97, 86, 105, 100, 96, 115, 99, 76, 113, 88, 106, 127, 90, 74, 91, 85, 90, 102, 90, 87, 100, 25, 94, 105, 99, 116, 82, 120, 77, 92, 107, 62, 57, 70, 98, 77, 44, 97, 100, 104, 56, 108, 83, 91, 149, 112, 102, 98, 107, 59, 120, 151, 116, 112, 117, 130, 74, 150, 63, 138, 148, 114, 123, 97, 105, 107, 106, 87, 93, 88, 126, 107, 103, 90, 68, 100, 95, 108, 86, 81, 65, 67, 78, 69, 28, 34, 61, 56, 81, 97, 132, 110, 66, 127, 131, 107, 124, 38, 115, 88, 97, 116, 132, 117, 137, 100, 79, 162, 144, 79, 312, 135, 83, 114, 88, 116, 91, 83, 80, 90, 106, 129, 94, 94, 120, 83, 91, 130, 91, 102, 85, 88, 110, 113, 123, 180, 98, 81, 90, 90, 94, 112, 129, 85, 108, 60, 60, 97, 47, 99, 83, 168, 116, 99, 106, 130, 161, 111, 26, 92, 102, 99, 89, 108, 123, 86, 89, 88, 126, 117, 111, 79, 96, 70, 87, 89, 86, 74, 139, 112, 84, 100, 80, 86, 105, 90, 63, 96, 89, 90, 102, 51, 92, 94, 96, 108, 105, 81, 105, 116, 77, 61, 110, 110, 94, 51, 118, 100, 95, 133, 97, 110, 90, 120, 155, 91, 90, 90, 129, 103, 103, 14, 95, 103, 73, 94, 95, 94, 97, 98, 98, 119, 76, 104, 148, 78, 102, 94, 98, 108, 128, 110, 122, 177, 104, 135, 127, 114, 98, 87, 151, 78, 73, 125, 126, 101, 11, 11, 22, 93, 95, 105, 104, 104, 117, 101, 120, 114, 93, 104, 99, 9, 103, 126, 81, 46, 104, 92, 142, 131, 113, 83, 67, 63, 82, 119, 98, 98, 85, 84, 82, 111, 145, 125, 108, 81, 108, 141, 117, 74, 96, 82, 75, 77, 60, 107, 156, 110, 116, 148, 126, 135, 110, 129, 132, 118, 166, 112, 164, 102, 121, 87, 95, 86, 106, 121, 115, 98, 106, 94, 85, 121, 121, 113, 89, 129, 99, 105, 116, 115, 71, 75, 135, 88, 87, 63, 62, 62, 112, 113, 82, 25, 98, 87, 63, 112, 127, 111, 63, 92, 105, 146, 96, 90, 114, 101, 80, 84, 66, 55, 98, 65, 92, 99, 59, 119, 87, 106, 87, 112, 88, 105, 101, 86, 86, 91, 99, 104, 86, 104, 47, 56, 61, 34, 158, 118, 127, 130, 115, 86, 87, 109, 151, 106, 130, 69, 77, 110, 102, 88, 106, 91, 98, 103, 89, 108, 104, 124, 95, 112, 96, 172, 124, 90, 95, 85, 51, 137, 57, 98, 91, 88, 69, 120, 98, 98, 73, 66, 62, 56, 118, 110, 114, 112, 105, 92, 117, 137, 84, 52, 96, 112, 90, 106, 106, 116, 97, 100, 127, 96, 88, 45, 8, 101, 12, 69, 88, 91, 103, 88, 75, 90, 90, 97, 67, 112, 102, 114, 107, 110, 14, 78, 80, 108, 67, 40, 81, 120, 101, 114, 95, 90, 45, 99, 93, 82, 96, 96, 59, 58, 102, 107, 156, 82, 118, 133, 153, 135, 117, 103, 93, 82, 115, 151, 103, 117, 64, 100, 81, 70, 52, 161, 97, 55, 78, 103, 108, 75, 113, 98, 100, 91, 93, 81, 90, 113, 97, 104, 116, 121, 112, 66, 85, 84, 77, 97, 73, 107, 91, 76, 81, 110, 90, 94, 78, 97, 86, 86, 94, 83, 43, 100, 92, 149, 93, 91, 88, 100, 94, 111, 71, 53, 101, 146, 93, 107, 156, 82, 137, 79, 92, 128, 101, 102, 102, 96, 62, 56, 99, 83, 140, 62, 70, 66, 74, 50, 69, 94, 88, 76, 107, 90, 79, 136, 99, 97, 88, 137, 87, 108, 94, 123, 128, 157, 114, 127, 127, 102, 124, 132, 113, 93, 113, 96, 90, 133, 90, 69, 23, 23, 165, 185, 174, 176, 166, 145, 109, 118, 154, 115, 90, 108, 134, 107, 111, 87, 112, 107, 95, 165, 91, 106, 121, 200, 93, 118, 120, 90, 99, 90, 107, 89, 169, 148, 83, 96, 99, 95, 88, 94, 115, 113, 93, 93, 92, 98, 65, 127, 105, 97, 114, 134, 142, 105, 105, 110, 94, 104, 126, 94, 69, 82, 86, 86, 103, 94, 103, 97, 84, 98, 97, 68, 27, 46, 46, 46, 42, 92, 109, 46, 89, 92, 162, 119, 99, 97, 100, 102, 94, 92, 97, 93, 162, 85, 110, 170, 165, 141, 88, 52, 90, 81, 91, 107, 106, 92, 140, 127, 82, 98, 69, 90, 92, 103, 80, 65, 133, 153, 100, 109, 102, 124, 105, 120, 134, 151, 141, 120, 106, 109, 105, 89, 123, 119, 85, 82, 52, 106, 48, 73, 122, 74, 95, 73, 79, 94, 143, 81, 196, 84, 28, 27, 98, 119, 90, 109, 93, 92, 49, 90, 102, 82, 128, 90, 74, 94, 87, 108, 151, 40, 109, 91, 163, 66, 93, 124, 85, 59, 103, 105, 102, 107, 52, 81, 99, 69, 88, 120, 95, 100, 91, 110, 124, 96, 69, 91, 96, 103, 102, 96, 98, 133, 124, 127, 102, 134, 108, 133, 103, 58, 79, 101, 78, 96, 103, 81, 95, 117, 110, 25, 108, 99, 106, 103, 92, 90, 60, 89, 54, 106, 61, 150, 80, 124, 98, 82, 99, 92, 29, 109, 91, 33, 102, 114, 146, 94, 75, 158, 61, 90, 72, 95, 100, 97, 118, 92, 70, 110, 58, 91, 60, 86, 91, 63, 133, 103, 117, 181, 118, 101, 204, 29, 92, 94, 118, 98, 90, 93, 125, 106, 114, 40, 83, 117, 99, 60, 60, 91, 96, 102, 90, 123, 103, 137, 90, 112, 49, 61, 78, 124, 60, 104, 83, 163, 119, 74, 102, 83, 88, 86, 66, 90, 134, 92, 145, 105, 95, 93, 93, 84, 112, 93, 81, 98, 123, 132, 74, 87, 105, 109, 96, 61, 88, 125, 118, 113, 100, 79, 86, 61, 54, 66, 87, 70, 32, 85, 91, 105, 93, 65, 115, 91, 58, 51, 139, 112, 135, 99, 103, 116, 72, 86, 104, 97, 92, 161, 104, 93, 35, 93, 99, 106, 47, 52, 97, 85, 135, 75, 110, 88, 91, 134, 82, 87, 106, 109, 97, 88, 98, 110, 88, 123, 104, 128, 91, 132, 88, 58, 57, 126, 101, 108, 111, 135, 96, 98, 98, 98, 102, 86, 148, 167, 96, 109, 70, 78, 79, 78, 62, 96, 95, 126, 97, 107, 118, 130, 154, 90, 107, 95, 96, 52, 87, 103, 109, 98, 101, 103, 110, 104, 85, 101, 129, 163, 100, 78, 58, 47, 110, 145, 58, 56, 22, 95, 161, 141, 115, 101, 96, 68, 58, 90, 126, 106, 92, 103, 82, 71, 121, 77, 91, 77, 86, 103, 42, 60, 111, 103, 129, 113, 106, 105, 101, 91, 88, 137, 22, 130, 89, 110, 112, 135, 148, 100, 101, 96, 115, 96, 90, 103, 75, 99, 99, 93, 90, 90, 101, 145, 95, 92, 102, 90, 144, 137, 98, 109, 150, 117, 93, 96, 133, 71, 80, 57, 98, 110, 131, 95, 102, 66, 65, 114, 96, 97, 106, 82, 78, 67, 84, 95, 120, 149, 126, 90, 143, 113, 106, 155, 57, 121, 91, 100, 101, 137, 138, 125, 95, 154, 106, 116, 116, 97, 93, 129, 111, 117, 65, 158, 110, 108, 79, 95, 81, 99, 86, 73, 70, 68, 86, 138, 110, 78, 127, 129, 91, 179, 113, 79, 105, 93, 98, 94, 79, 96, 67, 99, 62, 55, 101, 88, 95, 87, 83, 90, 100, 73, 135, 151, 109, 109, 89, 99, 86, 86, 85, 129, 98, 93, 111, 58, 95, 89, 97, 89, 90, 104, 119, 92, 107, 124, 87, 91, 94, 118, 86, 102, 122, 126, 117, 65, 118, 126, 87, 156, 97, 96, 89, 97, 40, 143, 81, 88, 87, 96, 104, 129, 124, 118, 111, 125, 120, 91, 137, 104, 80, 127, 141, 117, 140, 95, 93, 97, 118, 100, 118, 150, 44, 54, 170, 118, 126, 128, 104, 105, 86, 94, 106, 92, 108, 89, 95, 103, 92, 102, 126, 87, 138, 73, 84, 111, 100, 119, 94, 86, 142, 95, 95, 80, 79, 81, 120, 61, 85, 104, 96, 91, 134, 93, 120, 83, 82, 88, 102, 101, 96, 97, 105, 101, 86, 88, 84, 89, 113, 110, 105, 116, 94, 110, 104, 116, 47, 102, 51, 143, 103, 104, 127, 83, 193, 176, 95, 149, 131, 79, 101, 97, 89, 91, 140, 85, 85, 150, 82, 117, 84, 106, 107, 90, 98, 82, 87, 54, 102, 114, 99, 139, 94, 88, 89, 93, 82, 117, 91, 91, 97, 89, 106, 116, 128, 81, 88, 80, 100, 96, 80, 67, 119, 75, 112, 135, 110, 94, 91, 121, 108, 104, 124, 13, 87, 128, 78, 72, 72, 78, 75, 140, 108, 97, 103, 95, 86, 104, 101, 94, 98, 114, 99, 94, 103, 89, 99, 116, 102, 129, 87, 148, 103, 89, 119, 106, 90, 118, 95, 101, 123, 127, 116, 119, 99, 90, 90, 153, 122, 109, 125, 106, 141, 106, 103, 122, 87, 116, 45, 102, 107, 148, 116, 88, 99, 100, 99, 72, 134, 87, 91, 88, 96, 107, 108, 105, 105, 127, 137, 77, 108, 71, 93, 96, 99, 102, 129, 130, 115, 113, 88, 98, 140, 92, 127, 127, 101, 101, 112, 91, 84, 105, 88, 141, 68, 162, 163, 147, 142, 143, 93, 86, 68, 65, 58, 154, 44, 92, 90, 124, 91, 76, 155, 101, 132, 92, 22, 132, 94, 132, 94, 77, 107, 103, 142, 128, 105, 97, 90, 84, 69, 58, 97, 80, 71, 71, 85, 75, 59, 119, 78, 69, 67, 103, 109, 62, 61, 81, 69, 134, 80, 53, 84, 86, 44, 131, 94, 72, 74, 71, 77, 70, 77, 87, 67, 71, 62, 102, 62, 58, 83, 135, 124, 69, 79, 181, 60, 55, 63, 128, 98, 69, 78, 214, 90, 67, 64, 64, 79, 90, 133, 125, 92, 90, 80, 70, 65, 60, 62, 17, 98, 96, 97, 101, 135, 75, 79, 99, 101, 90, 84, 70, 137, 133, 145, 91, 52, 123, 113, 107, 128, 101, 104, 94, 96, 107, 92, 95, 106, 90, 106, 138, 110, 100, 139, 130, 132, 133, 126, 91, 173, 105, 148, 192, 151, 209, 171, 120, 122, 85, 120, 113, 187, 154, 99, 80, 105, 41, 107, 128, 104, 93, 110, 160, 138, 112, 101, 110, 107, 65, 135, 118, 137, 117, 65, 118, 86, 140, 66, 64, 71, 89, 60, 61, 85, 45, 132, 53, 116, 133, 116, 82, 62, 68, 62, 60, 89, 75, 67, 96, 70, 63, 62, 42, 90, 170, 151, 121, 132, 124, 120, 157, 124, 110, 90, 97, 108, 95, 90, 102, 111, 137, 100, 53, 100, 87, 106, 112, 107, 87, 86, 100, 80, 97, 103, 109, 81, 182, 88, 98, 110, 114, 87, 132, 101, 145, 93, 116, 85, 84, 92, 98, 88, 99, 63, 121, 104, 104, 105, 135, 56, 107, 95, 96, 115, 117, 58, 62, 65, 61, 65, 65, 58, 60, 81, 126, 124, 85, 114, 93, 136, 185, 126, 99, 79, 26, 23, 107, 106, 133, 147, 95, 100, 149, 165, 124, 52, 150, 165, 84, 104, 114, 109, 88, 50, 87, 92, 143, 116, 112, 40, 94, 101, 104, 110, 111, 83, 101, 224, 118, 111, 185, 153, 145, 82, 140, 87, 68, 86, 86, 76, 115, 93, 98, 83, 81, 116, 105, 99, 121, 54, 78, 100, 89, 37, 33, 35, 32, 147, 132, 110, 132, 97, 108, 101, 68, 100, 22, 48, 25, 22, 22, 22, 44, 22, 111, 109, 78, 103, 158, 66, 24, 144, 93, 58, 116, 113, 90, 68, 104, 86, 118, 99, 89, 126, 83, 109, 80, 40, 109, 84, 104, 105, 99, 104, 105, 116, 94, 85, 59, 150, 109, 94, 111, 95, 59, 103, 116, 58, 89, 92, 95, 23, 25, 85, 20, 102, 90, 68, 67, 66, 70, 66, 68, 69, 91, 102, 149, 87, 98, 94, 90, 233, 108, 85, 105, 95, 103, 89, 118, 114, 153, 106, 96, 68, 40, 96, 117, 88, 116, 155, 28, 71, 88, 64, 92, 93, 95, 86, 92, 74, 84, 66, 140, 110, 106, 98, 101, 96, 103, 105, 93, 111, 94, 109, 87, 163, 103, 120, 93, 133, 77, 97, 101, 111, 115, 91, 103, 95, 92, 84, 82, 124, 77, 91, 79, 112, 113, 50, 81, 81, 87, 71, 98, 66, 102, 156, 113, 144, 131, 150, 125, 100, 110, 100, 121, 129, 51, 117, 94, 32, 107, 76, 118, 108, 101, 93, 99, 84, 102, 134, 91, 78, 128, 141, 128, 95, 73, 110, 143, 189, 75, 119, 56, 134, 92, 109, 171, 129, 137, 192, 33, 21, 106, 132, 133, 131, 51, 89, 70, 71, 91, 131, 101, 105, 88, 155, 103, 97, 92, 98, 109, 110, 136, 133, 152, 173, 89, 129, 162, 112, 85, 114, 75, 89, 177, 93, 112, 99, 107, 71, 95, 70, 73, 29, 90, 64, 50, 38, 69, 29, 67, 94, 135, 137, 90, 104, 55, 62, 83, 77, 74, 75, 72, 103, 120, 131, 100, 95, 112, 138, 143, 108, 91, 80, 94, 132, 57, 136, 63, 84, 111, 99, 93, 114, 122, 120, 100, 67, 132, 83, 54, 105, 98, 112, 94, 90, 75, 48, 150, 126, 110, 84, 118, 97, 86, 98, 88, 101, 82, 81, 112, 88, 99, 79, 88, 88, 103, 115, 115, 106, 162, 103, 93, 116, 100, 95, 102, 105, 148, 105, 86, 54, 61, 19, 63, 59, 60, 113, 92, 87, 112, 26, 97, 76, 71, 86, 56, 60, 63, 124, 94, 100, 115, 102, 128, 99, 88, 106, 83, 78, 128, 136, 132, 129, 98, 62, 106, 129, 120, 81, 82, 85, 90, 136, 89, 130, 85, 90, 94, 86, 102, 94, 100, 119, 107, 93, 109, 93, 57, 64, 54, 109, 96, 92, 168, 93, 100, 141, 139, 92, 119, 84, 57, 96, 122, 83, 117, 93, 73, 72, 72, 46, 74, 46, 46, 74, 71, 72, 76, 23, 60, 46, 91, 81, 101, 119, 92, 55, 137, 56, 58, 80, 94, 94, 97, 111, 96, 135, 91, 84, 121, 61, 83, 103, 127, 132, 117, 109, 74, 94, 105, 131, 105, 97, 102, 93, 97, 96, 97, 91, 86, 88, 107, 90, 153, 96, 104, 96, 136, 131, 135, 150, 98, 158, 163, 98, 77, 107, 116, 135, 104, 139, 85, 110, 172, 128, 134, 98, 79, 97, 102, 106, 86, 127, 94, 185, 136, 105, 80, 84, 97, 92, 116, 95, 99, 77, 121, 91, 100, 91, 102, 119, 115, 100, 68, 44, 72, 73, 73, 44, 44, 115, 61, 86, 104, 82, 92, 90, 99, 109, 93, 100, 107, 95, 111, 86, 111, 108, 101, 99, 100, 99, 104, 138, 88, 122, 141, 147, 92, 73, 85, 97, 91, 171, 130, 80, 101, 91, 99, 93, 96, 102, 95, 85, 97, 95, 83, 115, 72, 69, 76, 60, 51, 61, 114, 92, 82, 42, 131, 165, 91, 101, 53, 121, 59, 110, 66, 137, 103, 132, 108, 108, 89, 107, 91, 117, 84, 96, 117, 106, 124, 104, 87, 113, 93, 59, 118, 97, 64, 94, 115, 99, 107, 102, 125, 208, 161, 116, 106, 237, 131, 102, 103, 104, 109, 92, 103, 96, 117, 61, 89, 92, 90, 91, 50, 84, 87, 94, 133, 97, 53, 113, 53, 54, 53, 54, 113, 53, 53, 53, 54, 54, 52, 54, 54, 53, 53, 53, 113, 53, 86, 102, 114, 99, 55, 91, 117, 124, 102, 122, 84, 84, 120, 127, 122, 125, 72, 47, 23, 23, 121, 107, 140, 91, 89, 154, 103, 103, 106, 129, 102, 109, 157, 146, 146, 110, 121, 96, 102, 96, 82, 119, 169, 101, 97, 116, 100, 89, 92, 107, 95, 101, 78, 79, 86, 70, 66, 73, 83, 72, 111, 133, 142, 166, 160, 135, 135, 128, 120, 92, 87, 70, 31, 92, 89, 102, 93, 95, 86, 90, 97, 90, 88, 76, 86, 84, 99, 96, 111, 124, 93, 139, 91, 86, 61, 95, 107, 87, 104, 122, 97, 101, 96, 103, 88, 93, 90, 90, 92, 63, 103, 103, 94, 35, 85, 122, 102, 110, 116, 100, 105, 100, 118, 105, 117, 126, 129, 89, 82, 44, 71, 74, 130, 89, 106, 107, 134, 82, 82, 98, 96, 108, 106, 91, 163, 119, 125, 137, 112, 171, 69, 87, 137, 89, 94, 111, 74, 86, 93, 93, 106, 187, 109, 116, 77, 84, 63, 124, 72, 33, 115, 84, 140, 68, 90, 94, 117, 105, 66, 66, 91, 104, 110, 114, 73, 85, 112, 90, 48, 109, 98, 134, 95, 125, 89, 89, 92, 108, 102, 76, 104, 72, 109, 26, 105, 50, 92, 95, 93, 170, 170, 82, 108, 129, 85, 126, 159, 150, 118, 125, 112, 138, 96, 81, 108, 128, 81, 81, 90, 92, 112, 130, 65, 124, 127, 102, 81, 146, 133, 91, 81, 108, 120, 162, 106, 149, 92, 65, 28, 19, 25, 22, 40, 22, 24, 87, 97, 98, 98, 119, 88, 122, 88, 96, 114, 77, 98, 102, 138, 90, 128, 104, 86, 124, 24, 46, 24, 55, 24, 23, 24, 24, 106, 117, 52, 164, 127, 86, 84, 95, 131, 152, 93, 29, 97, 100, 124, 163, 84, 103, 92, 113, 88, 83, 100, 143, 102, 82, 165, 119, 154, 158, 92, 93, 87, 91, 120, 89, 24, 92, 149, 136, 120, 153, 96, 120, 161, 137, 57, 106, 98, 138, 128, 125, 93, 120, 124, 132, 98, 162, 150, 85, 155, 139, 99, 113, 71, 90, 83, 103, 143, 64, 63, 129, 93, 113, 117, 93, 124, 134, 119, 92, 97, 88, 177, 131, 119, 104, 116, 113, 69, 83, 32, 142, 178, 133, 90, 154, 100, 122, 115, 159, 110, 153, 126, 76, 88, 86, 104, 59, 230, 99, 144, 98, 46, 46, 127, 123, 111, 101, 73, 90, 81, 114, 112, 80, 100, 24, 100, 62, 116, 96, 49, 65, 84, 71, 74, 59, 59, 57, 88, 95, 112, 112, 152, 97, 97, 90, 94, 105, 28, 102, 124, 97, 118, 95, 92, 102, 100, 87, 120, 84, 66, 92, 31, 59, 59, 105, 79, 79, 99, 81, 91, 101, 99, 103, 88, 87, 132, 83, 101, 95, 107, 107, 105, 118, 87, 94, 73, 136, 96, 97, 44, 45, 92, 103, 110, 139, 46, 120, 119, 119, 100, 92, 104, 66, 53, 93, 116, 103, 104, 98, 80, 90, 79, 142, 135, 124, 110, 105, 141, 122, 75, 63, 93, 63, 118, 89, 26, 42, 62, 90, 66, 119, 137, 121, 137, 100, 143, 79, 103, 92, 89, 97, 134, 116, 110, 88, 115, 107, 63, 69, 93, 73, 72, 108, 141, 57, 82, 95, 117, 107, 131, 172, 118, 118, 128, 114, 91, 83, 105, 94, 137, 61, 86, 86, 118, 139, 173, 90, 152, 134, 194, 76, 99, 64, 50, 49, 71, 29, 110, 116, 119, 107, 83, 109, 65, 32, 122, 113, 88, 131, 228, 159, 111, 86, 91, 44, 72, 107, 87, 117, 50, 71, 102, 98, 140, 145, 126, 162, 131, 131, 133, 127, 141, 78, 150, 92, 153, 83, 146, 52, 95, 93, 53, 73, 126, 95, 119, 99, 173, 93, 93, 121, 88, 88, 195, 120, 112, 94, 77, 102, 112, 121, 117, 105, 96, 90, 93, 110, 86, 95, 49, 65, 76, 63, 101, 111, 98, 150, 108, 54, 54, 54, 55, 54, 55, 55, 114, 55, 55, 55, 92, 87, 96, 126, 117, 87, 102, 106, 109, 110, 69, 119, 115, 108, 106, 96, 85, 61, 70, 103, 123, 111, 116, 107, 94, 123, 128, 100, 102, 146, 145, 103, 109, 111, 100, 125, 111, 146, 116, 115, 126, 168, 109, 107, 148, 92, 91, 86, 28, 135, 83, 87, 71, 105, 113, 105, 111, 119, 112, 106, 128, 163, 121, 87, 103, 97, 168, 131, 116, 45, 75, 71, 106, 122, 97, 101, 89, 121, 98, 130, 127, 115, 96, 86, 95, 93, 89, 119, 105, 106, 141, 88, 3, 94, 77, 133, 122, 52, 105, 72, 101, 136, 158, 143, 142, 127, 92, 97, 87, 83, 88, 95, 105, 16, 76, 96, 78, 107, 80, 100, 93, 49, 94, 99, 101, 89, 135, 107, 115, 84, 95, 110, 92, 95, 66, 123, 83, 86, 89, 134, 126, 108, 137, 87, 142, 80, 62, 160, 5, 155, 91, 94, 135, 135, 104, 97, 92, 87, 128, 101, 77, 93, 109, 110, 97, 73, 131, 116, 88, 106, 94, 85, 130, 107, 98, 94, 137, 101, 108, 96, 75, 83, 111, 75, 139, 117, 79, 46, 95, 92, 29, 45, 47, 129, 94, 153, 112, 88, 100, 83, 88, 93, 140, 103, 88, 86, 88, 152, 33, 128, 106, 69, 101, 128, 94, 52, 23, 140, 98, 89, 108, 86, 91, 122, 74, 106, 100, 61, 91, 113, 100, 132, 96, 96, 96, 91, 113, 76, 127, 96, 104, 95, 85, 106, 117, 108, 123, 105, 85, 78, 97, 99, 95, 42, 95, 135, 130, 115, 107, 44, 114, 107, 93, 94, 94, 113, 74, 85, 63, 104, 176, 28, 24, 59, 24, 25, 25, 24, 25, 24, 127, 113, 91, 108, 154, 82, 140, 137, 98, 86, 121, 119, 85, 103, 86, 92, 126, 123, 185, 123, 75, 112, 116, 93, 83, 94, 97, 108, 101, 99, 104, 120, 177, 162, 95, 84, 97, 80, 109, 88, 107, 140, 120, 110, 103, 112, 111, 133, 102, 124, 114, 148, 110, 91, 81, 116, 89, 72, 112, 101, 98, 81, 114, 125, 61, 48, 128, 81, 91, 121, 103, 155, 119, 137, 89, 87, 88, 94, 125, 86, 67, 78, 108, 102, 127, 93, 109, 115, 98, 84, 133, 121, 156, 135, 135, 148, 131, 91, 108, 130, 100, 93, 108, 117, 117, 95, 104, 78, 87, 88, 93, 107, 99, 94, 90, 140, 105, 91, 98, 113, 89, 114, 97, 97, 108, 80, 79, 64, 101, 115, 90, 117, 101, 95, 86, 94, 76, 85, 102, 100, 119, 87, 101, 133, 112, 102, 83, 89, 80, 18, 112, 100, 110, 96, 92, 63, 72, 93, 91, 73, 98, 118, 121, 95, 95, 116, 98, 101, 86, 99, 91, 130, 90, 101, 106, 59, 118, 120, 115, 98, 111, 116, 97, 95, 86, 114, 122, 28, 103, 122, 95, 93, 107, 82, 118, 119, 88, 102, 119, 97, 96, 103, 81, 118, 96, 106, 93, 109, 112, 112, 96, 89, 60, 113, 126, 109, 93, 101, 111, 107, 100, 104, 115, 92, 103, 90, 17, 105, 102, 103, 118, 105, 103, 95, 101, 123, 112, 114, 101, 53, 81, 100, 99, 102, 66, 112, 83, 101, 149, 99, 105, 120, 93, 121, 75, 92, 95, 100, 93, 124, 106, 154, 107, 96, 97, 83, 67, 151, 78, 85, 139, 69, 84, 88, 110, 86, 108, 104, 102, 113, 109, 106, 117, 121, 99, 139, 110, 104, 95, 122, 105, 96, 130, 97, 87, 106, 112, 148, 85, 107, 76, 103, 112, 95, 88, 116, 121, 82, 107, 87, 46, 103, 97, 91, 91, 111, 101, 104, 92, 113, 93, 151, 89, 124, 115, 84, 106, 97, 92, 86, 46, 124, 83, 100, 107, 115, 104, 101, 158, 95, 97, 97, 89, 161, 205, 123, 190, 108, 136, 161, 114, 128, 133, 119, 101, 86, 124, 105, 91, 94, 168, 136, 94, 85, 108, 101, 116, 71, 147, 88, 99, 96, 132, 85, 95, 97, 92, 135, 36, 79, 120, 53, 94, 111, 123, 103, 111, 123, 114, 100, 84, 75, 118, 96, 102, 108, 99, 103, 93, 101, 112, 99, 129, 106, 100, 209, 24, 105, 93, 112, 52, 106, 123, 90, 140, 95, 100, 121, 97, 141, 118, 105, 133, 76, 93, 98, 86, 130, 113, 98, 84, 91, 104, 133, 105, 149, 93, 88, 131, 44, 119, 99, 96, 70, 107, 83, 110, 116, 88, 95, 96, 101, 83, 121, 87, 156, 87, 118, 30, 95, 107, 96, 110, 118, 89, 85, 107, 86, 83, 108, 138, 119, 93, 30, 91, 87, 121, 95, 103, 201, 179, 113, 110, 94, 127, 87, 87, 98, 98, 82, 85, 90, 46, 46, 46, 103, 137, 68, 107, 100, 195, 98, 138, 40, 137, 97, 136, 138, 129, 90, 116, 130, 60, 88, 40, 94, 113, 98, 119, 91, 95, 54, 86, 132, 44, 104, 91, 70, 102, 93, 92, 114, 104, 115, 85, 85, 138, 40, 59, 82, 107, 104, 90, 121, 90, 85, 99, 104, 126, 97, 91, 106, 95, 111, 106, 108, 84, 122, 111, 94, 123, 86, 95, 108, 94, 94, 87, 124, 141, 91, 93, 143, 148, 91, 103, 141, 110, 155, 93, 78, 118, 88, 89, 140, 94, 124, 110, 89, 100, 94, 96, 116, 92, 91, 111, 98, 102, 97, 125, 125, 132, 133, 76, 117, 90, 66, 105, 119, 136, 52, 81, 77, 108, 130, 120, 102, 116, 67, 90, 100, 123, 90, 120, 92, 93, 116, 107, 95, 87, 111, 14, 101, 91, 105, 103, 103, 90, 81, 120, 107, 90, 47, 111, 94, 92, 92, 99, 253, 124, 111, 32, 98, 86, 105, 100, 104, 123, 100, 105, 85, 108, 97, 97, 91, 96, 93, 122, 90, 163, 110, 143, 104, 103, 105, 94, 121, 93, 120, 95, 41, 97, 84, 46, 94, 94, 105, 81, 103, 122, 98, 90, 111, 97, 91, 89, 115, 98, 92, 106, 139, 81, 83, 123, 96, 118, 110, 94, 58, 96, 107, 97, 103, 24, 91, 136, 130, 91, 104, 94, 108, 91, 58, 99, 106, 126, 96, 93, 106, 103, 130, 91, 115, 91, 92, 103, 72, 138, 98, 125, 93, 111, 112, 90, 101, 101, 98, 111, 117, 41, 92, 117, 92, 88, 126, 157, 116, 47, 100, 114, 128, 101, 108, 53, 99, 89, 90, 111, 83, 85, 135, 94, 104, 132, 89, 97, 67, 86, 158, 72, 110, 98, 99, 82, 180, 107, 77, 123, 23, 23, 23, 122, 131, 77, 125, 125, 139, 88, 107, 96, 87, 104, 133, 93, 42, 56, 66, 92, 58, 130, 91, 108, 151, 30, 30, 146, 127, 98, 125, 96, 135, 88, 99, 78, 97, 100, 102, 81, 84, 88, 95, 108, 108, 96, 61, 63, 46, 78, 86, 176, 145, 89, 98, 60, 57, 60, 70, 74, 71, 74, 63, 119, 99, 117, 106, 94, 108, 87, 133, 106, 104, 94, 114, 107, 94, 59, 130, 89, 81, 102, 74, 47, 95, 46, 88, 118, 94, 114, 83, 119, 79, 114, 94, 111, 85, 88, 82, 82, 96, 100, 104, 101, 99, 98, 102, 100, 67, 64, 96, 134, 173, 113, 115, 126, 96, 93, 91, 27, 110, 90, 128, 128, 98, 108, 24, 24, 24, 24, 24, 46, 24, 124, 88, 125, 89, 162, 128, 72, 90, 123, 76, 96, 107, 102, 53, 110, 102, 86, 89, 117, 80, 95, 78, 90, 121, 99, 137, 146, 125, 115, 143, 109, 137, 96, 114, 94, 90, 104, 190, 100, 109, 116, 92, 95, 104, 98, 135, 113, 40, 94, 87, 102, 84, 108, 85, 94, 61, 85, 121, 94, 83, 114, 92, 105, 113, 97, 97, 83, 95, 93, 86, 110, 99, 106, 112, 116, 121, 62, 119, 95, 130, 119, 132, 86, 145, 90, 144, 106, 117, 130, 78, 113, 82, 81, 105, 126, 127, 109, 156, 106, 93, 110, 91, 113, 97, 115, 101, 91, 66, 76, 68, 50, 127, 100, 29, 125, 116, 166, 106, 106, 113, 93, 96, 99, 66, 119, 115, 130, 120, 93, 94, 111, 94, 132, 109, 81, 94, 100, 96, 90, 66, 95, 103, 61, 109, 147, 123, 98, 73, 92, 128, 93, 78, 68, 98, 74, 119, 109, 86, 123, 96, 83, 101, 95, 91, 90, 93, 38, 106, 94, 89, 91, 94, 72, 94, 95, 149, 124, 99, 73, 108, 131, 80, 84, 135, 106, 81, 93, 96, 105, 102, 92, 98, 17, 124, 102, 103, 99, 130, 52, 91, 87, 96, 92, 140, 96, 93, 32, 118, 110, 95, 203, 82, 107, 96, 75, 109, 103, 97, 89, 86, 97, 69, 98, 98, 93, 89, 120, 88, 90, 91, 59, 48, 78, 94, 90, 102, 50, 84, 126, 82, 98, 86, 106, 105, 93, 105, 72, 100, 89, 100, 104, 85, 86, 99, 100, 108, 106, 108, 93, 102, 74, 80, 92, 93, 109, 132, 69, 101, 97, 91, 94, 147, 129, 49, 93, 133, 140, 45, 68, 191, 135, 105, 92, 91, 81, 124, 101, 106, 137, 15, 171, 148, 132, 147, 151, 97, 117, 95, 90, 104, 111, 112, 107, 78, 96, 88, 78, 54, 63, 93, 87, 85, 157, 116, 113, 89, 107, 117, 112, 94, 81, 120, 115, 103, 72, 88, 98, 115, 130, 160, 61, 101, 109, 92, 131, 120, 159, 89, 126, 154, 96, 12, 105, 89, 158, 104, 88, 94, 88, 99, 111, 44, 90], \"xaxis\": \"x\", \"yaxis\": \"y\"}],\n",
       "                        {\"barmode\": \"relative\", \"legend\": {\"title\": {\"text\": \"variable\"}, \"tracegroupgap\": 0}, \"template\": {\"data\": {\"bar\": [{\"error_x\": {\"color\": \"#2a3f5f\"}, \"error_y\": {\"color\": \"#2a3f5f\"}, \"marker\": {\"line\": {\"color\": \"#E5ECF6\", \"width\": 0.5}}, \"type\": \"bar\"}], \"barpolar\": [{\"marker\": {\"line\": {\"color\": \"#E5ECF6\", \"width\": 0.5}}, \"type\": \"barpolar\"}], \"carpet\": [{\"aaxis\": {\"endlinecolor\": \"#2a3f5f\", \"gridcolor\": \"white\", \"linecolor\": \"white\", \"minorgridcolor\": \"white\", \"startlinecolor\": \"#2a3f5f\"}, \"baxis\": {\"endlinecolor\": \"#2a3f5f\", \"gridcolor\": \"white\", \"linecolor\": \"white\", \"minorgridcolor\": \"white\", \"startlinecolor\": \"#2a3f5f\"}, \"type\": \"carpet\"}], \"choropleth\": [{\"colorbar\": {\"outlinewidth\": 0, \"ticks\": \"\"}, \"type\": \"choropleth\"}], \"contour\": [{\"colorbar\": {\"outlinewidth\": 0, \"ticks\": \"\"}, \"colorscale\": [[0.0, \"#0d0887\"], [0.1111111111111111, \"#46039f\"], [0.2222222222222222, \"#7201a8\"], [0.3333333333333333, \"#9c179e\"], [0.4444444444444444, \"#bd3786\"], [0.5555555555555556, \"#d8576b\"], [0.6666666666666666, \"#ed7953\"], [0.7777777777777778, \"#fb9f3a\"], [0.8888888888888888, \"#fdca26\"], [1.0, \"#f0f921\"]], \"type\": \"contour\"}], \"contourcarpet\": [{\"colorbar\": {\"outlinewidth\": 0, \"ticks\": \"\"}, \"type\": \"contourcarpet\"}], \"heatmap\": [{\"colorbar\": {\"outlinewidth\": 0, \"ticks\": \"\"}, \"colorscale\": [[0.0, \"#0d0887\"], [0.1111111111111111, \"#46039f\"], [0.2222222222222222, \"#7201a8\"], [0.3333333333333333, \"#9c179e\"], [0.4444444444444444, \"#bd3786\"], [0.5555555555555556, \"#d8576b\"], [0.6666666666666666, \"#ed7953\"], [0.7777777777777778, \"#fb9f3a\"], [0.8888888888888888, \"#fdca26\"], [1.0, \"#f0f921\"]], \"type\": \"heatmap\"}], \"heatmapgl\": [{\"colorbar\": {\"outlinewidth\": 0, \"ticks\": \"\"}, \"colorscale\": [[0.0, \"#0d0887\"], [0.1111111111111111, \"#46039f\"], [0.2222222222222222, \"#7201a8\"], [0.3333333333333333, \"#9c179e\"], [0.4444444444444444, \"#bd3786\"], [0.5555555555555556, \"#d8576b\"], [0.6666666666666666, \"#ed7953\"], [0.7777777777777778, \"#fb9f3a\"], [0.8888888888888888, \"#fdca26\"], [1.0, \"#f0f921\"]], \"type\": \"heatmapgl\"}], \"histogram\": [{\"marker\": {\"colorbar\": {\"outlinewidth\": 0, \"ticks\": \"\"}}, \"type\": \"histogram\"}], \"histogram2d\": [{\"colorbar\": {\"outlinewidth\": 0, \"ticks\": \"\"}, \"colorscale\": [[0.0, \"#0d0887\"], [0.1111111111111111, \"#46039f\"], [0.2222222222222222, \"#7201a8\"], [0.3333333333333333, \"#9c179e\"], [0.4444444444444444, \"#bd3786\"], [0.5555555555555556, \"#d8576b\"], [0.6666666666666666, \"#ed7953\"], [0.7777777777777778, \"#fb9f3a\"], [0.8888888888888888, \"#fdca26\"], [1.0, \"#f0f921\"]], \"type\": \"histogram2d\"}], \"histogram2dcontour\": [{\"colorbar\": {\"outlinewidth\": 0, \"ticks\": \"\"}, \"colorscale\": [[0.0, \"#0d0887\"], [0.1111111111111111, \"#46039f\"], [0.2222222222222222, \"#7201a8\"], [0.3333333333333333, \"#9c179e\"], [0.4444444444444444, \"#bd3786\"], [0.5555555555555556, \"#d8576b\"], [0.6666666666666666, \"#ed7953\"], [0.7777777777777778, \"#fb9f3a\"], [0.8888888888888888, \"#fdca26\"], [1.0, \"#f0f921\"]], \"type\": \"histogram2dcontour\"}], \"mesh3d\": [{\"colorbar\": {\"outlinewidth\": 0, \"ticks\": \"\"}, \"type\": \"mesh3d\"}], \"parcoords\": [{\"line\": {\"colorbar\": {\"outlinewidth\": 0, \"ticks\": \"\"}}, \"type\": \"parcoords\"}], \"pie\": [{\"automargin\": true, \"type\": \"pie\"}], \"scatter\": [{\"marker\": {\"colorbar\": {\"outlinewidth\": 0, \"ticks\": \"\"}}, \"type\": \"scatter\"}], \"scatter3d\": [{\"line\": {\"colorbar\": {\"outlinewidth\": 0, \"ticks\": \"\"}}, \"marker\": {\"colorbar\": {\"outlinewidth\": 0, \"ticks\": \"\"}}, \"type\": \"scatter3d\"}], \"scattercarpet\": [{\"marker\": {\"colorbar\": {\"outlinewidth\": 0, \"ticks\": \"\"}}, \"type\": \"scattercarpet\"}], \"scattergeo\": [{\"marker\": {\"colorbar\": {\"outlinewidth\": 0, \"ticks\": \"\"}}, \"type\": \"scattergeo\"}], \"scattergl\": [{\"marker\": {\"colorbar\": {\"outlinewidth\": 0, \"ticks\": \"\"}}, \"type\": \"scattergl\"}], \"scattermapbox\": [{\"marker\": {\"colorbar\": {\"outlinewidth\": 0, \"ticks\": \"\"}}, \"type\": \"scattermapbox\"}], \"scatterpolar\": [{\"marker\": {\"colorbar\": {\"outlinewidth\": 0, \"ticks\": \"\"}}, \"type\": \"scatterpolar\"}], \"scatterpolargl\": [{\"marker\": {\"colorbar\": {\"outlinewidth\": 0, \"ticks\": \"\"}}, \"type\": \"scatterpolargl\"}], \"scatterternary\": [{\"marker\": {\"colorbar\": {\"outlinewidth\": 0, \"ticks\": \"\"}}, \"type\": \"scatterternary\"}], \"surface\": [{\"colorbar\": {\"outlinewidth\": 0, \"ticks\": \"\"}, \"colorscale\": [[0.0, \"#0d0887\"], [0.1111111111111111, \"#46039f\"], [0.2222222222222222, \"#7201a8\"], [0.3333333333333333, \"#9c179e\"], [0.4444444444444444, \"#bd3786\"], [0.5555555555555556, \"#d8576b\"], [0.6666666666666666, \"#ed7953\"], [0.7777777777777778, \"#fb9f3a\"], [0.8888888888888888, \"#fdca26\"], [1.0, \"#f0f921\"]], \"type\": \"surface\"}], \"table\": [{\"cells\": {\"fill\": {\"color\": \"#EBF0F8\"}, \"line\": {\"color\": \"white\"}}, \"header\": {\"fill\": {\"color\": \"#C8D4E3\"}, \"line\": {\"color\": \"white\"}}, \"type\": \"table\"}]}, \"layout\": {\"annotationdefaults\": {\"arrowcolor\": \"#2a3f5f\", \"arrowhead\": 0, \"arrowwidth\": 1}, \"coloraxis\": {\"colorbar\": {\"outlinewidth\": 0, \"ticks\": \"\"}}, \"colorscale\": {\"diverging\": [[0, \"#8e0152\"], [0.1, \"#c51b7d\"], [0.2, \"#de77ae\"], [0.3, \"#f1b6da\"], [0.4, \"#fde0ef\"], [0.5, \"#f7f7f7\"], [0.6, \"#e6f5d0\"], [0.7, \"#b8e186\"], [0.8, \"#7fbc41\"], [0.9, \"#4d9221\"], [1, \"#276419\"]], \"sequential\": [[0.0, \"#0d0887\"], [0.1111111111111111, \"#46039f\"], [0.2222222222222222, \"#7201a8\"], [0.3333333333333333, \"#9c179e\"], [0.4444444444444444, \"#bd3786\"], [0.5555555555555556, \"#d8576b\"], [0.6666666666666666, \"#ed7953\"], [0.7777777777777778, \"#fb9f3a\"], [0.8888888888888888, \"#fdca26\"], [1.0, \"#f0f921\"]], \"sequentialminus\": [[0.0, \"#0d0887\"], [0.1111111111111111, \"#46039f\"], [0.2222222222222222, \"#7201a8\"], [0.3333333333333333, \"#9c179e\"], [0.4444444444444444, \"#bd3786\"], [0.5555555555555556, \"#d8576b\"], [0.6666666666666666, \"#ed7953\"], [0.7777777777777778, \"#fb9f3a\"], [0.8888888888888888, \"#fdca26\"], [1.0, \"#f0f921\"]]}, \"colorway\": [\"#636efa\", \"#EF553B\", \"#00cc96\", \"#ab63fa\", \"#FFA15A\", \"#19d3f3\", \"#FF6692\", \"#B6E880\", \"#FF97FF\", \"#FECB52\"], \"font\": {\"color\": \"#2a3f5f\"}, \"geo\": {\"bgcolor\": \"white\", \"lakecolor\": \"white\", \"landcolor\": \"#E5ECF6\", \"showlakes\": true, \"showland\": true, \"subunitcolor\": \"white\"}, \"hoverlabel\": {\"align\": \"left\"}, \"hovermode\": \"closest\", \"mapbox\": {\"style\": \"light\"}, \"paper_bgcolor\": \"white\", \"plot_bgcolor\": \"#E5ECF6\", \"polar\": {\"angularaxis\": {\"gridcolor\": \"white\", \"linecolor\": \"white\", \"ticks\": \"\"}, \"bgcolor\": \"#E5ECF6\", \"radialaxis\": {\"gridcolor\": \"white\", \"linecolor\": \"white\", \"ticks\": \"\"}}, \"scene\": {\"xaxis\": {\"backgroundcolor\": \"#E5ECF6\", \"gridcolor\": \"white\", \"gridwidth\": 2, \"linecolor\": \"white\", \"showbackground\": true, \"ticks\": \"\", \"zerolinecolor\": \"white\"}, \"yaxis\": {\"backgroundcolor\": \"#E5ECF6\", \"gridcolor\": \"white\", \"gridwidth\": 2, \"linecolor\": \"white\", \"showbackground\": true, \"ticks\": \"\", \"zerolinecolor\": \"white\"}, \"zaxis\": {\"backgroundcolor\": \"#E5ECF6\", \"gridcolor\": \"white\", \"gridwidth\": 2, \"linecolor\": \"white\", \"showbackground\": true, \"ticks\": \"\", \"zerolinecolor\": \"white\"}}, \"shapedefaults\": {\"line\": {\"color\": \"#2a3f5f\"}}, \"ternary\": {\"aaxis\": {\"gridcolor\": \"white\", \"linecolor\": \"white\", \"ticks\": \"\"}, \"baxis\": {\"gridcolor\": \"white\", \"linecolor\": \"white\", \"ticks\": \"\"}, \"bgcolor\": \"#E5ECF6\", \"caxis\": {\"gridcolor\": \"white\", \"linecolor\": \"white\", \"ticks\": \"\"}}, \"title\": {\"x\": 0.05}, \"xaxis\": {\"automargin\": true, \"gridcolor\": \"white\", \"linecolor\": \"white\", \"ticks\": \"\", \"title\": {\"standoff\": 15}, \"zerolinecolor\": \"white\", \"zerolinewidth\": 2}, \"yaxis\": {\"automargin\": true, \"gridcolor\": \"white\", \"linecolor\": \"white\", \"ticks\": \"\", \"title\": {\"standoff\": 15}, \"zerolinecolor\": \"white\", \"zerolinewidth\": 2}}}, \"title\": {\"text\": \"Movie's Run Time\"}, \"xaxis\": {\"anchor\": \"y\", \"domain\": [0.0, 1.0], \"range\": [0, 200], \"title\": {\"text\": \"value\"}}, \"yaxis\": {\"anchor\": \"x\", \"domain\": [0.0, 1.0], \"title\": {\"text\": \"count\"}}},\n",
       "                        {\"responsive\": true}\n",
       "                    ).then(function(){\n",
       "                            \n",
       "var gd = document.getElementById('6b5b54e1-2cd8-4c7a-9aea-97c3c7213aa4');\n",
       "var x = new MutationObserver(function (mutations, observer) {{\n",
       "        var display = window.getComputedStyle(gd).display;\n",
       "        if (!display || display === 'none') {{\n",
       "            console.log([gd, 'removed!']);\n",
       "            Plotly.purge(gd);\n",
       "            observer.disconnect();\n",
       "        }}\n",
       "}});\n",
       "\n",
       "// Listen for the removal of the full notebook cells\n",
       "var notebookContainer = gd.closest('#notebook-container');\n",
       "if (notebookContainer) {{\n",
       "    x.observe(notebookContainer, {childList: true});\n",
       "}}\n",
       "\n",
       "// Listen for the clearing of the current output cell\n",
       "var outputEl = gd.closest('.output');\n",
       "if (outputEl) {{\n",
       "    x.observe(outputEl, {childList: true});\n",
       "}}\n",
       "\n",
       "                        })\n",
       "                };\n",
       "                });\n",
       "            </script>\n",
       "        </div>"
      ]
     },
     "metadata": {},
     "output_type": "display_data"
    }
   ],
   "source": [
    "movie = data[data[\"type\"] =='Movie']\n",
    "\n",
    "def making_min(minit):\n",
    "    return minit.split(\" \")[0]\n",
    "\n",
    "movie[\"duration\"] = movie[\"duration\"].apply(making_min)\n",
    "\n",
    "movie[\"duration\"] = movie[\"duration\"].astype(int)\n",
    "\n",
    "\n",
    "px.histogram(movie[\"duration\"], range_x = (0,200),title=\"Movie's Run Time\")\n",
    "\n"
   ]
  },
  {
   "cell_type": "code",
   "execution_count": 73,
   "metadata": {},
   "outputs": [
    {
     "name": "stderr",
     "output_type": "stream",
     "text": [
      "C:\\Users\\Faith Kanini\\anaconda3\\anaconda\\lib\\site-packages\\ipykernel_launcher.py:3: SettingWithCopyWarning:\n",
      "\n",
      "\n",
      "A value is trying to be set on a copy of a slice from a DataFrame.\n",
      "Try using .loc[row_indexer,col_indexer] = value instead\n",
      "\n",
      "See the caveats in the documentation: https://pandas.pydata.org/pandas-docs/stable/user_guide/indexing.html#returning-a-view-versus-a-copy\n",
      "\n",
      "C:\\Users\\Faith Kanini\\anaconda3\\anaconda\\lib\\site-packages\\ipykernel_launcher.py:4: SettingWithCopyWarning:\n",
      "\n",
      "\n",
      "A value is trying to be set on a copy of a slice from a DataFrame.\n",
      "Try using .loc[row_indexer,col_indexer] = value instead\n",
      "\n",
      "See the caveats in the documentation: https://pandas.pydata.org/pandas-docs/stable/user_guide/indexing.html#returning-a-view-versus-a-copy\n",
      "\n",
      "C:\\Users\\Faith Kanini\\anaconda3\\anaconda\\lib\\site-packages\\ipykernel_launcher.py:5: SettingWithCopyWarning:\n",
      "\n",
      "\n",
      "A value is trying to be set on a copy of a slice from a DataFrame.\n",
      "Try using .loc[row_indexer,col_indexer] = value instead\n",
      "\n",
      "See the caveats in the documentation: https://pandas.pydata.org/pandas-docs/stable/user_guide/indexing.html#returning-a-view-versus-a-copy\n",
      "\n",
      "C:\\Users\\Faith Kanini\\anaconda3\\anaconda\\lib\\site-packages\\ipykernel_launcher.py:6: SettingWithCopyWarning:\n",
      "\n",
      "\n",
      "A value is trying to be set on a copy of a slice from a DataFrame.\n",
      "Try using .loc[row_indexer,col_indexer] = value instead\n",
      "\n",
      "See the caveats in the documentation: https://pandas.pydata.org/pandas-docs/stable/user_guide/indexing.html#returning-a-view-versus-a-copy\n",
      "\n",
      "C:\\Users\\Faith Kanini\\anaconda3\\anaconda\\lib\\site-packages\\ipykernel_launcher.py:12: SettingWithCopyWarning:\n",
      "\n",
      "\n",
      "A value is trying to be set on a copy of a slice from a DataFrame.\n",
      "Try using .loc[row_indexer,col_indexer] = value instead\n",
      "\n",
      "See the caveats in the documentation: https://pandas.pydata.org/pandas-docs/stable/user_guide/indexing.html#returning-a-view-versus-a-copy\n",
      "\n",
      "C:\\Users\\Faith Kanini\\anaconda3\\anaconda\\lib\\site-packages\\ipykernel_launcher.py:13: SettingWithCopyWarning:\n",
      "\n",
      "\n",
      "A value is trying to be set on a copy of a slice from a DataFrame.\n",
      "Try using .loc[row_indexer,col_indexer] = value instead\n",
      "\n",
      "See the caveats in the documentation: https://pandas.pydata.org/pandas-docs/stable/user_guide/indexing.html#returning-a-view-versus-a-copy\n",
      "\n",
      "C:\\Users\\Faith Kanini\\anaconda3\\anaconda\\lib\\site-packages\\ipykernel_launcher.py:15: SettingWithCopyWarning:\n",
      "\n",
      "\n",
      "A value is trying to be set on a copy of a slice from a DataFrame.\n",
      "Try using .loc[row_indexer,col_indexer] = value instead\n",
      "\n",
      "See the caveats in the documentation: https://pandas.pydata.org/pandas-docs/stable/user_guide/indexing.html#returning-a-view-versus-a-copy\n",
      "\n"
     ]
    },
    {
     "data": {
      "text/html": [
       "<div>\n",
       "<style scoped>\n",
       "    .dataframe tbody tr th:only-of-type {\n",
       "        vertical-align: middle;\n",
       "    }\n",
       "\n",
       "    .dataframe tbody tr th {\n",
       "        vertical-align: top;\n",
       "    }\n",
       "\n",
       "    .dataframe thead th {\n",
       "        text-align: right;\n",
       "    }\n",
       "</style>\n",
       "<table border=\"1\" class=\"dataframe\">\n",
       "  <thead>\n",
       "    <tr style=\"text-align: right;\">\n",
       "      <th></th>\n",
       "      <th>after_release_difference</th>\n",
       "    </tr>\n",
       "  </thead>\n",
       "  <tbody>\n",
       "    <tr>\n",
       "      <th>0.0</th>\n",
       "      <td>0.363251</td>\n",
       "    </tr>\n",
       "    <tr>\n",
       "      <th>1.0</th>\n",
       "      <td>0.192234</td>\n",
       "    </tr>\n",
       "    <tr>\n",
       "      <th>2.0</th>\n",
       "      <td>0.082937</td>\n",
       "    </tr>\n",
       "    <tr>\n",
       "      <th>3.0</th>\n",
       "      <td>0.056577</td>\n",
       "    </tr>\n",
       "    <tr>\n",
       "      <th>4.0</th>\n",
       "      <td>0.043204</td>\n",
       "    </tr>\n",
       "    <tr>\n",
       "      <th>5.0</th>\n",
       "      <td>0.029060</td>\n",
       "    </tr>\n",
       "    <tr>\n",
       "      <th>6.0</th>\n",
       "      <td>0.028031</td>\n",
       "    </tr>\n",
       "    <tr>\n",
       "      <th>7.0</th>\n",
       "      <td>0.021731</td>\n",
       "    </tr>\n",
       "    <tr>\n",
       "      <th>8.0</th>\n",
       "      <td>0.020702</td>\n",
       "    </tr>\n",
       "    <tr>\n",
       "      <th>9.0</th>\n",
       "      <td>0.017873</td>\n",
       "    </tr>\n",
       "    <tr>\n",
       "      <th>10.0</th>\n",
       "      <td>0.015044</td>\n",
       "    </tr>\n",
       "  </tbody>\n",
       "</table>\n",
       "</div>"
      ],
      "text/plain": [
       "      after_release_difference\n",
       "0.0                   0.363251\n",
       "1.0                   0.192234\n",
       "2.0                   0.082937\n",
       "3.0                   0.056577\n",
       "4.0                   0.043204\n",
       "5.0                   0.029060\n",
       "6.0                   0.028031\n",
       "7.0                   0.021731\n",
       "8.0                   0.020702\n",
       "9.0                   0.017873\n",
       "10.0                  0.015044"
      ]
     },
     "execution_count": 73,
     "metadata": {},
     "output_type": "execute_result"
    }
   ],
   "source": [
    "#Since we can't apply split on Null values we will need to skip null values on date_created column\n",
    "data_new = data[data['date_added'].notnull()]\n",
    "data_new['Added_Year']=data_new['date_added'].apply(lambda x: x.split(', ')[-1])\n",
    "data_new['Added_Month']=data_new['date_added'].apply(lambda x: x.split(' ')[0])\n",
    "data_new['Added_Day']=data_new['date_added'].apply(lambda x:x.lstrip().split(' ')[1])\n",
    "data_new['Added_Day']=data_new['Added_Day'].apply(lambda x:x.split(',')[0])\n",
    "\n",
    "# show.drop(columns=['show_id','date_added'],inplace=True)\n",
    "\n",
    "#'Added_Year' and 'Added_Day' are of incorrect format.\n",
    "\n",
    "data_new['Added_Year']=data_new['Added_Year'].astype(int)\n",
    "data_new['Added_Day']=data_new['Added_Day'].astype(int)\n",
    "\n",
    "data_new['after_release_difference']=abs(data_new['Added_Year']-data['release_year'])\n",
    "data_diff_percent=data_new['after_release_difference'].value_counts(normalize=True).sort_values(ascending=False)[:10]\n",
    "data_diff_percent*100\n",
    "pd.DataFrame(data_diff_percent)"
   ]
  },
  {
   "cell_type": "markdown",
   "metadata": {},
   "source": [
    "less than 1% of TV shows or movies that are were released on Netflix or they were added months after their release in the same year.\n",
    "Followed by 18% of shows or movies are added on netflix after 1 year of their release."
   ]
  },
  {
   "cell_type": "markdown",
   "metadata": {},
   "source": [
    "## In which year maximum content is released?"
   ]
  },
  {
   "cell_type": "code",
   "execution_count": 78,
   "metadata": {},
   "outputs": [
    {
     "data": {
      "text/plain": [
       "Text(0, 0.5, 'Year of Release')"
      ]
     },
     "execution_count": 78,
     "metadata": {},
     "output_type": "execute_result"
    },
    {
     "data": {
      "image/png": "[encoded data removed]",
      "text/plain": [
       "<Figure size 1080x720 with 1 Axes>"
      ]
     },
     "metadata": {
      "needs_background": "light"
     },
     "output_type": "display_data"
    }
   ],
   "source": [
    "plt.figure(figsize=(15,10))\n",
    "p=sns.light_palette(color='blue',n_colors=16,reverse=True)\n",
    "sns.countplot(y='release_year',data=data,palette=p,order=data['release_year'].value_counts().index[:15])\n",
    "plt.ylabel(\"Year of Release\")"
   ]
  },
  {
   "cell_type": "markdown",
   "metadata": {},
   "source": [
    "Most of Movies and TV shows were released in 2018"
   ]
  },
  {
   "cell_type": "code",
   "execution_count": null,
   "metadata": {},
   "outputs": [],
   "source": []
  }
 ],
 "metadata": {
  "kernelspec": {
   "display_name": "Python 3",
   "language": "python",
   "name": "python3"
  },
  "language_info": {
   "codemirror_mode": {
    "name": "ipython",
    "version": 3
   },
   "file_extension": ".py",
   "mimetype": "text/x-python",
   "name": "python",
   "nbconvert_exporter": "python",
   "pygments_lexer": "ipython3",
   "version": "3.7.6"
  }
 },
 "nbformat": 4,
 "nbformat_minor": 4
}
